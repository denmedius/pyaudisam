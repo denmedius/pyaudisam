{
 "cells": [
  {
   "cell_type": "code",
   "execution_count": 2,
   "metadata": {
    "collapsed": true
   },
   "outputs": [],
   "source": [
    "import sys\n",
    "import os\n",
    "import numpy as np\n",
    "import pandas as pd\n"
   ]
  },
  {
   "cell_type": "code",
   "execution_count": 9,
   "metadata": {},
   "outputs": [
    {
     "name": "stdout",
     "output_type": "stream",
     "text": [
      "Recherche MCDS.exe ...\n",
      " - essai dans C:\\Program files (x86)\\Distance 7 : eureka !\n",
      "MCDS.exe trouvé dans C:\\Program files (x86)\\Distance 7\n"
     ]
    }
   ],
   "source": [
    "# Détection du dossier d'install. de Distance\n",
    "mcdsExe = 'MCDS.exe'\n",
    "possVers = [7, 6]\n",
    "possPaths = [os.path.join('C:\\\\', 'Program files (x86)'), os.path.join('C:', 'Program files')]\n",
    "print('Recherche {} ...'.format(mcdsExe))\n",
    "for path in possPaths:\n",
    "    for ver in possVers:\n",
    "        mcdsInstPath = os.path.join(path, 'Distance ' + str(ver))\n",
    "        print(' - essai dans {} : '.format(mcdsInstPath), end='')\n",
    "        if not os.path.exists(os.path.join(mcdsInstPath, mcdsExe)):\n",
    "            mcdsInstPath = None\n",
    "            print('non.')\n",
    "        else:\n",
    "            print('eureka !')\n",
    "            break\n",
    "    if mcdsInstPath:\n",
    "        break\n",
    "\n",
    "if mcdsInstPath:\n",
    "    print('{} trouvé dans {}'.format(mcdsExe, mcdsInstPath))\n",
    "else:\n",
    "    print('Erreur : Impossible de trouver {}'.format(mcdsExe))"
   ]
  },
  {
   "cell_type": "code",
   "execution_count": null,
   "metadata": {
    "collapsed": true
   },
   "outputs": [],
   "source": [
    "# Génération du fichier de commande\n",
    "dataFileName = 'mcds-data.txt'\n"
   ]
  },
  {
   "cell_type": "code",
   "execution_count": null,
   "metadata": {
    "collapsed": true
   },
   "outputs": [],
   "source": [
    "# Génération du fichier de commande\n",
    "outFileName = 'mcds-output.txt'\n",
    "logFileName = 'mcds.log'\n",
    "statsFileName = 'mcds-stats.txt'\n",
    "bootFileName = 'mcds-bootstrap.txt'\n",
    "\n",
    "cmdTxt = \\\n",
    "\"\"\"\n",
    "{output}\n",
    "{log}\n",
    "{stats}\n",
    "{bootstrap}\n",
    "None\n",
    "None\n",
    "\"\"\".format(outFileName, logFileName, statsFileName, bootFileName,\n",
    "           )\n",
    "\n",
    "with open(cmdFileName, 'w') as cmdFile:\n",
    "    cmdFile.write(cmdTxt)"
   ]
  },
  {
   "cell_type": "code",
   "execution_count": null,
   "metadata": {
    "collapsed": true
   },
   "outputs": [],
   "source": []
  },
  {
   "cell_type": "code",
   "execution_count": null,
   "metadata": {
    "collapsed": true
   },
   "outputs": [],
   "source": []
  },
  {
   "cell_type": "code",
   "execution_count": null,
   "metadata": {
    "collapsed": true
   },
   "outputs": [],
   "source": [
    "E:\\perso\\distance-sampling\\PlateauFromages\\JPM2017\\CmdLine\\output.tmp\n",
    "E:\\perso\\distance-sampling\\PlateauFromages\\JPM2017\\CmdLine\\log.tmp\n",
    "E:\\perso\\distance-sampling\\PlateauFromages\\JPM2017\\CmdLine\\stats.tmp\n",
    "E:\\perso\\distance-sampling\\PlateauFromages\\JPM2017\\CmdLine\\bootstrap.tmp\n",
    "None\n",
    "None\n",
    "Options;\n",
    "Type=Point;\n",
    "Distance=Radial /Measure='Meter';\n",
    "Area /Units='Hectare';\n",
    "Object=Single;\n",
    "SF=1;\n",
    "Selection=Sequential;\n",
    "Lookahead=1;\n",
    "Maxterms=5;\n",
    "Confidence=95;\n",
    "Print=Selection;\n",
    "End;\n",
    "Data /Structure=Flat;\n",
    "Fields=STR_LABEL, STR_AREA, SMP_LABEL, SMP_EFFORT, DISTANCE;\n",
    "Infile=E:\\perso\\distance-sampling\\PlateauFromages\\JPM2017\\CmdLine\\data.tmp /NoEcho;\n",
    "End;\n",
    "Estimate;\n",
    "Distance;\n",
    "Density=All;\n",
    "Encounter=All;\n",
    "Detection=All;\n",
    "Size=All;\n",
    "Estimator /Key=HA /Adjust=CO /Criterion=AIC;\n",
    "Monotone=Strict;\n",
    "Pick=AIC;\n",
    "GOF;\n",
    "Cluster /Bias=GXLOG;\n",
    "VarN=Empirical;\n",
    "End;\n"
   ]
  }
 ],
 "metadata": {
  "kernelspec": {
   "display_name": "Python [default]",
   "language": "python",
   "name": "python3"
  },
  "language_info": {
   "codemirror_mode": {
    "name": "ipython",
    "version": 3
   },
   "file_extension": ".py",
   "mimetype": "text/x-python",
   "name": "python",
   "nbconvert_exporter": "python",
   "pygments_lexer": "ipython3",
   "version": "3.5.2"
  }
 },
 "nbformat": 4,
 "nbformat_minor": 2
}
