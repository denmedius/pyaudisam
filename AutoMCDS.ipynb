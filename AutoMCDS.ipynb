{
 "cells": [
  {
   "cell_type": "code",
   "execution_count": null,
   "metadata": {
    "collapsed": true
   },
   "outputs": [],
   "source": [
    "import sys\n",
    "import os\n",
    "import numpy as np\n",
    "import pandas as pd\n"
   ]
  },
  {
   "cell_type": "code",
   "execution_count": null,
   "metadata": {},
   "outputs": [],
   "source": [
    "# Détection du dossier d'install. de Distance\n",
    "mcdsExe = 'MCDS.exe'\n",
    "possVers = [7, 6]\n",
    "possPaths = [os.path.join('C:\\\\', 'Program files (x86)'), os.path.join('C:', 'Program files')]\n",
    "print('Recherche {} ...'.format(mcdsExe))\n",
    "for path in possPaths:\n",
    "    for ver in possVers:\n",
    "        mcdsInstPath = os.path.join(path, 'Distance ' + str(ver))\n",
    "        print(' - essai dans {} : '.format(mcdsInstPath), end='')\n",
    "        if not os.path.exists(os.path.join(mcdsInstPath, mcdsExe)):\n",
    "            mcdsInstPath = None\n",
    "            print('non.')\n",
    "        else:\n",
    "            print('eureka !')\n",
    "            break\n",
    "    if mcdsInstPath:\n",
    "        break\n",
    "\n",
    "if mcdsInstPath:\n",
    "    print('{} trouvé dans {}'.format(mcdsExe, mcdsInstPath))\n",
    "else:\n",
    "    print('Erreur : Impossible de trouver {}'.format(mcdsExe))"
   ]
  },
  {
   "cell_type": "code",
   "execution_count": null,
   "metadata": {
    "collapsed": true
   },
   "outputs": [],
   "source": [
    "# Génération du fichier de commande\n",
    "cmdFileName = 'mcds-cmd.txt'\n",
    "dataFileName = 'mcds-data.txt'"
   ]
  },
  {
   "cell_type": "code",
   "execution_count": null,
   "metadata": {},
   "outputs": [],
   "source": [
    "# Génération du fichier de commande\n",
    "outFileName = 'mcds-output.txt'\n",
    "logFileName = 'mcds.log'\n",
    "statsFileName = 'mcds-stats.txt'\n",
    "bootFileName = 'mcds-bootstrap.txt'\n",
    "\n",
    "KeyFn = { 'Half-Normal' : 'HA', 'Uniform' : '??', 'Hazard-Rate' : '??' }\n",
    "AdjustFn = { 'Cosine' : 'CO', 'Simple-Poly' : '??', 'Hermit-Poly' : '??' }\n",
    "\n",
    "cmdTxt = \\\n",
    "\"\"\"{output}\n",
    "{log}\n",
    "{stats}\n",
    "{bootstrap}\n",
    "None\n",
    "None\n",
    "Options;\n",
    "Type={optSurvType};\n",
    "Distance={optDistType} /Measure='{optDistUnit}';\n",
    "Area /Units='{optAreaUnit}';\n",
    "Object=Single;\n",
    "SF=1;\n",
    "Selection=Sequential;\n",
    "Lookahead=1;\n",
    "Maxterms=5;\n",
    "Confidence={optCVInterv};\n",
    "Print=Selection;\n",
    "End;\n",
    "Data /Structure=Flat;\n",
    "Fields={dataFields};\n",
    "Infile={dataFileName} /NoEcho;\n",
    "End;\n",
    "Estimate;\n",
    "Distance;\n",
    "Density=All;\n",
    "Encounter=All;\n",
    "Detection=All;\n",
    "Size=All;\n",
    "Estimator /Key={estKeyFn} /Adjust={estAdjustFn} /Criterion={estCriterion};\n",
    "Monotone=Strict;\n",
    "Pick=AIC;\n",
    "GOF;\n",
    "Cluster /Bias=GXLOG;\n",
    "VarN=Empirical;\n",
    "End;\n",
    "\n",
    "\"\"\".format(output=outFileName, log=logFileName, stats=statsFileName, bootstrap=bootFileName,\n",
    "           optSurvType='Point', optDistType='Radial', optDistUnit='Meter', optAreaUnit='Hectare', optCVInterv=95,\n",
    "           dataFields='STR_LABEL, STR_AREA, SMP_LABEL, SMP_EFFORT, DISTANCE', dataFileName=dataFileName,\n",
    "           estKeyFn=KeyFn['Half-Normal'], estAdjustFn=AdjustFn['Cosine'], estCriterion='AIC')\n",
    "\n",
    "with open(cmdFileName, 'w') as cmdFile:\n",
    "    cmdFile.write(cmdTxt)"
   ]
  },
  {
   "cell_type": "code",
   "execution_count": null,
   "metadata": {
    "collapsed": true
   },
   "outputs": [],
   "source": [
    "print('Running Distance :')\n",
    "cmd = '\"{}\" 0, {}'.format(os.path.join(mcdsInstPath, mcdsExe), cmdFileName)\n",
    "print(cmd)\n",
    "rc = os.system(cmd)\n",
    "print('RC=', rc)"
   ]
  },
  {
   "cell_type": "code",
   "execution_count": null,
   "metadata": {
    "collapsed": true
   },
   "outputs": [],
   "source": []
  },
  {
   "cell_type": "code",
   "execution_count": null,
   "metadata": {
    "collapsed": true
   },
   "outputs": [],
   "source": []
  },
  {
   "cell_type": "code",
   "execution_count": null,
   "metadata": {
    "collapsed": true
   },
   "outputs": [],
   "source": []
  },
  {
   "cell_type": "code",
   "execution_count": null,
   "metadata": {
    "collapsed": true
   },
   "outputs": [],
   "source": []
  }
 ],
 "metadata": {
  "kernelspec": {
   "display_name": "Python [default]",
   "language": "python",
   "name": "python3"
  },
  "language_info": {
   "codemirror_mode": {
    "name": "ipython",
    "version": 3
   },
   "file_extension": ".py",
   "mimetype": "text/x-python",
   "name": "python",
   "nbconvert_exporter": "python",
   "pygments_lexer": "ipython3",
   "version": "3.5.2"
  }
 },
 "nbformat": 4,
 "nbformat_minor": 2
}
