{
 "cells": [
  {
   "cell_type": "markdown",
   "metadata": {},
   "source": [
    "# Générateur semi-automatique de page HTML \"quizz oiseaux\"\n",
    "\n",
    "Application des \"Oiseaux à l'Oreille\""
   ]
  },
  {
   "cell_type": "code",
   "execution_count": null,
   "metadata": {},
   "outputs": [],
   "source": [
    "import os\n",
    "\n",
    "from collections import OrderedDict as odict\n",
    "\n",
    "from IPython.display import HTML"
   ]
  },
  {
   "cell_type": "code",
   "execution_count": null,
   "metadata": {},
   "outputs": [],
   "source": [
    "import sys\n",
    "sys.path.append('..')\n",
    "\n",
    "import quizz\n",
    "\n",
    "import importlib as implib"
   ]
  },
  {
   "cell_type": "code",
   "execution_count": null,
   "metadata": {},
   "outputs": [],
   "source": [
    "KEtapes = \\\n",
    "[quizz.DescripteurEtape(index=1, id=quizz.KIdPremEtape, titre='Les enregistrements à analyser et les 1er indices'),\n",
    " quizz.DescripteurEtape(index=2, id='indices2', titre='Quelques indices à mi-parcours'),\n",
    " quizz.DescripteurEtape(index=3, id='reponse', titre='Les réponses : analyse détaillée des enregistrements')]"
   ]
  },
  {
   "cell_type": "code",
   "execution_count": null,
   "metadata": {},
   "outputs": [],
   "source": [
    "# texte syntaxe markdown\n",
    "KPreambule = \\\n",
    "\"\"\"\n",
    "Voici donc les quiz 2018 !\n",
    "\n",
    "Chacun d'eux, nommé comme le mois de 2018 durant lequel il a été lancé, se déroule en *3 étapes*,\n",
    "publiée chacune 2 ou 3 semaines après la précédente :\n",
    "1. la première, le **lancement**, vous donne accès aux enregistrements à analyser\n",
    "   ainsi que quelques premiers indices pour démarrer,\n",
    "2. la deuxième, à **mi-parcours**, vous donne des indices plus conséquents, pour confirmer ou pas vos premières idées\n",
    "   et / ou pour aller plus loin en ciblant quelques séquences plus difficiles,\n",
    "3. la troisième et dernière, pour terminer, vous donne la \"**solution**\", en détaillant pour chaque espèce\n",
    "   les différents types de chants et cris entendus à quels moments dans chaque enregistrement.\n",
    "\n",
    "Pour accéder à l'étape suivante, lorsqu'elle est publiée, il vous suffit de cliquer sur le **petit oeil vert**\n",
    "<img height=\"16\" src=\"{{dossierAttache}}/fa-eye-regular.svg\" alt=\"Montrer\"/>\n",
    "situé sous le titre de cette dernière ; bien sûr, tant qu'elle n'est pas publiée, vous ne verrez rien de plus ;-)\n",
    "\n",
    "Chaque quiz porte sur **plusieurs enregistrements** (en général 3) indépendants, pour varier les milieux et les espèces,\n",
    "et à chaque étape, un **lecteur audio intégré** vous permet de l'écouter (et de le ré-écouter à votre guise ;\n",
    "un **lien de téléchargement** vous est également fourni, pour pouvoir l'analyser tranquillement et précisément\n",
    "sur votre tablette ou ordinateur, avec un lecteur plus pratique pour la gestion fine du temps\n",
    "(par exemple, via <a href=\"http://audacity.fr/\" target=\"_blank\">Audacity</a> sous Windows, Mac OS ou Linux).\n",
    "\n",
    "Chaque quiz permet à chacun de jouer **quel que soit son niveau**, du débutant au plus expérimenté :\n",
    "si vous ne trouvez pas tout de A à Z, c'est **normal**, certains enregistrements sont plus difficiles\n",
    "que d'autres, et l'exercice n'est pas simple, lorsqu'on n'est pas immergé dans le milieu naturel ;\n",
    "mais c'est l'occasion de progresser, en cherchant soi-même la solution ailleurs (les supports de formation,\n",
    "bien sûr, mais aussi des CD, des applis dédiées, des livres, des sites internet\n",
    "comme <a href=\"https://www.xeno-canto.org/\" target=\"_blank\">xeno-canto.org</a>, des amis ... etc !)\n",
    "\n",
    "Enfin, je compte sur vous pour me les signaler les coquilles et erreurs qui se sont inévitablement\n",
    "glissées dans ce qui suit, ou à me faire part de votre désaccord éventuel sur tel ou telle affirmation :-)\n",
    "\"\"\""
   ]
  },
  {
   "cell_type": "markdown",
   "metadata": {},
   "source": [
    "## Septembre"
   ]
  },
  {
   "cell_type": "code",
   "execution_count": null,
   "metadata": {},
   "outputs": [],
   "source": [
    "KSeptPessadeForetConiferes = quizz.DescripteurExercice(\n",
    "\n",
    "  index='a',\n",
    "  id='PessadeForetConiferes',\n",
    "  titre=\"Forêt de conifères à Pessade en juillet, tôt le matin\",\n",
    "  lieu=\"Pessade, Puy-de-Dôme\", date=\"juillet 2018\", altitude=1000,\n",
    "  auteur=\"<a href=\\\"https://ornithovaldallier.blogspot.com/\\\" target=\\\"_blank\\\">François Guélin</a>\",\n",
    "  licence=\"<a href=\\\"https://creativecommons.org/licenses/by-nc-sa/4.0/deed.fr\\\" target=\\\"_blank\\\">CC-BY-NC-SA</a>\",\n",
    "  milieux=\"\"\"\n",
    "    Forêt de conifères, en moyenne montagne\"\"\", # texte syntaxe markdown\n",
    "  enregistrement=\"ForetMoyenneMontagne-Pessade-FGuelin-201807-Matin-mono-vbr5.mp3\",\n",
    "  duree=\"2 mn\",\n",
    "    \n",
    "  etapes=dict( # texte syntaxe markdown pour chaque étape\n",
    "      \n",
    "    lancement=\"\"\"\n",
    "      10 espèces au total,\n",
    "      * dont 1 intrus, imité par un mammifère ;-),\n",
    "      * dont 2 typiques du milieu naturel, et 7 plus \"banales\", présentes partout,\n",
    "      * dont 3-4 au premier plan, très présentes presque tout au long de l'enregistrement,\n",
    "      * dont 6 ont été \"vues\" dans la seconde moitié du module 1.\"\"\",\n",
    "          \n",
    "    indices2=\"\"\"\n",
    "      10 espèces au total ... \n",
    "      * dont 1 intrus, imité par un mammifère ...\n",
    "        c'était une blague un peu vache, ou bovine au choix : la vache qui meugle\n",
    "        vers 47s évoque bien sûr le Butor étoilé, d'où son nom latin Botaurus stellaris,\n",
    "        à moins que ce ne soit l'inverse ([exemple] (https://www.xeno-canto.org/414619)),\n",
    "      * d'ailleurs, avec le diptère passant en trombe près du micro vers 11.5s,\n",
    "        ça pourrait même faire 11 ... \n",
    "        (effet Doppler : le son est de plus en plus grave à mesure qu'il s'éloigne,\n",
    "         alors qu'il ne ralentit probablement pas ;-)\n",
    "\n",
    "      Sinon, plus sérieusement, ... spéciale module 1 :\n",
    "      * au 1er plan, 3 espèces avec fort volume sonore,\n",
    "        toutes présentes dans le diaporama d'application du module 1 :\n",
    "          - un traîne-fagot au rapport poids / puissance imbattable,\n",
    "            hurlant ses trilles variées dans les aigus ;\n",
    "            débuts de phrase assez isolés à 0s et 11.5s par ex.\n",
    "          - une espèce parfois imitatrice, très commune partout,\n",
    "            dont le timbre d'une partie du chant fait souvent penser\n",
    "            au Merle (mais en plus aigu) ; d'ailleurs, elle imite un peu\n",
    "            en début de phrase, comme dans cette phrase quasi-typique\n",
    "            et isolée qui commence à 1mn04s\n",
    "          - une espèce de grand turdidé (toi-même ;-) plus calme et posé ;\n",
    "            2 débuts de belles phrases à 8.5s et 11.5s\n",
    "            (bel résonance sous les grands arbres !)\n",
    "      * au 1er plan toujours, mais plus discret, un autre \"petit agité\",\n",
    "        plus constant dans les hauteurs aiguës, mais bien moins bruyant\n",
    "        et près du sol, au chant plus délicat ;\n",
    "        nicheur typique des forêts de montagne, alors que son cousin\n",
    "        presque jumeau se trouve plutôt en forêt de plaine ;\n",
    "        débuts de phrase isolés à 7s et 31s par exemple\n",
    "      * à l'arrière plan, 4 autres espèces plus difficiles à saisir,\n",
    "        car elles sont loin et c'est \"un peu\" mélangé tout ça ; les 3 1ères\n",
    "        dans le diaporama d'application du module 1 ; par ordre\n",
    "        de difficulté croissante :\n",
    "          - un fringille très commun presque partout, au chant assez stéréotypé,\n",
    "            puissant, sonore et portant loin ; 2 phrases à 25-26s, 53-54s,\n",
    "          - un petit turdidé très commun, des milieux frais ;\n",
    "            1 seul début de phrase isolé, à 1mn16.5s \n",
    "          - un petit insectivore discret et peu farouche, très commun,\n",
    "            au chant aigu et rythmé bien familier ... qui surnage difficilement\n",
    "            sur le fond sonore bien chargé entre 1mn44s et 1mn49s,\n",
    "            avec 3 notes audibles dans un silence relatif d'1s vers 1mn46.5s\n",
    "          - une mésange au chant rythmé, attention à la confusion,\n",
    "            avec 1 fin de phrase de 3 notes bien lointaines mais assez \"seules\",\n",
    "            entre 1mn34s et 1mn35.5s (spéciale module 2)\n",
    "      * et la 9ème, c'est une espèce émettrice de \"hou\" graves multiples,\n",
    "        mais qui ne fait pas peur aux passereaux ; à la fin de l'enregistrement ...\"\"\",\n",
    "          \n",
    "    reponse=\"\"\"\n",
    "      Les \"braillards\" du premier plan :\n",
    "      * Merle noir (chant) : 5.5s, 8.5s, 14s, 20.5s, 30.5s, 37s, ... etc,\n",
    "      * Fauvette à tête noire (chant) : 1s, 3.5s, 14s, 26s, 34.5s, 44.5, 55s ... etc,\n",
    "        Anecdote (spéciale niveau 3) : à 64s, début de phrase façon Fauvette des jardins !\n",
    "      * Troglodyte mignon (chant) :\n",
    "          - chant : 0-1s (fin de phrase), 10.5-14.5s, 22.5-28s, 37s (bribe interrompue),\n",
    "            ~43-46s, ~56-60s, ~68-73s, ~78-82s, ~99-103, ~109-113, ~121-124s,\n",
    "      * Roitelet huppé (1er plan, mais ténu et très aigu) :\n",
    "          - chant : 1.2, ~7, ~15, ~21, ~30 et ~40s,\n",
    "          - cris : une série à 47s ... ensuite, on n'entend plus que des minuscules \"si\"\n",
    "            courts et plutôt isolés, avec 1 plus fort et vibré, bien audible à 57.5s.\n",
    "\n",
    "      A l'arrière plan, plus loin, plus difficile :\n",
    "      * Rougegorge familier (loin) : chant, au moins vers 7-8s, 18s, 29s, 41s, 61s, 76.5s, 108s\n",
    "         (mais pas facile, noyé dans le fatras),\n",
    "      * Pinson des arb (loin) : chant 25-26s, 53-54s,\n",
    "      * Mésange noire (loin) :\n",
    "          - chant : 93.8-95.6s,\n",
    "          - cris typiques à l'unité, modulés, fins, lointains :\n",
    "            18.7s, 20.7s (2 cris différents), 50s, 52s, 52.5s, 54s, 61s, 67.3s,\n",
    "      * Pigeon ramier : chant bien audible, à la toute fin, 108.5s,\n",
    "      * Pouillot véloce (loin) : chant bien rythmé (notre chance dans ce fatras) à 104.3-109s.\"\"\"))"
   ]
  },
  {
   "cell_type": "code",
   "execution_count": null,
   "metadata": {},
   "outputs": [],
   "source": [
    "#KSeptVienneForetPlaine = quizz.DescripteurExercice(\n",
    "#  )"
   ]
  },
  {
   "cell_type": "code",
   "execution_count": null,
   "metadata": {},
   "outputs": [],
   "source": [
    "#KSeptBerlinVille = quizz.DescripteurExercice(\n",
    "#  )"
   ]
  },
  {
   "cell_type": "code",
   "execution_count": null,
   "metadata": {},
   "outputs": [],
   "source": [
    "KQuizz = \\\n",
    "[quizz.DescripteurQuiz(id='Septembre', titre='Quiz de septembre',\n",
    "                       exercices=[KSeptPessadeForetConiferes, ]), # KSeptVienneForetPlaine, KSeptBerlinVille]),\n",
    "]"
   ]
  },
  {
   "cell_type": "code",
   "execution_count": null,
   "metadata": {},
   "outputs": [],
   "source": [
    "KRemerciements = \\\n",
    "\"\"\"\n",
    "  <p>Grand merci également à François Guélin, pour son bel enregistrement en forêt de conifères à Pessade.</p>\n",
    "  <p>???????????????Grand merci enfin aux photographes Monique et Jacques Lombardy,\n",
    "     pour leur très belle photo de Grosbec, en haut de page.</p>\n",
    "\"\"\""
   ]
  },
  {
   "cell_type": "code",
   "execution_count": null,
   "metadata": {},
   "outputs": [],
   "source": [
    "KAttributions = \\\n",
    "\"\"\"\n",
    "  <p>La photos de Grosbec en haut de page est\n",
    "     de Monique et Jacques Lombardy (tous droits réservés).</p>\n",
    "\"\"\""
   ]
  },
  {
   "cell_type": "code",
   "execution_count": null,
   "metadata": {},
   "outputs": [],
   "source": [
    "KDossierQuizz = '.'"
   ]
  },
  {
   "cell_type": "code",
   "execution_count": null,
   "metadata": {},
   "outputs": [],
   "source": [
    "# Commutateurs de publication : locale ou sur serveur web (commenter/décommenter).\n",
    "dossierSons = os.path.join(KDossierQuizz, 'enregistrements')\n",
    "\n",
    "urlDossierSons = dossierSons.replace('\\\\', '/') # Jouer les sons en lisant les fichiers locaux.\n",
    "#urlDossierSons = '.' # Jouer les sons directement depuis XenoCanto si XC<i> dans le nom du fichier.\n",
    "\n",
    "urlFichiersAnnexes = os.path.join(KDossierQuizz, 'fichiers').replace('\\\\', '/') # idem, ailleurs\n",
    "#urlFichiersAnnexes = '.' # Fichiers annexes sur mon site"
   ]
  },
  {
   "cell_type": "code",
   "execution_count": null,
   "metadata": {},
   "outputs": [],
   "source": [
    "implib.reload(module=quizz)\n",
    "\n",
    "# Génération de la page HTML.\n",
    "nomFicCible = \\\n",
    "    quizz.buildHtmlPage(titre='Les Oiseaux à l\\'Oreille : Quizzzzz ... 2018',\n",
    "                        sousTitre='Et maintenant, prenez une feuille (enfin plutôt 2 ;-) !',\n",
    "                        description='Quizz 2018 d\\'application de la formation \"Les Oiseaux à l\\'Oreille\"',\n",
    "                        motsClef='chant, cri, oiseau, auvergne, verdier, grosbec, serin, chardonneret, ' \\\n",
    "                                 'pinson, pic, épeiche, vert, noir, mésange, noire, charbonnière, troglodyte, ' \\\n",
    "                                 'rougegorge, roitelet, huppé, triple bandeau, buse, geai, merle, grive',\n",
    "                        preambule=KPreambule, quizz=KQuizz, etapes=KEtapes,\n",
    "                        remerciements=KRemerciements, attributions=KAttributions,\n",
    "                        dossierAttache=urlFichiersAnnexes, dossierSons=urlDossierSons,\n",
    "                        images=dict(tocImg=[dict(img='Grosbec-MJLombardy-20150208.jpg',\n",
    "                                                 legend='??????????? Grosbec casse-noyaux (mâle) - Monique et Jacques Lombardy, 2015')]),\n",
    "                        notebook='Quizz2018.ipynb', effort=12, prefixeFicCible='quizz-2018')\n",
    "\n",
    "HTML(\"\"\"<p>Quizz 2018 <a href='{nomFic}' target=\"_blank\">{nomFic}</a>(nouvel onglet)</p>\"\"\".format(nomFic=nomFicCible))"
   ]
  },
  {
   "cell_type": "code",
   "execution_count": null,
   "metadata": {},
   "outputs": [],
   "source": []
  },
  {
   "cell_type": "code",
   "execution_count": null,
   "metadata": {},
   "outputs": [],
   "source": []
  }
 ],
 "metadata": {
  "kernelspec": {
   "display_name": "Python [default]",
   "language": "python",
   "name": "python3"
  },
  "language_info": {
   "codemirror_mode": {
    "name": "ipython",
    "version": 3
   },
   "file_extension": ".py",
   "mimetype": "text/x-python",
   "name": "python",
   "nbconvert_exporter": "python",
   "pygments_lexer": "ipython3",
   "version": "3.5.5"
  }
 },
 "nbformat": 4,
 "nbformat_minor": 2
}
