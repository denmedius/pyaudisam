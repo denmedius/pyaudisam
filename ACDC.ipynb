{
 "cells": [
  {
   "cell_type": "markdown",
   "metadata": {},
   "source": [
    "<!-- Table des matières automatique -->\n",
    "<div style=\"overflow-y: auto\">\n",
    "  <h1>Table des matières</h1>\n",
    "  <div id=\"toc\"></div>\n",
    "</div>"
   ]
  },
  {
   "cell_type": "code",
   "execution_count": null,
   "metadata": {},
   "outputs": [],
   "source": [
    "%%javascript\n",
    "$.getScript('ipython_notebook_toc.js')"
   ]
  },
  {
   "cell_type": "markdown",
   "metadata": {},
   "source": [
    "# ACDC 2019-2020 : l'Autre Carré D'à Côté\n",
    "\n",
    "alias \"la zone à JPD\"\n",
    "\n",
    "alias \"le plateau de Cournols-Olloix\"\n",
    "\n",
    "(pour faire du DS évidemment)"
   ]
  },
  {
   "cell_type": "code",
   "execution_count": null,
   "metadata": {},
   "outputs": [],
   "source": [
    "%matplotlib inline"
   ]
  },
  {
   "cell_type": "code",
   "execution_count": null,
   "metadata": {},
   "outputs": [],
   "source": [
    "import sys\n",
    "import os\n",
    "import math\n",
    "import re\n",
    "import datetime as dt\n",
    "import pandas as pd\n",
    "import numpy as np\n",
    "\n",
    "from lxml import etree\n",
    "import pyproj\n",
    "\n",
    "import folium\n",
    "import folium.plugins\n",
    "\n",
    "import simplekml as skml # Simple KML generation API\n",
    "import kmlcircle # Circle generation for KML generation\n",
    "\n",
    "from shapely import geometry\n",
    "\n",
    "from matplotlib import pyplot as plt\n",
    "import matplotlib.gridspec as pltg\n",
    "\n",
    "from IPython.display import HTML"
   ]
  },
  {
   "cell_type": "markdown",
   "metadata": {},
   "source": [
    "# Communs"
   ]
  },
  {
   "cell_type": "code",
   "execution_count": null,
   "metadata": {},
   "outputs": [],
   "source": [
    "KInfValues = [np.inf, -np.inf]"
   ]
  },
  {
   "cell_type": "code",
   "execution_count": null,
   "metadata": {},
   "outputs": [],
   "source": [
    "kmlNameSpaces = \\\n",
    "  { 'gx' : 'http://www.google.com/kml/ext/2.2',\n",
    "    'kml' : 'http://www.opengis.net/kml/2.2',\n",
    "    'atom' : 'http://www.w3.org/2005/Atom' }"
   ]
  },
  {
   "cell_type": "code",
   "execution_count": null,
   "metadata": {},
   "outputs": [],
   "source": [
    "# Projection coordonnées sphériques (degrés)=> coordonnées planes (système cible au choix)\n",
    "KProjWgs84 = pyproj.Proj(init='epsg:4326') # WGS 84 : long, lat en degrés\n",
    "\n",
    "KProjUtm31  = pyproj.Proj(init='epsg:32631') # WGS 84 - UTM 31N : long, lat en m\n",
    "KProjCc46   = pyproj.Proj(init='epsg:3946')  # RGF 93 - CC46    : long, lat en m\n",
    "KProjLamb93 = pyproj.Proj(init='epsg:2154')  # RGF 93 - Lambert : long, lat en m\n",
    "\n",
    "def geoProjeter(sCoords, srcProj, tgtProj): # sCoords : [0]=x=long, [1]=y=lat\n",
    "    return pd.Series(pyproj.transform(srcProj, tgtProj, sCoords[0], sCoords[1]))"
   ]
  },
  {
   "cell_type": "code",
   "execution_count": null,
   "metadata": {},
   "outputs": [],
   "source": []
  },
  {
   "cell_type": "markdown",
   "metadata": {},
   "source": [
    "# II. Attribution des points aux observateurs \n",
    "\n",
    "Grille nettoyée / corrigée (déplacé points hors broussailles, forêt, bocage trop serré, ou trop loin accès ... quand possible ;\n",
    " supprimé points en forêt ou innaccessibles cause relief)"
   ]
  },
  {
   "cell_type": "code",
   "execution_count": null,
   "metadata": {},
   "outputs": [],
   "source": [
    "# Version finale.\n",
    "kmlRoot = etree.ElementTree().parse('ACDC/DS ACDC COURNOLS OLLOIX JPM v4.kml')"
   ]
  },
  {
   "cell_type": "markdown",
   "metadata": {},
   "source": [
    "## 1) Chargement du polygône définissant la zone couverte"
   ]
  },
  {
   "cell_type": "code",
   "execution_count": null,
   "metadata": {
    "scrolled": false
   },
   "outputs": [],
   "source": [
    "# Zone à couvrir : On suppose que c'est le 1er polygône\n",
    "plMark = kmlRoot.find('kml:Document/kml:Placemark', namespaces=kmlNameSpaces)\n",
    "zonePoly = plMark.find('kml:Polygon/kml:outerBoundaryIs/kml:LinearRing/kml:coordinates',\n",
    "                       namespaces=kmlNameSpaces).text.strip()\n",
    "dfZonePoly = pd.DataFrame(data=[[float(v) for v in point.split(',')] for point in zonePoly.split(' ')],\n",
    "                          columns=['long', 'lat', 'alt'])\n",
    "dfZonePoly.head()"
   ]
  },
  {
   "cell_type": "markdown",
   "metadata": {},
   "source": [
    "## 2) Chargement des points conservés"
   ]
  },
  {
   "cell_type": "code",
   "execution_count": null,
   "metadata": {},
   "outputs": [],
   "source": [
    "def iterPlacemarks(kmlDoc, kmlNameSpaces):\n",
    "    for pm in kmlDoc.findall('kml:Document/kml:Document/kml:Placemark', namespaces=kmlNameSpaces):\n",
    "        name = pm.find('kml:name', namespaces=kmlNameSpaces).text\n",
    "        desc = pm.find('kml:description', namespaces=kmlNameSpaces).text\n",
    "        #print(name)\n",
    "        long, lat, alt = pm.find('kml:Point/kml:coordinates', namespaces=kmlNameSpaces).text.split(',')\n",
    "        yield dict(numero=int(name), description=desc, longitude=float(long), latitude=float(lat), altitude=float(alt))"
   ]
  },
  {
   "cell_type": "code",
   "execution_count": null,
   "metadata": {},
   "outputs": [],
   "source": [
    "dfPoints = pd.DataFrame(data=list(iterPlacemarks(kmlRoot, kmlNameSpaces)))"
   ]
  },
  {
   "cell_type": "code",
   "execution_count": null,
   "metadata": {},
   "outputs": [],
   "source": [
    "# 3) Ajout coordonnées UTM31\n",
    "dfPoints[['longitude_utm', 'latitude_utm']] = \\\n",
    "  dfPoints[['longitude', 'latitude']].apply(geoProjeter, srcProj=KProjWgs84, tgtProj=KProjUtm31, axis='columns')\n",
    "dfPoints[['longitude_utm', 'latitude_utm']] = \\\n",
    "  dfPoints[['longitude_utm', 'latitude_utm']].replace(KInfValues, np.nan) / 1000"
   ]
  },
  {
   "cell_type": "code",
   "execution_count": null,
   "metadata": {},
   "outputs": [],
   "source": [
    "dfPoints.set_index('numero', inplace=True)\n",
    "dfPoints['papier'] = None\n",
    "dfPoints['naturalist'] = None\n",
    "dfPoints = dfPoints.reindex(columns=['papier', 'naturalist', 'latitude', 'longitude', 'latitude_utm', 'longitude_utm',\n",
    "                                     'altitude', 'description'])\n",
    "len(dfPoints)"
   ]
  },
  {
   "cell_type": "code",
   "execution_count": null,
   "metadata": {},
   "outputs": [],
   "source": [
    "dfPoints.head()"
   ]
  },
  {
   "cell_type": "markdown",
   "metadata": {},
   "source": [
    "## 4) Attribution aux observateurs"
   ]
  },
  {
   "cell_type": "markdown",
   "metadata": {},
   "source": [
    "### Contactés, mais pas volontaires pour 2019\n",
    "\n",
    "#### Liste François, Auvergne ...\n",
    "\n",
    "* Christian Fargeix 7/3\n",
    "* Nicole et Christian Taillandier 10/3\n",
    "* ('Bruno Gilbert', 'lubrubelle@gmail.com', 'non'), # 11/03\n",
    "* ('Marc Pommarel', 'pommarelmarc@neuf.fr', 'non'), # 11/03\n",
    "* ('Gérard Lecoz', 'lecozgerard0818@orange.fr', 'non'), # 11/03\n",
    "* ('Sabine Boursange' , 'sabine.boursange@lpo.fr', 'non') # 13/03\n",
    "* ('Jean-Jacques Lallemant', 'jj.lallemant@gmail.com', 'non'), # 13/03\n",
    "* ('Adèle Debaudoin', 'adele.debaudouin@outlook.fr', 'non', 'non', 'non'), # 14/03\n",
    "* ('Olivier Gimel', 'gimelolivier@orange.fr', 'non', 'non'), # Oui, puis non le 28/03 !\n",
    "* ('Thyphaine Lyon', 'typhainelyon@gmail.com', 'ok', 'non'), # Oui, puis non le 30/04 !\n",
    "* ('David Houston', 'd-houston@wanadoo.fr', 'ok', 'non'), # Oui, mais rien fait, pas répondu aux relances\n",
    "* ('Laurent Maly', 'altla@orange.fr', 'ok', 'non'), # Oui, mais rien fait, pas répondu aux relances\n",
    "\n",
    "#### Liste glanée sur FA (données sérieuses sur les 3 communes ACDC)\n",
    "\n",
    "* Luc Souret, luc83@orange.fr, 72 Chemin de Quinson - 83560 St Julien ; préretraire fin 2019, intéressé pour 2020 !\n",
    "* Paul Nicolas, pbg.nicolas@gmail.com ; pas confiance dans la méthode\n",
    "* Matthieu Bernard, matthieubernard8944@neuf.fr ; déménage prochainement à Culhat, pas le temps et trop loin"
   ]
  },
  {
   "cell_type": "markdown",
   "metadata": {},
   "source": [
    "#### Les vrais participants"
   ]
  },
  {
   "cell_type": "code",
   "execution_count": null,
   "metadata": {},
   "outputs": [],
   "source": [
    "# Infos oservateurs : Prénom + Nom, e-mail, statut de volontaire confirmé ?, présence confirmée le 31/03 ?\n",
    "obseurs = \\\n",
    "[('François Guélin', 'francois.guelin@orange.fr', 'ok', 'oui'),\n",
    " ('Jean-Philippe Meuret', 'jpmeuret@free.fr', 'ok', 'oui'),\n",
    " ('Sylvain Sainnier', 'sainnier@gmail.com', 'ok', 'oui'), # formation 31/3 et 7 OK\n",
    " ('Gilles Saulas', 'gilles.saulas@orange.fr', 'ok', 'non'),\n",
    " ('Cyrille Jallageas', 'cyrisle@yahoo.fr', 'ok', 'oui'),\n",
    " ('Jean-François Carrias', 'jean-francois.carrias@orange.fr', 'ok', 'non'),\n",
    " ('Alex Clamens', 'clamens.alex@wanadoo.fr', 'ok', 'non'),\n",
    " ('Anne Citron', 'acitron@orange.fr', 'ok', 'non'),\n",
    " ('Sandra Robert', 'sandlise@orange.fr', 'ok', 'oui',),\n",
    " ('Camille Fasolin', 'c.fasolin@gmail.com', 'ok', 'non'),\n",
    " ('Clément Rollant', 'clement.rollant@lpo.fr', 'ok', 'non'),\n",
    " ('Matthieu Clément', 'matthieu.clement@lpo.fr', 'ok', 'oui'),\n",
    " ('Thibault Brugerolle', 'tbrugerolle@hotmail.com', 'ok', 'non'),\n",
    " ('Pierre Tourret', 'pierre.tourret@wanadoo.fr', 'ok', 'oui'),\n",
    " ('Patrick Mougel', 'mougel.patrick@wanadoo.fr', 'ok', 'oui'),\n",
    " ('Cyril Brunel', 'cyrilb63@hotmail.fr', 'ok', 'oui'),\n",
    " ('Romain Riols', 'romain.riols@lpo.fr', 'ok', 'non'),\n",
    " ('Hugo Samain', 'hugo.samain@gmail.com', 'ok', 'non'),\n",
    " ('Jean-Pierre Dulphy', 'jp.dulphy@orange.fr', 'ok', 'non')] # Points \"superposés\" aux siens, 2 procoles en même temps !\n",
    "\n",
    "dfObseurs = pd.DataFrame(columns=['nom', 'eMail', 'statut', '31 mars'],\n",
    "                         index=range(1, len(obseurs)+1), data=obseurs)\n",
    "\n",
    "dfObseurs"
   ]
  },
  {
   "cell_type": "code",
   "execution_count": null,
   "metadata": {},
   "outputs": [],
   "source": [
    "print('Observateurs volontaires :', len(dfObseurs))\n",
    "print('* Les noms :', ', '.join(dfObseurs.nom))\n",
    "print('* Les emails :', ', '.join(dfObseurs.eMail))"
   ]
  },
  {
   "cell_type": "code",
   "execution_count": null,
   "metadata": {},
   "outputs": [],
   "source": [
    "df = dfObseurs[dfObseurs['31 mars'] != 'non']\n",
    "print('Observateurs présents le 31 :', len(df))\n",
    "print('* Les noms :', ', '.join(df.nom))\n",
    "print('* Les emails :', ', '.join(df.eMail))"
   ]
  },
  {
   "cell_type": "markdown",
   "metadata": {},
   "source": [
    "#### Assignation des points et des protocoles"
   ]
  },
  {
   "cell_type": "code",
   "execution_count": null,
   "metadata": {},
   "outputs": [],
   "source": [
    "# Réinitialisation de toutes les assignations\n",
    "dfPoints['papier'] = None\n",
    "dfPoints['naturalist'] = None"
   ]
  },
  {
   "cell_type": "code",
   "execution_count": null,
   "metadata": {},
   "outputs": [],
   "source": [
    "# numPoints : liste des numéros de points\n",
    "# papier : nom de l'observateur qui inventoriera ces points en mode \"DS papier\" (défaut : None=personne)\n",
    "# naturalist  : idem en mode \"DS Naturalist\" (défaut : None=personne)\n",
    "def assignerPoints(numPoints, papier=None, naturalist=None):\n",
    "    \n",
    "    assert papier is None or papier in list(dfObseurs.nom)\n",
    "    assert naturalist is None or naturalist in list(dfObseurs.nom)\n",
    "    if papier:\n",
    "        assert dfPoints.loc[numPoints, 'papier'].isnull().all()\n",
    "        dfPoints.loc[numPoints, 'papier'] = papier\n",
    "    if naturalist:\n",
    "        assert dfPoints.loc[numPoints, 'naturalist'].isnull().all()\n",
    "        dfPoints.loc[numPoints, 'naturalist'] = naturalist"
   ]
  },
  {
   "cell_type": "code",
   "execution_count": null,
   "metadata": {},
   "outputs": [],
   "source": [
    "assignerPoints(papier='François Guélin', # OK, papier 02/03\n",
    "               numPoints=[145, 146, 147, 160, 161, 162,\n",
    "                          163, 164, 165, 177, 178, 179, # 02/03\n",
    "                          194, 195, 196, 197, 198, 199, 200,\n",
    "                          109, 110, 126, 127, 128, 143, 144,  # 03/04\n",
    "                          180, 181, 229, 216, 232, 233]) # le 04/05 sans garantie"
   ]
  },
  {
   "cell_type": "code",
   "execution_count": null,
   "metadata": {},
   "outputs": [],
   "source": [
    "assignerPoints(naturalist='Jean-Philippe Meuret',\n",
    "               numPoints=[109, 110, 112, 126, 127, 128, 143, 144,  # OK, naturalist 02/03\n",
    "                          148, 163, 164, 165, 166, 182, 183, 184, 185]) # Nouvelle série le 30/04"
   ]
  },
  {
   "cell_type": "code",
   "execution_count": null,
   "metadata": {},
   "outputs": [],
   "source": [
    "assignerPoints(papier='Sylvain Sainnier',\n",
    "               numPoints=[123, 125, 141, 142, 157, 158, 159, 174, 175, 176, 192, 193, # OK, papier 02/03\n",
    "                         112, 202, 218, 219]) # le 03/05 sans garantie"
   ]
  },
  {
   "cell_type": "code",
   "execution_count": null,
   "metadata": {},
   "outputs": [],
   "source": [
    "assignerPoints(papier='Gilles Saulas',\n",
    "               numPoints=[262, 263, 280, 281, 282, 283, 284, 299, 300, 301]) # OK, papier 02/03"
   ]
  },
  {
   "cell_type": "code",
   "execution_count": null,
   "metadata": {},
   "outputs": [],
   "source": [
    "assignerPoints(naturalist='Cyrille Jallageas', # OK, naturalist 02/03 et 11/03\n",
    "               numPoints=[194, 195, 196, 197, 198, # Smartphone\n",
    "                          199, 200, 201, 202, 218, 219]) # Tablette"
   ]
  },
  {
   "cell_type": "code",
   "execution_count": null,
   "metadata": {},
   "outputs": [],
   "source": [
    "assignerPoints(papier='Jean-François Carrias',\n",
    "               numPoints=[23, 39, 40, 41, 42, 56, 57, 58, 59, 60]) # OK, papier 02/03"
   ]
  },
  {
   "cell_type": "code",
   "execution_count": null,
   "metadata": {},
   "outputs": [],
   "source": [
    "assignerPoints(papier='Alex Clamens',\n",
    "               numPoints=[55, 72, 73, 74, 75, 90, 91]) # OK, papier 10/03 (moins le 76 => JPD)"
   ]
  },
  {
   "cell_type": "code",
   "execution_count": null,
   "metadata": {},
   "outputs": [],
   "source": [
    "assignerPoints(papier='Anne Citron',\n",
    "               numPoints=[210, 211, 212, 228, 245, 246,  # OK, papier 11/03\n",
    "                          113, 129, 130, # Ajout du 27/04\n",
    "                          265, 266]) # Ajout du 28/04"
   ]
  },
  {
   "cell_type": "code",
   "execution_count": null,
   "metadata": {},
   "outputs": [],
   "source": [
    "assignerPoints(papier='Camille Fasolin',\n",
    "               numPoints=[88, 89, 105, 106, 122]) # OK, papier 11/03, tutorat Sylvain et Jean-François"
   ]
  },
  {
   "cell_type": "code",
   "execution_count": null,
   "metadata": {},
   "outputs": [],
   "source": [
    "assignerPoints(naturalist='Matthieu Clément',\n",
    "               numPoints=[157, 158, 159, 174, 175, 176, 192, 193]) # OK, 12/03"
   ]
  },
  {
   "cell_type": "code",
   "execution_count": null,
   "metadata": {},
   "outputs": [],
   "source": [
    "assignerPoints(papier='Thibault Brugerolle',\n",
    "               numPoints=[148, 166, 182, 183, 184, 185]) # OK, papier (pb GPS revérifiés, naturalist=KO), 12/03"
   ]
  },
  {
   "cell_type": "code",
   "execution_count": null,
   "metadata": {},
   "outputs": [],
   "source": [
    "assignerPoints(naturalist='Pierre Tourret',\n",
    "               numPoints=[23, 39, 40, 41, 42, 56, 57, 58, 59, 60]) # ok, 12/03"
   ]
  },
  {
   "cell_type": "code",
   "execution_count": null,
   "metadata": {},
   "outputs": [],
   "source": [
    "assignerPoints(papier='Sandra Robert',\n",
    "#              numPoints=[230, 231, 232, 233, 249]) # OK, 11/03 (moins 250 => JPD); prévision de 5 points en plus 17/03\n",
    "               numPoints=[]) # Mais stage, pas sûre de pouvoir du tout               "
   ]
  },
  {
   "cell_type": "code",
   "execution_count": null,
   "metadata": {},
   "outputs": [],
   "source": [
    "assignerPoints(naturalist='Clément Rollant',\n",
    "               numPoints=[113, 129, 130, 146, 147, 162]) # OK, naturalist"
   ]
  },
  {
   "cell_type": "code",
   "execution_count": null,
   "metadata": {},
   "outputs": [],
   "source": [
    "assignerPoints(naturalist='Cyril Brunel',\n",
    "               numPoints=[262, 263, 280, 281, 282, 299, 300, 301]) # OK 18/03, naturalist 27/03 ; 283 retiré, pas pu 1er passage"
   ]
  },
  {
   "cell_type": "code",
   "execution_count": null,
   "metadata": {},
   "outputs": [],
   "source": [
    "assignerPoints(naturalist='Romain Riols',\n",
    "               numPoints=[210, 211, 228, 245, 246, 247, 265, 266, 284, # OK, naturalist, 01/04\n",
    "                          160, 177, 178, 179, # En plus le 12-13/04, 2ème passage à confirmer\n",
    "                          180, 181, 215, 216, 232, 233, 250]) # En plus le 01/05, idem ?"
   ]
  },
  {
   "cell_type": "code",
   "execution_count": null,
   "metadata": {},
   "outputs": [],
   "source": [
    "assignerPoints(naturalist='Patrick Mougel', \n",
    "               numPoints=[55, 72, 73, 74, 75, 76]) # OK 19/03 naturalist 14/04"
   ]
  },
  {
   "cell_type": "code",
   "execution_count": null,
   "metadata": {},
   "outputs": [],
   "source": [
    "assignerPoints(naturalist='Hugo Samain',\n",
    "               numPoints=[88, 89, 90, 91, 105, 106, 122, 123,\n",
    "                          125, 141, 142, 145, 161, # OK 13/04 naturalist\n",
    "                          212, 213, 229]) # En plus, le 04/05"
   ]
  },
  {
   "cell_type": "code",
   "execution_count": null,
   "metadata": {},
   "outputs": [],
   "source": [
    "assignerPoints(papier='Jean-Pierre Dulphy', # \n",
    "               numPoints=[201, 213, 214, 215, 247, # Proches < 70m ceux protocole JPD, pas encore attribués\n",
    "#                         I2,  H1,  H4,  I1,  J2\n",
    "\n",
    "                          76, 250]) # Proches < 70m ceux protocole JPD, déjà attribués\n",
    "#                         B4, I4,\n",
    "\n",
    "#                         182, 105, 211, # 70m < proches < 150m ceux protocole JPD, pas encore attribués\n",
    "#                         H1,  C1,  G1,\n",
    "\n",
    "#                         178, 145, 146, 89, 75, 73, 262&263, 281, # 70m < proches < 150m ceux protocole JPD, déjà attribués.\n",
    "#                         G2,  D4,  E2,  C2, B1, A1, J1,      J4,"
   ]
  },
  {
   "cell_type": "code",
   "execution_count": null,
   "metadata": {},
   "outputs": [],
   "source": [
    "# Pour tests.\n",
    "#assignerPoints(papier='Jean-Philippe', numPoints=[23, 39, 40])  # tests\n",
    "#assignerPoints(naturalist='Jean-Philippe', numPoints=[145, 146, 147])  # tests\n",
    "#assignerPoints(papier='François', numPoints=[109, 110, 112])  # tests\n",
    "#assignerPoints(naturalist='François', numPoints=[41, 42])  # tests"
   ]
  },
  {
   "cell_type": "code",
   "execution_count": null,
   "metadata": {},
   "outputs": [],
   "source": [
    "dfPoints.tail()"
   ]
  },
  {
   "cell_type": "code",
   "execution_count": null,
   "metadata": {
    "scrolled": false
   },
   "outputs": [],
   "source": [
    "# Bilan global\n",
    "dfBilanAttr = pd.DataFrame(data=[(len(dfPoints[dfPoints.papier == obseur]), len(dfPoints[dfPoints.naturalist == obseur])) \\\n",
    "                             for obseur in dfObseurs.nom] \\\n",
    "                            + [(len(dfPoints[dfPoints.papier.notnull()]), len(dfPoints[dfPoints.naturalist.notnull()])),\n",
    "                               (len(dfPoints[dfPoints.papier.isnull()]), len(dfPoints[dfPoints.naturalist.isnull()]))],\n",
    "                       columns=['Papier', 'Naturalist'],\n",
    "                       index=list(dfObseurs.nom) + ['Assignés', 'Non assignés'])\n",
    "dfBilanAttr"
   ]
  },
  {
   "cell_type": "code",
   "execution_count": null,
   "metadata": {},
   "outputs": [],
   "source": [
    "# En pourcentages ...\n",
    "round(100 * dfBilanAttr.loc[['Assignés', 'Non assignés']] / len(dfPoints), 1)"
   ]
  },
  {
   "cell_type": "code",
   "execution_count": null,
   "metadata": {},
   "outputs": [],
   "source": [
    "dict(nbObseursAvecPoints=len(dfBilanAttr[(dfBilanAttr.Papier > 0) | (dfBilanAttr.Naturalist > 0)].index)-2,\n",
    "     nbObseursBrut=len(dfObseurs))"
   ]
  },
  {
   "cell_type": "code",
   "execution_count": null,
   "metadata": {},
   "outputs": [],
   "source": [
    "# Les points faits en Naturalist mais pas en Papier.\n",
    "dfPoints[dfPoints.papier.isnull() & dfPoints.naturalist.notnull()].index"
   ]
  },
  {
   "cell_type": "code",
   "execution_count": null,
   "metadata": {},
   "outputs": [],
   "source": [
    "# Les points faits en Papier mais pas en Naturalist.\n",
    "dfPoints[dfPoints.naturalist.isnull() & dfPoints.papier.notnull()].index"
   ]
  },
  {
   "cell_type": "code",
   "execution_count": null,
   "metadata": {},
   "outputs": [],
   "source": [
    "# Les points pas faits ni en Papier ni en Naturalist.\n",
    "dfPoints[dfPoints.naturalist.isnull() & dfPoints.papier.isnull()].index"
   ]
  },
  {
   "cell_type": "code",
   "execution_count": null,
   "metadata": {
    "scrolled": true
   },
   "outputs": [],
   "source": [
    "# Uniquement les observateur présents le 31/03\n",
    "dfBilanAttr.loc[dfBilanAttr.index.isin(dfObseurs[dfObseurs['31 mars'] != 'non'].nom)]"
   ]
  },
  {
   "cell_type": "code",
   "execution_count": null,
   "metadata": {},
   "outputs": [],
   "source": [
    "df = dfObseurs[dfObseurs.nom.isin(dfBilanAttr.loc[(dfBilanAttr.Papier == 0) & (dfBilanAttr.Naturalist == 0)].index)]\n",
    "print('Observateurs n\\'ayant pas encore choisi leurs points :', len(df))\n",
    "print('* Les noms :', ', '.join(df.nom))\n",
    "print('* Les emails :', ', '.join(df.eMail))"
   ]
  },
  {
   "cell_type": "code",
   "execution_count": null,
   "metadata": {},
   "outputs": [],
   "source": [
    "df = dfObseurs[dfObseurs.nom.isin(dfBilanAttr.loc[(dfBilanAttr.Papier > 0) | (dfBilanAttr.Naturalist == 0)].index)]\n",
    "print('Observateurs protocole papier (ou encore indécis) :', len(df))\n",
    "print('* Les noms :', ', '.join(df.nom))\n",
    "print('* Les emails :', ', '.join(df.eMail))"
   ]
  },
  {
   "cell_type": "code",
   "execution_count": null,
   "metadata": {},
   "outputs": [],
   "source": [
    "df = dfObseurs[dfObseurs.nom.isin(dfBilanAttr.loc[(dfBilanAttr.Naturalist > 0) | (dfBilanAttr.Papier == 0)].index)]\n",
    "print('Observateurs protocole naturalist (ou encore indécis) :', len(df))\n",
    "print('* Les noms :', ', '.join(df.nom))\n",
    "print('* Les emails :', ', '.join(df.eMail))"
   ]
  },
  {
   "cell_type": "markdown",
   "metadata": {},
   "source": [
    "## 5) Export Excel"
   ]
  },
  {
   "cell_type": "code",
   "execution_count": null,
   "metadata": {},
   "outputs": [],
   "source": [
    "attrTableFileName = 'ACDC/ACDC2019-AttributionsPoints.xlsx'\n",
    "\n",
    "with pd.ExcelWriter(attrTableFileName) as xlWriter:\n",
    "    dfPoints.reset_index().to_excel(xlWriter, sheet_name='AttribDétails', index=False)\n",
    "    dfBilanAttr.to_excel(xlWriter, sheet_name='AttribSynthèse')\n",
    "    dfObseurs.to_excel(xlWriter, sheet_name='Observateurs', index=False)\n",
    "\n",
    "HTML(\"\"\"<p>Attributions : <a href='{fileName}' target=\"_blank\">{fileName}</a></p>\"\"\" \\\n",
    "     .format(fileName=attrTableFileName))"
   ]
  },
  {
   "cell_type": "markdown",
   "metadata": {},
   "source": [
    "## 6) Génération des KML individuels, avec cercles d'aide au relevé DS"
   ]
  },
  {
   "cell_type": "code",
   "execution_count": null,
   "metadata": {},
   "outputs": [],
   "source": [
    "#Matrice de couleur des points selon l'assignation papier / naturalist du point\n",
    "#                               Naturalist    \n",
    "#                     papier    \n",
    "KDefPointColors = { True  : { True : skml.Color.red,     False : skml.Color.lightgreen },\n",
    "                    False : { True : skml.Color.fuchsia, False : skml.Color.cyan } }\n",
    "# * prefix : for target file name, only used if observer is None\n",
    "def generateKml(dfPoints, dfZonePoly=None, observer=None, pointsColor=KDefPointColors,\n",
    "                circles=[(25, 20), (100, 30), (200, 40)], circlesColor=skml.Color.white,\n",
    "                title=None, prefix=None, postfix='cercles-stoceps', tgtDir='ACDC'):\n",
    "    \n",
    "    dfObsverPoints = dfPoints[(dfPoints.papier == observer) | (dfPoints.naturalist == observer)] if observer else dfPoints\n",
    "    if len(dfObsverPoints) == 0:\n",
    "        return None\n",
    "    \n",
    "    if not isinstance(pointsColor, dict):\n",
    "        pointsColor = { papAss : { natAss : pointsColor for natAss in [True, False] } for papAss in [True, False] }\n",
    "    \n",
    "    kml = skml.Kml(name=title or 'Points ACDC 2019{}'.format(' '+observer if observer else ''))\n",
    "\n",
    "    labelStyle = { papAss : { natAss : skml.LabelStyle(color=pointsColor[papAss][natAss], scale=1) \\\n",
    "                             for natAss in pointsColor[papAss] } for papAss in pointsColor }\n",
    "    iconStyle = skml.IconStyle(icon=skml.Icon(href='http://maps.google.com/mapfiles/kml/shapes/placemark_circle.png'))\n",
    "    ptStyle = { papAss : { natAss : skml.Style(labelstyle=labelStyle[papAss][natAss], iconstyle=iconStyle) \\\n",
    "                           for natAss in pointsColor[papAss] } for papAss in pointsColor }\n",
    "    lineStyle = skml.LineStyle(color=skml.Color.red, width=3)\n",
    "\n",
    "    if dfZonePoly is not None:\n",
    "        ls = kml.newlinestring(name='Zone ACDC Cournols-Olloix JPD', extrude=1,\n",
    "                               coords=dfZonePoly[['long', 'lat', 'alt']].values)\n",
    "        ls.linestyle = lineStyle\n",
    "        \n",
    "    circleStyle = skml.LineStyle(color=circlesColor, width=1)\n",
    "\n",
    "    obsver = ''\n",
    "    for idx, sPt in dfObsverPoints.iterrows():\n",
    "        \n",
    "        # Point\n",
    "        pt = kml.newpoint(name=str(idx), coords=[(sPt.longitude, sPt.latitude, 0)], extrude=1)\n",
    "        pt.style = ptStyle[sPt.papier is not None][sPt.naturalist is not None]\n",
    "\n",
    "        pt.description = 'Papier: {}, Naturalist: {} - UTM31 : lat={:.3f}km, long={:.3f}km' \\\n",
    "                         .format(sPt.papier or 'Personne', sPt.naturalist or 'Personne',\n",
    "                                 sPt.longitude_utm, sPt.latitude_utm)\n",
    "        \n",
    "        # Cercles concentriques\n",
    "        for r, n in circles:\n",
    "            ls = kml.newlinestring(name='rayon={}m'.format(r), extrude=1,\n",
    "                                   coords=kmlcircle.spoints(long=sPt.longitude, lat=sPt.latitude, meters=r, n=n, offset=0))\n",
    "            ls.linestyle = circleStyle\n",
    "\n",
    "    prfx = observer.replace(' ', '').replace('-', '') + '-' if observer else prefix + '-' if prefix else ''\n",
    "    tgtKmlFileName = os.path.join(tgtDir, 'ACDC2019-{}{}-points{}.kml' \\\n",
    "                                          .format(prfx, len(dfObsverPoints), '-'+postfix if postfix else ''))\n",
    "    kml.save(tgtKmlFileName)\n",
    "    \n",
    "    return tgtKmlFileName"
   ]
  },
  {
   "cell_type": "code",
   "execution_count": null,
   "metadata": {},
   "outputs": [],
   "source": [
    "# Tous les observateurs, 1 par 1, cercles STOC EPS blancs.\n",
    "html = \"<table>\"\n",
    "for indObseur, obseur in enumerate(dfObseurs.nom):\n",
    "    nomFicCarteAttrib = generateKml(dfPoints, dfZonePoly, obseur)\n",
    "    html += \"\"\"<tr><td>{num}</td>\n",
    "                   <td style='text-align:left'>{obseur}</td>\n",
    "                   <td  style='text-align:left'>{fileLink}</td></tr>\"\"\" \\\n",
    "            .format(num=indObseur+1, obseur=obseur,\n",
    "                    fileLink=\"<a href='{fileName}' target='_blank'>{fileName}</a>\".format(fileName=nomFicCarteAttrib) \\\n",
    "                             if nomFicCarteAttrib else '')\n",
    "html += '</table>'\n",
    "\n",
    "HTML(html)"
   ]
  },
  {
   "cell_type": "code",
   "execution_count": null,
   "metadata": {},
   "outputs": [],
   "source": [
    "# Tous les observateurs, tous ensembles, cercles STOC EPS blancs.\n",
    "nomFicCarteAttrib = generateKml(dfPoints, dfZonePoly)\n",
    "\n",
    "HTML(\"\"\"<p>Tous les points, cercles STOC-EPS : <a href='{fileName}' target=\"_blank\">{fileName}</a></p>\"\"\" \\\n",
    "     .format(fileName=nomFicCarteAttrib))"
   ]
  },
  {
   "cell_type": "code",
   "execution_count": null,
   "metadata": {},
   "outputs": [],
   "source": [
    "# Tous les observateurs, tous ensembles, cercles 300m éval. milieux fuschia.\n",
    "nomFicCarteAttrib = generateKml(dfPoints, dfZonePoly, postfix='cercles-milieux', \n",
    "                                circles=[(300, 50)], circlesColor=skml.Color.fuchsia)\n",
    "\n",
    "HTML(\"\"\"<p>Tous les points, cercles milieux naturels : <a href='{fileName}' target=\"_blank\">{fileName}</a></p>\"\"\" \\\n",
    "     .format(fileName=nomFicCarteAttrib))"
   ]
  },
  {
   "cell_type": "code",
   "execution_count": null,
   "metadata": {},
   "outputs": [],
   "source": [
    "# Un seul observateur, cercles STOC EPS blancs.\n",
    "#obseur = 'Jean-Philippe Meuret'\n",
    "#nomFicCarteAttrib = generateKml(dfPoints, dfZonePoly, observer=obseur)\n",
    "#\n",
    "#HTML(\"\"\"<p>Points de {obser}, cercles STOC-EPS : <a href='{fileName}' target=\"_blank\">{fileName}</a></p>\"\"\" \\\n",
    "#     .format(obser=obseur, fileName=nomFicCarteAttrib))"
   ]
  },
  {
   "cell_type": "code",
   "execution_count": null,
   "metadata": {},
   "outputs": [],
   "source": [
    "# Tous les points faits en Naturalist, mais pas encore en Papier, cercles STOC EPS blancs.\n",
    "nomFicCarteAttrib = generateKml(dfPoints[dfPoints.papier.isnull() & dfPoints.naturalist.notnull()], dfZonePoly,\n",
    "                                prefix='nat-mais-pas-pap')\n",
    "\n",
    "HTML(\"\"\"<p>Tous les points, cercles STOC-EPS : <a href='{fileName}' target=\"_blank\">{fileName}</a></p>\"\"\" \\\n",
    "     .format(fileName=nomFicCarteAttrib))"
   ]
  },
  {
   "cell_type": "code",
   "execution_count": null,
   "metadata": {},
   "outputs": [],
   "source": []
  },
  {
   "cell_type": "code",
   "execution_count": null,
   "metadata": {},
   "outputs": [],
   "source": [
    "raise Exception('On s\\'arrête ici !')"
   ]
  },
  {
   "cell_type": "markdown",
   "metadata": {},
   "source": [
    "## 7) Cartographie des points obtenus"
   ]
  },
  {
   "cell_type": "code",
   "execution_count": null,
   "metadata": {
    "scrolled": false
   },
   "outputs": [],
   "source": [
    "#tiles, attr = 'http://{s}.tile.openstreetmap.org/{z}/{x}/{y}.png', 'osm'# OK\n",
    "tiles, attr = 'https://{s}.tile.thunderforest.com/outdoors/{z}/{x}/{y}.png', 'thunderforest' # OK\n",
    "#tiles, attr = 'http://{s}.tile.openstreetmap.fr/fradm/{z}/{x}/{y}.png', 'osm fr' # marche pô\n",
    "#tiles, attr = 'https://{s}.tile.openstreetmap.fr/qa/{zoom}/{x}/{y}.png', 'osm fr' # marche pô\n",
    "mp = folium.Map(tiles=tiles, attr=attr)\n",
    "\n",
    "poly = folium.PolyLine(locations=[(lat, long) for long, lat in dfZonePoly[['long', 'lat']].itertuples(index=False)],\n",
    "                       color='red', opacity=0.8, popup='Zone ACDC Cournols-Olloix JPD')\n",
    "poly.add_to(mp)\n",
    "for indPt, sPt in dfPoints.iterrows():\n",
    "    mrk = folium.Marker(location=(sPt.latitude, sPt.longitude), \n",
    "                        popup=folium.Popup('Papier:{}, Naturalist:{} - UTM31: lat={:.3f}km, long={:.3f}km' \\\n",
    "                                           .format(sPt.papier or 'Personne', sPt.naturalist or 'Personne',\n",
    "                                                   sPt.longitude_utm, sPt.latitude_utm)),\n",
    "                        icon=folium.Icon(color='green', icon_color='black'))\n",
    "    mrk.add_to(mp)\n",
    "    \n",
    "mp.fit_bounds(mp.get_bounds())\n",
    "mp"
   ]
  },
  {
   "cell_type": "code",
   "execution_count": null,
   "metadata": {},
   "outputs": [],
   "source": []
  },
  {
   "cell_type": "markdown",
   "metadata": {},
   "source": [
    "# III. Génération du KML pour la matinée de formation du 31/03"
   ]
  },
  {
   "cell_type": "code",
   "execution_count": null,
   "metadata": {},
   "outputs": [],
   "source": [
    "dfPointsForm = pd.DataFrame(data=[dict(papier='testeurs', naturalist=None, latitude=45.64776, longitude=3.04115,\n",
    "                                       latitude_utm=0.0, longitude_utm=0.0, altitude=0, description='Point formation 1'),\n",
    "                                  dict(papier='testeurs', naturalist=None, latitude=45.64752, longitude=3.04500,\n",
    "                                       latitude_utm=0.0, longitude_utm=0.0, altitude=0, description='Point formation 2'),\n",
    "                                  dict(papier='testeurs', naturalist=None, latitude=45.64661, longitude=3.04974,\n",
    "                                       latitude_utm=0.0, longitude_utm=0.0, altitude=0, description='Point formation 3'),\n",
    "                                  dict(papier='testeurs', naturalist=None, latitude=45.64908, longitude=3.04857,\n",
    "                                       latitude_utm=0.0, longitude_utm=0.0, altitude=0, description='Point formation 4')],\n",
    "                           index=range(1, 5))"
   ]
  },
  {
   "cell_type": "code",
   "execution_count": null,
   "metadata": {},
   "outputs": [],
   "source": [
    "# Tous les points du test, cercles STOC EPS blancs.\n",
    "nomFicCartePtsForm = genererKml(dfPointsForm, title='ACDC 2019 Points Formation 31/03', postfix='formation-cercles-stoceps')\n",
    "\n",
    "HTML(\"\"\"<p>Tous les points, cercles STOC-EPS : <a href='{fileName}' target=\"_blank\">{fileName}</a></p>\"\"\" \\\n",
    "     .format(fileName=nomFicCartePtsForm))"
   ]
  },
  {
   "cell_type": "code",
   "execution_count": null,
   "metadata": {},
   "outputs": [],
   "source": []
  },
  {
   "cell_type": "markdown",
   "metadata": {},
   "source": [
    "# IV. Auto-évaluation des compétences des équipes papier et Naturalist"
   ]
  },
  {
   "cell_type": "markdown",
   "metadata": {},
   "source": [
    "## 1. Chargement et nettoyage (lignes inutiles, espaces qui traînent ...)"
   ]
  },
  {
   "cell_type": "code",
   "execution_count": null,
   "metadata": {},
   "outputs": [],
   "source": [
    "dfAutoEval = pd.read_excel('ACDC/GrilleAutoEvalObservateur-resultats.xlsx', index_col=0).T.reset_index()\n",
    "#dfAutoEval.head()"
   ]
  },
  {
   "cell_type": "code",
   "execution_count": null,
   "metadata": {},
   "outputs": [],
   "source": [
    "dfAutoEval.drop(columns=[dfAutoEval.columns[i] for i in [1, 4, 5, 9, 11, 12, 14]], inplace=True)\n",
    "#dfAutoEval.head()"
   ]
  },
  {
   "cell_type": "code",
   "execution_count": null,
   "metadata": {},
   "outputs": [],
   "source": [
    "dColIds = \\\n",
    "{\n",
    "    'index' : 'obseur',\n",
    "    'Je connais les chants des 20 espèces les plus communes du secteur ACDC (voir blog ACDC)' : 'ch20Comm',\n",
    "    'Je pense arriver à détecter l’essentiel des oiseaux chanteurs dans un rayon de 150 m' : 'ch150m',\n",
    "    'J’ai déjà pratiqué des recensements sur plan où il faut situer les oiseaux' : 'invPlan',\n",
    "    'J’ai réalisé des points «\\xa0 Plateau de Fromages\\xa0»' : 'invPlatFrom',\n",
    "    'J’ai déjà pratiqué des points STOC-EPS' : 'invSTOC',\n",
    "    '3) mon expérience ornitho' : 'expGenerale',\n",
    "    '4) Expérience de saisie sur Naturalist (ex\\xa0: EPOC)' : 'expNaturalist'\n",
    "}\n",
    "\n",
    "dfAutoEval.rename(columns=dColIds, inplace=True)\n",
    "dfAutoEval.set_index('obseur', drop=True, inplace=True)\n",
    "dfAutoEval.columns.name = None\n",
    "dfAutoEval.head()"
   ]
  },
  {
   "cell_type": "code",
   "execution_count": null,
   "metadata": {},
   "outputs": [],
   "source": [
    "dfAutoEval = dfAutoEval.applymap(lambda s: s.strip())"
   ]
  },
  {
   "cell_type": "markdown",
   "metadata": {},
   "source": [
    "## 2. Conversion numérique des choix"
   ]
  },
  {
   "cell_type": "code",
   "execution_count": null,
   "metadata": {},
   "outputs": [],
   "source": [
    "dChVal = { 'un peu' : 4, 'beaucoup' : 6, 'passionnément' : 8,\n",
    "           'cliquez pour choisir dans la liste' : np.nan }\n",
    "dInvVal = { 'jamais' : 0, 'un peu' : 1, 'beaucoup' : 2, 'passionnément' : 3,\n",
    "            'cliquez pour choisir dans la liste' : np.nan}\n",
    "dExpGen = { 'moins de 10 ans de terrain régulier' : 2, 'de 10 à 20 ans de terrain régulier' : 4,\n",
    "            'plus de 20 ans de terrain régulier' : 6, 'je ne sais plus tellement çà fait longtemps' : 6,\n",
    "            'cliquez pour choisir dans la liste' : np.nan }\n",
    "dExpNat = { 'EPOC ou formulaire simple, sans positionnement de l’épingle rouge' : 5,\n",
    "            'EPOC ou formulaire simple, AVEC positionnement de l’épingle rouge' : 10,\n",
    "            'cliquez pour choisir dans la liste' : np.nan }"
   ]
  },
  {
   "cell_type": "code",
   "execution_count": null,
   "metadata": {},
   "outputs": [],
   "source": [
    "dToRep = { 'ch20Comm' : dChVal, 'ch150m' : dChVal,\n",
    "           'invPlan' : dInvVal, 'invPlatFrom' : dInvVal, 'invSTOC' : dInvVal,\n",
    "           'expGenerale' : dExpGen, 'expNaturalist' : dExpNat }\n",
    "dfAutoEvalNum = dfAutoEval.copy()\n",
    "dfAutoEvalNum.replace(dToRep, inplace=True)\n",
    "dfAutoEvalNum.head()"
   ]
  },
  {
   "cell_type": "markdown",
   "metadata": {},
   "source": [
    "## 3. Calcul des 2 notes individuelles"
   ]
  },
  {
   "cell_type": "code",
   "execution_count": null,
   "metadata": {},
   "outputs": [],
   "source": [
    "dfAutoEvalNum['noteNaturalist'] = dfAutoEvalNum.sum(axis='columns') * 10.0 / 41.0\n",
    "dfAutoEvalNum['notePapier'] = \\\n",
    "    dfAutoEvalNum[['ch20Comm', 'ch150m', 'invPlan', 'invPlatFrom', 'invSTOC', 'expGenerale']].sum(axis='columns') * 10.0 / 31.0\n"
   ]
  },
  {
   "cell_type": "code",
   "execution_count": null,
   "metadata": {},
   "outputs": [],
   "source": [
    "dfAutoEvalNum"
   ]
  },
  {
   "cell_type": "markdown",
   "metadata": {},
   "source": [
    "## 4. Ajout type d'inventaire effectué"
   ]
  },
  {
   "cell_type": "code",
   "execution_count": null,
   "metadata": {},
   "outputs": [],
   "source": [
    "dfAutoEvalNum = dfAutoEvalNum.join(dfBilanAttr)\n",
    "dfAutoEvalNum.rename(columns={ col : 'nPts'+col for col in ['Papier', 'Naturalist'] }, inplace=True)\n",
    "dfAutoEvalNum[['nPtsPapier', 'notePapier', 'nPtsNaturalist', 'noteNaturalist']]"
   ]
  },
  {
   "cell_type": "markdown",
   "metadata": {},
   "source": [
    "## 5. Bilan : note de chaque équipe"
   ]
  },
  {
   "cell_type": "markdown",
   "metadata": {},
   "source": [
    "### a. Les auto-évaluations manquantes."
   ]
  },
  {
   "cell_type": "code",
   "execution_count": null,
   "metadata": {},
   "outputs": [],
   "source": [
    "dict(manquants=set(dfObseurs.nom) - set(dfAutoEvalNum.index), recues=len(dfAutoEvalNum), attendues=len(dfObseurs))"
   ]
  },
  {
   "cell_type": "markdown",
   "metadata": {},
   "source": [
    "### b. Simple moyenne individuelle,"
   ]
  },
  {
   "cell_type": "code",
   "execution_count": null,
   "metadata": {},
   "outputs": [],
   "source": [
    "{ prot : dfAutoEvalNum.loc[dfAutoEvalNum['nPts'+prot] > 0, 'note'+prot].mean() for prot in ['Papier', 'Naturalist'] }"
   ]
  },
  {
   "cell_type": "markdown",
   "metadata": {},
   "source": [
    "### c. Moyenne individuelle *pondérée* par le nb de points effectués"
   ]
  },
  {
   "cell_type": "code",
   "execution_count": null,
   "metadata": {
    "scrolled": true
   },
   "outputs": [],
   "source": [
    "def _weighted_average(dfTwoCols):\n",
    "    return np.average(dfTwoCols[dfTwoCols.columns[0]], weights=dfTwoCols[dfTwoCols.columns[1]])\n",
    "{ prot : _weighted_average(dfAutoEvalNum.loc[dfAutoEvalNum['nPts'+prot] > 0, ['note'+prot, 'nPts'+prot]]) \\\n",
    "  for prot in ['Papier', 'Naturalist'] }"
   ]
  },
  {
   "cell_type": "code",
   "execution_count": null,
   "metadata": {},
   "outputs": [],
   "source": []
  },
  {
   "cell_type": "markdown",
   "metadata": {},
   "source": [
    "# V. Stats simples 1er passage Naturalist"
   ]
  },
  {
   "cell_type": "markdown",
   "metadata": {},
   "source": [
    "## 1. Chargement des exports individuels Faune Auvergne\n",
    "\n",
    "(exports par observateur, passage 'a' du 1er avril au 15 mai, 'b' du 16 mai au 15 juin)"
   ]
  },
  {
   "cell_type": "code",
   "execution_count": null,
   "metadata": {},
   "outputs": [],
   "source": [
    "# Chargement des exports\n",
    "dfObsBrutes = pd.DataFrame()\n",
    "iFic = 1\n",
    "for nomFic in os.listdir('ACDC'):\n",
    "    mo = re.match('ACDC2019([ab])-Export(.*).xlsx', nomFic)\n",
    "    if mo and '.old' not in nomFic:\n",
    "        dfObsIndiv = pd.read_excel(os.path.join('ACDC', nomFic))\n",
    "        dfObsIndiv['Passage'] = mo.group(1)\n",
    "        dfObsBrutes = dfObsBrutes.append(dfObsIndiv, ignore_index=True, sort=False)\n",
    "        print('#{} ACDC/{} : {} données brutes, total {}'.format(iFic, nomFic, len(dfObsIndiv), len(dfObsBrutes)))\n",
    "        iFic += 1\n",
    "\n",
    "#dfObsBrutes.DATE.fillna(value=pd.Timestamp('{}-{}'.format(annee, dateDefaut)), inplace=True) # Date par défaut\n",
    "dfObsBrutes['Observateur'] = dfObsBrutes[['Nom', 'Prénom']].apply(lambda s: s[1]+' '+s[0], axis='columns')\n",
    "\n",
    "len(dfObsBrutes)"
   ]
  },
  {
   "cell_type": "code",
   "execution_count": null,
   "metadata": {},
   "outputs": [],
   "source": [
    "dfObsBrutes.columns"
   ]
  },
  {
   "cell_type": "code",
   "execution_count": null,
   "metadata": {},
   "outputs": [],
   "source": [
    "# Sélection des colonnes utiles\n",
    "colBrutes = ['ID liste', 'Liste complète ?', 'Commentaire de la liste',\n",
    "             'Passage', 'Date', 'Heure début', 'Heure fin', 'Horaire',\n",
    "             'Ordre systématique', 'Nom espèce', 'Estimation', 'Nombre', 'Détails',\n",
    "             'Code atlas', 'Lat (WGS84)', 'Lon (WGS84)', 'Altitude',\n",
    "             'Lieu-dit', 'Commune', 'Remarque', 'Remarque privée', 'Observateur']\n",
    "dfObs = dfObsBrutes[colBrutes]"
   ]
  },
  {
   "cell_type": "code",
   "execution_count": null,
   "metadata": {},
   "outputs": [],
   "source": [
    "dfObs.head()"
   ]
  },
  {
   "cell_type": "code",
   "execution_count": null,
   "metadata": {
    "scrolled": true
   },
   "outputs": [],
   "source": [
    "# Examen des formulaires, pour pister ceux qui nous intéressent, en soupçonnant des erreur de saisie du numéro de point\n",
    "df = dfObs.loc[(dfObs['ID liste'] > 0)]\n",
    "len(df), df['ID liste'].nunique(), ', '.join(sorted(df['Commune'].unique()))"
   ]
  },
  {
   "cell_type": "code",
   "execution_count": null,
   "metadata": {
    "scrolled": true
   },
   "outputs": [],
   "source": [
    "# Les communes concernées (à qq données près probablement)\n",
    "df = df[(df.Commune.isin(['Ludesse', 'Cournols', 'Olloix', 'Montaigut-le-Blanc']))]\n",
    "len(df), df['ID liste'].nunique()"
   ]
  },
  {
   "cell_type": "code",
   "execution_count": null,
   "metadata": {},
   "outputs": [],
   "source": [
    "df = df[['ID liste', 'Date', 'Heure début', 'Heure fin', 'Commentaire de la liste', 'Observateur', 'Lieu-dit', 'Commune']]"
   ]
  },
  {
   "cell_type": "code",
   "execution_count": null,
   "metadata": {},
   "outputs": [],
   "source": [
    "dff = df.groupby(['ID liste']).first()"
   ]
  },
  {
   "cell_type": "code",
   "execution_count": null,
   "metadata": {},
   "outputs": [],
   "source": [
    "list(dff['Commentaire de la liste'].unique())"
   ]
  },
  {
   "cell_type": "code",
   "execution_count": null,
   "metadata": {},
   "outputs": [],
   "source": [
    "# Encore des formulaires ACDC sans le commentaire ACDC ?\n",
    "dff[~dff['Commentaire de la liste'].fillna('').str.contains('acdc', case=False)]"
   ]
  },
  {
   "cell_type": "markdown",
   "metadata": {},
   "source": [
    "# 2. Filtrage des données : formulaires ACDC"
   ]
  },
  {
   "cell_type": "code",
   "execution_count": null,
   "metadata": {},
   "outputs": [],
   "source": [
    "dfObs = dfObs[(dfObs['ID liste'] != 0) & dfObs['Commentaire de la liste'].str.contains('acdc', case=False)]\n",
    "\n",
    "len(dfObs)"
   ]
  },
  {
   "cell_type": "code",
   "execution_count": null,
   "metadata": {},
   "outputs": [],
   "source": [
    "dfObs.tail()"
   ]
  },
  {
   "cell_type": "code",
   "execution_count": null,
   "metadata": {},
   "outputs": [],
   "source": [
    "# dfObs['Commentaire de la liste'].unique()"
   ]
  },
  {
   "cell_type": "code",
   "execution_count": null,
   "metadata": {},
   "outputs": [],
   "source": [
    "#mo = re.match('acdc\\s*(?:2019\\s*){0,1}(?:point\\s*){0,1}(\\d{2,3})\\D*', 'acdc  232 Google', flags=re.IGNORECASE)\n",
    "#np.nan if not mo else float(mo.group(1))"
   ]
  },
  {
   "cell_type": "markdown",
   "metadata": {},
   "source": [
    "# 3. Récupération du numéro de point\n",
    "\n",
    "(dans le commentaire de chaque formulaire)"
   ]
  },
  {
   "cell_type": "code",
   "execution_count": null,
   "metadata": {},
   "outputs": [],
   "source": [
    "(dfObs['Commentaire de la liste'].nunique(), dfObs['Commentaire de la liste'].unique())"
   ]
  },
  {
   "cell_type": "code",
   "execution_count": null,
   "metadata": {},
   "outputs": [],
   "source": [
    "# Nettoyage préalable commentaire liste\n",
    "KCommList2Rem = { '2019': '', 'point': '', 'pt':' ', 'passage': '',\n",
    "                 '1er': '', ' 2 pt': '', ' 2 ': ' ', '2ème': '', '2eme': '', 'second': '',\n",
    "                  '.': ' ', ':': ' ', ',': ' ', '\\n': ' ', '/': ' ' }\n",
    "\n",
    "def cleanupCommListe(commentaire):\n",
    "    comm = commentaire.lower()\n",
    "    for k, v in KCommList2Rem.items():\n",
    "        comm = comm.replace(k, v)\n",
    "    return comm.strip()\n",
    "\n",
    "dfObs['Commentaire de la liste'] = dfObs['Commentaire de la liste'].apply(cleanupCommListe)\n",
    "\n",
    "(dfObs['Commentaire de la liste'].nunique(), dfObs['Commentaire de la liste'].unique())"
   ]
  },
  {
   "cell_type": "code",
   "execution_count": null,
   "metadata": {},
   "outputs": [],
   "source": [
    "KReCommListeNumPt = ['acdc\\s+(\\d{2,3})\\s*.*', '(\\d{2,3})\\s+acdc\\s*.*']\n",
    "\n",
    "def numeroPointAcdc(commentaire):\n",
    "    for regExp in KReCommListeNumPt:\n",
    "        mo = re.match(regExp, commentaire, flags=re.IGNORECASE)\n",
    "        if mo:\n",
    "            break\n",
    "    return np.nan if not mo else float(mo.group(1))\n",
    "\n",
    "dfObs['Num point ACDC'] = dfObs['Commentaire de la liste'].apply(numeroPointAcdc)"
   ]
  },
  {
   "cell_type": "code",
   "execution_count": null,
   "metadata": {},
   "outputs": [],
   "source": [
    "#numeroPointAcdc('ACDC Point 202. observateur au point.')"
   ]
  },
  {
   "cell_type": "code",
   "execution_count": null,
   "metadata": {
    "scrolled": false
   },
   "outputs": [],
   "source": [
    "# Nombre et liste des points effectués au moins 1 fois.\n",
    "dfObs['Num point ACDC'].nunique(), dfObs['Num point ACDC'].unique()"
   ]
  },
  {
   "cell_type": "code",
   "execution_count": null,
   "metadata": {},
   "outputs": [],
   "source": [
    "# Nombre de points sans numéro retrouvé\n",
    "dfObs[dfObs['Num point ACDC'].isnull()].groupby('Commentaire de la liste').first()"
   ]
  },
  {
   "cell_type": "code",
   "execution_count": null,
   "metadata": {},
   "outputs": [],
   "source": [
    "# Première idée des nbres de données par point et par passage (et des points effectués à chaque passage)\n",
    "dfObs[['Num point ACDC', 'Passage', 'Commentaire de la liste']].groupby(['Num point ACDC', 'Passage']).count().unstack()"
   ]
  },
  {
   "cell_type": "code",
   "execution_count": null,
   "metadata": {
    "scrolled": false
   },
   "outputs": [],
   "source": [
    "# Inventaires de Clément, avec vraiment beaucoup de données\n",
    "dfObs.loc[dfObs['Observateur'] == 'Clément Rollant', ['Date', 'Heure début', 'Nombre']].groupby(['Date', 'Heure début']).size()"
   ]
  },
  {
   "cell_type": "code",
   "execution_count": null,
   "metadata": {},
   "outputs": [],
   "source": [
    "#dfObs.loc[dfObs['Observateur'] == 'Clément Rollant', ['Passage', 'Heure début', 'Nom espèce', 'Nombre']] \\\n",
    "#     .groupby(['Passage', 'Heure début', 'Nom espèce']).sum()"
   ]
  },
  {
   "cell_type": "markdown",
   "metadata": {},
   "source": [
    "# 4. Suppression des inventaires en trop par passage\n",
    "\n",
    "(bon, c'est en contrôlant les formulaires en 5. qu'on sait qu'il faut le faire :-)"
   ]
  },
  {
   "cell_type": "code",
   "execution_count": null,
   "metadata": {},
   "outputs": [],
   "source": [
    "# Romain, passage a, points 178 et 179 effectués le 14/4 et le 1er mai : on garde le meilleur passage (à meilleure heure)\n",
    "sObsAVirer = dfObs['Num point ACDC'].isin([178, 179]) & (dfObs.Date == '2019-04-14')\n",
    "sObsAVirer.sum()"
   ]
  },
  {
   "cell_type": "code",
   "execution_count": null,
   "metadata": {},
   "outputs": [],
   "source": [
    "dfObs[sObsAVirer].index"
   ]
  },
  {
   "cell_type": "code",
   "execution_count": null,
   "metadata": {},
   "outputs": [],
   "source": [
    "dfObs.drop(labels=dfObs[sObsAVirer].index, inplace=True)"
   ]
  },
  {
   "cell_type": "markdown",
   "metadata": {},
   "source": [
    "# 5. Contrôle des formulaires\n",
    "\n",
    "* numéros de point tous bien récupérés (du commentaire liste) ?\n",
    "* numéros de points récupérés correspondant bien au vrais points inventoriés (cartographie) ?\n",
    "* points attribués bien inventoriés à chaque passage ?\n",
    "* 1 seul inventaire par passage ?\n",
    "* pas de formulaire de plus de 11mn ? (normalement ...)"
   ]
  },
  {
   "cell_type": "code",
   "execution_count": null,
   "metadata": {
    "scrolled": false
   },
   "outputs": [],
   "source": [
    "dfObs.head()"
   ]
  },
  {
   "cell_type": "code",
   "execution_count": null,
   "metadata": {},
   "outputs": [],
   "source": [
    "# Nombre de points sans numéro retrouvé\n",
    "dfObs[dfObs['Num point ACDC'].isnull()].groupby('Commentaire de la liste').first()"
   ]
  },
  {
   "cell_type": "code",
   "execution_count": null,
   "metadata": {},
   "outputs": [],
   "source": [
    "# On va devoir savoir si une obs est dans les 5 1ères minues ou pas\n",
    "dfObs['Heure début'] = dfObs.apply(lambda s: dt.datetime.combine(s['Date'].date(), s['Heure début']), axis='columns')\n",
    "dfObs['Heure fin'] = dfObs.apply(lambda s: dt.datetime.combine(s['Date'].date(), s['Heure fin']), axis='columns')\n",
    "dfObs['Horaire'] = dfObs.apply(lambda s: dt.datetime.combine(s['Date'].date(), dt.time.fromisoformat(s['Horaire'])),\n",
    "                               axis='columns')\n",
    "dfObs['Minute'] = dfObs['Horaire'] - dfObs['Heure début']"
   ]
  },
  {
   "cell_type": "code",
   "execution_count": null,
   "metadata": {},
   "outputs": [],
   "source": [
    "# Données hors période des formulaires (bizarre, localisées uniquement chez Romain)\n",
    "#df = dfObs[(dfObs['Horaire'] < dfObs['Heure début']) | (dfObs['Horaire'] > dfObs['Heure fin'])]\n",
    "#df.to_excel('ACDC2019-DonneesHoraireHorsListe.xlsx', index=False)\n",
    "#df"
   ]
  },
  {
   "cell_type": "code",
   "execution_count": null,
   "metadata": {},
   "outputs": [],
   "source": [
    "# Tous les formulaires ACDC x passages retenus\n",
    "dfForms = dfObs[['ID liste', 'Passage', 'Date', 'Heure début', 'Heure fin', 'Num point ACDC', 'Observateur',\n",
    "                 'Commentaire de la liste', 'Liste complète ?']] \\\n",
    "            .groupby(['ID liste', 'Passage', 'Date', 'Commentaire de la liste']).first()\n",
    "dfForms['Durée'] = dfForms['Heure fin'] - dfForms['Heure début']\n",
    "dfForms = dfForms.reset_index().set_index('ID liste').sort_values(by='Observateur')\n",
    "len(dfForms)"
   ]
  },
  {
   "cell_type": "code",
   "execution_count": null,
   "metadata": {},
   "outputs": [],
   "source": [
    "# Normalement, tous les formulaires ont duré au moins 10mn (à qq s près => >= 9 mn)\n",
    "dfForms[dfForms['Durée'] < pd.Timedelta(minutes=9)]"
   ]
  },
  {
   "cell_type": "code",
   "execution_count": null,
   "metadata": {},
   "outputs": [],
   "source": [
    "# Normalement, tous les formulaires sont des listes complètes.\n",
    "dfForms[dfForms['Liste complète ?'] != 1]"
   ]
  },
  {
   "cell_type": "code",
   "execution_count": null,
   "metadata": {},
   "outputs": [],
   "source": [
    "dfForms.drop(columns=['Liste complète ?'], inplace=True)"
   ]
  },
  {
   "cell_type": "code",
   "execution_count": null,
   "metadata": {
    "scrolled": false
   },
   "outputs": [],
   "source": [
    "dfForms.tail()"
   ]
  },
  {
   "cell_type": "code",
   "execution_count": null,
   "metadata": {
    "scrolled": true
   },
   "outputs": [],
   "source": [
    "# Numéros de points correctement attribués aux formulaires ?\n",
    "# 1 seul inventaire par passage et par point ?\n",
    "dfForms[dfForms.duplicated(subset=['Passage', 'Num point ACDC'], keep=False)]"
   ]
  },
  {
   "cell_type": "code",
   "execution_count": null,
   "metadata": {},
   "outputs": [],
   "source": [
    "# Les doublons de Romain ...\n",
    "#dfObs.loc[dfObs['Num point ACDC'].isin([178, 179]),\n",
    "#          ['ID liste', 'Num point ACDC', 'Passage', 'Date', 'Heure début', 'Observateur']] \\\n",
    "#     .groupby(['ID liste', 'Num point ACDC', 'Date', 'Heure début', 'Passage']).count() \\\n",
    "#     .rename(columns=dict(Observateur='Nb données'))"
   ]
  },
  {
   "cell_type": "code",
   "execution_count": null,
   "metadata": {},
   "outputs": [],
   "source": [
    "# Cartographie des données pour vérifier ça ...\n",
    "obseur = 'Romain Riols'\n",
    "dfObs2Map = dfObs[dfObs['Observateur'] == obseur]\n",
    "dfPts2Map = dfPoints[dfPoints.naturalist == obseur]"
   ]
  },
  {
   "cell_type": "code",
   "execution_count": null,
   "metadata": {
    "scrolled": false
   },
   "outputs": [],
   "source": [
    "#tiles, attr = 'http://{s}.tile.openstreetmap.org/{z}/{x}/{y}.png', 'osm'# OK\n",
    "tiles, attr = 'https://{s}.tile.thunderforest.com/outdoors/{z}/{x}/{y}.png', 'thunderforest' # OK\n",
    "#tiles, attr = 'http://{s}.tile.openstreetmap.fr/fradm/{z}/{x}/{y}.png', 'osm fr' # marche pô\n",
    "#tiles, attr = 'https://{s}.tile.openstreetmap.fr/qa/{zoom}/{x}/{y}.png', 'osm fr' # marche pô\n",
    "mp = folium.Map(tiles=tiles, attr=attr)\n",
    "\n",
    "# Polygone limitant à la zone d'étude\n",
    "poly = folium.PolyLine(locations=[(lat, long) for long, lat in dfZonePoly[['long', 'lat']].itertuples(index=False)],\n",
    "                       color='red', opacity=0.8, popup='Zone ACDC Cournols-Olloix JPD')\n",
    "poly.add_to(mp)\n",
    "\n",
    "# Les points d'écoute\n",
    "for indPt, sPt in dfPts2Map.iterrows():\n",
    "    mrk = folium.Marker(location=(sPt.latitude, sPt.longitude), \n",
    "                        popup=folium.Popup('#{} {}'.format(sPt.name, sPt.naturalist or 'Personne')),\n",
    "                        icon=folium.Icon(color='white', icon_color='black'))\n",
    "    mrk.add_to(mp)\n",
    "\n",
    "# Les données, rassemblées par formulaire / point\n",
    "for formId in dfObs2Map['ID liste'].unique():\n",
    "    dfObsForm = dfObs2Map[dfObs2Map['ID liste'] == formId]\n",
    "    numPt = dfObsForm.iloc[0]['Num point ACDC']\n",
    "    numPt = '???' if pd.isnull(numPt) else int(numPt)\n",
    "    heure = dfObsForm.iloc[0]['Heure début'].strftime('%H:%M')\n",
    "    mc = folium.plugins.MarkerCluster(name='#{}/{} {}'.format(numPt, formId, heure),\n",
    "                                      options=dict(maxClusterRadius=200, disableClusteringAtZoom=16,\n",
    "                                                   spiderfyOnMaxZoom=False))\n",
    "    for indObs, sObs in dfObsForm.iterrows():\n",
    "        sObs = sObs.fillna('')\n",
    "        eff = sObs['Estimation'] + str(sObs['Nombre']) + ('' if not sObs['Détails'] else ' ({})'.format(sObs['Détails']))\n",
    "        ca = '' if not sObs['Code atlas'] else ' (c{})'.format(int(sObs['Code atlas']))\n",
    "        mrk = folium.CircleMarker(location=(sObs['Lat (WGS84)'], sObs['Lon (WGS84)']), \n",
    "                                  radius=8, line_color='#ff0000', fill=True, fill_color='orange', fill_opacity=0.6,\n",
    "                                  popup=folium.Popup('#{} {} {}-{} : {} {}{}' \\\n",
    "                                                     .format(numPt, heure, sObs['Date'].strftime('%d/%m/%Y'), \n",
    "                                                             'xx::yy', #sObs['Horaire'].strftime('%H:%M'),\n",
    "                                                             eff, sObs['Nom espèce'], ca)))\n",
    "        mrk.add_to(mc)\n",
    "    mc.add_to(mp)\n",
    "    \n",
    "mp.fit_bounds(mp.get_bounds())\n",
    "mp"
   ]
  },
  {
   "cell_type": "code",
   "execution_count": null,
   "metadata": {},
   "outputs": [],
   "source": [
    "# Formulaires sans numéro de point\n",
    "dfForms.loc[dfForms['Num point ACDC'].isnull()].drop(columns=['Num point ACDC'])"
   ]
  },
  {
   "cell_type": "code",
   "execution_count": null,
   "metadata": {},
   "outputs": [],
   "source": [
    "dfForms['Num point ACDC'] = dfForms['Num point ACDC'].astype(int)\n",
    "dfObs['Num point ACDC'] = dfObs['Num point ACDC'].astype(int)"
   ]
  },
  {
   "cell_type": "markdown",
   "metadata": {},
   "source": [
    "# 6. Suppression des formulaires non conformes"
   ]
  },
  {
   "cell_type": "code",
   "execution_count": null,
   "metadata": {},
   "outputs": [],
   "source": [
    "# Trop courts : Normalement, tous les formulaires ont duré au moins 10mn (à qq s près => >= 9 mn)\n",
    "dfForms[dfForms['Durée'] < pd.Timedelta(minutes=9)]"
   ]
  },
  {
   "cell_type": "code",
   "execution_count": null,
   "metadata": {},
   "outputs": [],
   "source": [
    "dfForms.drop(53130, inplace=True)"
   ]
  },
  {
   "cell_type": "code",
   "execution_count": null,
   "metadata": {},
   "outputs": [],
   "source": [
    "dfObs.drop(dfObs[dfObs['ID liste'] == 53130].index, inplace=True)"
   ]
  },
  {
   "cell_type": "markdown",
   "metadata": {},
   "source": [
    "# 7. Bilan formulaires / observateurs"
   ]
  },
  {
   "cell_type": "code",
   "execution_count": null,
   "metadata": {},
   "outputs": [],
   "source": [
    "# Bilan par observateur et par point : listes des points attendus et réalisés, par passage\n",
    "dfBilanReal = \\\n",
    "    dfPoints.reset_index()[['numero', 'naturalist',]] \\\n",
    "            .rename(columns=dict(numero='Num point ACDC', naturalist='Observateur')) \\\n",
    "        .join(dfForms[['Num point ACDC', 'Observateur', 'Passage']] \\\n",
    "              .set_index(['Num point ACDC', 'Observateur']),\n",
    "              on=['Num point ACDC', 'Observateur'], how='outer')\n",
    "len(dfBilanReal)"
   ]
  },
  {
   "cell_type": "code",
   "execution_count": null,
   "metadata": {},
   "outputs": [],
   "source": [
    "# Rappel : les points non attribués (donc pas fait, normal)\n",
    "list(dfBilanReal.loc[dfBilanReal.Observateur.isnull(), 'Num point ACDC'])"
   ]
  },
  {
   "cell_type": "code",
   "execution_count": null,
   "metadata": {},
   "outputs": [],
   "source": [
    "dfBilanReal = dfBilanReal[dfBilanReal.Observateur.notnull()]\n",
    "len(dfBilanReal)"
   ]
  },
  {
   "cell_type": "code",
   "execution_count": null,
   "metadata": {},
   "outputs": [],
   "source": [
    "# Les points attribués et pas faits du tout\n",
    "dfBilanReal[dfBilanReal.Observateur.notnull() & dfBilanReal.Passage.isnull()]"
   ]
  },
  {
   "cell_type": "code",
   "execution_count": null,
   "metadata": {},
   "outputs": [],
   "source": [
    "# Bilan global par observateur : nb de points effectivement inventoriés à chaque passage\n",
    "dfBilan = dfBilanReal.groupby(['Observateur', 'Passage']).count().rename(columns={'Num point ACDC':'Réalisés'}).unstack()"
   ]
  },
  {
   "cell_type": "code",
   "execution_count": null,
   "metadata": {},
   "outputs": [],
   "source": [
    "# Bilan par observateur : nb de formulaires attendu et réalisé, par passage\n",
    "dfBilan = dfBilanAttr.loc[dfForms.Observateur.unique(), ['Naturalist']] \\\n",
    "              .join(dfBilan).rename(columns={'Naturalist':'Attendus'})\n",
    "dfBilan"
   ]
  },
  {
   "cell_type": "code",
   "execution_count": null,
   "metadata": {},
   "outputs": [],
   "source": [
    "dfBilan.sum().to_dict()"
   ]
  },
  {
   "cell_type": "code",
   "execution_count": null,
   "metadata": {},
   "outputs": [],
   "source": [
    "# Répartition des formulaires par durée (résolution : 1mn ; n minutes = dans [n et n+1[ minutes)\n",
    "dfForms.groupby(['Durée', 'Passage']).size().unstack()"
   ]
  },
  {
   "cell_type": "code",
   "execution_count": null,
   "metadata": {},
   "outputs": [],
   "source": [
    "# Répartition des données par minute d'inventaire (résolution : 1mn ; n minutes = dans [n et n+1[ minutes)\n",
    "df = dfObs.groupby(['Minute', 'Passage']).size().unstack()\n",
    "df"
   ]
  },
  {
   "cell_type": "code",
   "execution_count": null,
   "metadata": {},
   "outputs": [],
   "source": [
    "# % de données au delà de la 9ème minute\n",
    "100 * df[df.index >= pd.Timedelta(minutes=10)].sum() / df.sum()"
   ]
  },
  {
   "cell_type": "markdown",
   "metadata": {},
   "source": [
    "# 7. Première mise en forme des données en vue de l'exploitation DS\n",
    "\n",
    "* format des dates,\n",
    "* code atlas absent => 0,\n",
    "* extraction des nb de mâles adultes, d'autres adultes et de juvéniles (à partir nbre, code atlas et détails),\n",
    "* séparation des 5 1ères minutes de chaque formulaire\n",
    "* suppression des données \"en vol\""
   ]
  },
  {
   "cell_type": "code",
   "execution_count": null,
   "metadata": {},
   "outputs": [],
   "source": [
    "dfObs['Détails'].fillna(value='', inplace=True)\n",
    "dfObs['Code atlas'].fillna(value=0, inplace=True)\n",
    "dfObs.Date = dfObs.Date.apply(pd.Timestamp)"
   ]
  },
  {
   "cell_type": "code",
   "execution_count": null,
   "metadata": {},
   "outputs": [],
   "source": [
    "dfObs['Détails'].unique()"
   ]
  },
  {
   "cell_type": "code",
   "execution_count": null,
   "metadata": {},
   "outputs": [],
   "source": [
    "# Codes Atlas Biolovision \"à 20 valeurs\" (les code de Faune Auvergne sont un sous-ensemble)\n",
    "KCAAucun   =  0 # Pas de code Atlas\n",
    "KCAObsSimp =  1 # Observation de l'espèce pendant la période de nidification\n",
    "KCAObsBiot =  2 # Observation de l'espèce pendant la période de nidification dans un biotope adéquat\n",
    "KCAMalChan =  3 # Mâle chanteur présent en période de nidification, cris nuptiaux ou tambourinage entendus,\n",
    "                # mâle vu en parade dans un habitat favorable\n",
    "KCACoupPer =  4 # Couple pendant la période de nidification dans un biotope adéquat\n",
    "KCACoupTer =  5 # Comportement territorial d'un couple (chant, querelles avec des voisins, etc.)\n",
    "                # au moins 2 jours a plus d'une semaine d'intervalle dans le même territoire\n",
    "KCACoupNup =  6 # Comportement nuptial (mâle et femelle observés)\n",
    "KCAVisNidP =  7 # Visite d'un site de nidification probable\n",
    "KCACrAlInq =  8 # Cri d'alarme ou de crainte des adultes ou autre comportement agité suggérant la présence\n",
    "                # d'un nid ou de jeunes aux alentours\n",
    "KCAPlaqInc =  9 # Plaque incubatrice d'une femelle capturée\n",
    "KCAConstNd = 10 # Construction d'un nid ou forage d'une cavité\n",
    "KCAIndSimu = 11 # Oiseau simulant une blessure ou détournant l'attention\n",
    "KCANidUtil = 12 # Découverte d'un nid ayant été utilisé durant la période de nidification actuelle\n",
    "KCAJuvDepd = 13 # Jeunes venant de s'envoler (nidicoles) ou poussins en duvet (nidifuges)\n",
    "KCAAdSitNi = 14 # Adulte gagnant ou quittant un site de nid; comportement révélateur d'un nid occupé\n",
    "                # dont le contenu ne peut être vérifié (trop haut ou dans une cavité) ou adulte incubant\n",
    "KCATranFie = 15 # dulte transportant des fientes\n",
    "KCATranNou = 16 # Adulte transportant de la nourriture pour les jeunes\n",
    "KCACoqOeuf = 17 # Coquilles d'oeufs éclos (de la période de nidification actuelle)\n",
    "KCAAdCouve = 18 # Nid avec adulte vu couvant\n",
    "KCANiOeufs = 19 # Nid avec oeufs\n",
    "KCAPousNid = 20 # Jeunes au nid vus ou entendus\n",
    "KCANdfPoss = 30 # Nidification possible\n",
    "KCANdfProb = 40 # Nidification probable\n",
    "KCANdfCert = 50 # Nidification certaine\n",
    "KCAAbsRech = 99 # Espèce absente malgré des recherches"
   ]
  },
  {
   "cell_type": "code",
   "execution_count": null,
   "metadata": {},
   "outputs": [],
   "source": [
    "# Codes atlas et coefficients d'effectifs correspondants\n",
    "dfCodesAtlas = pd.read_excel('ACDC/VisioNatureCodesAtlas.xlsx', index=0)[['Codes Biolovision', 'Texte FR']]\n",
    "dfCodesAtlas.set_index('Codes Biolovision', inplace=True)\n",
    "#dfCodesAtlas.drop([KCAAucun], inplace=True) # Parfois utilisé par erreur ... tant pis on garde\n",
    "dfCodesAtlas.drop([KCANdfPoss, KCANdfProb, KCANdfCert, KCAAbsRech], inplace=True)\n",
    "dfCodesAtlas['nMalAd'] = 0.0\n",
    "dfCodesAtlas.loc[KCAMalChan, 'nMalAd'] = 1\n",
    "dfCodesAtlas.loc[KCACoupPer, 'nMalAd'] = 0.5\n",
    "dfCodesAtlas.loc[KCACoupTer, 'nMalAd'] = 0.5\n",
    "dfCodesAtlas.loc[KCACoupNup, 'nMalAd'] = 0.5\n",
    "dfCodesAtlas['nJuv'] = 0.0\n",
    "dfCodesAtlas.loc[KCAJuvDepd, 'nJuv'] = 1\n",
    "dfCodesAtlas.loc[KCANiOeufs, 'nJuv'] = 1\n",
    "dfCodesAtlas.loc[KCAPousNid, 'nJuv'] = 1\n",
    "dfCodesAtlas['nAutAd'] = 1\n",
    "dfCodesAtlas.loc[KCAAucun, 'nAutAd'] = 1\n",
    "dfCodesAtlas.loc[KCAMalChan, 'nAutAd'] = 0\n",
    "dfCodesAtlas.loc[KCACoupPer, 'nAutAd'] = 0.5\n",
    "dfCodesAtlas.loc[KCACoupTer, 'nAutAd'] = 0.5\n",
    "dfCodesAtlas.loc[KCACoupNup, 'nAutAd'] = 0.5\n",
    "dfCodesAtlas.loc[KCAJuvDepd, 'nAutAd'] = 0\n",
    "dfCodesAtlas.loc[KCANiOeufs, 'nAutAd'] = 0\n",
    "dfCodesAtlas.loc[KCAPousNid, 'nAutAd'] = 0\n",
    "\n",
    "assert all(dfCodesAtlas[['nMalAd', 'nAutAd', 'nJuv']].sum(axis='columns') == 1)\n",
    "\n",
    "dfCodesAtlas"
   ]
  },
  {
   "cell_type": "code",
   "execution_count": null,
   "metadata": {},
   "outputs": [],
   "source": [
    "# Effectif détaillé, par sexe et âge (ad ou juv=pul+1ère année),\n",
    "# à partir des colonnes ['Nombre', 'Détails', 'Code atlas'],\n",
    "# supposée formatée ainsi : \"<n1>x <sexe> <age> <condition>, ..., <np>x <sexe> <age> <condition>\"\n",
    "# Attention: \n",
    "# * Les individus 'en vol' ne sont pas comptés.\n",
    "# * On conserve quand même les données sans code atlas : certains observateurs les ont beaucoup oubliés !?\n",
    "\n",
    "KDetCols = ['nMalAd', 'nAutAd', 'nJuv']\n",
    "\n",
    "KReNumExpect = re.compile(r\"([0-9]+)x(.*)\")\n",
    "\n",
    "KEffInvd = pd.Series({ col : np.nan for col in KDetCols })\n",
    "\n",
    "def calculerEffectifs(sObs, verbose=False):\n",
    "\n",
    "    # Détails et nbres associés\n",
    "    effDets = { col : 0 for col in KDetCols }\n",
    "    \n",
    "    lstDets = sObs['Détails'].split(\"/\")\n",
    "    vol = False\n",
    "    for rawDet in lstDets:\n",
    "        \n",
    "        rawDet = rawDet.strip()\n",
    "        if not rawDet:\n",
    "            continue\n",
    "        \n",
    "        mo = KReNumExpect.match(rawDet)\n",
    "        if mo:\n",
    "            \n",
    "            num = int(mo.group(1))\n",
    "            sxAgCn = mo.group(2).strip()\n",
    "            \n",
    "            sx = 'mal' if 'mâle' in sxAgCn else 'fem' if 'femelle' in sxAgCn else 'alt'\n",
    "            ag = 'juv' if '1ère année' in sxAgCn or 'poussin' in sxAgCn or 'immature' in sxAgCn \\\n",
    "                       else 'adu' if 'adulte' in sxAgCn or 'année' in sxAgCn or '1 an' in sxAgCn else 'alt'\n",
    "            cn = 'vol' if 'vol' in sxAgCn else 'alt'\n",
    "            \n",
    "            if cn != 'vol':\n",
    "                \n",
    "                cat = 'nJuv' if ag == 'juv' else 'nMalAd' if sx == 'mal' else 'nAutAd'\n",
    "            \n",
    "                effDets[cat] += num\n",
    "                \n",
    "            else:\n",
    "                \n",
    "                if len(lstDets) == 1:\n",
    "                    return KEffInvd\n",
    "                vol = True\n",
    "            \n",
    "        else:\n",
    "            \n",
    "            print(\"Donnée ignorée : Colonne Détails malformée : '{}'\".format(rawDet))\n",
    "            if verbose:\n",
    "                print(', '.join(['{}:{}'.format(k[:3], v) for k, v in sObs.iteritems()]))\n",
    "            \n",
    "            return KEffInvd\n",
    "    \n",
    "    # Code Atlas et Nombre total associé\n",
    "    codAtls = int(sObs['Code atlas'])\n",
    "    if codAtls != KCAAucun and codAtls not in dfCodesAtlas.index and not vol:\n",
    "        print(\"Donnée ignorée : Code Atlas {} sans intérêt, mais pas en vol : détails={}\" \\\n",
    "              .format(codAtls, sObs['Détails']))\n",
    "        if verbose:\n",
    "            print(', '.join(['{}:{}'.format(k[:3], v) for k, v in sObs.iteritems()]))\n",
    "        return KEffInvd\n",
    "\n",
    "    nbre = sObs['Nombre']\n",
    "    if codAtls in [KCACoupPer, KCACoupTer, KCACoupNup] and nbre < 2:\n",
    "        print(\"Donnée suspecte : Code Atlas pour les couples : {}, mais nb individus < 2 : {} !\" \\\n",
    "              .format(codAtls, nbre))\n",
    "        if verbose:\n",
    "            print(', '.join(['{}:{}'.format(k[:3], v) for k, v in sObs.iteritems()]))\n",
    "    \n",
    "    effNbCode = { colCoefMult : dfCodesAtlas.loc[codAtls, colCoefMult] * nbre \\\n",
    "                 for colCoefMult in KDetCols }\n",
    "    \n",
    "    # Quand code atlas indique couple, et que nbre impair d'individus => autre adulte par défaut\n",
    "    demiMal = effNbCode['nMalAd'] - int(effNbCode['nMalAd'])\n",
    "    effNbCode['nMalAd'] -= demiMal\n",
    "    effNbCode['nAutAd'] += demiMal\n",
    "    \n",
    "    # Choix final : Priorité aux détails si présents\n",
    "    if any(effDets.values()):\n",
    "        if sum(effDets.values()) != sum(effNbCode.values()):\n",
    "            print(\"Donnée ignorée : Détails {} et Nombre {} * CodeAtlas {} incohérents : '{}' / '{}'\" \\\n",
    "                  .format(rawDet, nbre, codAtls, effDets, effNbCode))\n",
    "            if verbose:\n",
    "                print(', '.join(['{}:{}'.format(k[:3], v) for k, v in sObs.iteritems()]))\n",
    "            return KEffInvd\n",
    "        eff = effDets\n",
    "    else:\n",
    "        eff = effNbCode\n",
    "        \n",
    "    return pd.Series(eff)"
   ]
  },
  {
   "cell_type": "code",
   "execution_count": null,
   "metadata": {},
   "outputs": [],
   "source": [
    "if len(dfObs.Estimation.dropna().unique()) > 0:\n",
    "    print('Attention : On prend les estimations pour des valeurs exactes.')"
   ]
  },
  {
   "cell_type": "code",
   "execution_count": null,
   "metadata": {},
   "outputs": [],
   "source": [
    "obsCols = ['ID liste', 'Passage', 'Num point ACDC', 'Observateur', 'Date', 'Horaire',\n",
    "           'Nom espèce', 'Lieu-dit', 'Commune', 'Estimation', 'Nombre', 'Détails', 'Code atlas']"
   ]
  },
  {
   "cell_type": "code",
   "execution_count": null,
   "metadata": {
    "scrolled": false
   },
   "outputs": [],
   "source": [
    "dfObs[KDetCols] = dfObs[obsCols].apply(calculerEffectifs, axis='columns', verbose=True)\n",
    "dfObs[KDetCols] = dfObs[KDetCols].fillna(0).astype(int)\n",
    "dfObs['nDetTot'] = dfObs[KDetCols].sum(axis=1).astype(int)"
   ]
  },
  {
   "cell_type": "code",
   "execution_count": null,
   "metadata": {
    "scrolled": false
   },
   "outputs": [],
   "source": [
    "# Suppression des données \"en vol\"\n",
    "df = dfObs[dfObs['Détails'].str.contains('vol', case=False)]\n",
    "len(dfObs), len(df) # df"
   ]
  },
  {
   "cell_type": "code",
   "execution_count": null,
   "metadata": {},
   "outputs": [],
   "source": [
    "dfObs.drop(df.index, inplace=True)\n",
    "len(dfObs)"
   ]
  },
  {
   "cell_type": "code",
   "execution_count": null,
   "metadata": {
    "scrolled": false
   },
   "outputs": [],
   "source": [
    "#dfObs[dfObs['Code atlas'].isin([4, 5]) & (dfObs.Nombre == 1)].to_excel('ACDC/ACDC2019b-CoupleMais1SeulInd.xlsx', index=False)"
   ]
  },
  {
   "cell_type": "code",
   "execution_count": null,
   "metadata": {},
   "outputs": [],
   "source": [
    "# Extraction des 5 1ères minutes\n",
    "KDetColsTot = KDetCols + ['nDetTot']\n",
    "\n",
    "KDetColsTot10 = [c+'10' for c in KDetColsTot]\n",
    "\n",
    "dfObs.rename(columns=dict(zip(KDetColsTot, KDetColsTot10)), inplace=True)"
   ]
  },
  {
   "cell_type": "code",
   "execution_count": null,
   "metadata": {},
   "outputs": [],
   "source": [
    "KDetColsTot5 = [c+'5' for c in KDetColsTot]\n",
    "for col in KDetColsTot:\n",
    "    dfObs[col+'5'] = dfObs.loc[dfObs['Minute'] < pd.Timedelta(minutes=5), col+'10']\n",
    "    dfObs[col+'5'] = dfObs[col+'5'].fillna(0).astype(int)"
   ]
  },
  {
   "cell_type": "code",
   "execution_count": null,
   "metadata": {
    "scrolled": false
   },
   "outputs": [],
   "source": [
    "dfObs.sort_values(by=['Num point ACDC', 'Horaire']).head(20)"
   ]
  },
  {
   "cell_type": "code",
   "execution_count": null,
   "metadata": {},
   "outputs": [],
   "source": [
    "# Vérifs\n",
    "d = dict(donneesAvant5mn=len(dfObs[dfObs['Minute'] < pd.Timedelta(minutes=5)]),\n",
    "         donneesApres5mn=len(dfObs[dfObs[KDetColsTot5].sum(axis='columns') == 0]),\n",
    "         total=len(dfObs))\n",
    "assert d['total'] == d['donneesAvant5mn'] + d['donneesApres5mn']\n",
    "d"
   ]
  },
  {
   "cell_type": "markdown",
   "metadata": {},
   "source": [
    "# 6. Premiers contrôles de cohérence des données"
   ]
  },
  {
   "cell_type": "code",
   "execution_count": null,
   "metadata": {
    "scrolled": false
   },
   "outputs": [],
   "source": [
    "# Cas des absences de code atlas 0 (KCAAucun) hors 'en vol' : des fois justifié, souvent un oubli ?\n",
    "# (on les a comptés comme code atlas 2)\n",
    "df = dfObs.loc[(dfObs['Code atlas'] == KCAAucun) & ~dfObs['Détails'].str.contains('vol'), obsCols]\n",
    "#df.to_excel('ACDC/Codes0.xlsx', index=False)\n",
    "df"
   ]
  },
  {
   "cell_type": "code",
   "execution_count": null,
   "metadata": {},
   "outputs": [],
   "source": [
    "# Code atlas innatendu dans ce genre d'enquête\n",
    "dfObs.loc[dfObs['Code atlas'].isin([KCAPlaqInc]), obsCols]"
   ]
  },
  {
   "cell_type": "code",
   "execution_count": null,
   "metadata": {},
   "outputs": [],
   "source": [
    "# Comparaison nb individu total et somme des détails : différence = en vol (mais supprimés => 0)\n",
    "d = dict(total=dfObs['Nombre'].sum(), detail=dfObs['nDetTot10'].sum(), \n",
    "         difference=dfObs['Nombre'].sum() - dfObs['nDetTot10'].sum(),\n",
    "         en_vol=dfObs.loc[dfObs['Détails'].str.contains('vol'), 'Nombre'].sum())\n",
    "assert d['difference'] == d['en_vol'], \"Incohérence nbre / détails pour les non 'en vol'\"\n",
    "d"
   ]
  },
  {
   "cell_type": "code",
   "execution_count": null,
   "metadata": {},
   "outputs": [],
   "source": [
    "dfObs[obsCols+KDetColsTot5+KDetColsTot10].sort_values(by=['Passage', 'Horaire', 'Num point ACDC']) \\\n",
    "    .to_excel('ACDC/ACDC2019-Naturalist.xlsx', index=False)"
   ]
  },
  {
   "cell_type": "markdown",
   "metadata": {},
   "source": [
    "# 7. Quelques stats"
   ]
  },
  {
   "cell_type": "code",
   "execution_count": null,
   "metadata": {},
   "outputs": [],
   "source": [
    "# Stats données brutes tous formulaires.\n",
    "{ 'NbObservateurs' : dfObs.Observateur.nunique(), \n",
    "  'NbFormulaires' : dfObs['ID liste'].nunique(),\n",
    "  'NbJours' : dfObs.Date.nunique(),\n",
    "  'NbDonnées' : len(dfObs),\n",
    "  'NbIndividus' : dfObs.Nombre.sum() }"
   ]
  },
  {
   "cell_type": "code",
   "execution_count": null,
   "metadata": {},
   "outputs": [],
   "source": [
    "dfObs['Minute'] = dfObs['Minute'].divide(pd.Timedelta(minutes=1)).astype(int)"
   ]
  },
  {
   "cell_type": "code",
   "execution_count": null,
   "metadata": {},
   "outputs": [],
   "source": [
    "# Effectifs contactés par tranche de temps (5 / 10mn)\n",
    "dfBilanTemps510 = dfObs[['Num point ACDC', 'Passage', 'nMalAd5', 'nDetTot5', 'nMalAd10', 'nDetTot10']] \\\n",
    "                     .groupby(['Num point ACDC', 'Passage']).sum()\n",
    "dfBilanTemps510 = \\\n",
    "   dfBilanTemps510.join(dfObs[['Num point ACDC', 'Passage', 'nDetTot10']].rename(columns={'nDetTot10': 'nDonnées10'}) \\\n",
    "                  .groupby(['Num point ACDC', 'Passage']).count())\n",
    "dfBilanTemps510 = \\\n",
    "   dfBilanTemps510.join(dfObs.loc[dfObs.nDetTot5 > 0, ['Num point ACDC', 'Passage', 'nDetTot5']].rename(columns={'nDetTot5': 'nDonnées5'}) \\\n",
    "                  .groupby(['Num point ACDC', 'Passage']).count())\n",
    "dfBilanTemps510 = dfBilanTemps510.groupby('Passage').agg(['sum', 'mean'])\n",
    "#dfBilanTemps510.columns = dfBilanTemps510.columns.swaplevel(0, 1)\n",
    "dfBilanTemps510 #.sort_values(by=('a', 'nMalAd10'), ascending=False)"
   ]
  },
  {
   "cell_type": "code",
   "execution_count": null,
   "metadata": {},
   "outputs": [],
   "source": [
    "# Effectifs contactés par tranche d'1 minute \n",
    "dfBilanTempsDet = dfObs[['Passage', 'Minute', 'nDetTot10']].groupby(['Minute', 'Passage']).sum().unstack()\n",
    "dfBilanTempsDet.columns = dfBilanTempsDet.columns.levels[1]\n",
    "_ = dfBilanTempsDet.plot(figsize=(16, 3), marker='.', grid=True,\n",
    "                         title='Nb total d\\'individus contactés par minute (en moyenne, par passage)')"
   ]
  },
  {
   "cell_type": "code",
   "execution_count": null,
   "metadata": {},
   "outputs": [],
   "source": [
    "# La même chose ...\n",
    "_ = dfBilanTempsDet[['a', 'b']].plot(figsize=(16, 4), kind='bar', stacked=False, grid=True,\n",
    "                                     title='Nb total d\\'individus contactés par minute (en moyenne, par passage)')"
   ]
  },
  {
   "cell_type": "code",
   "execution_count": null,
   "metadata": {},
   "outputs": [],
   "source": [
    "dfBilanTempsDet"
   ]
  },
  {
   "cell_type": "code",
   "execution_count": null,
   "metadata": {
    "scrolled": true
   },
   "outputs": [],
   "source": [
    "# Effectifs cumulés contactés par tranche d'1 minute \n",
    "for pas in dfBilanTempsDet.columns:\n",
    "    dfBilanTempsDet['cum({})%'.format(pas)] = 100 * dfBilanTempsDet[pas].cumsum() / dfBilanTempsDet[pas].sum()\n",
    "_ = dfBilanTempsDet[[c for c in dfBilanTempsDet.columns if 'cum' in c]].plot(figsize=(16, 3), marker='.', grid=True,\n",
    "                    title='%age cumulé du nb total d\\'individus contactés par minute (en moyenne, par passage)')"
   ]
  },
  {
   "cell_type": "code",
   "execution_count": null,
   "metadata": {},
   "outputs": [],
   "source": [
    "_ = dfBilanTempsDet[[c for c in dfBilanTempsDet.columns if 'cum' in c]].plot(figsize=(16, 3), grid=True,\n",
    "                                                                             kind='bar', stacked=False,\n",
    "                    title='%age cumulé du nb total d\\'individus contactés par minute (en moyenne, par passage)')"
   ]
  },
  {
   "cell_type": "code",
   "execution_count": null,
   "metadata": {},
   "outputs": [],
   "source": [
    "dfBilanTempsDet"
   ]
  },
  {
   "cell_type": "code",
   "execution_count": null,
   "metadata": {},
   "outputs": [],
   "source": [
    "# Détail par observateur et par passage.\n",
    "# TODO : 1 graphique par observateur"
   ]
  },
  {
   "cell_type": "code",
   "execution_count": null,
   "metadata": {
    "scrolled": false
   },
   "outputs": [],
   "source": [
    "# Nbre d'individus contactés par passage et par point, pour les 2 tranches de temps\n",
    "dfBilanObseursPointDet = dfObs[['Observateur', 'Num point ACDC', 'Passage',\n",
    "                                'nMalAd5', 'nAutAd5', 'nDetTot5', 'nMalAd10', 'nAutAd10', 'nDetTot10']] \\\n",
    "                           .groupby(['Observateur', 'Num point ACDC', 'Passage']).sum().unstack()\n",
    "dfBilanObseursPointDet.columns = dfBilanObseursPointDet.columns.swaplevel(0, 1)\n",
    "dfBilanObseursPointDet.sort_index(axis='columns', inplace=True)\n",
    "dfBilanObseursPointDet"
   ]
  },
  {
   "cell_type": "code",
   "execution_count": null,
   "metadata": {
    "scrolled": false
   },
   "outputs": [],
   "source": [
    "dfBilanTempsObseurs = \\\n",
    "   dfObs[['Passage', 'Observateur', 'Minute', 'nMalAd10', 'nAutAd10', 'nDetTot10']] \\\n",
    "     .groupby(['Minute', 'Observateur', 'Passage']).sum().unstack()\n",
    "dfBilanTempsObseurs.columns = dfBilanTempsObseurs.columns.swaplevel(0, 1)\n",
    "passages = dfBilanTempsObseurs.columns.levels[0]\n",
    "for col in dfBilanTempsObseurs.columns.levels[1]:\n",
    "    dfBilanTempsObseurs[('total', col)] = dfBilanTempsObseurs[[(pas, col) for pas in passages]].sum(axis='columns')\n",
    "dfBilanTempsObseurs.sort_index(axis='columns', inplace=True)\n",
    "dfBilanTempsObseurs"
   ]
  },
  {
   "cell_type": "code",
   "execution_count": null,
   "metadata": {},
   "outputs": [],
   "source": [
    "dfBilanTempsObseurs.head()"
   ]
  },
  {
   "cell_type": "code",
   "execution_count": null,
   "metadata": {
    "scrolled": true
   },
   "outputs": [],
   "source": [
    "# Nbre de données par point par observateur par minute\n",
    "dfNbPts = pd.DataFrame(index=dfBilanTempsObseurs.index)\n",
    "dfNbPts.reset_index(inplace=True)\n",
    "dfNbPts = dfNbPts.join(dfBilan, on='Observateur')\n",
    "dfNbPts[('Réalisés', 'total')] = sum(dfNbPts[('Réalisés', pas)] for pas in dfBilanTempsObseurs.columns.levels[0][:-1])\n",
    "dfNbPts.set_index(['Minute', 'Observateur'], inplace=True)\n",
    "\n",
    "dfBilanTempsObseursMoyParPt = dfBilanTempsObseurs.copy()\n",
    "\n",
    "for pas in dfBilanTempsObseursMoyParPt.columns.levels[0]:\n",
    "    for col in dfBilanTempsObseursMoyParPt.columns.levels[1]:\n",
    "        dfBilanTempsObseursMoyParPt[(pas, col)] = dfBilanTempsObseursMoyParPt[(pas, col)] / dfNbPts[('Réalisés', pas)]\n",
    "            \n",
    "dfBilanTempsObseursMoyParPt.sort_values(by=('total', 'nDetTot10'), ascending=False, inplace=True)\n",
    "dfBilanTempsObseursMoyParPt"
   ]
  },
  {
   "cell_type": "code",
   "execution_count": null,
   "metadata": {},
   "outputs": [],
   "source": [
    "df = dfBilanTempsObseursMoyParPt[('a', 'nDetTot10')].unstack()\n",
    "df.rename(columns=dict(zip(df.columns, ['Observateur '+chr(ord('A')+i) for i in range(len(df.columns))])), inplace=True)\n",
    "_ = df.plot(figsize=(16, 5), marker='.', grid=True,\n",
    "            title='Passage A : Nb d\\'individus contactés par minute (moyenne par observateur)')"
   ]
  },
  {
   "cell_type": "code",
   "execution_count": null,
   "metadata": {},
   "outputs": [],
   "source": [
    "df = 100 * df.cumsum() / df.sum()\n",
    "_ = df.plot(figsize=(16, 5), marker='.', grid=True,\n",
    "            title='Passage A : % cumulé du total d\\'individus contactés par minute (moyenne par observateur)')"
   ]
  },
  {
   "cell_type": "code",
   "execution_count": null,
   "metadata": {
    "scrolled": true
   },
   "outputs": [],
   "source": [
    "df = dfBilanTempsObseursMoyParPt[('b', 'nDetTot10')].unstack()\n",
    "df.rename(columns=dict(zip(df.columns, ['Observateur '+chr(ord('A')+i) for i in range(len(df.columns))])), inplace=True)\n",
    "_ = df.plot(figsize=(16, 5), marker='.', grid=True,\n",
    "            title='Passage B : Nb d\\'individus contactés par minute (moyenne par observateur)')"
   ]
  },
  {
   "cell_type": "code",
   "execution_count": null,
   "metadata": {},
   "outputs": [],
   "source": [
    "df = 100 * df.cumsum() / df.sum()\n",
    "_ = df.plot(figsize=(16, 5), marker='.', grid=True,\n",
    "            title='Passage B : % cumulé du total d\\'individus contactés par minute (moyenne par observateur)')"
   ]
  },
  {
   "cell_type": "code",
   "execution_count": null,
   "metadata": {
    "scrolled": true
   },
   "outputs": [],
   "source": [
    "df = dfBilanTempsObseursMoyParPt[('total', 'nDetTot10')].unstack()\n",
    "df.rename(columns=dict(zip(df.columns, ['Observateur '+chr(ord('A')+i) for i in range(len(df.columns))])), inplace=True)\n",
    "_ = df.plot(figsize=(16, 5), marker='.', grid=True,\n",
    "            title='2019 (2 passages) : Nb d\\'individus contactés par minute (moyenne par observateur)')"
   ]
  },
  {
   "cell_type": "code",
   "execution_count": null,
   "metadata": {},
   "outputs": [],
   "source": [
    "df = 100 * df.cumsum() / df.sum()\n",
    "_ = df.plot(figsize=(16, 5), marker='.', grid=True,\n",
    "            title='2019 (2 passages) : % cumulé du total d\\'individus contactés par minute (moyenne par observateur)')"
   ]
  },
  {
   "cell_type": "code",
   "execution_count": null,
   "metadata": {},
   "outputs": [],
   "source": [
    "# Rappel nb de points par passage et par observateur : attendu et effectué.\n",
    "dfBilan"
   ]
  },
  {
   "cell_type": "code",
   "execution_count": null,
   "metadata": {},
   "outputs": [],
   "source": [
    "# Nb de points et de données par observateur\n",
    "dfBilanObseurs = dfBilan.join(dfObs[['Observateur', 'Horaire', 'Passage']].groupby(['Observateur', 'Passage']) \\\n",
    "                                .count().unstack())\n",
    "dfBilanObseurs = dfBilanObseurs.join(dfObs[['Observateur', 'nDetTot10', 'nDetTot5', 'nMalAd10', 'nMalAd5', 'nAutAd10', 'nAutAd5', 'Passage']] \\\n",
    "                                     .groupby(['Observateur', 'Passage']).sum().unstack())\n",
    "dfBilanObseurs.columns = pd.MultiIndex.from_tuples([t if isinstance(t, tuple) else (t, 'total') for t in dfBilanObseurs.columns])\n",
    "dfBilanObseurs.rename(columns={'Horaire': 'nDonnées'}, level=0, inplace=True)\n",
    "dfBilanObseurs.columns = dfBilanObseurs.columns.swaplevel(0, 1)\n",
    "\n",
    "passages = dfBilanObseurs.columns.levels[0][:-1]\n",
    "for col in dfBilanObseurs.columns.levels[1]:\n",
    "    if col not in ['Attendus', 'Réalisés']:\n",
    "        dfBilanObseurs[('total', col)] = dfBilanObseurs[[(pas, col) for pas in passages]].sum(axis='columns')\n",
    "\n",
    "dfBilanObseurs.sort_index(axis='columns', inplace=True)\n",
    "dfBilanObseurs.sort_values(by=('total', 'nDetTot10'), ascending=False, inplace=True)\n",
    "dfBilanObseurs"
   ]
  },
  {
   "cell_type": "code",
   "execution_count": null,
   "metadata": {},
   "outputs": [],
   "source": [
    "# Nbre de données par point par observateur\n",
    "dfBilanObseursMoyParPt = dfBilanObseurs.copy()\n",
    "\n",
    "for pas in dfBilanObseursMoyParPt.columns.levels[0]:\n",
    "    nPtsCol = 'Attendus' if pas == 'total' else 'Réalisés'\n",
    "    for col in dfBilanObseursMoyParPt.columns.levels[1]:\n",
    "        if col not in ['Attendus', 'Réalisés']:\n",
    "            dfBilanObseursMoyParPt[(pas, col)] = dfBilanObseursMoyParPt[(pas, col)] / dfBilanObseursMoyParPt[(pas, nPtsCol)]\n",
    "            \n",
    "dfBilanObseursMoyParPt.sort_values(by=('total', 'nDetTot10'), ascending=False, inplace=True)\n",
    "dfBilanObseursMoyParPt"
   ]
  },
  {
   "cell_type": "code",
   "execution_count": null,
   "metadata": {
    "scrolled": false
   },
   "outputs": [],
   "source": [
    "# Nb de données / individus par espèce.\n",
    "dfBilanEspeces = dfObs[['Nom espèce', 'nDetTot10', 'nDetTot5', 'nMalAd10', 'nMalAd5', 'nAutAd10', 'nAutAd5', 'Passage']] \\\n",
    "                .groupby(['Nom espèce', 'Passage']).sum().unstack()\n",
    "dfBilanEspeces.columns = dfBilanEspeces.columns.swaplevel(0, 1)\n",
    "dfBilanEspeces.sort_index(axis='columns', inplace=True)\n",
    "\n",
    "passages = dfBilanEspeces.columns.levels[0]\n",
    "for col in dfBilanEspeces.columns.levels[1]:\n",
    "    dfBilanEspeces[('total', col)] = dfBilanEspeces[[(pas, col) for pas in passages]].sum(axis='columns')\n",
    "\n",
    "dfBilanEspeces.sort_values(by=('total', 'nDetTot10'), ascending=False, inplace=True)\n",
    "dfBilanEspeces"
   ]
  },
  {
   "cell_type": "code",
   "execution_count": null,
   "metadata": {},
   "outputs": [],
   "source": []
  },
  {
   "cell_type": "code",
   "execution_count": null,
   "metadata": {},
   "outputs": [],
   "source": [
    "# Export Excel\n",
    "xlsWriter = pd.ExcelWriter('ACDC/ACDC2019-Bilan.xlsx')\n",
    "dfBilanObseurs.to_excel(xlsWriter, sheet_name='Obseurs')\n",
    "dfBilanObseursMoyParPt.to_excel(xlsWriter, sheet_name='ObseursParPt')\n",
    "dfBilanEspeces.to_excel(xlsWriter, sheet_name='Espèces')\n",
    "dfBilanTemps510.to_excel(xlsWriter, sheet_name='Temps510')\n",
    "dfBilanTempsDet.to_excel(xlsWriter, sheet_name='TempsDétails')\n",
    "dfBilanTempsObseurs.to_excel(xlsWriter, sheet_name='TempsObseurs')\n",
    "dfBilanTempsObseursMoyParPt.to_excel(xlsWriter, sheet_name='TempsObseursParPt')\n",
    "xlsWriter.save()\n",
    "xlsWriter.close()"
   ]
  },
  {
   "cell_type": "code",
   "execution_count": null,
   "metadata": {},
   "outputs": [],
   "source": []
  },
  {
   "cell_type": "code",
   "execution_count": null,
   "metadata": {},
   "outputs": [],
   "source": []
  },
  {
   "cell_type": "code",
   "execution_count": null,
   "metadata": {},
   "outputs": [],
   "source": []
  },
  {
   "cell_type": "code",
   "execution_count": null,
   "metadata": {},
   "outputs": [],
   "source": []
  },
  {
   "cell_type": "code",
   "execution_count": null,
   "metadata": {},
   "outputs": [],
   "source": []
  },
  {
   "cell_type": "code",
   "execution_count": null,
   "metadata": {},
   "outputs": [],
   "source": []
  },
  {
   "cell_type": "code",
   "execution_count": null,
   "metadata": {},
   "outputs": [],
   "source": []
  },
  {
   "cell_type": "code",
   "execution_count": null,
   "metadata": {},
   "outputs": [],
   "source": []
  },
  {
   "cell_type": "markdown",
   "metadata": {},
   "source": [
    "# I. Génération de la grille initiale de points de relevés DS\n",
    "\n",
    "1. charger KML donnant les limites de la zone\n",
    "    * lecture KML => polygone zone en coordonnées sphériques\n",
    "    * conversion / projection en coordonnées métriques : UTM 31\n",
    "2. générer les points sur la grille et dans les limites de la zone, + certaine distance pour élargir ?\n",
    "    * grille UTM 31 + qq 100m (qq entier)\n",
    "    * 1er jet rectancle circonscrit à la zone (xMin, yMin, xMax, yMax) + marge\n",
    "    * élimination des points hors du polygone de la zone ciblée + marge\n",
    "3. exporter en KML\n",
    "\n",
    "Cette grille devra être nettoyée des points inaccessibles, en forêt ..."
   ]
  },
  {
   "cell_type": "markdown",
   "metadata": {},
   "source": [
    "## 1a) Charger KML donnant les limites de la zone"
   ]
  },
  {
   "cell_type": "code",
   "execution_count": null,
   "metadata": {},
   "outputs": [],
   "source": [
    "kmlRoot = etree.ElementTree().parse('ACDC2019-limites-zone.kml')"
   ]
  },
  {
   "cell_type": "code",
   "execution_count": null,
   "metadata": {
    "scrolled": true
   },
   "outputs": [],
   "source": [
    "# On suppose que c'est le 1er polygône\n",
    "plMark = kmlRoot.find('kml:Document/kml:Document/kml:Placemark', namespaces=kmlNameSpaces)\n",
    "zonePoly = plMark.find('kml:Polygon/kml:outerBoundaryIs/kml:LinearRing/kml:coordinates',\n",
    "                       namespaces=kmlNameSpaces).text.strip()\n",
    "dfZonePoly = pd.DataFrame(data=[[float(v) for v in point.split(',')] for point in zonePoly.split(' ')],\n",
    "                          columns=['long', 'lat', 'alt'])\n",
    "dfZonePoly.head()"
   ]
  },
  {
   "cell_type": "markdown",
   "metadata": {},
   "source": [
    "## 1b) Conversion coords polygône en métriques"
   ]
  },
  {
   "cell_type": "code",
   "execution_count": null,
   "metadata": {},
   "outputs": [],
   "source": [
    "# Attention : Les colonnes sources (x,y) et (x_observateur,y_observateur)\n",
    "#             sont bizarement des couples (lat, long), et pas l'inverse.\n",
    "dfZonePoly[['xUtm', 'yUtm']] = \\\n",
    "  dfZonePoly[['long', 'lat']].apply(geoProjeter, srcProj=KProjWgs84, tgtProj=KProjUtm31, axis='columns')\n",
    "dfZonePoly[['xUtm', 'yUtm']] = dfZonePoly[['xUtm', 'yUtm']].replace(KInfValues, np.nan) #, inplace=True)"
   ]
  },
  {
   "cell_type": "code",
   "execution_count": null,
   "metadata": {},
   "outputs": [],
   "source": [
    "dfZonePoly.head()"
   ]
  },
  {
   "cell_type": "code",
   "execution_count": null,
   "metadata": {},
   "outputs": [],
   "source": [
    "# Rectangle circonscrit à la zone\n",
    "xUtmMin, yUtmMin, xUtmMax, yUtmMax = \\\n",
    "    dfZonePoly.xUtm.min(), dfZonePoly.yUtm.min(), dfZonePoly.xUtm.max(), dfZonePoly.yUtm.max()\n",
    "xUtmMin, yUtmMin, xUtmMax, yUtmMax"
   ]
  },
  {
   "cell_type": "markdown",
   "metadata": {},
   "source": [
    "## 2a) Détermination / choix de la taille des cellules de la grille"
   ]
  },
  {
   "cell_type": "code",
   "execution_count": null,
   "metadata": {},
   "outputs": [],
   "source": [
    "# Le polygone de la zone (et sa surface en ha).\n",
    "geoZonePoly = geometry.Polygon(shell=[(x, y) for x, y in dfZonePoly[['xUtm', 'yUtm']].itertuples(index=False)])\n",
    "\n",
    "geoZonePoly.area / 10000"
   ]
  },
  {
   "cell_type": "code",
   "execution_count": null,
   "metadata": {},
   "outputs": [],
   "source": [
    "# Nombre de points approximatif à répartir sur la zone.\n",
    "nPoints = 150\n",
    "txCouver = 60 # % ; rapide calcul après avoir dit : 100 points sur 2000 ha de milieux cibles (on vire les forêts)"
   ]
  },
  {
   "cell_type": "code",
   "execution_count": null,
   "metadata": {},
   "outputs": [],
   "source": [
    "# Surface couverte par 1 point\n",
    "surfPoint = geoZonePoly.area / nPoints\n",
    "surfPoint / 10000, 'ha'"
   ]
  },
  {
   "cell_type": "code",
   "execution_count": null,
   "metadata": {},
   "outputs": [],
   "source": [
    "# Soit un cercle de diamètre ...\n",
    "deltaXYPoints = 2 * math.sqrt(surfPoint) * 100 / txCouver / math.pi\n",
    "deltaXYPoints"
   ]
  },
  {
   "cell_type": "code",
   "execution_count": null,
   "metadata": {},
   "outputs": [],
   "source": [
    "# Bon, on prend plutôt ...\n",
    "deltaXYPoints = 500 #400"
   ]
  },
  {
   "cell_type": "markdown",
   "metadata": {},
   "source": [
    "## 2b) Premier jet de points dans rectangle circonscrit + marge d'1 point"
   ]
  },
  {
   "cell_type": "code",
   "execution_count": null,
   "metadata": {},
   "outputs": [],
   "source": [
    "# Rectangle circonscrit + marge d'1 point\n",
    "xUtmMinR = xUtmMin - deltaXYPoints / 2\n",
    "xUtmMaxR = xUtmMax + deltaXYPoints / 2\n",
    "yUtmMinR = yUtmMin - deltaXYPoints / 2\n",
    "yUtmMaxR = yUtmMax + deltaXYPoints / 2"
   ]
  },
  {
   "cell_type": "code",
   "execution_count": null,
   "metadata": {},
   "outputs": [],
   "source": [
    "# Alignement sur une grille UTM à N m, avec ajustement par décalage en X, Y si besoin\n",
    "uniteAlign = 100 # m\n",
    "offsetX = 0\n",
    "offsetY = 0\n",
    "\n",
    "xUtmMinR = uniteAlign * math.floor(xUtmMinR / uniteAlign) + offsetX\n",
    "yUtmMinR = uniteAlign * math.floor(yUtmMinR / uniteAlign) + offsetY\n",
    "xUtmMaxR = uniteAlign * math.ceil(xUtmMaxR / uniteAlign) + offsetX\n",
    "yUtmMaxR = uniteAlign * math.ceil(yUtmMaxR / uniteAlign) + offsetY\n",
    "\n",
    "xUtmMinR, yUtmMinR, xUtmMaxR, yUtmMaxR"
   ]
  },
  {
   "cell_type": "code",
   "execution_count": null,
   "metadata": {},
   "outputs": [],
   "source": [
    "dfPoints = pd.DataFrame(data=[dict(xUtm=x, yUtm=y) \\\n",
    "                              for y in np.arange(yUtmMaxR, yUtmMinR - deltaXYPoints, -deltaXYPoints) \\\n",
    "                              for x in np.arange(xUtmMinR, xUtmMaxR + deltaXYPoints, deltaXYPoints)])\n",
    "dfPoints['numero'] = range(1, len(dfPoints)+1)\n",
    "dfPoints[['long', 'lat']] = \\\n",
    "  dfPoints[['xUtm', 'yUtm']].apply(geoProjeter, srcProj=KProjUtm31, tgtProj=KProjWgs84, axis='columns')\n",
    "dfPoints.set_index('numero', inplace=True)\n",
    "dfPoints.head()"
   ]
  },
  {
   "cell_type": "markdown",
   "metadata": {},
   "source": [
    "## 2c) Supprimer les points hors zone + marge"
   ]
  },
  {
   "cell_type": "code",
   "execution_count": null,
   "metadata": {},
   "outputs": [],
   "source": [
    "# Marge en distance au delà de l'appartenance au polygône de la zone.\n",
    "marginDist = deltaXYPoints * 1.0 #* 0.25"
   ]
  },
  {
   "cell_type": "code",
   "execution_count": null,
   "metadata": {},
   "outputs": [],
   "source": [
    "def pointAroundZone(sXYPoint):\n",
    "    point = geometry.Point(sXYPoint)\n",
    "    #return geoZonePoly.contains(point) or point.distance(geoZonePoly) < marginDist\n",
    "    return point.distance(geoZonePoly) < marginDist # Pas besoin de tester l'appartenance, distance() le fait.\n",
    "dfPoints['aroundZoneExt'] = \\\n",
    "    dfPoints[['xUtm', 'yUtm']].apply(pointAroundZone, axis='columns')\n",
    "len(dfPoints), len(dfPoints[dfPoints.aroundZoneExt])"
   ]
  },
  {
   "cell_type": "code",
   "execution_count": null,
   "metadata": {},
   "outputs": [],
   "source": [
    "dfSelPoints = dfPoints[dfPoints.aroundZoneExt]\n",
    "dfSelPoints.head()"
   ]
  },
  {
   "cell_type": "markdown",
   "metadata": {},
   "source": [
    "## 3a) Cartographie des points obtenus"
   ]
  },
  {
   "cell_type": "code",
   "execution_count": null,
   "metadata": {},
   "outputs": [],
   "source": [
    "tiles, attr = 'http://{s}.tile.openstreetmap.org/{z}/{x}/{y}.png', 'osm'# OK\n",
    "#tiles, attr = 'https://{s}.tile.thunderforest.com/outdoors/{z}/{x}/{y}.png', 'thunderforest' # OK\n",
    "#tiles, attr = 'http://{s}.tile.openstreetmap.fr/fradm/{z}/{x}/{y}.png', 'osm fr' # marche pô\n",
    "#tiles, attr = 'https://{s}.tile.openstreetmap.fr/qa/{zoom}/{x}/{y}.png', 'osm fr' # marche pô\n",
    "mp = folium.Map(tiles=tiles, attr=attr)\n",
    "\n",
    "poly = folium.PolyLine(locations=[(lat, long) for long, lat in dfZonePoly[['long', 'lat']].itertuples(index=False)],\n",
    "                       color='red', opacity=0.8, popup='Zone ACDC Cournols-Olloix JPD')\n",
    "poly.add_to(mp)\n",
    "for indPt, sPt in dfSelPoints.iterrows():\n",
    "    mrk = folium.Marker(location=(sPt.lat, sPt.long), \n",
    "                        popup=folium.Popup('{} : lat={:.1f}, long={:.1f}'.format(indPt, sPt.lat, sPt.long)),\n",
    "                        icon=folium.Icon(color='green', icon_color='black'))\n",
    "    mrk.add_to(mp)\n",
    "    \n",
    "mp.fit_bounds(mp.get_bounds())\n",
    "mp"
   ]
  },
  {
   "cell_type": "markdown",
   "metadata": {},
   "source": [
    "## 3b) Export KML"
   ]
  },
  {
   "cell_type": "code",
   "execution_count": null,
   "metadata": {},
   "outputs": [],
   "source": [
    "dfSelPoints.head()"
   ]
  },
  {
   "cell_type": "code",
   "execution_count": null,
   "metadata": {},
   "outputs": [],
   "source": [
    "kml = skml.Kml(name='Points ACDC 2019 (dist={:.0f}m, marge={:.0f}m, n={})' \\\n",
    "               .format(deltaXYPoints, marginDist, len(dfSelPoints)))"
   ]
  },
  {
   "cell_type": "code",
   "execution_count": null,
   "metadata": {},
   "outputs": [],
   "source": [
    "labelStyle = skml.LabelStyle(color=skml.Color.red, scale=1)\n",
    "iconStyle = skml.IconStyle(icon=skml.Icon(href='http://maps.google.com/mapfiles/kml/shapes/placemark_circle.png'))\n",
    "ptStyle = skml.Style(labelstyle=labelStyle, iconstyle=iconStyle)\n",
    "\n",
    "lineStyle = skml.LineStyle(color=skml.Color.red, width=3)"
   ]
  },
  {
   "cell_type": "code",
   "execution_count": null,
   "metadata": {},
   "outputs": [],
   "source": [
    "ls = kml.newlinestring(name='Zone ACDC Cournols-Olloix JPD', extrude=1,\n",
    "                       coords=dfZonePoly[['long', 'lat', 'alt']].values)\n",
    "                       #coords=[(long, lat, alt) for long, lat, alt in dfZonePoly[['long', 'lat', 'alt']].itertuples(index=False)])\n",
    "ls.linestyle = lineStyle\n",
    "\n",
    "for idx, sPt in dfSelPoints.iterrows():\n",
    "    pt = kml.newpoint(name=str(idx), coords=[(sPt.long, sPt.lat, 0)], extrude=1)\n",
    "    pt.style = ptStyle\n",
    "    pt.description = 'lat={:.1f}, long={:.1f}, alt={:.0f}'.format(sPt.long, sPt.lat, 0)"
   ]
  },
  {
   "cell_type": "code",
   "execution_count": null,
   "metadata": {},
   "outputs": [],
   "source": [
    "tgtKmlFileName = \\\n",
    "  'ACDC2019-{}points-et-limites-zone-d{:.0f}-m{:.0f}.kml'.format(len(dfSelPoints), deltaXYPoints, marginDist)\n",
    "kml.save(tgtKmlFileName)"
   ]
  },
  {
   "cell_type": "markdown",
   "metadata": {},
   "source": [
    "## 3c) Export Excel"
   ]
  },
  {
   "cell_type": "code",
   "execution_count": null,
   "metadata": {},
   "outputs": [],
   "source": [
    "tgtXlsxFileName = \\\n",
    "  'ACDC2019-{}points-et-limites-zone-d{:.0f}-m{:.0f}.xlsx'.format(len(dfSelPoints), deltaXYPoints, marginDist)\n",
    "\n",
    "dfSelPoints[['xUtm', 'yUtm', 'long', 'lat']].reset_index().to_excel(tgtXlsxFileName, index=False)"
   ]
  },
  {
   "cell_type": "code",
   "execution_count": null,
   "metadata": {},
   "outputs": [],
   "source": []
  },
  {
   "cell_type": "markdown",
   "metadata": {},
   "source": [
    "# Bac à sable"
   ]
  },
  {
   "cell_type": "code",
   "execution_count": null,
   "metadata": {},
   "outputs": [],
   "source": [
    "# Codes Atlas, par copier + coller de https://wiki.biolovision.net/index.php?title=Correspondance_codes_atlas\n",
    "dfCodesAtlas = pd.read_csv(io.StringIO(\"\"\"Codes Biolovision\tCodes utilisés en Suisse, Italie et partiellement en France\tCodes utilisés en Allemagne et Catalogne\tCodes utilisés partiellement en France (EBCC)\tCodes utilisés en Autriche\tCodes utilisés en Pologne\tTexte FR\tTexte EN\n",
    "0\t-\t-\t-\t-\t-\tPas de code atlas\tNo atlas code\n",
    "1\t1\t\t\t\t\tObservation de l'espèce pendant la période de nidification\tSpecies observed in breeding season\n",
    "2\t2\tA1\t1\tH\tO\tObservation de l'espèce pendant la période de nidification dans un biotope adéquat\tSpecies observed in breeding season in possible nesting habitat\n",
    "3\t3\tA2\t2\tS\tS\tMâle chanteur présent en période de nidification, cris nuptiaux ou tambourinage entendus, mâle vu en parade dans un habitat favorable\tSinging, drumming or displaying male present in breeding season in possible nesting habitat\n",
    "4\t4\tB3\t3\tP\tPR\tCouple pendant la période de nidification dans un biotope adéquat\tPair (male and female) within safe dates, and in suitable breeding habitat\n",
    "5\t5\tB4\t4\tT\tTE\tComportement territorial d'un couple (chant, querelles avec des voisins, etc.) au moins 2 jours a plus d'une semaine d'intervalle dans le même territoire\tTerritorial behaviour (song, fights with neighbour etc.) on at least two different days a week or more apart at same place indicating a permanently occupied territory\n",
    "6\t6\tB5\t5\tD\tKT\tComportement nuptial (mâle et femelle observés)\tCourtship behavior (aerial displays, courtship feeding) or copulation\n",
    "7\t7\tB6\t6\tN\tOM\tVisite d'un site de nidification probable\tVisiting probable nest site\n",
    "8\t8\tB7\t7\tA\tNP\tCri d'alarme ou de crainte des adultes ou autre comportement agité suggérant la présence d'un nid ou de jeunes aux alentours\tAgitated behavior and/or anxiety calls from an adult, suggesting presence of nearby nest or young\n",
    "9\t9\tB8\t8\tI\tPL\tPlaque incubatrice d'une femelle capturée\tBrood patch (Note: code only applies to birds observed in hand and is reserved for experienced birder only)\n",
    "10\t10\tB9\t9\tB\tBU\tConstruction d'un nid ou forage d'une cavité\tNest building observed at nest site (Note: for nest building by wrens, woodpeckers, kingfisher...)\n",
    "11\t11\tC10\t10\tDD\tUDA\tOiseau simulant une blessure ou détournant l'attention\tDistraction display (especially injury feigning, such as broken wing display) or attacking/dive-bombing humans in defense of unobserved nest or young\n",
    "12\t12\tC11a\t11\tUN\tGNS\tDécouverte d'un nid ayant été utilisé durant la période de nidification actuelle\tUsed nest (occupied within period of survey); includes inactive nests\n",
    "13\t13\tC12\t12\tFL\tMŁO\tJeunes venant de s'envoler (nidicoles) ou poussins en duvet (nidifuges)\tRecently fledged young that are incapable of sustained flight\n",
    "14\t14\tC13a\t13\tON\tZAJ\tAdulte gagnant ou quittant un site de nid; comportement révélateur d'un nid occupé dont le contenu ne peut être vérifié (trop haut ou dans une cavité) ou adulte incubant\tOccupied nest, but contents not observed; adults entering and remaining for a period of time, then leaving or exchanging duties\n",
    "15\t15\tC14a\t\t\t\tAdulte transportant des fientes\tAdult carrying a fecal sac\n",
    "16\t16\tC14b\t14\tFY\tPOD\tAdulte transportant de la nourriture pour les jeunes\tAdult carrying food for young\n",
    "17\t17\tC11b\t\t\n",
    "Coquilles d'oeufs éclos (de la période de nidification actuelle)\tEggshells found (laid within period of survey)\n",
    "18\t18\tC13b\t\t\tWYS\tNid avec adulte vu couvant\tNest with adult incubating\n",
    "19\t19\tC15\t15\tNE\tJAJ\tNid avec oeufs\tNest containing eggs\n",
    "20\t\tC16\t16\tNY\tPIS\tJeunes au nid vus ou entendus\tNest with young seen or heard.\n",
    "30\t30\tA\t30\t30\tA\tNidification possible\tPossible breeding\n",
    "40\t40\tB\t40\t40\tB\tNidification probable\tProbable breeding\n",
    "50\t50\tC\t50\t50\tC\tNidification certaine\tConfirmed breeding\n",
    "99\t99\tE99\t99\t99\tNOBS\tEspèce absente malgré des recherches\tNot observed despite active search\n",
    "19 codes\t20 codes\t16 codes\t16 codes\t17 codes\t\n",
    "\"\"\"), sep='\\t')"
   ]
  },
  {
   "cell_type": "code",
   "execution_count": null,
   "metadata": {},
   "outputs": [],
   "source": [
    "# Debug extraction nbre / sexe des détails, nbre, code atlas"
   ]
  },
  {
   "cell_type": "code",
   "execution_count": null,
   "metadata": {},
   "outputs": [],
   "source": [
    "verbose = False\n",
    "sObs = dfObs.loc[2907]\n",
    "print(', '.join(['{}:{}'.format(k[:3], v) for k, v in sObs.iteritems()]))"
   ]
  },
  {
   "cell_type": "code",
   "execution_count": null,
   "metadata": {
    "scrolled": true
   },
   "outputs": [],
   "source": [
    "print(sObs['Détails'])\n",
    "\n",
    "# Détails\n",
    "effDets = { col : 0 for col in KDetCols }\n",
    "\n",
    "lstDets = sObs['Détails'].split(\"/\")\n",
    "vol = False\n",
    "for rawDet in lstDets:\n",
    "\n",
    "    rawDet = rawDet.strip()\n",
    "    if not rawDet:\n",
    "        continue\n",
    "\n",
    "    mo = KReNumExpect.match(rawDet)\n",
    "    if mo:\n",
    "\n",
    "        num = int(mo.group(1))\n",
    "        sxAgCn = mo.group(2).strip()\n",
    "\n",
    "        sx = 'mal' if 'mâle' in sxAgCn else 'fem' if 'femelle' in sxAgCn else 'alt'\n",
    "        ag = 'juv' if '1ère année' in sxAgCn or 'poussin' in sxAgCn or 'immature' in sxAgCn \\\n",
    "                   else 'adu' if 'adulte' in sxAgCn or 'année' in sxAgCn or '1 an' in sxAgCn else 'alt'\n",
    "        cn = 'vol' if 'vol' in sxAgCn else 'alt'\n",
    "\n",
    "        if cn != 'vol':\n",
    "\n",
    "            cat = 'nJuv' if ag == 'juv' else 'nMalAd' if sx == 'mal' else 'nAutAd'\n",
    "\n",
    "            effDets[cat] += num\n",
    "\n",
    "        else:\n",
    "\n",
    "            if len(lstDets) == 1:\n",
    "                break\n",
    "            vol = True\n",
    "\n",
    "    else:\n",
    "\n",
    "        print(\"Attention, donnée ignorée : Colonne Détails malformée : '{}'\".format(rawDet))\n",
    "        \n",
    "vol, effDets, num, sx, ag, cn"
   ]
  },
  {
   "cell_type": "code",
   "execution_count": null,
   "metadata": {},
   "outputs": [],
   "source": [
    "# Code Atlas et Nombre total associé\n",
    "codAtls = int(sObs['Code atlas'])\n",
    "if codAtls != 0 and codAtls not in dfCodesAtlas.index and not vol:\n",
    "    print(\"Attention, donnée ignorée : Code Atlas {} sans intérêt, mais pas en vol d={}, n={}\" \\\n",
    "          .format(codAtls, sObs['Détails'], sObs['Nombre']))\n",
    "    if verbose:\n",
    "        print(', '.join(['{}:{}'.format(k[:3], v) for k, v in sObs.iteritems()]))\n",
    "    return KEffInvd\n",
    "\n",
    "nbre = sObs['Nombre']\n",
    "effNbCode = { colCoefMult : dfCodesAtlas.loc[codAtls, colCoefMult] * nbre \\\n",
    "             for colCoefMult in KDetCols }\n",
    "if any(effDets.values()):\n",
    "    if sum(effDets.values()) != sum(effNbCode.values()):\n",
    "        print(\"Attention, donnée ignorée : Détails {} et Nombre {} * CodeAtlas {} incohérents : '{}' / '{}'\" \\\n",
    "              .format(rawDet, nbre, codAtls, effDets, effNbCode))\n",
    "        if verbose:\n",
    "            print(', '.join(['{}:{}'.format(k[:3], v) for k, v in sObs.iteritems()]))\n",
    "        return KEffInvd\n",
    "    eff = effDets\n",
    "else:\n",
    "    eff = effNbCode"
   ]
  },
  {
   "cell_type": "code",
   "execution_count": null,
   "metadata": {},
   "outputs": [],
   "source": []
  },
  {
   "cell_type": "code",
   "execution_count": null,
   "metadata": {},
   "outputs": [],
   "source": [
    "df = pd.read_excel('ACDC/ACDC2019a-ExportClementRollant.xlsx')\n",
    "df"
   ]
  },
  {
   "cell_type": "code",
   "execution_count": null,
   "metadata": {},
   "outputs": [],
   "source": [
    "df['Code atlas'].unique()"
   ]
  },
  {
   "cell_type": "code",
   "execution_count": null,
   "metadata": {},
   "outputs": [],
   "source": []
  }
 ],
 "metadata": {
  "kernelspec": {
   "display_name": "Python 3",
   "language": "python",
   "name": "python3"
  },
  "language_info": {
   "codemirror_mode": {
    "name": "ipython",
    "version": 3
   },
   "file_extension": ".py",
   "mimetype": "text/x-python",
   "name": "python",
   "nbconvert_exporter": "python",
   "pygments_lexer": "ipython3",
   "version": "3.7.3"
  }
 },
 "nbformat": 4,
 "nbformat_minor": 2
}
