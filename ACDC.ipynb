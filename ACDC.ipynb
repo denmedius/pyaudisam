{
 "cells": [
  {
   "cell_type": "markdown",
   "metadata": {},
   "source": [
    "# ACDC 2019-2020 : l'Autre Carré D'à Côté\n",
    "\n",
    "alias \"la zone à JPD\"\n",
    "\n",
    "alias \"le plateau de Cournols-Olloix\"\n",
    "\n",
    "(pour faire du DS évidemment)"
   ]
  },
  {
   "cell_type": "code",
   "execution_count": null,
   "metadata": {},
   "outputs": [],
   "source": [
    "import sys\n",
    "import os\n",
    "import math\n",
    "import re\n",
    "import datetime as dt\n",
    "import pandas as pd\n",
    "import numpy as np\n",
    "\n",
    "from lxml import etree\n",
    "import pyproj\n",
    "\n",
    "import folium\n",
    "\n",
    "import simplekml as skml # Simple KML generation API\n",
    "import kmlcircle # Circle generation for KML generation\n",
    "\n",
    "from shapely import geometry\n",
    "\n",
    "from IPython.display import HTML"
   ]
  },
  {
   "cell_type": "markdown",
   "metadata": {},
   "source": [
    "# Communs"
   ]
  },
  {
   "cell_type": "code",
   "execution_count": null,
   "metadata": {},
   "outputs": [],
   "source": [
    "KInfValues = [np.inf, -np.inf]"
   ]
  },
  {
   "cell_type": "code",
   "execution_count": null,
   "metadata": {},
   "outputs": [],
   "source": [
    "kmlNameSpaces = \\\n",
    "  { 'gx' : 'http://www.google.com/kml/ext/2.2',\n",
    "    'kml' : 'http://www.opengis.net/kml/2.2',\n",
    "    'atom' : 'http://www.w3.org/2005/Atom' }"
   ]
  },
  {
   "cell_type": "code",
   "execution_count": null,
   "metadata": {},
   "outputs": [],
   "source": [
    "# Projection coordonnées sphériques (degrés)=> coordonnées planes (système cible au choix)\n",
    "KProjWgs84 = pyproj.Proj(init='epsg:4326') # WGS 84 : long, lat en degrés\n",
    "\n",
    "KProjUtm31  = pyproj.Proj(init='epsg:32631') # WGS 84 - UTM 31N : long, lat en m\n",
    "KProjCc46   = pyproj.Proj(init='epsg:3946')  # RGF 93 - CC46    : long, lat en m\n",
    "KProjLamb93 = pyproj.Proj(init='epsg:2154')  # RGF 93 - Lambert : long, lat en m\n",
    "\n",
    "def geoProjeter(sCoords, srcProj, tgtProj): # sCoords : [0]=x=long, [1]=y=lat\n",
    "    return pd.Series(pyproj.transform(srcProj, tgtProj, sCoords[0], sCoords[1]))"
   ]
  },
  {
   "cell_type": "markdown",
   "metadata": {},
   "source": [
    "# Attribution des points aux observateurs \n",
    "\n",
    "Grille nettoyée / corrigée (déplacé points hors broussailles, forêt, bocage trop serré, ou trop loin accès ... quand possible ;\n",
    " supprimé points en forêt ou innaccessibles cause relief)"
   ]
  },
  {
   "cell_type": "code",
   "execution_count": null,
   "metadata": {},
   "outputs": [],
   "source": [
    "# Version finale.\n",
    "kmlRoot = etree.ElementTree().parse('ACDC/DS ACDC COURNOLS OLLOIX JPM v4.kml')"
   ]
  },
  {
   "cell_type": "markdown",
   "metadata": {},
   "source": [
    "## 1) Chargement du polygône définissant la zone couverte"
   ]
  },
  {
   "cell_type": "code",
   "execution_count": null,
   "metadata": {
    "scrolled": false
   },
   "outputs": [],
   "source": [
    "# Zone à couvrir : On suppose que c'est le 1er polygône\n",
    "plMark = kmlRoot.find('kml:Document/kml:Placemark', namespaces=kmlNameSpaces)\n",
    "zonePoly = plMark.find('kml:Polygon/kml:outerBoundaryIs/kml:LinearRing/kml:coordinates',\n",
    "                       namespaces=kmlNameSpaces).text.strip()\n",
    "dfZonePoly = pd.DataFrame(data=[[float(v) for v in point.split(',')] for point in zonePoly.split(' ')],\n",
    "                          columns=['long', 'lat', 'alt'])\n",
    "dfZonePoly.head()"
   ]
  },
  {
   "cell_type": "markdown",
   "metadata": {},
   "source": [
    "## 2) Chargement des points conservés"
   ]
  },
  {
   "cell_type": "code",
   "execution_count": null,
   "metadata": {},
   "outputs": [],
   "source": [
    "def iterPlacemarks(kmlDoc, kmlNameSpaces):\n",
    "    for pm in kmlDoc.findall('kml:Document/kml:Document/kml:Placemark', namespaces=kmlNameSpaces):\n",
    "        name = pm.find('kml:name', namespaces=kmlNameSpaces).text\n",
    "        desc = pm.find('kml:description', namespaces=kmlNameSpaces).text\n",
    "        #print(name)\n",
    "        long, lat, alt = pm.find('kml:Point/kml:coordinates', namespaces=kmlNameSpaces).text.split(',')\n",
    "        yield dict(numero=int(name), description=desc, longitude=float(long), latitude=float(lat), altitude=float(alt))"
   ]
  },
  {
   "cell_type": "code",
   "execution_count": null,
   "metadata": {},
   "outputs": [],
   "source": [
    "dfPoints = pd.DataFrame(data=list(iterPlacemarks(kmlRoot, kmlNameSpaces)))"
   ]
  },
  {
   "cell_type": "code",
   "execution_count": null,
   "metadata": {},
   "outputs": [],
   "source": [
    "# 3) Ajout coordonnées UTM31\n",
    "dfPoints[['longitude_utm', 'latitude_utm']] = \\\n",
    "  dfPoints[['longitude', 'latitude']].apply(geoProjeter, srcProj=KProjWgs84, tgtProj=KProjUtm31, axis='columns')\n",
    "dfPoints[['longitude_utm', 'latitude_utm']] = \\\n",
    "  dfPoints[['longitude_utm', 'latitude_utm']].replace(KInfValues, np.nan) / 1000"
   ]
  },
  {
   "cell_type": "code",
   "execution_count": null,
   "metadata": {},
   "outputs": [],
   "source": [
    "dfPoints.set_index('numero', inplace=True)\n",
    "dfPoints['papier'] = None\n",
    "dfPoints['naturalist'] = None\n",
    "dfPoints = dfPoints.reindex(columns=['papier', 'naturalist', 'latitude', 'longitude', 'latitude_utm', 'longitude_utm',\n",
    "                                     'altitude', 'description'])\n",
    "len(dfPoints)"
   ]
  },
  {
   "cell_type": "code",
   "execution_count": null,
   "metadata": {},
   "outputs": [],
   "source": [
    "dfPoints.head()"
   ]
  },
  {
   "cell_type": "code",
   "execution_count": null,
   "metadata": {},
   "outputs": [],
   "source": []
  },
  {
   "cell_type": "markdown",
   "metadata": {},
   "source": [
    "## 4) Attribution aux observateurs"
   ]
  },
  {
   "cell_type": "markdown",
   "metadata": {},
   "source": [
    "### Contactés, mais pas volontaires\n",
    "\n",
    "#### Liste François, Auvergne ...\n",
    "\n",
    "* Christian Fargeix 7/3\n",
    "* Nicole et Christian Taillandier 10/3\n",
    "* ('Bruno Gilbert', 'lubrubelle@gmail.com', 'non'), # 11/03\n",
    "* ('Marc Pommarel', 'pommarelmarc@neuf.fr', 'non'), # 11/03\n",
    "* ('Gérard Lecoz', 'lecozgerard0818@orange.fr', 'non'), # 11/03\n",
    "* ('Sabine Boursange' , 'sabine.boursange@lpo.fr', 'non') # 13/03\n",
    "* ('Jean-Jacques Lallemant', 'jj.lallemant@gmail.com', 'non'), # 13/03\n",
    "* ('Adèle Debaudoin', 'adele.debaudouin@outlook.fr', 'non', 'non', 'non'), # 14/03\n",
    "* ('Olivier Gimel', 'gimelolivier@orange.fr', 'ok', 'non'), # Oui, puis non le 28/03 !\n",
    "\n",
    "#### Liste glanée sur FA (données sérieuses sur les 3 communes ACDC)\n",
    "\n",
    "* Luc Souret, luc83@orange.fr, 72 Chemin de Quinson - 83560 St Julien ; préretraire fin 2019, intéressé pour 2020 !\n",
    "* Paul Nicolas, pbg.nicolas@gmail.com ; pas confiance dans la méthode\n",
    "* Matthieu Bernard, matthieubernard8944@neuf.fr ; déménage prochainement à Culhat, pas le temps et trop loin\n"
   ]
  },
  {
   "cell_type": "code",
   "execution_count": null,
   "metadata": {},
   "outputs": [],
   "source": [
    "# Infos oservateurs : Prénom + Nom, e-mail, statut de volontaire confirmé ?, présence confirmée le 31/03 ?\n",
    "obseurs = \\\n",
    "[('François Guélin', 'francois.guelin@orange.fr', 'ok', 'oui'),\n",
    " ('Jean-Philippe Meuret', 'jpmeuret@free.fr', 'ok', 'oui'),\n",
    " ('Sylvain Sainnier', 'sainnier@gmail.com', 'ok', 'oui'), # formation 31/3 et 7 OK\n",
    " ('Gilles Saulas', 'gilles.saulas@orange.fr', 'ok', 'non'),\n",
    " ('Cyrille Jallageas', 'cyrisle@yahoo.fr', 'ok', 'oui'),\n",
    " ('Jean-François Carrias', 'jean-francois.carrias@orange.fr', 'ok', 'non'),\n",
    " ('Alex Clamens', 'clamens.alex@wanadoo.fr', 'ok', 'non'),\n",
    " ('Anne Citron', 'acitron@orange.fr', 'ok', 'non'),\n",
    " ('David Houston', 'd-houston@wanadoo.fr', 'ok', 'non'),\n",
    " ('Sandra Robert', 'sandlise@orange.fr', 'ok', 'oui',),\n",
    " ('Camille Fasolin', 'c.fasolin@gmail.com', 'ok', 'non'),\n",
    " ('Clément Rollant', 'clement.rollant@lpo.fr', 'ok', 'non'),\n",
    " ('Matthieu Clément', 'matthieu.clement@lpo.fr', 'ok', 'oui'),\n",
    " ('Laurent Maly', 'altla@orange.fr', 'ok', 'non'),\n",
    " ('Thibaut Brugerolle', 'tbrugerolle@hotmail.com', 'ok', 'non'),\n",
    " ('Pierre Tourret', 'pierre.tourret@wanadoo.fr', 'ok', 'oui'),\n",
    " ('Patrick Mougel', 'mougel.patrick@wanadoo.fr', 'ok', 'oui'),\n",
    " ('Cyril Brunel', 'cyrilb63@hotmail.fr', 'ok', 'oui'),\n",
    " ('Thyphaine Lyon', 'typhainelyon@gmail.com', 'ok', 'non'),\n",
    " ('Romain Riols', 'romain.riols@lpo.fr', 'ok', 'non')]\n",
    "\n",
    "dfObseurs = pd.DataFrame(columns=['nom', 'eMail', 'statut', '31 mars'],\n",
    "                         index=range(1, len(obseurs)+1), data=obseurs)\n",
    "\n",
    "dfObseurs"
   ]
  },
  {
   "cell_type": "code",
   "execution_count": null,
   "metadata": {},
   "outputs": [],
   "source": [
    "print('Observateurs volontaires :', len(dfObseurs))\n",
    "print('* Les noms :', ', '.join(dfObseurs.nom))\n",
    "print('* Les emails :', ', '.join(dfObseurs.eMail))"
   ]
  },
  {
   "cell_type": "code",
   "execution_count": null,
   "metadata": {},
   "outputs": [],
   "source": [
    "df = dfObseurs[dfObseurs['31 mars'] != 'non']\n",
    "print('Observateurs présents le 31 :', len(df))\n",
    "print('* Les noms :', ', '.join(df.nom))\n",
    "print('* Les emails :', ', '.join(df.eMail))"
   ]
  },
  {
   "cell_type": "code",
   "execution_count": null,
   "metadata": {},
   "outputs": [],
   "source": [
    "# Réinitialisation de toutes les assignations\n",
    "dfPoints['papier'] = None\n",
    "dfPoints['naturalist'] = None"
   ]
  },
  {
   "cell_type": "code",
   "execution_count": null,
   "metadata": {},
   "outputs": [],
   "source": [
    "# numPoints : liste des numéros de points\n",
    "# papier : nom de l'observateur qui inventoriera ces points en mode \"DS papier\" (défaut : None=personne)\n",
    "# naturalist  : idem en mode \"DS Naturalist\" (défaut : None=personne)\n",
    "def assignerPoints(numPoints, papier=None, naturalist=None):\n",
    "    \n",
    "    assert papier is None or papier in list(dfObseurs.nom)\n",
    "    assert naturalist is None or naturalist in list(dfObseurs.nom)\n",
    "    if papier:\n",
    "        assert dfPoints.loc[numPoints, 'papier'].isnull().all()\n",
    "        dfPoints.loc[numPoints, 'papier'] = papier\n",
    "    if naturalist:\n",
    "        assert dfPoints.loc[numPoints, 'naturalist'].isnull().all()\n",
    "        dfPoints.loc[numPoints, 'naturalist'] = naturalist"
   ]
  },
  {
   "cell_type": "code",
   "execution_count": null,
   "metadata": {},
   "outputs": [],
   "source": [
    "list(range(195, 201))"
   ]
  },
  {
   "cell_type": "code",
   "execution_count": null,
   "metadata": {},
   "outputs": [],
   "source": [
    "assignerPoints(papier='François Guélin', # OK, papier 02/03\n",
    "               numPoints=[145, 146, 147, 160, 161, 162, 163, 164, 165, 177, 178, 179, # 02/03\n",
    "                          195, 196, 197, 198, 199, 200, 109, 110, 126, 127, 128, 143, 144])  # 03/04"
   ]
  },
  {
   "cell_type": "code",
   "execution_count": null,
   "metadata": {},
   "outputs": [],
   "source": [
    "assignerPoints(naturalist='Jean-Philippe Meuret', # \n",
    "               numPoints=[143, 144, 126, 127, 128, 109, 110, 112]) # OK, naturalist 02/03"
   ]
  },
  {
   "cell_type": "code",
   "execution_count": null,
   "metadata": {},
   "outputs": [],
   "source": [
    "assignerPoints(papier='Sylvain Sainnier', # \n",
    "               numPoints=[123, 125, 141, 142, 157, 158, 159, 174, 175, 176, 192, 193]) # OK, papier 02/03"
   ]
  },
  {
   "cell_type": "code",
   "execution_count": null,
   "metadata": {},
   "outputs": [],
   "source": [
    "assignerPoints(papier='Gilles Saulas', # \n",
    "               numPoints=[262, 263, 280, 281, 282, 283, 284, 299, 300, 301]) # OK, papier 02/03"
   ]
  },
  {
   "cell_type": "code",
   "execution_count": null,
   "metadata": {},
   "outputs": [],
   "source": [
    "assignerPoints(naturalist='Cyrille Jallageas', # OK, naturalist 02/03 et 11/03\n",
    "               numPoints=[194, 195, 196, 197, 198, # Smartphone\n",
    "                          199, 200, 201, 202, 218, 219]) # Tablette"
   ]
  },
  {
   "cell_type": "code",
   "execution_count": null,
   "metadata": {},
   "outputs": [],
   "source": [
    "assignerPoints(papier='Jean-François Carrias', # \n",
    "               numPoints=[23, 39, 40, 41, 42, 56, 57, 58, 59, 60]) # OK, papier 02/03"
   ]
  },
  {
   "cell_type": "code",
   "execution_count": null,
   "metadata": {},
   "outputs": [],
   "source": [
    "assignerPoints(papier='Alex Clamens', # \n",
    "               numPoints=[55, 72, 73, 74, 75, 76, 90, 91]) # OK, papier 10/03"
   ]
  },
  {
   "cell_type": "code",
   "execution_count": null,
   "metadata": {},
   "outputs": [],
   "source": [
    "assignerPoints(papier='Anne Citron', # \n",
    "               numPoints=[210, 211, 212, 228, 245, 246]) # OK, papier 11/03"
   ]
  },
  {
   "cell_type": "code",
   "execution_count": null,
   "metadata": {},
   "outputs": [],
   "source": [
    "assignerPoints(papier='Camille Fasolin', # \n",
    "               numPoints=[88, 89, 105, 106, 122]) # OK, papier 11/03, tutorat Sylvain et Jean-François"
   ]
  },
  {
   "cell_type": "code",
   "execution_count": null,
   "metadata": {},
   "outputs": [],
   "source": [
    "assignerPoints(naturalist='Matthieu Clément', # \n",
    "               numPoints=[157, 158, 159, 174, 175, 176, 192, 193]) # OK, 12/03"
   ]
  },
  {
   "cell_type": "code",
   "execution_count": null,
   "metadata": {},
   "outputs": [],
   "source": [
    "assignerPoints(papier='Thibaut Brugerolle', # \n",
    "               numPoints=[148, 166, 182, 183, 184, 185]) # OK, papier (pb GPS revérifiés, naturalist=KO), 12/03"
   ]
  },
  {
   "cell_type": "code",
   "execution_count": null,
   "metadata": {},
   "outputs": [],
   "source": [
    "assignerPoints(naturalist='Pierre Tourret', # \n",
    "               numPoints=[23, 39, 40, 41, 42, 56, 57, 58, 59, 60]) # ok, 12/03"
   ]
  },
  {
   "cell_type": "code",
   "execution_count": null,
   "metadata": {},
   "outputs": [],
   "source": [
    "assignerPoints(papier='Sandra Robert', # \n",
    "               numPoints=[230, 231, 232, 249, 250]) # OK, 11/03 ; prévision de 5 points en plus 17/03"
   ]
  },
  {
   "cell_type": "code",
   "execution_count": null,
   "metadata": {},
   "outputs": [],
   "source": [
    "assignerPoints(naturalist='Clément Rollant', # \n",
    "               numPoints=[113, 129, 130, 146, 147, 162]) # OK, naturalist"
   ]
  },
  {
   "cell_type": "code",
   "execution_count": null,
   "metadata": {},
   "outputs": [],
   "source": [
    "assignerPoints(naturalist='Cyril Brunel', # \n",
    "               numPoints=[262, 263, 280, 281, 282, 283, 299, 300, 301]) # OK 18/03, naturalist 27/03"
   ]
  },
  {
   "cell_type": "code",
   "execution_count": null,
   "metadata": {},
   "outputs": [],
   "source": [
    "assignerPoints(naturalist='Romain Riols', # \n",
    "               numPoints=[210, 211, 228, 245, 246, 247, 265, 266, 284]) # OK, naturalist, 01/04"
   ]
  },
  {
   "cell_type": "code",
   "execution_count": null,
   "metadata": {},
   "outputs": [],
   "source": [
    "assignerPoints(papier='David Houston', # \n",
    "               numPoints=[]) # OK, papier /03"
   ]
  },
  {
   "cell_type": "code",
   "execution_count": null,
   "metadata": {},
   "outputs": [],
   "source": [
    "assignerPoints(papier='Laurent Maly', # \n",
    "               numPoints=[]) # contacté, attente de réponse"
   ]
  },
  {
   "cell_type": "code",
   "execution_count": null,
   "metadata": {},
   "outputs": [],
   "source": [
    "assignerPoints(papier='Patrick Mougel', # \n",
    "               numPoints=[]) # OK, papier ou naturalist ? 18/03"
   ]
  },
  {
   "cell_type": "code",
   "execution_count": null,
   "metadata": {},
   "outputs": [],
   "source": [
    "assignerPoints(papier='Thyphaine Lyon', # \n",
    "               numPoints=[]) # OK, papier ou naturalist ? 26/03"
   ]
  },
  {
   "cell_type": "code",
   "execution_count": null,
   "metadata": {},
   "outputs": [],
   "source": []
  },
  {
   "cell_type": "code",
   "execution_count": null,
   "metadata": {},
   "outputs": [],
   "source": [
    "# Pour tests.\n",
    "#assignerPoints(papier='Jean-Philippe', numPoints=[23, 39, 40])  # tests\n",
    "#assignerPoints(naturalist='Jean-Philippe', numPoints=[145, 146, 147])  # tests\n",
    "#assignerPoints(papier='François', numPoints=[109, 110, 112])  # tests\n",
    "#assignerPoints(naturalist='François', numPoints=[41, 42])  # tests"
   ]
  },
  {
   "cell_type": "code",
   "execution_count": null,
   "metadata": {},
   "outputs": [],
   "source": [
    "dfPoints.tail()"
   ]
  },
  {
   "cell_type": "code",
   "execution_count": null,
   "metadata": {
    "scrolled": false
   },
   "outputs": [],
   "source": [
    "# Bilan global\n",
    "dfBilan = pd.DataFrame(data=[(len(dfPoints[dfPoints.papier == obseur]), len(dfPoints[dfPoints.naturalist == obseur])) \\\n",
    "                             for obseur in dfObseurs.nom] \\\n",
    "                            + [(len(dfPoints[dfPoints.papier.notnull()]), len(dfPoints[dfPoints.naturalist.notnull()])),\n",
    "                               (len(dfPoints[dfPoints.papier.isnull()]), len(dfPoints[dfPoints.naturalist.isnull()]))],\n",
    "                       columns=['Papier', 'Naturalist'],\n",
    "                       index=list(dfObseurs.nom) + ['Assignés', 'Non assignés'])\n",
    "dfBilan"
   ]
  },
  {
   "cell_type": "code",
   "execution_count": null,
   "metadata": {},
   "outputs": [],
   "source": [
    "# En pourcentages ...\n",
    "round(100 * dfBilan.loc[['Assignés', 'Non assignés']] / len(dfPoints), 1)"
   ]
  },
  {
   "cell_type": "code",
   "execution_count": null,
   "metadata": {},
   "outputs": [],
   "source": [
    "dict(nbObseursAvecPoints=len(dfBilan[(dfBilan.Papier > 0) | (dfBilan.Naturalist > 0)].index)-2, nbObseursBrut=len(dfObseurs))"
   ]
  },
  {
   "cell_type": "code",
   "execution_count": null,
   "metadata": {
    "scrolled": true
   },
   "outputs": [],
   "source": [
    "# Uniquement les observateur présents le 31/03\n",
    "dfBilan.loc[dfBilan.index.isin(dfObseurs[dfObseurs['31 mars'] != 'non'].nom)]"
   ]
  },
  {
   "cell_type": "code",
   "execution_count": null,
   "metadata": {},
   "outputs": [],
   "source": [
    "df = dfObseurs[dfObseurs.nom.isin(dfBilan.loc[(dfBilan.Papier == 0) & (dfBilan.Naturalist == 0)].index)]\n",
    "print('Observateurs n\\'ayant pas encore choisi leurs points :', len(df))\n",
    "print('* Les noms :', ', '.join(df.nom))\n",
    "print('* Les emails :', ', '.join(df.eMail))"
   ]
  },
  {
   "cell_type": "markdown",
   "metadata": {},
   "source": [
    "## 5) Export Excel"
   ]
  },
  {
   "cell_type": "code",
   "execution_count": null,
   "metadata": {},
   "outputs": [],
   "source": [
    "attrTableFileName = 'ACDC/ACDC2019-AttributionsPoints.xlsx'\n",
    "\n",
    "with pd.ExcelWriter(attrTableFileName) as xlWriter:\n",
    "    dfPoints.reset_index().to_excel(xlWriter, sheet_name='AttribDétails', index=False)\n",
    "    dfBilan.to_excel(xlWriter, sheet_name='AttribSynthèse')\n",
    "    dfObseurs.to_excel(xlWriter, sheet_name='Observateurs', index=False)\n",
    "\n",
    "HTML(\"\"\"<p>Attributions : <a href='{fileName}' target=\"_blank\">{fileName}</a></p>\"\"\" \\\n",
    "     .format(fileName=attrTableFileName))"
   ]
  },
  {
   "cell_type": "markdown",
   "metadata": {},
   "source": [
    "## 6) Génération des KML individuels, avec cercles d'aide au relevé DS"
   ]
  },
  {
   "cell_type": "code",
   "execution_count": null,
   "metadata": {},
   "outputs": [],
   "source": [
    "#Matrice de couleur des points selon l'assignation papier / naturalist du point\n",
    "#                               Naturalist    \n",
    "#                     papier    \n",
    "KDefPointColors = { True  : { True : skml.Color.red,     False : skml.Color.lightgreen },\n",
    "                    False : { True : skml.Color.fuchsia, False : skml.Color.cyan } }\n",
    "\n",
    "def genererKml(dfPoints, dfZonePoly=None, observer=None, pointsColor=KDefPointColors,\n",
    "               circles=[(25, 20), (100, 30), (200, 40)], circlesColor=skml.Color.white,\n",
    "               title=None, postfix='cercles-stoceps', tgtDir='ACDC'):\n",
    "    \n",
    "    dfObsverPoints = dfPoints[(dfPoints.papier == observer) | (dfPoints.naturalist == observer)] if observer else dfPoints\n",
    "    if len(dfObsverPoints) == 0:\n",
    "        return None\n",
    "    \n",
    "    if not isinstance(pointsColor, dict):\n",
    "        pointsColor = { papAss : { natAss : pointsColor for natAss in [True, False] } for papAss in [True, False] }\n",
    "    \n",
    "    kml = skml.Kml(name=title or 'Points ACDC 2019{}'.format(' '+observer if observer else ''))\n",
    "\n",
    "    labelStyle = { papAss : { natAss : skml.LabelStyle(color=pointsColor[papAss][natAss], scale=1) \\\n",
    "                             for natAss in pointsColor[papAss] } for papAss in pointsColor }\n",
    "    iconStyle = skml.IconStyle(icon=skml.Icon(href='http://maps.google.com/mapfiles/kml/shapes/placemark_circle.png'))\n",
    "    ptStyle = { papAss : { natAss : skml.Style(labelstyle=labelStyle[papAss][natAss], iconstyle=iconStyle) \\\n",
    "                           for natAss in pointsColor[papAss] } for papAss in pointsColor }\n",
    "    lineStyle = skml.LineStyle(color=skml.Color.red, width=3)\n",
    "\n",
    "    if dfZonePoly is not None:\n",
    "        ls = kml.newlinestring(name='Zone ACDC Cournols-Olloix JPD', extrude=1,\n",
    "                               coords=dfZonePoly[['long', 'lat', 'alt']].values)\n",
    "        ls.linestyle = lineStyle\n",
    "        \n",
    "    circleStyle = skml.LineStyle(color=circlesColor, width=1)\n",
    "\n",
    "    obsver = ''\n",
    "    for idx, sPt in dfObsverPoints.iterrows():\n",
    "        \n",
    "        # Point\n",
    "        pt = kml.newpoint(name=str(idx), coords=[(sPt.longitude, sPt.latitude, 0)], extrude=1)\n",
    "        pt.style = ptStyle[sPt.papier is not None][sPt.naturalist is not None]\n",
    "\n",
    "        pt.description = 'Papier: {}, Naturalist: {} - UTM31 : lat={:.3f}km, long={:.3f}km' \\\n",
    "                         .format(sPt.papier or 'Personne', sPt.naturalist or 'Personne',\n",
    "                                 sPt.longitude_utm, sPt.latitude_utm)\n",
    "        \n",
    "        # Cercles concentriques\n",
    "        for r, n in circles:\n",
    "            ls = kml.newlinestring(name='rayon={}m'.format(r), extrude=1,\n",
    "                                   coords=kmlcircle.spoints(long=sPt.longitude, lat=sPt.latitude, meters=r, n=n, offset=0))\n",
    "            ls.linestyle = circleStyle\n",
    "\n",
    "    tgtKmlFileName = os.path.join(tgtDir, 'ACDC2019-{}{}-points{}.kml' \\\n",
    "                                          .format(observer.replace(' ', '').replace('-', '') +'-' if observer \\\n",
    "                                                  else '', len(dfObsverPoints), '-'+postfix if postfix else ''))\n",
    "    kml.save(tgtKmlFileName)\n",
    "    \n",
    "    return tgtKmlFileName"
   ]
  },
  {
   "cell_type": "code",
   "execution_count": null,
   "metadata": {},
   "outputs": [],
   "source": [
    "# Tous les observateurs, 1 par 1, cercles STOC EPS blancs.\n",
    "html = \"<table>\"\n",
    "for indObseur, obseur in enumerate(dfObseurs.nom):\n",
    "    nomFicCarteAttrib = genererKml(dfPoints, dfZonePoly, obseur)\n",
    "    html += \"\"\"<tr><td>{num}</td>\n",
    "                   <td style='text-align:left'>{obseur}</td>\n",
    "                   <td  style='text-align:left'>{fileLink}</td></tr>\"\"\" \\\n",
    "            .format(num=indObseur+1, obseur=obseur,\n",
    "                    fileLink=\"<a href='{fileName}' target='_blank'>{fileName}</a>\".format(fileName=nomFicCarteAttrib) \\\n",
    "                             if nomFicCarteAttrib else '')\n",
    "html += '</table>'\n",
    "\n",
    "HTML(html)"
   ]
  },
  {
   "cell_type": "code",
   "execution_count": null,
   "metadata": {},
   "outputs": [],
   "source": [
    "# Tous les observateurs, tous ensembles, cercles STOC EPS blancs.\n",
    "nomFicCarteAttrib = genererKml(dfPoints, dfZonePoly)\n",
    "\n",
    "HTML(\"\"\"<p>Tous les points, cercles STOC-EPS : <a href='{fileName}' target=\"_blank\">{fileName}</a></p>\"\"\" \\\n",
    "     .format(fileName=nomFicCarteAttrib))"
   ]
  },
  {
   "cell_type": "code",
   "execution_count": null,
   "metadata": {},
   "outputs": [],
   "source": [
    "# Tous les observateurs, tous ensembles, cercles 300m éval. milieux fuschia.\n",
    "nomFicCarteAttrib = genererKml(dfPoints, dfZonePoly, postfix='cercles-milieux', \n",
    "                               circles=[(300, 50)], circlesColor=skml.Color.fuchsia)\n",
    "\n",
    "HTML(\"\"\"<p>Tous les points, cercles milieux naturels : <a href='{fileName}' target=\"_blank\">{fileName}</a></p>\"\"\" \\\n",
    "     .format(fileName=nomFicCarteAttrib))"
   ]
  },
  {
   "cell_type": "code",
   "execution_count": null,
   "metadata": {},
   "outputs": [],
   "source": [
    "# Un seul observateur, cercles STOC EPS blancs.\n",
    "#obseur = 'Jean-Philippe Meuret'\n",
    "#nomFicCarteAttrib = genererKml(dfPoints, dfZonePoly, observer=obseur)\n",
    "#\n",
    "#HTML(\"\"\"<p>Points de {obser}, cercles STOC-EPS : <a href='{fileName}' target=\"_blank\">{fileName}</a></p>\"\"\" \\\n",
    "#     .format(obser=obseur, fileName=nomFicCarteAttrib))"
   ]
  },
  {
   "cell_type": "code",
   "execution_count": null,
   "metadata": {},
   "outputs": [],
   "source": []
  },
  {
   "cell_type": "code",
   "execution_count": null,
   "metadata": {},
   "outputs": [],
   "source": [
    "raise Exception('On s\\'arrête ici !')"
   ]
  },
  {
   "cell_type": "markdown",
   "metadata": {},
   "source": [
    "## 7) Cartographie des points obtenus"
   ]
  },
  {
   "cell_type": "code",
   "execution_count": null,
   "metadata": {
    "scrolled": false
   },
   "outputs": [],
   "source": [
    "#tiles, attr = 'http://{s}.tile.openstreetmap.org/{z}/{x}/{y}.png', 'osm'# OK\n",
    "tiles, attr = 'https://{s}.tile.thunderforest.com/outdoors/{z}/{x}/{y}.png', 'thunderforest' # OK\n",
    "#tiles, attr = 'http://{s}.tile.openstreetmap.fr/fradm/{z}/{x}/{y}.png', 'osm fr' # marche pô\n",
    "#tiles, attr = 'https://{s}.tile.openstreetmap.fr/qa/{zoom}/{x}/{y}.png', 'osm fr' # marche pô\n",
    "mp = folium.Map(tiles=tiles, attr=attr)\n",
    "\n",
    "poly = folium.PolyLine(locations=[(lat, long) for long, lat in dfZonePoly[['long', 'lat']].itertuples(index=False)],\n",
    "                       color='red', opacity=0.8, popup='Zone ACDC Cournols-Olloix JPD')\n",
    "poly.add_to(mp)\n",
    "for indPt, sPt in dfPoints.iterrows():\n",
    "    mrk = folium.Marker(location=(sPt.latitude, sPt.longitude), \n",
    "                        popup=folium.Popup('Papier:{}, Naturalist:{} - UTM31: lat={:.3f}km, long={:.3f}km' \\\n",
    "                                           .format(sPt.papier or 'Personne', sPt.naturalist or 'Personne',\n",
    "                                                   sPt.longitude_utm, sPt.latitude_utm)),\n",
    "                        icon=folium.Icon(color='green', icon_color='black'))\n",
    "    mrk.add_to(mp)\n",
    "    \n",
    "mp.fit_bounds(mp.get_bounds())\n",
    "mp"
   ]
  },
  {
   "cell_type": "code",
   "execution_count": null,
   "metadata": {},
   "outputs": [],
   "source": []
  },
  {
   "cell_type": "markdown",
   "metadata": {},
   "source": [
    "# Génération du KML pour la matinée de formation du 31/03"
   ]
  },
  {
   "cell_type": "code",
   "execution_count": null,
   "metadata": {},
   "outputs": [],
   "source": [
    "dfPointsForm = pd.DataFrame(data=[dict(papier='testeurs', naturalist=None, latitude=45.64776, longitude=3.04115,\n",
    "                                       latitude_utm=0.0, longitude_utm=0.0, altitude=0, description='Point formation 1'),\n",
    "                                  dict(papier='testeurs', naturalist=None, latitude=45.64752, longitude=3.04500,\n",
    "                                       latitude_utm=0.0, longitude_utm=0.0, altitude=0, description='Point formation 2'),\n",
    "                                  dict(papier='testeurs', naturalist=None, latitude=45.64661, longitude=3.04974,\n",
    "                                       latitude_utm=0.0, longitude_utm=0.0, altitude=0, description='Point formation 3'),\n",
    "                                  dict(papier='testeurs', naturalist=None, latitude=45.64908, longitude=3.04857,\n",
    "                                       latitude_utm=0.0, longitude_utm=0.0, altitude=0, description='Point formation 4')],\n",
    "                           index=range(1, 5))"
   ]
  },
  {
   "cell_type": "code",
   "execution_count": null,
   "metadata": {},
   "outputs": [],
   "source": [
    "# Tous les points du test, cercles STOC EPS blancs.\n",
    "nomFicCartePtsForm = genererKml(dfPointsForm, title='ACDC 2019 Points Formation 31/03', postfix='formation-cercles-stoceps')\n",
    "\n",
    "HTML(\"\"\"<p>Tous les points, cercles STOC-EPS : <a href='{fileName}' target=\"_blank\">{fileName}</a></p>\"\"\" \\\n",
    "     .format(fileName=nomFicCartePtsForm))"
   ]
  },
  {
   "cell_type": "code",
   "execution_count": null,
   "metadata": {},
   "outputs": [],
   "source": []
  },
  {
   "cell_type": "code",
   "execution_count": null,
   "metadata": {},
   "outputs": [],
   "source": []
  },
  {
   "cell_type": "code",
   "execution_count": null,
   "metadata": {},
   "outputs": [],
   "source": []
  },
  {
   "cell_type": "markdown",
   "metadata": {},
   "source": [
    "# Génération de la grille initiale de points de relevés DS\n",
    "\n",
    "1. charger KML donnant les limites de la zone\n",
    "    * lecture KML => polygone zone en coordonnées sphériques\n",
    "    * conversion / projection en coordonnées métriques : UTM 31\n",
    "2. générer les points sur la grille et dans les limites de la zone, + certaine distance pour élargir ?\n",
    "    * grille UTM 31 + qq 100m (qq entier)\n",
    "    * 1er jet rectancle circonscrit à la zone (xMin, yMin, xMax, yMax) + marge\n",
    "    * élimination des points hors du polygone de la zone ciblée + marge\n",
    "3. exporter en KML\n",
    "\n",
    "Cette grille devra être nettoyée des points inaccessibles, en forêt ..."
   ]
  },
  {
   "cell_type": "markdown",
   "metadata": {},
   "source": [
    "## 1a) Charger KML donnant les limites de la zone"
   ]
  },
  {
   "cell_type": "code",
   "execution_count": null,
   "metadata": {},
   "outputs": [],
   "source": [
    "kmlRoot = etree.ElementTree().parse('ACDC2019-limites-zone.kml')"
   ]
  },
  {
   "cell_type": "code",
   "execution_count": null,
   "metadata": {
    "scrolled": true
   },
   "outputs": [],
   "source": [
    "# On suppose que c'est le 1er polygône\n",
    "plMark = kmlRoot.find('kml:Document/kml:Document/kml:Placemark', namespaces=kmlNameSpaces)\n",
    "zonePoly = plMark.find('kml:Polygon/kml:outerBoundaryIs/kml:LinearRing/kml:coordinates',\n",
    "                       namespaces=kmlNameSpaces).text.strip()\n",
    "dfZonePoly = pd.DataFrame(data=[[float(v) for v in point.split(',')] for point in zonePoly.split(' ')],\n",
    "                          columns=['long', 'lat', 'alt'])\n",
    "dfZonePoly.head()"
   ]
  },
  {
   "cell_type": "markdown",
   "metadata": {},
   "source": [
    "## 1b) Conversion coords polygône en métriques"
   ]
  },
  {
   "cell_type": "code",
   "execution_count": null,
   "metadata": {},
   "outputs": [],
   "source": [
    "# Attention : Les colonnes sources (x,y) et (x_observateur,y_observateur)\n",
    "#             sont bizarement des couples (lat, long), et pas l'inverse.\n",
    "dfZonePoly[['xUtm', 'yUtm']] = \\\n",
    "  dfZonePoly[['long', 'lat']].apply(geoProjeter, srcProj=KProjWgs84, tgtProj=KProjUtm31, axis='columns')\n",
    "dfZonePoly[['xUtm', 'yUtm']] = dfZonePoly[['xUtm', 'yUtm']].replace(KInfValues, np.nan) #, inplace=True)"
   ]
  },
  {
   "cell_type": "code",
   "execution_count": null,
   "metadata": {},
   "outputs": [],
   "source": [
    "dfZonePoly.head()"
   ]
  },
  {
   "cell_type": "code",
   "execution_count": null,
   "metadata": {},
   "outputs": [],
   "source": [
    "# Rectangle circonscrit à la zone\n",
    "xUtmMin, yUtmMin, xUtmMax, yUtmMax = \\\n",
    "    dfZonePoly.xUtm.min(), dfZonePoly.yUtm.min(), dfZonePoly.xUtm.max(), dfZonePoly.yUtm.max()\n",
    "xUtmMin, yUtmMin, xUtmMax, yUtmMax"
   ]
  },
  {
   "cell_type": "markdown",
   "metadata": {},
   "source": [
    "## 2a) Détermination / choix de la taille des cellules de la grille"
   ]
  },
  {
   "cell_type": "code",
   "execution_count": null,
   "metadata": {},
   "outputs": [],
   "source": [
    "# Le polygone de la zone (et sa surface en ha).\n",
    "geoZonePoly = geometry.Polygon(shell=[(x, y) for x, y in dfZonePoly[['xUtm', 'yUtm']].itertuples(index=False)])\n",
    "\n",
    "geoZonePoly.area / 10000"
   ]
  },
  {
   "cell_type": "code",
   "execution_count": null,
   "metadata": {},
   "outputs": [],
   "source": [
    "# Nombre de points approximatif à répartir sur la zone.\n",
    "nPoints = 150\n",
    "txCouver = 60 # % ; rapide calcul après avoir dit : 100 points sur 2000 ha de milieux cibles (on vire les forêts)"
   ]
  },
  {
   "cell_type": "code",
   "execution_count": null,
   "metadata": {},
   "outputs": [],
   "source": [
    "# Surface couverte par 1 point\n",
    "surfPoint = geoZonePoly.area / nPoints\n",
    "surfPoint / 10000, 'ha'"
   ]
  },
  {
   "cell_type": "code",
   "execution_count": null,
   "metadata": {},
   "outputs": [],
   "source": [
    "# Soit un cercle de diamètre ...\n",
    "deltaXYPoints = 2 * math.sqrt(surfPoint) * 100 / txCouver / math.pi\n",
    "deltaXYPoints"
   ]
  },
  {
   "cell_type": "code",
   "execution_count": null,
   "metadata": {},
   "outputs": [],
   "source": [
    "# Bon, on prend plutôt ...\n",
    "deltaXYPoints = 500 #400"
   ]
  },
  {
   "cell_type": "markdown",
   "metadata": {},
   "source": [
    "## 2b) Premier jet de points dans rectangle circonscrit + marge d'1 point"
   ]
  },
  {
   "cell_type": "code",
   "execution_count": null,
   "metadata": {},
   "outputs": [],
   "source": [
    "# Rectangle circonscrit + marge d'1 point\n",
    "xUtmMinR = xUtmMin - deltaXYPoints / 2\n",
    "xUtmMaxR = xUtmMax + deltaXYPoints / 2\n",
    "yUtmMinR = yUtmMin - deltaXYPoints / 2\n",
    "yUtmMaxR = yUtmMax + deltaXYPoints / 2"
   ]
  },
  {
   "cell_type": "code",
   "execution_count": null,
   "metadata": {},
   "outputs": [],
   "source": [
    "# Alignement sur une grille UTM à N m, avec ajustement par décalage en X, Y si besoin\n",
    "uniteAlign = 100 # m\n",
    "offsetX = 0\n",
    "offsetY = 0\n",
    "\n",
    "xUtmMinR = uniteAlign * math.floor(xUtmMinR / uniteAlign) + offsetX\n",
    "yUtmMinR = uniteAlign * math.floor(yUtmMinR / uniteAlign) + offsetY\n",
    "xUtmMaxR = uniteAlign * math.ceil(xUtmMaxR / uniteAlign) + offsetX\n",
    "yUtmMaxR = uniteAlign * math.ceil(yUtmMaxR / uniteAlign) + offsetY\n",
    "\n",
    "xUtmMinR, yUtmMinR, xUtmMaxR, yUtmMaxR"
   ]
  },
  {
   "cell_type": "code",
   "execution_count": null,
   "metadata": {},
   "outputs": [],
   "source": [
    "dfPoints = pd.DataFrame(data=[dict(xUtm=x, yUtm=y) \\\n",
    "                              for y in np.arange(yUtmMaxR, yUtmMinR - deltaXYPoints, -deltaXYPoints) \\\n",
    "                              for x in np.arange(xUtmMinR, xUtmMaxR + deltaXYPoints, deltaXYPoints)])\n",
    "dfPoints['numero'] = range(1, len(dfPoints)+1)\n",
    "dfPoints[['long', 'lat']] = \\\n",
    "  dfPoints[['xUtm', 'yUtm']].apply(geoProjeter, srcProj=KProjUtm31, tgtProj=KProjWgs84, axis='columns')\n",
    "dfPoints.set_index('numero', inplace=True)\n",
    "dfPoints.head()"
   ]
  },
  {
   "cell_type": "markdown",
   "metadata": {},
   "source": [
    "## 2c) Supprimer les points hors zone + marge"
   ]
  },
  {
   "cell_type": "code",
   "execution_count": null,
   "metadata": {},
   "outputs": [],
   "source": [
    "# Marge en distance au delà de l'appartenance au polygône de la zone.\n",
    "marginDist = deltaXYPoints * 1.0 #* 0.25"
   ]
  },
  {
   "cell_type": "code",
   "execution_count": null,
   "metadata": {},
   "outputs": [],
   "source": [
    "def pointAroundZone(sXYPoint):\n",
    "    point = geometry.Point(sXYPoint)\n",
    "    #return geoZonePoly.contains(point) or point.distance(geoZonePoly) < marginDist\n",
    "    return point.distance(geoZonePoly) < marginDist # Pas besoin de tester l'appartenance, distance() le fait.\n",
    "dfPoints['aroundZoneExt'] = \\\n",
    "    dfPoints[['xUtm', 'yUtm']].apply(pointAroundZone, axis='columns')\n",
    "len(dfPoints), len(dfPoints[dfPoints.aroundZoneExt])"
   ]
  },
  {
   "cell_type": "code",
   "execution_count": null,
   "metadata": {},
   "outputs": [],
   "source": [
    "dfSelPoints = dfPoints[dfPoints.aroundZoneExt]\n",
    "dfSelPoints.head()"
   ]
  },
  {
   "cell_type": "markdown",
   "metadata": {},
   "source": [
    "## 3a) Cartographie des points obtenus"
   ]
  },
  {
   "cell_type": "code",
   "execution_count": null,
   "metadata": {},
   "outputs": [],
   "source": [
    "tiles, attr = 'http://{s}.tile.openstreetmap.org/{z}/{x}/{y}.png', 'osm'# OK\n",
    "#tiles, attr = 'https://{s}.tile.thunderforest.com/outdoors/{z}/{x}/{y}.png', 'thunderforest' # OK\n",
    "#tiles, attr = 'http://{s}.tile.openstreetmap.fr/fradm/{z}/{x}/{y}.png', 'osm fr' # marche pô\n",
    "#tiles, attr = 'https://{s}.tile.openstreetmap.fr/qa/{zoom}/{x}/{y}.png', 'osm fr' # marche pô\n",
    "mp = folium.Map(tiles=tiles, attr=attr)\n",
    "\n",
    "poly = folium.PolyLine(locations=[(lat, long) for long, lat in dfZonePoly[['long', 'lat']].itertuples(index=False)],\n",
    "                       color='red', opacity=0.8, popup='Zone ACDC Cournols-Olloix JPD')\n",
    "poly.add_to(mp)\n",
    "for indPt, sPt in dfSelPoints.iterrows():\n",
    "    mrk = folium.Marker(location=(sPt.lat, sPt.long), \n",
    "                        popup=folium.Popup('{} : lat={:.1f}, long={:.1f}'.format(indPt, sPt.lat, sPt.long)),\n",
    "                        icon=folium.Icon(color='green', icon_color='black'))\n",
    "    mrk.add_to(mp)\n",
    "    \n",
    "mp.fit_bounds(mp.get_bounds())\n",
    "mp"
   ]
  },
  {
   "cell_type": "markdown",
   "metadata": {},
   "source": [
    "## 3b) Export KML"
   ]
  },
  {
   "cell_type": "code",
   "execution_count": null,
   "metadata": {},
   "outputs": [],
   "source": [
    "dfSelPoints.head()"
   ]
  },
  {
   "cell_type": "code",
   "execution_count": null,
   "metadata": {},
   "outputs": [],
   "source": [
    "kml = skml.Kml(name='Points ACDC 2019 (dist={:.0f}m, marge={:.0f}m, n={})' \\\n",
    "               .format(deltaXYPoints, marginDist, len(dfSelPoints)))"
   ]
  },
  {
   "cell_type": "code",
   "execution_count": null,
   "metadata": {},
   "outputs": [],
   "source": [
    "labelStyle = skml.LabelStyle(color=skml.Color.red, scale=1)\n",
    "iconStyle = skml.IconStyle(icon=skml.Icon(href='http://maps.google.com/mapfiles/kml/shapes/placemark_circle.png'))\n",
    "ptStyle = skml.Style(labelstyle=labelStyle, iconstyle=iconStyle)\n",
    "\n",
    "lineStyle = skml.LineStyle(color=skml.Color.red, width=3)"
   ]
  },
  {
   "cell_type": "code",
   "execution_count": null,
   "metadata": {},
   "outputs": [],
   "source": [
    "ls = kml.newlinestring(name='Zone ACDC Cournols-Olloix JPD', extrude=1,\n",
    "                       coords=dfZonePoly[['long', 'lat', 'alt']].values)\n",
    "                       #coords=[(long, lat, alt) for long, lat, alt in dfZonePoly[['long', 'lat', 'alt']].itertuples(index=False)])\n",
    "ls.linestyle = lineStyle\n",
    "\n",
    "for idx, sPt in dfSelPoints.iterrows():\n",
    "    pt = kml.newpoint(name=str(idx), coords=[(sPt.long, sPt.lat, 0)], extrude=1)\n",
    "    pt.style = ptStyle\n",
    "    pt.description = 'lat={:.1f}, long={:.1f}, alt={:.0f}'.format(sPt.long, sPt.lat, 0)"
   ]
  },
  {
   "cell_type": "code",
   "execution_count": null,
   "metadata": {},
   "outputs": [],
   "source": [
    "tgtKmlFileName = \\\n",
    "  'ACDC2019-{}points-et-limites-zone-d{:.0f}-m{:.0f}.kml'.format(len(dfSelPoints), deltaXYPoints, marginDist)\n",
    "kml.save(tgtKmlFileName)"
   ]
  },
  {
   "cell_type": "markdown",
   "metadata": {},
   "source": [
    "## 3c) Export Excel"
   ]
  },
  {
   "cell_type": "code",
   "execution_count": null,
   "metadata": {},
   "outputs": [],
   "source": [
    "tgtXlsxFileName = \\\n",
    "  'ACDC2019-{}points-et-limites-zone-d{:.0f}-m{:.0f}.xlsx'.format(len(dfSelPoints), deltaXYPoints, marginDist)\n",
    "\n",
    "dfSelPoints[['xUtm', 'yUtm', 'long', 'lat']].reset_index().to_excel(tgtXlsxFileName, index=False)"
   ]
  },
  {
   "cell_type": "code",
   "execution_count": null,
   "metadata": {},
   "outputs": [],
   "source": []
  }
 ],
 "metadata": {
  "kernelspec": {
   "display_name": "Python 3",
   "language": "python",
   "name": "python3"
  },
  "language_info": {
   "codemirror_mode": {
    "name": "ipython",
    "version": 3
   },
   "file_extension": ".py",
   "mimetype": "text/x-python",
   "name": "python",
   "nbconvert_exporter": "python",
   "pygments_lexer": "ipython3",
   "version": "3.6.7"
  }
 },
 "nbformat": 4,
 "nbformat_minor": 2
}
