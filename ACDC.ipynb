{
 "cells": [
  {
   "cell_type": "markdown",
   "metadata": {},
   "source": [
    "# ACDC : l'Autre Carré D'à Côté\n",
    "\n",
    "alias \"la zone à JPD\"\n",
    "\n",
    "alias \"le plateau de Cournols-Olloix\"\n",
    "\n",
    "(pour faire du DS évidemment)"
   ]
  },
  {
   "cell_type": "code",
   "execution_count": null,
   "metadata": {},
   "outputs": [],
   "source": [
    "import sys\n",
    "import math\n",
    "import re\n",
    "import datetime as dt\n",
    "import pandas as pd\n",
    "import numpy as np"
   ]
  },
  {
   "cell_type": "markdown",
   "metadata": {},
   "source": [
    "# Cartographie des points ACDC 2019\n",
    "\n",
    "1. charger KML donnant les limites de la zone\n",
    "    * lecture KML => polygone zone en coordonnées sphériques\n",
    "    * conversion / projection en coordonnées métriques : UTM 31\n",
    "2. générer les points sur la grille et dans les limites de la zone, + certaine distance pour élargir ?\n",
    "    * grille UTM 31 + qq 100m (qq entier)\n",
    "    * 1er jet rectancle circonscrit à la zone (xMin, yMin, xMax, yMax) + marge\n",
    "    * élimination des points hors du polygone de la zone ciblée + marge\n",
    "3. exporter en KML"
   ]
  },
  {
   "cell_type": "markdown",
   "metadata": {},
   "source": [
    "## 1a) Charger KML donnant les limites de la zone"
   ]
  },
  {
   "cell_type": "code",
   "execution_count": null,
   "metadata": {},
   "outputs": [],
   "source": [
    "from lxml import etree"
   ]
  },
  {
   "cell_type": "code",
   "execution_count": null,
   "metadata": {},
   "outputs": [],
   "source": [
    "kmlNameSpaces = \\\n",
    "  { 'gx' : 'http://www.google.com/kml/ext/2.2',\n",
    "    'kml' : 'http://www.opengis.net/kml/2.2',\n",
    "    'atom' : 'http://www.w3.org/2005/Atom' }"
   ]
  },
  {
   "cell_type": "code",
   "execution_count": null,
   "metadata": {},
   "outputs": [],
   "source": [
    "kmlRoot = etree.ElementTree().parse('ACDC2019-limites-zone.kml')"
   ]
  },
  {
   "cell_type": "code",
   "execution_count": null,
   "metadata": {
    "scrolled": true
   },
   "outputs": [],
   "source": [
    "# On suppose que c'est le 1er polygône\n",
    "plMark = kmlRoot.find('kml:Document/kml:Document/kml:Placemark', namespaces=kmlNameSpaces)\n",
    "zonePoly = plMark.find('kml:Polygon/kml:outerBoundaryIs/kml:LinearRing/kml:coordinates',\n",
    "                         namespaces=kmlNameSpaces).text.strip()\n",
    "dfZonePoly = pd.DataFrame(data=[[float(v) for v in point.split(',')] for point in zonePoly.split(' ')],\n",
    "                          columns=['long', 'lat', 'alt'])\n",
    "dfZonePoly.head()"
   ]
  },
  {
   "cell_type": "markdown",
   "metadata": {},
   "source": [
    "## 1b) Conversion coords polygône en métriques"
   ]
  },
  {
   "cell_type": "code",
   "execution_count": null,
   "metadata": {},
   "outputs": [],
   "source": [
    "import pyproj"
   ]
  },
  {
   "cell_type": "code",
   "execution_count": null,
   "metadata": {},
   "outputs": [],
   "source": [
    "# Projection coordonnées sphériques (degrés)=> coordonnées planes (système cible au choix)\n",
    "KProjWgs84 = pyproj.Proj(init='epsg:4326') # WGS 84 : long, lat en degrés\n",
    "\n",
    "KProjUtm31  = pyproj.Proj(init='epsg:32631') # WGS 84 - UTM 31N : long, lat en m\n",
    "KProjCc46   = pyproj.Proj(init='epsg:3946')  # RGF 93 - CC46    : long, lat en m\n",
    "KProjLamb93 = pyproj.Proj(init='epsg:2154')  # RGF 93 - Lambert : long, lat en m\n",
    "\n",
    "def geoProjeter(sCoords, srcProj, tgtProj): # sCoords : [0]=x=long, [1]=y=lat\n",
    "    return pd.Series(pyproj.transform(srcProj, tgtProj, sCoords[0], sCoords[1]))"
   ]
  },
  {
   "cell_type": "code",
   "execution_count": null,
   "metadata": {},
   "outputs": [],
   "source": [
    "# Attention : Les colonnes sources (x,y) et (x_observateur,y_observateur)\n",
    "#             sont bizarement des couples (lat, long), et pas l'inverse.\n",
    "KInfValues = [np.inf, -np.inf]\n",
    "dfZonePoly[['xUtm', 'yUtm']] = \\\n",
    "  dfZonePoly[['long', 'lat']].apply(geoProjeter, srcProj=KProjWgs84, tgtProj=KProjUtm31, axis='columns')\n",
    "dfZonePoly[['xUtm', 'yUtm']] = dfZonePoly[['xUtm', 'yUtm']].replace(KInfValues, np.nan) #, inplace=True)"
   ]
  },
  {
   "cell_type": "code",
   "execution_count": null,
   "metadata": {},
   "outputs": [],
   "source": [
    "dfZonePoly.head()"
   ]
  },
  {
   "cell_type": "code",
   "execution_count": null,
   "metadata": {},
   "outputs": [],
   "source": [
    "# Rectangle circonscrit à la zone\n",
    "xUtmMin, yUtmMin, xUtmMax, yUtmMax = \\\n",
    "    dfZonePoly.xUtm.min(), dfZonePoly.yUtm.min(), dfZonePoly.xUtm.max(), dfZonePoly.yUtm.max()\n",
    "xUtmMin, yUtmMin, xUtmMax, yUtmMax"
   ]
  },
  {
   "cell_type": "markdown",
   "metadata": {},
   "source": [
    "## 2a) Détermination / choix de la taille des cellules de la grille"
   ]
  },
  {
   "cell_type": "code",
   "execution_count": null,
   "metadata": {},
   "outputs": [],
   "source": [
    "from shapely import geometry"
   ]
  },
  {
   "cell_type": "code",
   "execution_count": null,
   "metadata": {},
   "outputs": [],
   "source": [
    "# Le polygone de la zone (et sa surface en ha).\n",
    "geoZonePoly = geometry.Polygon(shell=[(x, y) for x, y in dfZonePoly[['xUtm', 'yUtm']].itertuples(index=False)])\n",
    "\n",
    "geoZonePoly.area / 10000"
   ]
  },
  {
   "cell_type": "code",
   "execution_count": null,
   "metadata": {},
   "outputs": [],
   "source": [
    "# Nombre de points approximatif à répartir sur la zone.\n",
    "nPoints = 150\n",
    "txCouver = 60 # % ; rapide calcul après avoir dit : 100 points sur 2000 ha de milieux cibles (on vire les forêts)"
   ]
  },
  {
   "cell_type": "code",
   "execution_count": null,
   "metadata": {},
   "outputs": [],
   "source": [
    "# Surface couverte par 1 point\n",
    "surfPoint = geoZonePoly.area / nPoints\n",
    "surfPoint / 10000, 'ha'"
   ]
  },
  {
   "cell_type": "code",
   "execution_count": null,
   "metadata": {},
   "outputs": [],
   "source": [
    "# Soit un cercle de diamètre ...\n",
    "deltaXYPoints = 2 * math.sqrt(surfPoint) * 100 / txCouver / math.pi\n",
    "deltaXYPoints"
   ]
  },
  {
   "cell_type": "code",
   "execution_count": null,
   "metadata": {},
   "outputs": [],
   "source": [
    "# Bon, on prend plutôt ...\n",
    "deltaXYPoints = 500 #400"
   ]
  },
  {
   "cell_type": "markdown",
   "metadata": {},
   "source": [
    "## 2b) Premier jet de points dans rectangle circonscrit + marge d'1 point"
   ]
  },
  {
   "cell_type": "code",
   "execution_count": null,
   "metadata": {},
   "outputs": [],
   "source": [
    "# Rectangle circonscrit + marge d'1 point\n",
    "xUtmMinR = xUtmMin - deltaXYPoints / 2\n",
    "xUtmMaxR = xUtmMax + deltaXYPoints / 2\n",
    "yUtmMinR = yUtmMin - deltaXYPoints / 2\n",
    "yUtmMaxR = yUtmMax + deltaXYPoints / 2"
   ]
  },
  {
   "cell_type": "code",
   "execution_count": null,
   "metadata": {},
   "outputs": [],
   "source": [
    "# Alignement sur une grille UTM à N m, avec ajustement par décalage en X, Y si besoin\n",
    "uniteAlign = 100 # m\n",
    "offsetX = 0\n",
    "offsetY = 0\n",
    "\n",
    "xUtmMinR = uniteAlign * math.floor(xUtmMinR / uniteAlign) + offsetX\n",
    "yUtmMinR = uniteAlign * math.floor(yUtmMinR / uniteAlign) + offsetY\n",
    "xUtmMaxR = uniteAlign * math.ceil(xUtmMaxR / uniteAlign) + offsetX\n",
    "yUtmMaxR = uniteAlign * math.ceil(yUtmMaxR / uniteAlign) + offsetY\n",
    "\n",
    "xUtmMinR, yUtmMinR, xUtmMaxR, yUtmMaxR"
   ]
  },
  {
   "cell_type": "code",
   "execution_count": null,
   "metadata": {},
   "outputs": [],
   "source": [
    "dfPoints = pd.DataFrame(data=[dict(xUtm=x, yUtm=y) \\\n",
    "                              for y in np.arange(yUtmMaxR, yUtmMinR - deltaXYPoints, -deltaXYPoints) \\\n",
    "                              for x in np.arange(xUtmMinR, xUtmMaxR + deltaXYPoints, deltaXYPoints)])\n",
    "dfPoints['numero'] = range(1, len(dfPoints)+1)\n",
    "dfPoints[['long', 'lat']] = \\\n",
    "  dfPoints[['xUtm', 'yUtm']].apply(geoProjeter, srcProj=KProjUtm31, tgtProj=KProjWgs84, axis='columns')\n",
    "dfPoints.set_index('numero', inplace=True)\n",
    "dfPoints.head()"
   ]
  },
  {
   "cell_type": "markdown",
   "metadata": {},
   "source": [
    "## 2c) Supprimer les points hors zone + marge"
   ]
  },
  {
   "cell_type": "code",
   "execution_count": null,
   "metadata": {},
   "outputs": [],
   "source": [
    "# Marge en distance au delà de l'appartenance au polygône de la zone.\n",
    "marginDist = deltaXYPoints * 1.0 #* 0.25"
   ]
  },
  {
   "cell_type": "code",
   "execution_count": null,
   "metadata": {},
   "outputs": [],
   "source": [
    "def pointAroundZone(sXYPoint):\n",
    "    point = geometry.Point(sXYPoint)\n",
    "    #return geoZonePoly.contains(point) or point.distance(geoZonePoly) < marginDist\n",
    "    return point.distance(geoZonePoly) < marginDist # Pas besoin de tester l'appartenance, distance() le fait.\n",
    "dfPoints['aroundZoneExt'] = \\\n",
    "    dfPoints[['xUtm', 'yUtm']].apply(pointAroundZone, axis='columns')\n",
    "len(dfPoints), len(dfPoints[dfPoints.aroundZoneExt])"
   ]
  },
  {
   "cell_type": "code",
   "execution_count": null,
   "metadata": {},
   "outputs": [],
   "source": [
    "dfSelPoints = dfPoints[dfPoints.aroundZoneExt]\n",
    "dfSelPoints.head()"
   ]
  },
  {
   "cell_type": "markdown",
   "metadata": {},
   "source": [
    "## 3a) Cartographie des points obtenus"
   ]
  },
  {
   "cell_type": "code",
   "execution_count": null,
   "metadata": {},
   "outputs": [],
   "source": [
    "import folium"
   ]
  },
  {
   "cell_type": "code",
   "execution_count": null,
   "metadata": {},
   "outputs": [],
   "source": [
    "tiles, attr = 'http://{s}.tile.openstreetmap.org/{z}/{x}/{y}.png', 'osm'# OK\n",
    "#tiles, attr = 'https://{s}.tile.thunderforest.com/outdoors/{z}/{x}/{y}.png', 'thunderforest' # OK\n",
    "#tiles, attr = 'http://{s}.tile.openstreetmap.fr/fradm/{z}/{x}/{y}.png', 'osm fr' # marche pô\n",
    "#tiles, attr = 'https://{s}.tile.openstreetmap.fr/qa/{zoom}/{x}/{y}.png', 'osm fr' # marche pô\n",
    "mp = folium.Map(tiles=tiles, attr=attr)\n",
    "\n",
    "poly = folium.PolyLine(locations=[(lat, long) for long, lat in dfZonePoly[['long', 'lat']].itertuples(index=False)],\n",
    "                       color='red', opacity=0.8, popup='Zone ACDC Cournols-Olloix JPD')\n",
    "poly.add_to(mp)\n",
    "for indPt, sPt in dfSelPoints.iterrows():\n",
    "    mrk = folium.Marker(location=(sPt.lat, sPt.long), \n",
    "                        popup=folium.Popup('{} : lat={:.1f}, long={:.1f}'.format(indPt, sPt.lat, sPt.long)),\n",
    "                        icon=folium.Icon(color='green', icon_color='black'))\n",
    "    mrk.add_to(mp)\n",
    "    \n",
    "mp.fit_bounds(mp.get_bounds())\n",
    "mp"
   ]
  },
  {
   "cell_type": "markdown",
   "metadata": {},
   "source": [
    "## 3b) Export KML"
   ]
  },
  {
   "cell_type": "code",
   "execution_count": null,
   "metadata": {},
   "outputs": [],
   "source": [
    "dfSelPoints.head()"
   ]
  },
  {
   "cell_type": "code",
   "execution_count": null,
   "metadata": {},
   "outputs": [],
   "source": [
    "import simplekml as skml # Simple KML generation API"
   ]
  },
  {
   "cell_type": "code",
   "execution_count": null,
   "metadata": {},
   "outputs": [],
   "source": [
    "kml = skml.Kml(name='Points ACDC 2019 (dist={:.0f}m, marge={:.0f}m, n={})' \\\n",
    "               .format(deltaXYPoints, marginDist, len(dfSelPoints)))"
   ]
  },
  {
   "cell_type": "code",
   "execution_count": null,
   "metadata": {},
   "outputs": [],
   "source": [
    "labelStyle = skml.LabelStyle(color=skml.Color.red, scale=1)\n",
    "iconStyle = skml.IconStyle(icon=skml.Icon(href='http://maps.google.com/mapfiles/kml/shapes/placemark_circle.png'))\n",
    "ptStyle = skml.Style(labelstyle=labelStyle, iconstyle=iconStyle)\n",
    "\n",
    "lineStyle = skml.LineStyle(color=skml.Color.red, width=3)"
   ]
  },
  {
   "cell_type": "code",
   "execution_count": null,
   "metadata": {},
   "outputs": [],
   "source": [
    "ls = kml.newlinestring(name='Zone ACDC Cournols-Olloix JPD', extrude=1,\n",
    "                       coords=dfZonePoly[['long', 'lat', 'alt']].values)\n",
    "                       #coords=[(long, lat, alt) for long, lat, alt in dfZonePoly[['long', 'lat', 'alt']].itertuples(index=False)])\n",
    "ls.linestyle = lineStyle\n",
    "\n",
    "for idx, sPt in dfSelPoints.iterrows():\n",
    "    pt = kml.newpoint(name=str(idx), coords=[(sPt.long, sPt.lat, 0)], extrude=1)\n",
    "    pt.style = ptStyle\n",
    "    pt.description = 'lat={:.1f}, long={:.1f}, alt={:.0f}'.format(sPt.long, sPt.lat, 0)"
   ]
  },
  {
   "cell_type": "code",
   "execution_count": null,
   "metadata": {},
   "outputs": [],
   "source": [
    "tgtKmlFileName = \\\n",
    "  'ACDC2019-{}points-et-limites-zone-d{:.0f}-m{:.0f}.kml'.format(len(dfSelPoints), deltaXYPoints, marginDist)\n",
    "kml.save(tgtKmlFileName)"
   ]
  },
  {
   "cell_type": "markdown",
   "metadata": {},
   "source": [
    "## 3c) Export Excel"
   ]
  },
  {
   "cell_type": "code",
   "execution_count": null,
   "metadata": {},
   "outputs": [],
   "source": [
    "tgtXlsxFileName = \\\n",
    "  'ACDC2019-{}points-et-limites-zone-d{:.0f}-m{:.0f}.xlsx'.format(len(dfSelPoints), deltaXYPoints, marginDist)\n",
    "\n",
    "dfSelPoints[['xUtm', 'yUtm', 'long', 'lat']].reset_index().to_excel(tgtXlsxFileName, index=False)"
   ]
  },
  {
   "cell_type": "code",
   "execution_count": null,
   "metadata": {},
   "outputs": [],
   "source": []
  }
 ],
 "metadata": {
  "kernelspec": {
   "display_name": "Python [default]",
   "language": "python",
   "name": "python3"
  },
  "language_info": {
   "codemirror_mode": {
    "name": "ipython",
    "version": 3
   },
   "file_extension": ".py",
   "mimetype": "text/x-python",
   "name": "python",
   "nbconvert_exporter": "python",
   "pygments_lexer": "ipython3",
   "version": "3.5.5"
  }
 },
 "nbformat": 4,
 "nbformat_minor": 2
}
