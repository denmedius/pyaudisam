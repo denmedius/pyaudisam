{
 "cells": [
  {
   "cell_type": "markdown",
   "metadata": {},
   "source": [
    "<!-- Auto table of contents -->\n",
    "<h1 class='tocIgnore'>Générateur semi-automatique de page HTML \"quizz oiseaux\"</h1>\n",
    "<p>(application des \"Oiseaux à l'Oreille\" : les quizz <b>2020</b>)</p>\n",
    "<div style=\"overflow-y: auto\">\n",
    "  <h2 class='tocIgnore'>Table des matières</h2>\n",
    "  <div id=\"toc\"></div>\n",
    "</div>"
   ]
  },
  {
   "cell_type": "code",
   "execution_count": 1,
   "metadata": {},
   "outputs": [
    {
     "data": {
      "application/javascript": [
       "$.getScript('../../ipython_notebook_toc.js')\n"
      ],
      "text/plain": [
       "<IPython.core.display.Javascript object>"
      ]
     },
     "metadata": {},
     "output_type": "display_data"
    }
   ],
   "source": [
    "%%javascript\n",
    "$.getScript('../../ipython_notebook_toc.js')"
   ]
  },
  {
   "cell_type": "markdown",
   "metadata": {},
   "source": [
    "# Imports"
   ]
  },
  {
   "cell_type": "code",
   "execution_count": 2,
   "metadata": {},
   "outputs": [],
   "source": [
    "import os\n",
    "import datetime as dt\n",
    "\n",
    "from collections import OrderedDict as odict\n",
    "\n",
    "import requests\n",
    "\n",
    "from IPython.display import HTML"
   ]
  },
  {
   "cell_type": "code",
   "execution_count": 3,
   "metadata": {},
   "outputs": [],
   "source": [
    "import sys\n",
    "sys.path.append('..')\n",
    "\n",
    "import quizz\n",
    "\n",
    "import importlib as implib"
   ]
  },
  {
   "cell_type": "code",
   "execution_count": 4,
   "metadata": {},
   "outputs": [],
   "source": [
    "# Les étapes : les mêmes pour tous les quizz et tous les exercices.\n",
    "KEtapes = \\\n",
    "[quizz.DescripteurEtape(index=1, id='lancement', titre='Les enregistrements à analyser et les 1er indices'),\n",
    " quizz.DescripteurEtape(index=2, id='indices2', titre='Quelques indices à mi-parcours'),\n",
    " quizz.DescripteurEtape(index=3, id='reponse', titre='Les réponses : analyse détaillée des enregistrements')]"
   ]
  },
  {
   "cell_type": "markdown",
   "metadata": {},
   "source": [
    "# Commutateur de publication locale ou internet"
   ]
  },
  {
   "cell_type": "code",
   "execution_count": 5,
   "metadata": {},
   "outputs": [],
   "source": [
    "KDossierQuizz = '.'\n",
    "\n",
    "pubLocale = True\n",
    "\n",
    "dossierSons = os.path.join(KDossierQuizz, 'enregistrements')\n",
    "\n",
    "if pubLocale:\n",
    "    \n",
    "    # 1) Locale\n",
    "    urlDossierSons = dossierSons.replace('\\\\', '/') # Jouer les sons en lisant les fichiers locaux.\n",
    "    urlDossierAnnexes = os.path.join(KDossierQuizz, 'fichiers').replace('\\\\', '/') # idem, ailleurs\n",
    "\n",
    "else:\n",
    "    \n",
    "    # 2) Internet\n",
    "    urlDossierSons = '.' # Jouer depuis XenoCanto si enregistrement en vient, et n'a pas eté modifié ('-extrait'),\n",
    "                         # sinon depuis le dossier de la page HTML\n",
    "    urlDossierAnnexes = '.' # Fichiers annexes sur mon site, dans le dossier de la page HTML"
   ]
  },
  {
   "cell_type": "markdown",
   "metadata": {},
   "source": [
    "# Préambule et remerciements"
   ]
  },
  {
   "cell_type": "code",
   "execution_count": 6,
   "metadata": {},
   "outputs": [],
   "source": [
    "# texte syntaxe markdown\n",
    "KPreambule = \\\n",
    "\"\"\"\n",
    "L'été avance, les migrateurs commencent déjà à passer par chez nous ...\n",
    "il est temps de reprendre les quizz d'ornithoreille !\n",
    "\n",
    "Exactement sur le même modèle que les années précédentes, alors si vous connaissez déjà,\n",
    "vous pouvez vous épargner le blabla qui suit, et passer directement au <a href=\"#Aout\">quiz d'août</a> :-)\n",
    "\n",
    "Chacun de ces exercices, nommé comme le mois de 2020 durant lequel il a est lancé, se déroule en *3 étapes*,\n",
    "publiée chacune 3 semaines après la précédente :\n",
    "1. la première, le **lancement**, vous donne accès aux enregistrements à analyser\n",
    "   et à quelques premiers indices pour démarrer,\n",
    "2. la deuxième, à **mi-parcours**, vous donne des indices plus conséquents, pour confirmer ou pas vos premières idées\n",
    "   et / ou pour aller plus loin en ciblant quelques séquences plus difficiles,\n",
    "3. la troisième et dernière, pour terminer, vous donne la \"**solution**\", en détaillant pour chaque enregistrement\n",
    "   et chaque espèce, les différents types de chants et cris entendus, et les instants précis concernés.\n",
    "\n",
    "Pour accéder à l'étape suivante, lorsqu'elle est publiée, il vous suffit de cliquer sur le **petit oeil vert**\n",
    "<img height=\"16\" src=\"{{dossierAttache}}/fa-eye-regular.svg\" alt=\"Montrer\"/>\n",
    "situé sous le titre de cette dernière ; bien sûr, tant qu'elle n'est pas publiée, vous ne verrez rien de plus ;-)\n",
    "\n",
    "Chaque quiz porte sur **plusieurs enregistrements** (en général 3) indépendants, pour varier les milieux et les espèces.\n",
    "\n",
    "Pour chaque enregistrement (répété à chaque étape), vous trouverez :\n",
    "* un **lecteur audio intégré**, pour l'écouter, le ré-écouter ... etc, autant de fois que nécessaire,\n",
    "* un **lien de téléchargement**, pour pouvoir l'analyser tranquillement et précisément\n",
    "sur votre tablette ou ordinateur, avec un lecteur plus pratique notamment en ce qui concerne\n",
    "le positionnement temporel ; pour télécharger l'enregistrement, il vous suffit de cliquer sur le bouton\n",
    "<img height=\"16\" src=\"{{dossierAttache}}/fa-download-solid.svg\" alt=\"Télécharger\"/>\n",
    "(à moins qu'il ne faille un clic droit, suivi de \"enregistrer la cible du / le lien sous ...\"),\n",
    "* le nom de l'**auteur** de l'enregistrement et les détails de sa **licence** de publication,\n",
    "* à la dernière étape, si disponible, le lien vers la **page du site source** de l'enregistrement\n",
    "  (xeno-canto.org en général).\n",
    "\n",
    "Pub. <a href=\"http://audacity.fr/\" target=\"_blank\">Audacity</a> est - entre autres - un lecteur audio très pratique\n",
    "et précis pour la gestion du temps : essayez-le, je vous le conseille :-) ; il est disponible gratuitement\n",
    "et en toute sécurité (logiciel Open Source) sous Windows, Mac OS ou Linux (mais pas Android ou i-OS :-(.\n",
    "\n",
    "Chaque quiz permet à chacun de jouer **quel que soit son niveau**, du débutant au plus expérimenté :\n",
    "si vous ne trouvez pas tout de A à Z, c'est **normal**, certains enregistrements sont plus difficiles\n",
    "que d'autres, et à dessein : à vous, pour chaque concert, de trouver **votre défi personnel** ;\n",
    "par exemple, au delà des espèces que vous avez reconnues rapidement, en choississant 1 chant (ou un cri), ou 2,\n",
    "que vous ne reconnaissez pas, mais pour lequel les indices à mi-parcours vous orientent suffisamment,\n",
    "et en cherchant vous-même la solution ailleurs (les <a href=\"http://jpmeuret.free.fr/nature.html\" target=\"_blank\">\n",
    "supports de formation</a>, bien sûr, mais aussi des CD, des applis dédiées, des livres, des sites internet\n",
    "comme <a href=\"http://www.oiseaux.net/oiseaux/france.html\" target=\"_blank\">oiseaux.net</a>,\n",
    "<a href=\"https://www.xeno-canto.org/\" target=\"_blank\">xeno-canto.org</a>, des amis, et surtout les oiseaux réels\n",
    "lors de vos ballades, dans votre jardin ...).\n",
    "\n",
    "Ce défi personnel, que vous seul(e) pouvez ajuster à vos connaissances actuelles, vous permettra\n",
    "de progresser, en vous poussant **au delà de ce que vous savez** déjà ; mais il ne devra pas être **trop ambitieux**\n",
    "d'un coup, car l'important, c'est d'éviter de dépasser le niveau de frustration qui fait renoncer,\n",
    "et de rester dans celui qui pousse à avancer :-)\n",
    "\n",
    "Et puis gardez confiance : l'exercice \"en intérieur\" sur ordinateur n'est pas simple, tout le monde le dit :\n",
    "* on n'est pas immergé dans le milieu naturel,\n",
    "* la qualité du son n'est pas toujours très bonne (enregistrement, casque, haut-parleurs, ...),\n",
    "* on ne peut pas tourner la tête pour mieux entendre ... même en stéréo, on manque de repères dans l'espace,\n",
    "* ...\n",
    "\n",
    "Vous constaterez vite, lors de vos ballades \"dans le monde réel\", avec les espèces que vous connaissez,\n",
    "que vous êtes plus à l'aise à l'extérieur : meilleur son, moins de bruit de fond, plus de clarté,\n",
    "plus de profondeur, ... c'est normal, aucun intermédiaire entre les oiseaux et vos oreilles !\n",
    "\n",
    "... Mais il y a un hic : en nature, il n'y a pas de bouton \"Rejouer\" ;-)\n",
    "\n",
    "Dernier détail, mais d'importance, je compte sur vous pour me les signaler les **coquilles** et **erreurs**\n",
    "qui se sont inévitablement glissées dans ce qui suit, à me faire part de votre **désaccord** éventuel\n",
    "sur telle ou telle affirmation ou identification, ou encore à me signaler toute chose que j'aurais \"**zappée**\"\n",
    "dans les enregistrements :-)\n",
    "\n",
    "Amusez-vous bien !\n",
    "\"\"\""
   ]
  },
  {
   "cell_type": "code",
   "execution_count": 7,
   "metadata": {},
   "outputs": [],
   "source": [
    "KAttribsEtMercis = \\\n",
    "\"\"\"\n",
    "Merci aussi à <a href=\"https://www.faune-auvergne.org/index.php?m_id=53&id=705\" target=\"_blank\">\n",
    "Monique et Jacques Lombardy</a> et Yvon Le Corre (pas le peintre, l'ornithologue, breton aussi :-)\n",
    "pour leurs splendides photos de la grive musicienne et du bruant ortolan en haut de page (tous droits réservés).\n",
    "\"\"\"\n",
    "\n",
    "# Merci aussi à Annie, Camille, Dominique, Florence, Monique et Sylvain pour leurs questions et remarques\n",
    "# bien utiles pour affiner les indices de mi-parcours et les listes de confusions possibles, et pour leurs trouvailles\n",
    "# qui m'ont permis de creuser d'avantage les analyses et de compléter ainsi les listes d'espèces avec celles\n",
    "# que j'avais zappées :-)"
   ]
  },
  {
   "cell_type": "markdown",
   "metadata": {},
   "source": [
    "# Quizz d'août"
   ]
  },
  {
   "cell_type": "code",
   "execution_count": 8,
   "metadata": {},
   "outputs": [],
   "source": [
    "KAoutIntro = \"\"\"\n",
    "  Pour commencer, quatre concerts plutôt calmes (sauf le dernier), tous enregistrés en Auvergne, voire dans le Puy-de-Dôme ...\n",
    "  histoire de nous rappeler - si besoin - ces heures de confinement du printemps 2020 ;-)\n",
    "\"\"\""
   ]
  },
  {
   "cell_type": "code",
   "execution_count": 9,
   "metadata": {},
   "outputs": [
    {
     "data": {
      "text/html": [
       "\n",
       "                <audio controls style=\"min-width:720px\">\n",
       "                    <source src=\"./200402-hhmm-AydatBatrandeE-AC.mp3\" type=\"audio/mpeg\" />\n",
       "                </audio>\n",
       "                \n",
       "               "
      ],
      "text/plain": [
       "<IPython.core.display.HTML object>"
      ]
     },
     "execution_count": 9,
     "metadata": {},
     "output_type": "execute_result"
    }
   ],
   "source": [
    "KAoutBocagePrairiesMoyenneAltitude = quizz.DescripteurExercice(\n",
    "\n",
    "  index='a',\n",
    "  id='BocagePrairiesMoyenneAltitude',\n",
    "  titre=\"Bocage et prairies à moyenne altitude\",\n",
    "  lieu=\"La Batrande (est), Aydat, Puy-de-Dôme\", altitude=930,\n",
    "  date=\"2 avril 2020\", heure=\"le matin\", duree=\"58 s\",\n",
    "  auteur=\"Anne Citron\",\n",
    "  licence=\"<a href=\\\"https://creativecommons.org/licenses/by-nc-sa/4.0/deed.fr\\\" target=\\\"_blank\\\">CC BY-NC-SA</a>\",\n",
    "  milieux=\"\"\"Bocage en déprise et prairies sur plateau de moyenne altitude\"\"\",\n",
    "  fichierSon=\"200402-hhmm-AydatBatrandeE-AC.mp3\",\n",
    "  dossierSons=urlDossierSons, dossierAttache=urlDossierAnnexes,\n",
    "    \n",
    "  etapes=dict(\n",
    "      \n",
    "    lancement=\"\"\"\n",
    "      Un premier concert campagnard, clair et ensoleillé, peu chargé, sans doute assez tôt le matin\n",
    "      (certains oiseaux ont encore la voix enrouée ;-).\n",
    "      \n",
    "      5 espèces a priori, communes à très communes, dont 3 chantent véritablement.\n",
    "      \"\"\",\n",
    "          \n",
    "    indices2=\"\"\"\n",
    "      \"\"\",\n",
    "          \n",
    "    reponse=\"\"\"\n",
    "      \"\"\"))\n",
    "\n",
    "HTML(KAoutBocagePrairiesMoyenneAltitude.lecteurHtml(urlDossierSons))"
   ]
  },
  {
   "cell_type": "code",
   "execution_count": 10,
   "metadata": {},
   "outputs": [
    {
     "data": {
      "text/html": [
       "\n",
       "                <audio controls style=\"min-width:720px\">\n",
       "                    <source src=\"./200419-1757-306-StAgoulinGirauds-JPM.mp3\" type=\"audio/mpeg\" />\n",
       "                </audio>\n",
       "                \n",
       "               "
      ],
      "text/plain": [
       "<IPython.core.display.HTML object>"
      ]
     },
     "execution_count": 10,
     "metadata": {},
     "output_type": "execute_result"
    }
   ],
   "source": [
    "KAoutVergerVillageChateau = quizz.DescripteurExercice(\n",
    "\n",
    "  index='b',\n",
    "  id='StAgoulinGirauds',\n",
    "  titre=\"Un verger près du parc du château\",\n",
    "  lieu=\"Les Girauds, Saint-Agoulin, Puy-de-Dôme\", altitude=500,\n",
    "  date=\"19 avril 2020\", heure=\"fin d'après-midi\", duree=\"40 s\",\n",
    "  auteur=\"<a href=\\\"http://jpmeuret.free.fr/nature.html\\\" target=\\\"_blank\\\">Jean-Philippe Meuret</a>\",\n",
    "  licence=\"<a href=\\\"https://creativecommons.org/licenses/by-nc-sa/4.0/deed.fr\\\" target=\\\"_blank\\\">CC BY-NC-SA</a>\",\n",
    "  milieux=\"\"\"Verger, jardins dans village à proximité d'un parc boisé.\"\"\",\n",
    "  fichierSon=\"200419-1757-306-StAgoulinGirauds-JPM.mp3\",\n",
    "  dossierSons=urlDossierSons, dossierAttache=urlDossierAnnexes,\n",
    "    \n",
    "  etapes=dict(\n",
    "      \n",
    "    lancement=\"\"\"\n",
    "      Il est juste 6h du soir à l'horloge de l'église, mais les cloches qui les sonnent ne semblent pas\n",
    "      perturber le moins du monde les solistes de ce concert plutôt calme et aéré ... pas plus que la petite pluie\n",
    "      qui se renforce un peu à la fin.\n",
    "      \n",
    "      6 espèces très communes chantent, et une crie.\n",
    "      \n",
    "      Si vous vous ennuyez, essayez donc de compter les chanteurs de chaque espèce :-)\n",
    "      \"\"\",\n",
    "          \n",
    "    indices2=\"\"\"\n",
    "    \"\"\",\n",
    "          \n",
    "    reponse=\"\"\"\n",
    "      \"\"\"))\n",
    "\n",
    "HTML(KAoutVergerVillageChateau.lecteurHtml(urlDossierSons))"
   ]
  },
  {
   "cell_type": "code",
   "execution_count": 11,
   "metadata": {},
   "outputs": [
    {
     "data": {
      "text/html": [
       "\n",
       "                <audio controls style=\"min-width:720px\">\n",
       "                    <source src=\"./200607-1045-360-ArtonneBens-JPM.mp3\" type=\"audio/mpeg\" />\n",
       "                </audio>\n",
       "                \n",
       "               "
      ],
      "text/plain": [
       "<IPython.core.display.HTML object>"
      ]
     },
     "execution_count": 11,
     "metadata": {},
     "output_type": "execute_result"
    }
   ],
   "source": [
    "KAoutGrandesCulturesLimagnePerchee = quizz.DescripteurExercice(\n",
    "\n",
    "  index='c',\n",
    "  id='GrandesCulturesLimagnePerchee',\n",
    "  titre=\"Quelques ilôts dans la mer des grandes cultures de la limagne 'perchée'\",\n",
    "  lieu=\"Nord-ouest de Bens, Artonne, Puy-de-Dôme\", altitude=480,\n",
    "  date=\"7 juin 2020\", heure=\"10h45\", duree=\"1 mn\",\n",
    "  auteur=\"<a href=\\\"http://jpmeuret.free.fr/nature.html\\\" target=\\\"_blank\\\">Jean-Philippe Meuret</a>\",\n",
    "  licence=\"<a href=\\\"https://creativecommons.org/licenses/by-nc-sa/4.0/deed.fr\\\" target=\\\"_blank\\\">CC BY-NC-SA</a>\",\n",
    "  milieux=\"\"\"Grandes cultures, haies et broussailles en bordure de plateau calcaire.\"\"\",\n",
    "  fichierSon=\"200607-1045-360-ArtonneBens-JPM.mp3\",\n",
    "  dossierSons=urlDossierSons, dossierAttache=urlDossierAnnexes,\n",
    "    \n",
    "  etapes=dict(\n",
    "      \n",
    "    lancement=\"\"\"\n",
    "      La matinée est bien avancée déjà en cette fin de printemps , mais quelques acharnés s'acharnent encore,\n",
    "      toujours un peu les mêmes dans ces grandes cultures vallonnées parfois interrompues par un chemin, un noyer,\n",
    "      une haie, ou des broussailles, à la faveur d'un rideau agraire ou d'une crête incultivable.\n",
    "      \n",
    "      5 espèces chantent, dont 1 plus du tout courante en Auvergne, snif, et une autre abondante, toujours en forme,\n",
    "      rarement discrète et particulièrement en verve ici ; sans doute une 6ème très loin également.\n",
    "      \n",
    "      Et un criquet pas encore très chaud apparemment.\"\"\",\n",
    "          \n",
    "    indices2=\"\"\"\n",
    "      \"\"\",\n",
    "          \n",
    "    reponse=\"\"\"\n",
    "        \"\"\"))\n",
    "\n",
    "HTML(KAoutGrandesCulturesLimagnePerchee.lecteurHtml(urlDossierSons))"
   ]
  },
  {
   "cell_type": "code",
   "execution_count": 12,
   "metadata": {},
   "outputs": [
    {
     "data": {
      "text/html": [
       "\n",
       "                <audio controls style=\"min-width:720px\">\n",
       "                    <source src=\"./190324-0814-116-ArtonneSousLesBardons-JPM.mp3\" type=\"audio/mpeg\" />\n",
       "                </audio>\n",
       "                \n",
       "               "
      ],
      "text/plain": [
       "<IPython.core.display.HTML object>"
      ]
     },
     "execution_count": 12,
     "metadata": {},
     "output_type": "execute_result"
    }
   ],
   "source": [
    "KAoutBocageForetPreBassesCombrailles = quizz.DescripteurExercice(\n",
    "\n",
    "  index='d',\n",
    "  id='BocageBoisPreBassesCombrailles',\n",
    "  titre=\"Bocage et bois dans les pré-Basses-Combrailles\",\n",
    "  lieu=\"Sous les Bardons, Artonne, Puy-de-Dôme\", altitude=450,\n",
    "  date=\"24 mars 2019\", heure=\"8 heures du matin\", duree=\"52 s\",\n",
    "  auteur=\"<a href=\\\"http://jpmeuret.free.fr/nature.html\\\" target=\\\"_blank\\\">Jean-Philippe Meuret</a>\",\n",
    "  licence=\"<a href=\\\"https://creativecommons.org/licenses/by-nc-sa/4.0/deed.fr\\\" target=\\\"_blank\\\">CC BY-NC-SA</a>\",\n",
    "  milieux=\"\"\"Bocage et bois sur les pentes d'un vallon frais, dans le nord du Puy-de-Dôme.\"\"\",\n",
    "  fichierSon=\"190324-0814-116-ArtonneSousLesBardons-JPM.mp3\",\n",
    "  dossierSons=urlDossierSons, dossierAttache=urlDossierAnnexes,\n",
    "    \n",
    "  etapes=dict(\n",
    "      \n",
    "    lancement=\"\"\"\n",
    "      Et pour ce dernier concert, plus chargé, retour en tout début de printemps : 1 seul migrateur est arrivé ici.\n",
    "      \n",
    "      Un grand bois de vieux chênes couvre la pente de l'autre côté du vallon ; un ruisseau coule en bas.\n",
    "      \n",
    "      11 espèces très communes.  \n",
    "      \"\"\",\n",
    "          \n",
    "    indices2=\"\"\"\n",
    "      \"\"\",\n",
    "          \n",
    "    reponse=\"\"\"\n",
    "        \"\"\"))\n",
    "\n",
    "HTML(KAoutBocageForetPreBassesCombrailles.lecteurHtml(urlDossierSons))"
   ]
  },
  {
   "cell_type": "markdown",
   "metadata": {},
   "source": [
    "# Génération de la page"
   ]
  },
  {
   "cell_type": "code",
   "execution_count": 13,
   "metadata": {},
   "outputs": [
    {
     "data": {
      "text/html": [
       "<p>Quizz 2020 <a href='.\\quizz-2020.html' target=\"_blank\">.\\quizz-2020.html</a> (nouvel onglet)</p>"
      ],
      "text/plain": [
       "<IPython.core.display.HTML object>"
      ]
     },
     "execution_count": 13,
     "metadata": {},
     "output_type": "execute_result"
    }
   ],
   "source": [
    "KQuizz = \\\n",
    "[quizz.DescripteurQuizz(id='Aout', titre='Quizz d\\'août',\n",
    "                        intro=KAoutIntro,\n",
    "                        publier=dict(lancement=True, indices2=False, reponse=False),\n",
    "                        exercices=[KAoutBocagePrairiesMoyenneAltitude, KAoutVergerVillageChateau,\n",
    "                                   KAoutGrandesCulturesLimagnePerchee, KAoutBocageForetPreBassesCombrailles],\n",
    "                        anecdotes=[],\n",
    "                        effort=dict(infrastructure=0, lancement=8, indices2=0, reponse=0, anecdotes=0, courrier=0)),\n",
    "]\n",
    "\n",
    "nomFicCible = \\\n",
    "    quizz.buildHtmlPage(titre=\"Les Oiseaux à l'Oreille : Quizzzzz 2020\",\n",
    "                        sousTitre=\"C'est la reprise, fini les vacances : à vos oreilles, prêt(e)s, écoutez !\",\n",
    "                        description=\"Quizz 2020 d'application de la formation \\\"Les Oiseaux à l'Oreille\\\"\",\n",
    "                        motsClef='auvergne, forêt, bocage, montagne, plaine, '\n",
    "                                 'bruant, fauvette, alouette, pouillot, pipit',\n",
    "                        preambule=KPreambule, quizz=KQuizz, etapes=KEtapes, attribsEtMercis=KAttribsEtMercis,\n",
    "                        dossierAttache=urlDossierAnnexes, dossierSons=urlDossierSons,\n",
    "                        images=dict(imgTMat=[dict(img='GriMus-MJLombardy-20130304a.jpg',\n",
    "                                                  legend='Grive musicienne'),\n",
    "                                             dict(img='BruOrt2-YLeCorre-201804.jpg',\n",
    "                                                  legend='Bruant ortolan')]),\n",
    "                        notebook='Quizz2020.ipynb', prefixeFicCible='quizz-2020',\n",
    "                        effort=sum(sum(q.effort.values()) for q in KQuizz))\n",
    "\n",
    "HTML(\"\"\"<p>Quizz 2020 <a href='{nomFic}' target=\"_blank\">{nomFic}</a> (nouvel onglet)</p>\"\"\".format(nomFic=nomFicCible))"
   ]
  },
  {
   "cell_type": "code",
   "execution_count": null,
   "metadata": {},
   "outputs": [],
   "source": []
  },
  {
   "cell_type": "code",
   "execution_count": 14,
   "metadata": {},
   "outputs": [
    {
     "ename": "Exception",
     "evalue": "On s'arrête ici !",
     "output_type": "error",
     "traceback": [
      "\u001b[1;31m---------------------------------------------------------------------------\u001b[0m",
      "\u001b[1;31mException\u001b[0m                                 Traceback (most recent call last)",
      "\u001b[1;32m<ipython-input-14-a19290f9f6d0>\u001b[0m in \u001b[0;36m<module>\u001b[1;34m\u001b[0m\n\u001b[1;32m----> 1\u001b[1;33m \u001b[1;32mraise\u001b[0m \u001b[0mException\u001b[0m\u001b[1;33m(\u001b[0m\u001b[1;34m\"On s'arrête ici !\"\u001b[0m\u001b[1;33m)\u001b[0m\u001b[1;33m\u001b[0m\u001b[1;33m\u001b[0m\u001b[0m\n\u001b[0m",
      "\u001b[1;31mException\u001b[0m: On s'arrête ici !"
     ]
    }
   ],
   "source": [
    "raise Exception(\"On s'arrête ici !\")"
   ]
  },
  {
   "cell_type": "code",
   "execution_count": null,
   "metadata": {},
   "outputs": [],
   "source": []
  },
  {
   "cell_type": "code",
   "execution_count": null,
   "metadata": {},
   "outputs": [],
   "source": [
    "implib.reload(module=quizz)"
   ]
  },
  {
   "cell_type": "code",
   "execution_count": null,
   "metadata": {},
   "outputs": [],
   "source": [
    "HTML(quizz.infosEnregXC(nr=471826))"
   ]
  },
  {
   "cell_type": "code",
   "execution_count": null,
   "metadata": {},
   "outputs": [],
   "source": []
  }
 ],
 "metadata": {
  "kernelspec": {
   "display_name": "Python 3",
   "language": "python",
   "name": "python3"
  },
  "language_info": {
   "codemirror_mode": {
    "name": "ipython",
    "version": 3
   },
   "file_extension": ".py",
   "mimetype": "text/x-python",
   "name": "python",
   "nbconvert_exporter": "python",
   "pygments_lexer": "ipython3",
   "version": "3.8.2"
  }
 },
 "nbformat": 4,
 "nbformat_minor": 2
}
