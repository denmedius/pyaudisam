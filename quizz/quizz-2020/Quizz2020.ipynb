{
 "cells": [
  {
   "cell_type": "markdown",
   "metadata": {},
   "source": [
    "<!-- Auto table of contents -->\n",
    "<h1 class='tocIgnore'>Générateur semi-automatique de page HTML \"quizz oiseaux\"</h1>\n",
    "<p>(application des \"Oiseaux à l'Oreille\" : les quizz <b>2020</b>)</p>\n",
    "<div style=\"overflow-y: auto\">\n",
    "  <h2 class='tocIgnore'>Table des matières</h2>\n",
    "  <div id=\"toc\"></div>\n",
    "</div>"
   ]
  },
  {
   "cell_type": "code",
   "execution_count": null,
   "metadata": {},
   "outputs": [],
   "source": [
    "%%javascript\n",
    "$.getScript('../../ipython_notebook_toc.js')"
   ]
  },
  {
   "cell_type": "markdown",
   "metadata": {},
   "source": [
    "# Imports"
   ]
  },
  {
   "cell_type": "code",
   "execution_count": null,
   "metadata": {},
   "outputs": [],
   "source": [
    "import os\n",
    "import datetime as dt\n",
    "\n",
    "from collections import OrderedDict as odict\n",
    "\n",
    "import requests\n",
    "\n",
    "from IPython.display import HTML"
   ]
  },
  {
   "cell_type": "code",
   "execution_count": null,
   "metadata": {},
   "outputs": [],
   "source": [
    "import sys\n",
    "sys.path.append('..')\n",
    "\n",
    "import quizz\n",
    "\n",
    "import importlib as implib"
   ]
  },
  {
   "cell_type": "code",
   "execution_count": null,
   "metadata": {},
   "outputs": [],
   "source": [
    "# Les étapes : les mêmes pour tous les quizz et tous les exercices.\n",
    "KEtapes = \\\n",
    "[quizz.DescripteurEtape(index=1, id='lancement', titre='Les enregistrements à analyser et les 1er indices'),\n",
    " quizz.DescripteurEtape(index=2, id='indices2', titre='Quelques indices à mi-parcours'),\n",
    " quizz.DescripteurEtape(index=3, id='reponse', titre='Les réponses : analyse détaillée des enregistrements')]"
   ]
  },
  {
   "cell_type": "markdown",
   "metadata": {},
   "source": [
    "# Commutateur de publication locale ou internet"
   ]
  },
  {
   "cell_type": "code",
   "execution_count": null,
   "metadata": {},
   "outputs": [],
   "source": [
    "KDossierQuizz = '.'\n",
    "\n",
    "pubLocale = True\n",
    "\n",
    "dossierSons = os.path.join(KDossierQuizz, 'enregistrements')\n",
    "\n",
    "if pubLocale:\n",
    "    \n",
    "    # 1) Locale\n",
    "    urlDossierSons = dossierSons.replace('\\\\', '/') # Jouer les sons en lisant les fichiers locaux.\n",
    "    urlDossierAnnexes = os.path.join(KDossierQuizz, 'fichiers').replace('\\\\', '/') # idem, ailleurs\n",
    "\n",
    "else:\n",
    "    \n",
    "    # 2) Internet\n",
    "    urlDossierSons = '.' # Jouer depuis XenoCanto si enregistrement en vient, et n'a pas eté modifié ('-extrait'),\n",
    "                         # sinon depuis le dossier de la page HTML\n",
    "    urlDossierAnnexes = '.' # Fichiers annexes sur mon site, dans le dossier de la page HTML"
   ]
  },
  {
   "cell_type": "markdown",
   "metadata": {},
   "source": [
    "# Préambule et remerciements"
   ]
  },
  {
   "cell_type": "code",
   "execution_count": null,
   "metadata": {},
   "outputs": [],
   "source": [
    "# texte syntaxe markdown\n",
    "KPreambule = \\\n",
    "\"\"\"\n",
    "L'été avance, les migrateurs commencent déjà à passer par chez nous ...\n",
    "il est temps de reprendre les quizz d'ornithoreille !\n",
    "\n",
    "Exactement sur le même modèle que les années précédentes, alors si vous connaissez déjà,\n",
    "vous pouvez vous épargner le blabla qui suit, et passer directement au <a href=\"#Aout\">quiz d'août</a> :-)\n",
    "\n",
    "Chacun de ces exercices, nommé comme le mois de 2020 durant lequel il a est lancé, se déroule en *3 étapes*,\n",
    "publiée chacune 3 semaines après la précédente :\n",
    "1. la première, le **lancement**, vous donne accès aux enregistrements à analyser\n",
    "   et à quelques premiers indices pour démarrer,\n",
    "2. la deuxième, à **mi-parcours**, vous donne des indices plus conséquents, pour confirmer ou pas vos premières idées\n",
    "   et / ou pour aller plus loin en ciblant quelques séquences plus difficiles,\n",
    "3. la troisième et dernière, pour terminer, vous donne la \"**solution**\", en détaillant pour chaque enregistrement\n",
    "   et chaque espèce, les différents types de chants et cris entendus, et les instants précis concernés.\n",
    "\n",
    "Pour accéder à l'étape suivante, lorsqu'elle est publiée, il vous suffit de cliquer sur le **petit oeil vert**\n",
    "<img height=\"16\" src=\"{{dossierAttache}}/fa-eye-regular.svg\" alt=\"Montrer\"/>\n",
    "situé sous le titre de cette dernière ; bien sûr, tant qu'elle n'est pas publiée, vous ne verrez rien de plus ;-)\n",
    "\n",
    "Chaque quiz porte sur **plusieurs enregistrements** (en général 3) indépendants, pour varier les milieux et les espèces.\n",
    "\n",
    "Pour chaque enregistrement (répété à chaque étape), vous trouverez :\n",
    "* un **lecteur audio intégré**, pour l'écouter, le ré-écouter ... etc, autant de fois que nécessaire,\n",
    "* un **lien de téléchargement**, pour pouvoir l'analyser tranquillement et précisément\n",
    "sur votre tablette ou ordinateur, avec un lecteur plus pratique notamment en ce qui concerne\n",
    "le positionnement temporel ; pour télécharger l'enregistrement, il vous suffit de cliquer sur le bouton\n",
    "<img height=\"16\" src=\"{{dossierAttache}}/fa-download-solid.svg\" alt=\"Télécharger\"/>\n",
    "(à moins qu'il ne faille un clic droit, suivi de \"enregistrer la cible du / le lien sous ...\"),\n",
    "* le nom de l'**auteur** de l'enregistrement et les détails de sa **licence** de publication,\n",
    "* à la dernière étape, si disponible, le lien vers la **page du site source** de l'enregistrement\n",
    "  (xeno-canto.org en général).\n",
    "\n",
    "Pub. <a href=\"http://audacity.fr/\" target=\"_blank\">Audacity</a> est - entre autres - un lecteur audio très pratique\n",
    "et précis pour la gestion du temps : essayez-le, je vous le conseille :-) ; il est disponible gratuitement\n",
    "et en toute sécurité (logiciel Open Source) sous Windows, Mac OS ou Linux (mais pas Android ou i-OS :-(.\n",
    "\n",
    "Chaque quiz permet à chacun de jouer **quel que soit son niveau**, du débutant au plus expérimenté :\n",
    "si vous ne trouvez pas tout de A à Z, c'est **normal**, certains enregistrements sont plus difficiles\n",
    "que d'autres, et à dessein : à vous, pour chaque concert, de trouver **votre défi personnel** ;\n",
    "par exemple, au delà des espèces que vous avez reconnues rapidement, en choississant 1 chant (ou un cri), ou 2,\n",
    "que vous ne reconnaissez pas, mais pour lequel les indices à mi-parcours vous orientent suffisamment,\n",
    "et en cherchant vous-même la solution ailleurs (les <a href=\"http://jpmeuret.free.fr/nature.html\" target=\"_blank\">\n",
    "supports de formation</a>, bien sûr, mais aussi des CD, des applis dédiées, des livres, des sites internet\n",
    "comme <a href=\"http://www.oiseaux.net/oiseaux/france.html\" target=\"_blank\">oiseaux.net</a>,\n",
    "<a href=\"https://www.xeno-canto.org/\" target=\"_blank\">xeno-canto.org</a>, des amis, et surtout les oiseaux réels\n",
    "lors de vos ballades, dans votre jardin ...).\n",
    "\n",
    "Ce défi personnel, que vous seul(e) pouvez ajuster à vos connaissances actuelles, vous permettra\n",
    "de progresser, en vous poussant **au delà de ce que vous savez** déjà ; mais il ne devra pas être **trop ambitieux**\n",
    "d'un coup, car l'important, c'est d'éviter de dépasser le niveau de frustration qui fait renoncer,\n",
    "et de rester dans celui qui pousse à avancer :-)\n",
    "\n",
    "Et puis gardez confiance : l'exercice \"en intérieur\" sur ordinateur n'est pas simple, tout le monde le dit :\n",
    "* on n'est pas immergé dans le milieu naturel,\n",
    "* la qualité du son n'est pas toujours très bonne (enregistrement, casque, haut-parleurs, ...),\n",
    "* on ne peut pas tourner la tête pour mieux entendre ... même en stéréo, on manque de repères dans l'espace,\n",
    "* ...\n",
    "\n",
    "Vous constaterez vite, lors de vos ballades \"dans le monde réel\", avec les espèces que vous connaissez,\n",
    "que vous êtes plus à l'aise à l'extérieur : meilleur son, moins de bruit de fond, plus de clarté,\n",
    "plus de profondeur, ... c'est normal, aucun intermédiaire entre les oiseaux et vos oreilles !\n",
    "\n",
    "... Mais il y a un hic : en nature, il n'y a pas de bouton \"Rejouer\" ;-)\n",
    "\n",
    "Dernier détail, mais d'importance, je compte sur vous pour me les signaler les **coquilles** et **erreurs**\n",
    "qui se sont inévitablement glissées dans ce qui suit, à me faire part de votre **désaccord** éventuel\n",
    "sur telle ou telle affirmation ou identification, ou encore à me signaler toute chose que j'aurais \"**zappée**\"\n",
    "dans les enregistrements :-)\n",
    "\n",
    "Amusez-vous bien !\n",
    "\"\"\""
   ]
  },
  {
   "cell_type": "code",
   "execution_count": null,
   "metadata": {},
   "outputs": [],
   "source": [
    "KAttribsEtMercis = \\\n",
    "\"\"\"\n",
    "Merci aussi à <a href=\"https://www.faune-auvergne.org/index.php?m_id=7&frmAuthor=69\" target=\"_blank\">\n",
    "Jean-Claude Lablanquie</a> et <a href=\"https://www.faune-auvergne.org/index.php?m_id=7&frmAuthor=32\" target=\"_blank\">\n",
    "Romain Riols</a> pour leurs splendides photos de Rouge-queue à front blanc et de Bruant jaune en haut de page\n",
    "(tous droits réservés). ?????????????????????????????????????????\n",
    "\"\"\"\n",
    "\n",
    "# Merci aussi à Annie, Camille, Dominique, Florence, Monique et Sylvain pour leurs questions et remarques\n",
    "# bien utiles pour affiner les indices de mi-parcours et les listes de confusions possibles, et pour leurs trouvailles\n",
    "# qui m'ont permis de creuser d'avantage les analyses et de compléter ainsi les listes d'espèces avec celles\n",
    "# que j'avais zappées :-)"
   ]
  },
  {
   "cell_type": "markdown",
   "metadata": {},
   "source": [
    "# Quizz d'août"
   ]
  },
  {
   "cell_type": "code",
   "execution_count": null,
   "metadata": {},
   "outputs": [],
   "source": [
    "KAoutIntro = \"\"\"\n",
    "  Pour commencer, quatre concerts de difficulté progressive, tous enregistrés en Auvergne ...\n",
    "  bien sûr pour nous rappeler - si besoin - ces heures de confinement du printemps 2020 ;-)\n",
    "\"\"\""
   ]
  },
  {
   "cell_type": "code",
   "execution_count": null,
   "metadata": {},
   "outputs": [],
   "source": [
    "KAoutStGenesChampEstive = quizz.DescripteurExercice(\n",
    "\n",
    "  index='a',\n",
    "  id='StAgoulinGirauds',\n",
    "  titre=\"Un verger dans les jardins du village\",\n",
    "  lieu=\"Les Girauds, Saint-Agoulin, Puy-de-Dôme\", altitude=500,\n",
    "  date=\"19 avril 2020\", heure=\"fin d'après-midi\", duree=\"40 s\",\n",
    "  auteur=\"<a href=\\\"http://jpmeuret.free.fr/nature.html\\\" target=\\\"_blank\\\">Jean-Philippe Meuret</a>\",\n",
    "  licence=\"<a href=\\\"https://creativecommons.org/licenses/by-nc-sa/4.0/deed.fr\\\" target=\\\"_blank\\\">CC BY-NC-SA</a>\",\n",
    "  milieux=\"\"\"Verger, jardins et village à proximité d'un parc boisé.\"\"\",\n",
    "  fichierSon=\"200419-1757-306-StAgoulinGirauds-JPM.mp3\",\n",
    "  dossierSons=urlDossierSons, dossierAttache=urlDossierAnnexes,\n",
    "    \n",
    "  etapes=dict(\n",
    "      \n",
    "    lancement=\"\"\"\n",
    "      Un petit concert de début d'été plutôt aéré, et pas uniquement par le vent, avec :\n",
    "      \n",
    "      * 5 espèces à plumes : des passereaux bien différents (assez à très communs),\n",
    "      \n",
    "      * 1 espèce à laine (mais qui se sert d'un instrument pour se faire remarquer !),\n",
    "      \n",
    "      * et 1 criquet (l'été, 'faut bien s'occuper ... si ça vous dit ;-).\n",
    "      \n",
    "      Désolé, le nécessaire nettoyage de l'enregistrement l'a rendu plus clair, mais moins réaliste ... \n",
    "      \"\"\",\n",
    "          \n",
    "    indices2=\"\"\"\n",
    "    \"\"\",\n",
    "          \n",
    "    reponse=\"\"\"\n",
    "      \"\"\"))\n",
    "\n",
    "HTML(KAoutStGenesChampEstive.lecteurHtml(urlDossierSons))"
   ]
  },
  {
   "cell_type": "code",
   "execution_count": null,
   "metadata": {},
   "outputs": [],
   "source": [
    "KAoutBocagePrairiesMoyenneAltitude = quizz.DescripteurExercice(\n",
    "\n",
    "  index='b',\n",
    "  id='BocagePrairiesMoyenneAltitude',\n",
    "  titre=\"Bocage et prairies à moyenne altitude\",\n",
    "  lieu=\"La Batrande (est), Aydat, Puy-de-Dôme\", altitude=930,\n",
    "  date=\"2 avril 2020\", heure=\"le matin\", duree=\"58 s\",\n",
    "  auteur=\"Anne Citron\",\n",
    "  licence=\"<a href=\\\"https://creativecommons.org/licenses/by-nc-sa/4.0/deed.fr\\\" target=\\\"_blank\\\">CC BY-NC-SA</a>\",\n",
    "  milieux=\"\"\"Bocage en déprise et prairies sur plateau de moyenne altitude\"\"\",\n",
    "  fichierSon=\"200402-hhmm-AydatBatrandeE-AC.mp3\",\n",
    "  dossierSons=urlDossierSons, dossierAttache=urlDossierAnnexes,\n",
    "    \n",
    "  etapes=dict(\n",
    "      \n",
    "    lancement=\"\"\"\n",
    "      Un autre concert pas trop \"chargé\", en plein printemps cette fois, avec un bel écho de lisière proche,\n",
    "      pour une ambiance et des espèces très communes et plutôt forestières (au moins 11).\n",
    "      \"\"\",\n",
    "          \n",
    "    indices2=\"\"\"\n",
    "      \"\"\",\n",
    "          \n",
    "    reponse=\"\"\"\n",
    "      \"\"\"))\n",
    "\n",
    "HTML(KAoutBocagePrairiesMoyenneAltitude.lecteurHtml(urlDossierSons))"
   ]
  },
  {
   "cell_type": "code",
   "execution_count": null,
   "metadata": {},
   "outputs": [],
   "source": [
    "KAoutGrandesCulturesLimagnePerchee = quizz.DescripteurExercice(\n",
    "\n",
    "  index='c',\n",
    "  id='GrandesCulturesLimagnePerchee',\n",
    "  titre=\"Haie et broussailles dans les grandes cultures de la limagne 'perchée'\",\n",
    "  lieu=\"Nord-ouest de Bens, Artonne, Puy-de-Dôme\", altitude=480,\n",
    "  date=\"7 juin 2020\", heure=\"10h45\", duree=\"1 mn\",\n",
    "  auteur=\"<a href=\\\"http://jpmeuret.free.fr/nature.html\\\" target=\\\"_blank\\\">Jean-Philippe Meuret</a>\",\n",
    "  licence=\"<a href=\\\"https://creativecommons.org/licenses/by-nc-sa/4.0/deed.fr\\\" target=\\\"_blank\\\">CC BY-NC-SA</a>\",\n",
    "  milieux=\"\"\"Grandes cultures, haie et broussailles en bordure de plateau calcaire.\"\"\",\n",
    "  fichierSon=\"200607-1045-360-ArtonneBens-JPM.mp3\",\n",
    "  dossierSons=urlDossierSons, dossierAttache=urlDossierAnnexes,\n",
    "    \n",
    "  etapes=dict(\n",
    "      \n",
    "    lancement=\"\"\"\n",
    "      \"\"\",\n",
    "          \n",
    "    indices2=\"\"\"\n",
    "      \"\"\",\n",
    "          \n",
    "    reponse=\"\"\"\n",
    "        \"\"\"))\n",
    "\n",
    "HTML(KAoutGrandesCulturesLimagnePerchee.lecteurHtml(urlDossierSons))"
   ]
  },
  {
   "cell_type": "code",
   "execution_count": null,
   "metadata": {},
   "outputs": [],
   "source": [
    "KAoutBocageForetPreBassesCombrailles = quizz.DescripteurExercice(\n",
    "\n",
    "  index='d',\n",
    "  id='BocageBoisPreBassesCombrailles',\n",
    "  titre=\"Bocage et bois dans les pré-basses Combrailles\",\n",
    "  lieu=\"Sous les Bardons, Artonne, Puy-de-Dôme\", altitude=450,\n",
    "  date=\"24 mars 2019\", heure=\"8 heures du matin\", duree=\"52 s\",\n",
    "  auteur=\"<a href=\\\"http://jpmeuret.free.fr/nature.html\\\" target=\\\"_blank\\\">Jean-Philippe Meuret</a>\",\n",
    "  licence=\"<a href=\\\"https://creativecommons.org/licenses/by-nc-sa/4.0/deed.fr\\\" target=\\\"_blank\\\">CC BY-NC-SA</a>\",\n",
    "  milieux=\"\"\"Bocage et bois sur les pentes d'un vallon frais, dans le nord du Puy-de-Dôme.\"\"\",\n",
    "  fichierSon=\"190324-0814-116-ArtonneSousLesBardons-JPM.mp3\",\n",
    "  dossierSons=urlDossierSons, dossierAttache=urlDossierAnnexes,\n",
    "    \n",
    "  etapes=dict(\n",
    "      \n",
    "    lancement=\"\"\"\n",
    "      \"\"\",\n",
    "          \n",
    "    indices2=\"\"\"\n",
    "      \"\"\",\n",
    "          \n",
    "    reponse=\"\"\"\n",
    "        \"\"\"))\n",
    "\n",
    "HTML(KAoutBocageForetPreBassesCombrailles.lecteurHtml(urlDossierSons))"
   ]
  },
  {
   "cell_type": "markdown",
   "metadata": {},
   "source": [
    "# Génération de la page"
   ]
  },
  {
   "cell_type": "code",
   "execution_count": null,
   "metadata": {},
   "outputs": [],
   "source": [
    "KQuizz = \\\n",
    "[quizz.DescripteurQuizz(id='Aout', titre='Quizz d\\'août',\n",
    "                        intro=KAoutIntro,\n",
    "                        publier=dict(lancement=True, indices2=False, reponse=False),\n",
    "                        exercices=[KAoutStGenesChampEstive, KAoutBocagePrairiesMoyenneAltitude,\n",
    "                                   KAoutGrandesCulturesLimagnePerchee, KAoutBocageForetPreBassesCombrailles],\n",
    "                        anecdotes=[],\n",
    "                        effort=dict(infrastructure=0, lancement=6, indices2=0, reponse=0, anecdotes=0, courrier=0)),\n",
    "]\n",
    "\n",
    "nomFicCible = \\\n",
    "    quizz.buildHtmlPage(titre=\"Les Oiseaux à l'Oreille : Quizzzzz 2020\",\n",
    "                        sousTitre=\"C'est la reprise, fini les vacances : à vos oreilles, prêt(e)s, écoutez !\",\n",
    "                        description=\"Quizz 2020 d'application de la formation \\\"Les Oiseaux à l'Oreille\\\"\",\n",
    "                        motsClef='auvergne, forêt, bocage, montagne, plaine, '\n",
    "                                 'bruant, fauvette, alouette, pouillot, pipit',\n",
    "                        preambule=KPreambule, quizz=KQuizz, etapes=KEtapes, attribsEtMercis=KAttribsEtMercis,\n",
    "                        dossierAttache=urlDossierAnnexes, dossierSons=urlDossierSons,\n",
    "                        images=dict(imgTMat=[dict(img='RouFBl-JCLablanquie-20200421.jpg',\n",
    "                                                  legend='Rouge-queue à front blanc, mâle'),\n",
    "                                             dict(img='BruJau-f-RRiols-20160620.jpg',\n",
    "                                                  legend='Bruant jaune, femelle')]),\n",
    "                        notebook='Quizz2020.ipynb', prefixeFicCible='quizz-2020',\n",
    "                        effort=sum(sum(q.effort.values()) for q in KQuizz))\n",
    "\n",
    "HTML(\"\"\"<p>Quizz 2020 <a href='{nomFic}' target=\"_blank\">{nomFic}</a> (nouvel onglet)</p>\"\"\".format(nomFic=nomFicCible))"
   ]
  },
  {
   "cell_type": "code",
   "execution_count": null,
   "metadata": {},
   "outputs": [],
   "source": []
  },
  {
   "cell_type": "code",
   "execution_count": null,
   "metadata": {},
   "outputs": [],
   "source": [
    "raise Exception(\"On s'arrête ici !\")"
   ]
  },
  {
   "cell_type": "code",
   "execution_count": null,
   "metadata": {},
   "outputs": [],
   "source": []
  },
  {
   "cell_type": "code",
   "execution_count": null,
   "metadata": {},
   "outputs": [],
   "source": [
    "implib.reload(module=quizz)"
   ]
  },
  {
   "cell_type": "code",
   "execution_count": null,
   "metadata": {},
   "outputs": [],
   "source": [
    "HTML(quizz.infosEnregXC(nr=471826))"
   ]
  },
  {
   "cell_type": "code",
   "execution_count": null,
   "metadata": {},
   "outputs": [],
   "source": []
  }
 ],
 "metadata": {
  "kernelspec": {
   "display_name": "Python 3",
   "language": "python",
   "name": "python3"
  },
  "language_info": {
   "codemirror_mode": {
    "name": "ipython",
    "version": 3
   },
   "file_extension": ".py",
   "mimetype": "text/x-python",
   "name": "python",
   "nbconvert_exporter": "python",
   "pygments_lexer": "ipython3",
   "version": "3.8.2"
  }
 },
 "nbformat": 4,
 "nbformat_minor": 2
}
