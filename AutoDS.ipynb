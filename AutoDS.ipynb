{
 "cells": [
  {
   "cell_type": "code",
   "execution_count": null,
   "metadata": {},
   "outputs": [],
   "source": [
    "import sys\n",
    "import os\n",
    "import importlib as implib\n",
    "\n",
    "import re\n",
    "\n",
    "from collections import OrderedDict as odict\n",
    "\n",
    "import numpy as np\n",
    "import pandas as pd\n",
    "\n",
    "from tqdm import tqdm"
   ]
  },
  {
   "cell_type": "code",
   "execution_count": null,
   "metadata": {},
   "outputs": [],
   "source": [
    "import autods as ads"
   ]
  },
  {
   "cell_type": "markdown",
   "metadata": {},
   "source": [
    "# Tests unitaires module mcds."
   ]
  },
  {
   "cell_type": "markdown",
   "metadata": {},
   "source": [
    "## 1. Classe DataSet"
   ]
  },
  {
   "cell_type": "code",
   "execution_count": null,
   "metadata": {},
   "outputs": [],
   "source": [
    "dfData = pd.DataFrame(columns=['Date', 'TrucDec', 'Espece', 'Point', 'Effort', 'Distance'],\n",
    "                      data=[('2019-05-13', 3.5, 'TURMER', 23, 2,   83),\n",
    "                            ('2019-05-15', np.nan, 'TURMER', 23, 2,   27.355),\n",
    "                            ('2019-05-13', 0, 'ALAARV', 29, 2,   56.85),\n",
    "                            ('2019-04-03', 1.325, 'PRUMOD', 53, 1.3,  7.2),\n",
    "                            ('2019-06-01', 2, 'PHICOL', 12, 1,  np.nan),\n",
    "                            ('2019-06-19', np.nan, 'PHICOL', 17, np.nan, np.nan),\n",
    "                           ])\n",
    "dfData['Region'] = 'ACDC'\n",
    "dfData['Surface'] = '2400'\n",
    "dfData"
   ]
  },
  {
   "cell_type": "code",
   "execution_count": null,
   "metadata": {},
   "outputs": [],
   "source": [
    "ds = ads.DataSet(dfData, decimalFields=['Effort', 'Distance', 'TrucDec'])"
   ]
  },
  {
   "cell_type": "markdown",
   "metadata": {},
   "source": [
    "## 2. Classes XXEngine"
   ]
  },
  {
   "cell_type": "markdown",
   "metadata": {},
   "source": [
    "### a. Instanciation et détection de Distance"
   ]
  },
  {
   "cell_type": "code",
   "execution_count": null,
   "metadata": {},
   "outputs": [],
   "source": [
    "_ = implib.reload(ads)"
   ]
  },
  {
   "cell_type": "code",
   "execution_count": null,
   "metadata": {},
   "outputs": [],
   "source": [
    "# Hack up normal installation root folders, in order to test without really installing Distance\n",
    "ads.DSEngine.DistancePossInstPaths = ['ads']"
   ]
  },
  {
   "cell_type": "code",
   "execution_count": null,
   "metadata": {},
   "outputs": [],
   "source": [
    "eng = ads.MCDSEngine(workDir='ads')"
   ]
  },
  {
   "cell_type": "markdown",
   "metadata": {},
   "source": [
    "### b. Génération fichier de données en entrée de MCDS"
   ]
  },
  {
   "cell_type": "code",
   "execution_count": null,
   "metadata": {},
   "outputs": [],
   "source": [
    "_ = eng.setupRunFolder(runName='mcds-test')"
   ]
  },
  {
   "cell_type": "code",
   "execution_count": null,
   "metadata": {
    "scrolled": false
   },
   "outputs": [],
   "source": [
    "dataFileName = eng.buildDataFile(dataSet=ds)"
   ]
  },
  {
   "cell_type": "markdown",
   "metadata": {},
   "source": [
    "### c. Génération fichier de \"commandes\""
   ]
  },
  {
   "cell_type": "code",
   "execution_count": null,
   "metadata": {
    "scrolled": true
   },
   "outputs": [],
   "source": [
    "cmdFileName = eng.buildCmdFile(estimKeyFn='HNORMAL', estimAdjustFn='COSINE',\n",
    "                               estimCriterion='AIC', cvInterval=95)"
   ]
  },
  {
   "cell_type": "markdown",
   "metadata": {},
   "source": [
    "### d. Génération fichier de données en entrée pour Distance\n",
    "\n",
    "(mode 'point transect' uniquement pour le moment)"
   ]
  },
  {
   "cell_type": "code",
   "execution_count": null,
   "metadata": {},
   "outputs": [],
   "source": [
    "distDataFileName = \\\n",
    "    eng.buildDistanceDataFile(ds.dfData, tgtFilePathName=os.path.join('ads', 'distance-input-test.txt'),\n",
    "                              decimalFields=ds.decimalFields)"
   ]
  },
  {
   "cell_type": "markdown",
   "metadata": {
    "collapsed": true
   },
   "source": [
    "### d. Dry run (only generate input and cmd files)"
   ]
  },
  {
   "cell_type": "code",
   "execution_count": null,
   "metadata": {},
   "outputs": [],
   "source": [
    "eng(ds, runName='mcds-test', realRun=False,\n",
    "    estimKeyFn='UNIFORM', estimAdjustFn='POLY',\n",
    "    estimCriterion='AIC', cvInterval=95)"
   ]
  },
  {
   "cell_type": "code",
   "execution_count": null,
   "metadata": {},
   "outputs": [],
   "source": []
  },
  {
   "cell_type": "markdown",
   "metadata": {},
   "source": [
    "# Tests de validation module ads"
   ]
  },
  {
   "cell_type": "markdown",
   "metadata": {},
   "source": [
    "## 1. Génération de fichiers d'entrée pour Distance\n",
    "\n",
    "* via un jeu de fichiers d'entrée bruts Excel, et leur export de référence, éprouvé dans Distance,\n",
    "* et comparaison du produit de XXEngine.buildDistanceDataFile à cette référence."
   ]
  },
  {
   "cell_type": "code",
   "execution_count": null,
   "metadata": {},
   "outputs": [],
   "source": [
    "os.makedirs(os.path.join('AutoDS', 'tmp'), exist_ok=True)"
   ]
  },
  {
   "cell_type": "code",
   "execution_count": null,
   "metadata": {},
   "outputs": [],
   "source": [
    "testCases = [dict(fileName='ACDC2019-Papyrus-ALAARV-Males-AB-10mn-saisie.xlsx',\n",
    "                  decimalFields=['EFFORT', 'DISTANCE', 'NOMBRE'])]"
   ]
  },
  {
   "cell_type": "code",
   "execution_count": null,
   "metadata": {},
   "outputs": [],
   "source": [
    "# Hack up normal installation root folders, in order to test without really installing Distance\n",
    "ads.DSEngine.DistancePossInstPaths = ['AutoDS']"
   ]
  },
  {
   "cell_type": "code",
   "execution_count": null,
   "metadata": {
    "scrolled": true
   },
   "outputs": [],
   "source": [
    "eng = ads.MCDSEngine(workDir='AutoDS')"
   ]
  },
  {
   "cell_type": "code",
   "execution_count": null,
   "metadata": {},
   "outputs": [],
   "source": [
    "for ind, tc in enumerate(testCases):\n",
    "    \n",
    "    fn = tc['fileName']\n",
    "    print('#', ind, ':', fn)\n",
    "    dfData = pd.read_excel(os.path.join('AutoDS', 'test-ref', fn))\n",
    "    rfn = eng.buildDistanceDataFile(dfData, os.path.join('AutoDS', 'tmp', os.path.splitext(fn)[0]+'.txt'),\n",
    "                                    decimalFields=tc['decimalFields'])\n",
    "    print()\n",
    "    \n",
    "    #TODO: Comparer à référence ?"
   ]
  },
  {
   "cell_type": "code",
   "execution_count": null,
   "metadata": {},
   "outputs": [],
   "source": []
  },
  {
   "cell_type": "markdown",
   "metadata": {},
   "source": [
    "## 2. Analyses massives ACDC Papier 2019"
   ]
  },
  {
   "cell_type": "code",
   "execution_count": null,
   "metadata": {},
   "outputs": [],
   "source": [
    "def extraireJeuDonnees(dfTout, espece, passages=['A', 'B'], duree='10mn'):\n",
    "    \n",
    "    assert all(p in ['A', 'B'] for p in passages)\n",
    "    assert duree in ['5mn', '10mn']\n",
    "    assert espece in dfTout.ESPECE.unique()\n",
    "    \n",
    "    # Passages\n",
    "    dfJeu = dfTout[(dfTout.ESPECE == espece) & (dfTout.PASSAGE.isin(passages))].copy()\n",
    "    \n",
    "    # Durée\n",
    "    if duree == '10mn':\n",
    "        dfJeu['NOMBRE'] = dfJeu[['PER5MN', 'PER10MN']].sum(axis='columns')\n",
    "    else:\n",
    "        dfJeu['NOMBRE'] = dfJeu['PER5MN']\n",
    "    dfJeu.drop(dfJeu[dfJeu.NOMBRE.isnull()].index, inplace=True)\n",
    "    assert all(dfJeu.NOMBRE == 1)\n",
    "        \n",
    "    # Effort\n",
    "    dfJeu['EFFORT'] = len(passages)\n",
    "        \n",
    "    # Nettoyage\n",
    "    dfJeu.drop(['PER5MN', 'PER10MN'], axis='columns', inplace=True)\n",
    "    \n",
    "    return dfJeu"
   ]
  },
  {
   "cell_type": "code",
   "execution_count": null,
   "metadata": {},
   "outputs": [],
   "source": [
    "def ajouterAbsences(dfJeu, effort, pointsPapier):\n",
    "    \n",
    "    assert not dfJeu.empty, 'Erreur : Il n\\'y aurait que des absences !'\n",
    "\n",
    "    zone, surface, espece = dfJeu.iloc[0][['ZONE', 'HA', 'ESPECE']]\n",
    "    dAbsence = { 'ZONE': zone, 'HA': surface, 'POINT': None, 'ESPECE': espece,\n",
    "                 'DISTANCE': np.nan, 'EFFORT': effort, 'MALE': None,\n",
    "                 'NOMBRE': np.nan, 'DATE': pd.NaT, 'OBSERVATEUR': None, 'PASSAGE': None }\n",
    "\n",
    "    pointsManquants = [p for p in pointsPapier if p not in dfJeu.POINT.unique()]\n",
    "    for p in pointsManquants:\n",
    "        dAbsence.update(POINT=p)\n",
    "        dfJeu = dfJeu.append(dAbsence, ignore_index=True)\n",
    "    \n",
    "    dfJeu.sort_values(by=['POINT'], inplace=True)\n",
    "\n",
    "    return dfJeu, len(pointsManquants)"
   ]
  },
  {
   "cell_type": "code",
   "execution_count": null,
   "metadata": {},
   "outputs": [],
   "source": [
    "# Paramètres généraux.\n",
    "workDir = 'ACDC-Auto'\n",
    "runEngine = False # Pas d'appel à l'exe si False, juste pour les fichiers d'entrée."
   ]
  },
  {
   "cell_type": "code",
   "execution_count": null,
   "metadata": {
    "scrolled": true
   },
   "outputs": [],
   "source": [
    "# Tous les points effectués (pour absences).\n",
    "pointsPapier = \\\n",
    "    list(map(int, \"\"\"23,39,40,41,42,55,56,57,58,59,60,72,73,74,75,76,88,89,90,91,\n",
    "                     105,106,109,110,112,113,122,123,125,126,127,128,129,130,141,142,143,144,145,146,\n",
    "                     147,148,157,158,159,160,161,162,163,164,165,166,174,175,176,177,178,179,180,181,\n",
    "                     182,183,184,185,192,193,194,195,196,197,198,199,200,201,202,210,211,212,213,214,\n",
    "                     215,216,218,219,228,229,232,233,245,246,247,250,262,263,265,266,280,281,282,283,\n",
    "                     284,299,300,301\"\"\".split(',')))\n",
    "\n",
    "# Données brutes saisies par les observateurs, déjà individualisées, que les mâles.\n",
    "ficDonnees = os.path.join(workDir, 'ACDC2019-Papyrus-DonneesBrutes.xlsx')\n",
    "dfMales = pd.read_excel(ficDonnees, sheet_name='ResultIndivMales')\n",
    "dfMales.rename(columns={ 'ha': 'HA', 'Distance en m': 'DISTANCE', 'Mâle\\xa0?': 'MALE', 'Date': 'DATE',\n",
    "                         'Période': 'PASSAGE', '0-5mn': 'PER5MN', '5-10 mn': 'PER10MN' }, inplace=True)\n",
    "\n",
    "assert all(dfMales.MALE.str.lower() == 'oui')\n",
    "\n",
    "print('Nb mâles   :', len(dfMales))\n",
    "print('Nb espèces :', len(dfMales.ESPECE.unique()))\n",
    "\n",
    "# Les espèces et passages à traiter.\n",
    "dfToDo = pd.read_excel(ficDonnees, sheet_name='AFaire')\n",
    "toDoCols = ['ESPECE', 'MALES', 'PERIODE']\n",
    "assert all(col in dfToDo.columns for col in toDoCols)\n",
    "dfToDo = dfToDo.reindex(toDoCols, axis='columns')\n",
    "dfToDo.sort_values(by='MALES', ascending=False, inplace=True)\n",
    "\n",
    "print('Espèces à traiter :', len(dfToDo))\n",
    "\n",
    "# Les paramètres de toutes analyses à faire à chaque fois.\n",
    "dfParams = pd.read_excel(ficDonnees, sheet_name='ParamsAnalyses')\n",
    "paramCols = ['KeyFn', 'AdjustFn', 'Criterion', 'CVInterval']\n",
    "assert all(col in paramCols for col in dfParams.columns)\n",
    "dfParams = dfParams.reindex(paramCols, axis='columns')\n",
    "\n",
    "print('Variantes d\\'analyses :', len(dfParams))"
   ]
  },
  {
   "cell_type": "code",
   "execution_count": null,
   "metadata": {},
   "outputs": [],
   "source": [
    "_ = implib.reload(ads)"
   ]
  },
  {
   "cell_type": "code",
   "execution_count": null,
   "metadata": {},
   "outputs": [],
   "source": [
    "# Hack up normal installation root folders, in order to test without really installing Distance\n",
    "ads.DSEngine.DistancePossInstPaths = ['AutoDS']"
   ]
  },
  {
   "cell_type": "code",
   "execution_count": null,
   "metadata": {
    "scrolled": true
   },
   "outputs": [],
   "source": [
    "# Le moteur\n",
    "mcds = ads.MCDSEngine(workDir=workDir,\n",
    "                         distanceUnit='Meter', areaUnit='Hectare',\n",
    "                         surveyType='Point', distanceType='Radial')\n",
    "\n",
    "# Les résultats de chaque analyse\n",
    "dfResultats = None\n",
    "\n",
    "#Pour chaque espèce à traiter\n",
    "for index, sToDo in dfToDo.iterrows():\n",
    "\n",
    "    espece, nbIndivs, passage = sToDo\n",
    "    passages = [p for p in passage]\n",
    "\n",
    "    print(espece, ':', passage)\n",
    "\n",
    "    # Pour les 2 durées d'inventaire (sur chaque point)\n",
    "    for duree in ['5mn', '10mn']:\n",
    "\n",
    "        print('-', duree, end=' : ')\n",
    "\n",
    "        # Sélection des données\n",
    "        dfJeu = extraireJeuDonnees(dfMales, espece, passages, duree)\n",
    "        print(len(dfJeu), 'mâles', end=', ')\n",
    "\n",
    "        # Ajout des lignes d'absence\n",
    "        dfJeu, nAbsences = ajouterAbsences(dfJeu, effort=len(passages), pointsPapier=pointsPapier)\n",
    "        print(nAbsences, 'absences', end=' ')\n",
    "\n",
    "        # Pour chaque précision numérique sur la distance (en décroissant)\n",
    "        for precDist in [None, 1]:\n",
    "            \n",
    "            # Arrondi à la précision.\n",
    "            if precDist is not None:\n",
    "                dfJeu.DISTANCE = dfJeu.DISTANCE.apply(round, ndigits=precDist)\n",
    "            \n",
    "            # Voici donc le jeu de données\n",
    "            jeu = ads.DataSet(dfJeu, decimalFields=['EFFORT', 'DISTANCE', 'NOMBRE'])\n",
    "            \n",
    "            # Pour chaque jeu de paramètres d'analyse\n",
    "            for index, sParams in dfParams.iterrows():\n",
    "\n",
    "                precision = 'tt' if precDist is None else precDist\n",
    "                prfxAnalyse = '{}-{}-{}-{}dec-{}'.format(espece, duree, passage, precision, index)\n",
    "                analyse = ads.MCDSAnalysis(engine=mcds, dataSet=jeu, namePrefix=prfxAnalyse,\n",
    "                                           estimKeyFn=sParams['KeyFn'], estimAdjustFn=sParams['AdjustFn'],\n",
    "                                           estimCriterion=sParams['Criterion'], cvInterval=sParams['CVInterval'])\n",
    "\n",
    "                dResultat = odict([('espece', espece), ('passages', passage), ('duree', duree),\n",
    "                                   ('precision', precision), ('index', index)])\n",
    "                dResultat.update(analyse.run(realRun=runEngine))\n",
    "\n",
    "                if dfResultats is None:\n",
    "                    dfResultats = pd.DataFrame(columns=dResultat.keys())\n",
    "                dfResultats = dfResultats.append(dResultat, ignore_index=True)\n",
    "                \n",
    "                #raise StopIteration()\n",
    "\n",
    "# Sauvegarde des résultats\n",
    "dfResultats.to_excel(workDir+'/ACDC2019-Papyrus-ResultatsAnalyses.xlsx')"
   ]
  },
  {
   "cell_type": "code",
   "execution_count": null,
   "metadata": {},
   "outputs": [],
   "source": [
    "dResultat"
   ]
  },
  {
   "cell_type": "code",
   "execution_count": null,
   "metadata": {},
   "outputs": [],
   "source": [
    "dfResultats"
   ]
  },
  {
   "cell_type": "code",
   "execution_count": null,
   "metadata": {},
   "outputs": [],
   "source": []
  }
 ],
 "metadata": {
  "kernelspec": {
   "display_name": "Python 3",
   "language": "python",
   "name": "python3"
  },
  "language_info": {
   "codemirror_mode": {
    "name": "ipython",
    "version": 3
   },
   "file_extension": ".py",
   "mimetype": "text/x-python",
   "name": "python",
   "nbconvert_exporter": "python",
   "pygments_lexer": "ipython3",
   "version": "3.7.3"
  }
 },
 "nbformat": 4,
 "nbformat_minor": 2
}
