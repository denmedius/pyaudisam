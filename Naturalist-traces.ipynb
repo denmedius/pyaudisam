{
 "cells": [
  {
   "cell_type": "markdown",
   "metadata": {},
   "source": [
    "<!-- Auto table of contents -->\n",
    "<h1 class='tocIgnore'>Naturalist : Extraction et exploitation des traces</h1>\n",
    "<ul>\n",
    "  <li>présentes dans les formulaires à partir Naturalist V0.128 (ou beta mai 2019),</li>\n",
    "  <li>à condition de cocher la case \"Enregistrer ma trace\" en début de formulaire,</li>\n",
    "  <li>via l'export Excel exclusivement\n",
    "      (pas encore d'API pour ça, et absent des exports XML, JSON, KML, CSV en décembre 2019),</li>\n",
    "  <li>avec la colonne \"trace\" sélectionnée dans l'export,</li>\n",
    "  <li>uniquement via Faune-France (pas dispo. via les sites régionaux).</li>\n",
    "</ul>\n",
    "<p>Lecture XLSX et carto. publiée avec données anonymisées sur https://framagit.org/lpo/partage-de-codes le 25/01/2020</p>\n",
    "<div style=\"overflow-y: auto\">\n",
    "  <h2 class='tocIgnore'>Table des matières</h2>\n",
    "  <div id=\"toc\"></div>\n",
    "</div>"
   ]
  },
  {
   "cell_type": "code",
   "execution_count": null,
   "metadata": {},
   "outputs": [],
   "source": [
    "%%javascript\n",
    "$.getScript('ipython_notebook_toc.js')"
   ]
  },
  {
   "cell_type": "code",
   "execution_count": null,
   "metadata": {},
   "outputs": [],
   "source": [
    "import sys\n",
    "import os\n",
    "import pathlib as pl\n",
    "import datetime as dt\n",
    "import pandas as pd\n",
    "import numpy as np\n",
    "\n",
    "import folium\n",
    "import folium.plugins\n",
    "\n",
    "from collections import OrderedDict as odict\n",
    "import json\n",
    "\n",
    "from IPython.display import HTML"
   ]
  },
  {
   "cell_type": "markdown",
   "metadata": {},
   "source": [
    "# Communs"
   ]
  },
  {
   "cell_type": "code",
   "execution_count": null,
   "metadata": {},
   "outputs": [],
   "source": [
    "# Serveurs de couche carto. pour folium / Leaflet\n",
    "mdOSM = dict(tiles='http://{s}.tile.openstreetmap.org/{z}/{x}/{y}.png', \n",
    "             attr='Open Street Map',\n",
    "             name='Open Street Map', max_zoom=22)\n",
    "\n",
    "mdOTM = dict(tiles='http://{s}.tile.opentopomap.org/{z}/{x}/{y}.png',\n",
    "             attr='<a href=\"https://opentopomap.org/\">OpenTopoMap</a> '\n",
    "                  '(<a href=\"https://creativecommons.org/licenses/by-sa/3.0/\">CC-BY-SA</a>)',\n",
    "             name='Open Topo Map', max_zoom=22)\n",
    "mdThOut = dict(tiles='https://{s}.tile.thunderforest.com/outdoors/{z}/{x}/{y}.png',\n",
    "               attr='Thunderforest Outdoors', \n",
    "               name='Thunderforest Outdoors', max_zoom=22)\n",
    "\n",
    "mdSatArcGis = dict(tiles='https://server.arcgisonline.com/ArcGIS/rest/services/World_Imagery/MapServer/tile/{z}/{y}/{x}',\n",
    "                   attr='Tiles &copy; Esri &mdash; Source: Esri, i-cubed, USDA, USGS, AEX, GeoEye, Getmapping, Aerogrid,'\n",
    "                        ' IGN, IGP, UPR-EGP, and the GIS User Community',\n",
    "                   name='ArcGIS Satellite',\n",
    "                   max_zoom=22)"
   ]
  },
  {
   "cell_type": "markdown",
   "metadata": {},
   "source": [
    "# Chargement des données (exports de Faune-France)"
   ]
  },
  {
   "cell_type": "code",
   "execution_count": null,
   "metadata": {},
   "outputs": [],
   "source": [
    "# ACDC 2019 JPM (en fait, traceenregistrée uniquement sur le 2nd passage, et pour 15 points sur 17)\n",
    "fn = f'tmp/ACDC2019-Naturalist-FormulairesJPM2019040720190602ff.xlsx'\n",
    "obser, obserAbbv = 'Jean-Philippe Meuret', 'JPM'"
   ]
  },
  {
   "cell_type": "code",
   "execution_count": null,
   "metadata": {},
   "outputs": [],
   "source": [
    "# Formulaires Romain avec trace du 25/05/2019 au 25/01/2020 (tous)\n",
    "# * Impluvium: \"epoc\" & Saint-Ours, Pulvérières, Charbonnière-les-Varennes\n",
    "# * et le reste : des EPOC et des transects\n",
    "fn = f'tmp/FormulairesRR-traces-20190525-20200125ff.xlsx'\n",
    "obser, obserAbbv = 'Romain Riols', 'RR'"
   ]
  },
  {
   "cell_type": "code",
   "execution_count": null,
   "metadata": {},
   "outputs": [],
   "source": [
    "# ACDC 2019 Romain 25/05/2019\n",
    "fn = f'tmp/ACDC2019-Naturalist-FormulairesRR20190425ff.xlsx'\n",
    "obser, obserAbbv = 'Romain Riols', 'RR'"
   ]
  },
  {
   "cell_type": "code",
   "execution_count": null,
   "metadata": {},
   "outputs": [],
   "source": [
    "# Test JPM jardin 23/05/2019\n",
    "#fn = f'tmp/NaturalistTestTrace-JardinJPM20190523ff.xlsx'\n",
    "#obser, obserAbbv = 'Jean-Philippe Meuret', 'JPM'"
   ]
  },
  {
   "cell_type": "code",
   "execution_count": null,
   "metadata": {},
   "outputs": [],
   "source": [
    "obsCols = ['ID liste', 'Liste complète ?', 'Commentaire de la liste',\n",
    "           'Date', 'Horaire', 'Lieu-dit', 'Commune', 'Nom espèce',\n",
    "           'Estimation', 'Nombre', 'Détails', 'Code atlas',\n",
    "           'Lat (WGS84)', 'Lon (WGS84)',\n",
    "           'Remarque', 'Remarque privée', 'Prénom', 'Nom',\n",
    "           'Protocole', 'Trace']"
   ]
  },
  {
   "cell_type": "code",
   "execution_count": null,
   "metadata": {
    "scrolled": false
   },
   "outputs": [],
   "source": [
    "dfObs = pd.read_excel(fn)\n",
    "\n",
    "# Uniquement les données des formulaires\n",
    "dfObs.drop(dfObs[dfObs['ID liste'] == 0].index, inplace=True) \n",
    "\n",
    "dfObs[obsCols]"
   ]
  },
  {
   "cell_type": "code",
   "execution_count": null,
   "metadata": {},
   "outputs": [],
   "source": [
    "# Nettoyage colonnes inutiles\n",
    "dfObs.drop(columns=[col for col in dfObs.columns if col.startswith('SEARCH_EXPORT')], inplace=True)\n",
    "dfObs.columns"
   ]
  },
  {
   "cell_type": "markdown",
   "metadata": {},
   "source": [
    "# Filtrage des données\n",
    "\n",
    "(on ne garde que celles des formulaires)"
   ]
  },
  {
   "cell_type": "code",
   "execution_count": null,
   "metadata": {},
   "outputs": [],
   "source": [
    "dfObs['Commentaire de la liste'].unique()"
   ]
  },
  {
   "cell_type": "code",
   "execution_count": null,
   "metadata": {},
   "outputs": [],
   "source": [
    "# Uniquement ceux d'ACDC.\n",
    "dfObs.drop(dfObs[dfObs['Commentaire de la liste'].isnull()].index, inplace=True)\n",
    "dfObs.drop(dfObs[~dfObs['Commentaire de la liste'].str.contains('ACDC', case=False)].index, inplace=True)"
   ]
  },
  {
   "cell_type": "code",
   "execution_count": null,
   "metadata": {},
   "outputs": [],
   "source": [
    "# Uniquement ceux avec trace\n",
    "dfObs.drop(dfObs[dfObs['Trace'].isnull()].index, inplace=True)\n",
    "\n",
    "len(dfObs[obsCols])"
   ]
  },
  {
   "cell_type": "markdown",
   "metadata": {},
   "source": [
    "# Examen des données"
   ]
  },
  {
   "cell_type": "code",
   "execution_count": null,
   "metadata": {},
   "outputs": [],
   "source": [
    "# Normalement, 1 trace par formulaire\n",
    "dfObs['Trace'].unique()"
   ]
  },
  {
   "cell_type": "code",
   "execution_count": null,
   "metadata": {},
   "outputs": [],
   "source": [
    "dfObs[['ID liste', 'Trace']].groupby('ID liste').nunique()"
   ]
  },
  {
   "cell_type": "code",
   "execution_count": null,
   "metadata": {},
   "outputs": [],
   "source": [
    "# Vérifier que la trace de la liste est présente à l'identique dans toutes les données de la liste\n",
    "assert all(dfObs[['ID liste', 'Trace']].groupby('ID liste').nunique().Trace == 1)"
   ]
  },
  {
   "cell_type": "code",
   "execution_count": null,
   "metadata": {},
   "outputs": [],
   "source": [
    "# Les formulaires à traiter\n",
    "dfObs[['ID liste', 'Liste complète ?', 'Commentaire de la liste', 'Trace']].groupby('ID liste').first()"
   ]
  },
  {
   "cell_type": "code",
   "execution_count": null,
   "metadata": {},
   "outputs": [],
   "source": [
    "# Les formulaires à traiter : nbre de données\n",
    "dfObs[['ID liste', 'Liste complète ?', 'Commentaire de la liste', 'Trace']].groupby('ID liste').count().Trace"
   ]
  },
  {
   "cell_type": "markdown",
   "metadata": {},
   "source": [
    "# Extraction et décodage des traces"
   ]
  },
  {
   "cell_type": "code",
   "execution_count": null,
   "metadata": {},
   "outputs": [],
   "source": [
    "# On peut donc récupérer trace de chaque liste et en extraire les points individuels\n",
    "formIndCols = ['ID liste', 'Date', 'Liste complète ?', 'Commentaire de la liste']\n",
    "dfTraces = dfObs[formIndCols + ['Trace']].groupby(formIndCols).first()\n",
    "dfTraces"
   ]
  },
  {
   "cell_type": "code",
   "execution_count": null,
   "metadata": {},
   "outputs": [],
   "source": [
    "# Exemple de trace\n",
    "dfTraces.iloc[0].Trace"
   ]
  },
  {
   "cell_type": "code",
   "execution_count": null,
   "metadata": {
    "scrolled": true
   },
   "outputs": [],
   "source": [
    "def decoderTrace(trace):\n",
    "    return [[float(num) for num in xy.strip().split(' ')] for xy in trace[len('LINESTRING('):-len(')')].split(',')]\n",
    "    \n",
    "dfTraces.Trace = dfTraces.Trace.apply(decoderTrace)\n",
    "dfTraces = dfTraces.Trace.apply(pd.Series).stack().reset_index()\n",
    "dfTraces[['obseur_lon', 'obseur_lat']] = dfTraces.loc[:, 0].apply(pd.Series)\n",
    "dfTraces.drop(columns=[0], inplace=True)\n",
    "dfTraces.rename(columns=dict(level_4='NumPt'), inplace=True)\n",
    "dfTraces"
   ]
  },
  {
   "cell_type": "markdown",
   "metadata": {},
   "source": [
    "# Tracé cartographique des données d'un formulaire et de sa trace"
   ]
  },
  {
   "cell_type": "code",
   "execution_count": null,
   "metadata": {},
   "outputs": [],
   "source": [
    "idListe = 766164"
   ]
  },
  {
   "cell_type": "code",
   "execution_count": null,
   "metadata": {},
   "outputs": [],
   "source": [
    "dfTraceListe = dfTraces.loc[dfTraces['ID liste'] == idListe].copy()\n",
    "dfTraceListe"
   ]
  },
  {
   "cell_type": "code",
   "execution_count": null,
   "metadata": {},
   "outputs": [],
   "source": [
    "dfObsListe = dfObs.loc[dfObs['ID liste'] == idListe,\n",
    "                       ['Lon (WGS84)', 'Lat (WGS84)', 'Date', 'Horaire', 'Nom espèce', 'Nombre', 'Code atlas']]\n",
    "dfObsListe"
   ]
  },
  {
   "cell_type": "code",
   "execution_count": null,
   "metadata": {},
   "outputs": [],
   "source": [
    "mapDesc = dict(tiles='http://{s}.tile.opentopomap.org/{z}/{x}/{y}.png',\n",
    "               attr='<a href=\"https://opentopomap.org/\">OpenTopoMap</a> '\n",
    "                    '(<a href=\"https://creativecommons.org/licenses/by-sa/3.0/\">CC-BY-SA</a>)',\n",
    "               max_zoom=22) # OK\n",
    "#mapDesc = dict(tiles='http://{s}.tile.openstreetmap.org/{z}/{x}/{y}.png', \n",
    "#               attr='osm',\n",
    "#               max_zoom=22) # OK\n",
    "#mapDesc = dict(tiles='https://{s}.tile.thunderforest.com/outdoors/{z}/{x}/{y}.png',\n",
    "#               attr='thunderforest',\n",
    "#               max_zoom=22) # OK\n",
    "\n",
    "#mapDesc = dict(tiles='https://server.arcgisonline.com/ArcGIS/rest/services/World_Imagery/MapServer/tile/{z}/{y}/{x}',\n",
    "#               attr='Tiles &copy; Esri &mdash; Source: Esri, i-cubed, USDA, USGS, AEX, GeoEye, Getmapping, Aerogrid,'\n",
    "#                    ' IGN, IGP, UPR-EGP, and the GIS User Community',\n",
    "#               max_zoom=22)\n",
    "\n",
    "mp = folium.Map(**mapDesc)\n",
    "\n",
    "# La trace\n",
    "# a. Le lignes reliant les points\n",
    "dfTraceListe['obseur_lon_sfd'] = dfTraceListe.obseur_lon.shift(-1)\n",
    "dfTraceListe['obseur_lat_sfd'] = dfTraceListe.obseur_lat.shift(-1)\n",
    "dfTraceListe.dropna(inplace=True)\n",
    "\n",
    "commListe = dfTraceListe.iloc[0]['Commentaire de la liste']\n",
    "lines = list(zip(zip(dfTraceListe.obseur_lat, dfTraceListe.obseur_lon),\n",
    "                 zip(dfTraceListe.obseur_lat_sfd, dfTraceListe.obseur_lon_sfd)))[:-1]\n",
    "pline = folium.PolyLine(lines, color='blue', weight=1, opacity=0.6,\n",
    "                        popup=folium.Popup('#{} {}'.format(idListe, commListe)))\n",
    "pline.add_to(mp)\n",
    "\n",
    "# b. Les points\n",
    "for _, sPt in dfTraceListe.iterrows():\n",
    "    mrk = folium.CircleMarker(location=(sPt.obseur_lat, sPt.obseur_lon), \n",
    "                              popup=folium.Popup('#{}: {}'.format(sPt['ID liste'], sPt.NumPt)),\n",
    "                              radius=2, weight=2, color='red', fill=True)\n",
    "    mrk.add_to(mp)\n",
    "\n",
    "# Les données\n",
    "for indObs, sObs in dfObsListe.iterrows():\n",
    "    mrk = folium.CircleMarker(location=(sObs['Lat (WGS84)'], sObs['Lon (WGS84)']), \n",
    "                              radius=3, color='cyan', fill=True,\n",
    "                              popup=folium.Popup('#{} {} {} {} {} (code {})' \\\n",
    "                                                 .format(indObs, sObs.Date, sObs.Horaire,\n",
    "                                                         sObs.Nombre, sObs['Nom espèce'], sObs['Code atlas'])))\n",
    "    mrk.add_to(mp)\n",
    "    \n",
    "mp.fit_bounds(mp.get_bounds())\n",
    "mp"
   ]
  },
  {
   "cell_type": "markdown",
   "metadata": {},
   "source": [
    "# Comparaison traces / géolocs \"réelles\"\n",
    "\n",
    "* entre mes formulaires ACDC 2019 2nd passage, quasi-tous \"avec trace\",\n",
    "* et les géolocs \"de mémoire\" (novembre 2019)."
   ]
  },
  {
   "cell_type": "code",
   "execution_count": null,
   "metadata": {},
   "outputs": [],
   "source": [
    "# Lecture des données brutes avec géolocs de mémoire (produites via NB ACDC-donnees-naturalist IV.4)\n",
    "dfObsBrutes = pd.read_excel('ACDC/ACDC2019-Naturalist-ObsBrutesAvecDist.xlsx')\n",
    "dfObsBrutes.drop(dfObsBrutes[dfObsBrutes.Observateur != obser].index, inplace=True)\n",
    "dfObsBrutes[['Num point ACDC', 'Passage', 'Date', 'Heure début', 'lon_mem', 'lat_mem']]"
   ]
  },
  {
   "cell_type": "code",
   "execution_count": null,
   "metadata": {},
   "outputs": [],
   "source": [
    "dfObsBrutes['Num point ACDC'].unique()"
   ]
  },
  {
   "cell_type": "code",
   "execution_count": null,
   "metadata": {},
   "outputs": [],
   "source": [
    "# Extraction des géolocs de mémoire\n",
    "dfGeolocMem = dfObsBrutes[['Num point ACDC', 'Passage', 'Date', 'Heure début', 'lon_mem', 'lat_mem']] \\\n",
    "                .groupby(['Num point ACDC', 'Passage']).first()\n",
    "dfGeolocMem"
   ]
  },
  {
   "cell_type": "code",
   "execution_count": null,
   "metadata": {},
   "outputs": [],
   "source": [
    "# Traces : Ajouts infos Num point ACDC et Passage\n",
    "# (puisque ID liste spécifiques à Faune XX, différent de ceux de Faune France)\n",
    "dfTraces['Num point ACDC'] = dfTraces['Commentaire de la liste'].apply(lambda s: int(s.split(' ')[1]))\n",
    "dfTraces['Passage'] = dfTraces.Date.apply(lambda ts: 'a' if ts < pd.Timestamp('2019-05-15') else 'b')\n",
    "dfTraces"
   ]
  },
  {
   "cell_type": "code",
   "execution_count": null,
   "metadata": {
    "scrolled": true
   },
   "outputs": [],
   "source": [
    "# Jointure avec les traces (en gardant tous les points et passages effectués, pas seulement ceux avec trace)\n",
    "dfTraces = dfTraces.join(dfGeolocMem[['lon_mem', 'lat_mem']], on=['Num point ACDC', 'Passage'], how='right')\n",
    "dfTraces.reset_index(inplace=True)\n",
    "dfTraces"
   ]
  },
  {
   "cell_type": "code",
   "execution_count": null,
   "metadata": {},
   "outputs": [],
   "source": [
    "# Suppression des traces du passage a (non dispo. à l'époque)\n",
    "dfTraces.drop(dfTraces[dfTraces.Passage == 'a'].index, inplace=True)\n",
    "dfTraces"
   ]
  },
  {
   "cell_type": "code",
   "execution_count": null,
   "metadata": {},
   "outputs": [],
   "source": [
    "dfTraces['Num point ACDC'].unique(), dfTraces['Passage'].unique()"
   ]
  },
  {
   "cell_type": "code",
   "execution_count": null,
   "metadata": {},
   "outputs": [],
   "source": [
    "# Cartographie des formulaires\n",
    "mp = folium.Map()\n",
    "folium.TileLayer(**mdSatArcGis).add_to(mp)\n",
    "\n",
    "# Le contrôle pour changer de couche\n",
    "folium.LayerControl().add_to(mp)\n",
    "\n",
    "# Pour chaque point ...\n",
    "for numPoint in sorted(dfTraces['Num point ACDC'].unique()):\n",
    "    \n",
    "    # Les données\n",
    "    dfObsListe = dfObsBrutes[dfObsBrutes['Num point ACDC'] == numPoint]\n",
    "    for indObs, sObs in dfObsListe.iterrows():\n",
    "        mrk = folium.CircleMarker(location=(sObs.lat, sObs.lon), \n",
    "                                  radius=2, color='cyan', fill=True,\n",
    "                                  popup=folium.Popup('#{} {} {} {} {} (code {})' \\\n",
    "                                                     .format(indObs, sObs.Date, sObs.Horaire,\n",
    "                                                             sObs.Nombre, sObs['Nom latin'], sObs['Code atlas'])))\n",
    "        mrk.add_to(mp)\n",
    "    \n",
    "    # La position observateur \"de mémoire\", avec cerles concentriques r=10m + STOC EPS pour l'échelle\n",
    "    dfTraceListe = dfTraces[dfTraces['Num point ACDC'] == numPoint].copy()\n",
    "    \n",
    "    latMem, lonMem = dfTraceListe.iloc[0][['lat_mem', 'lon_mem']]\n",
    "    mrk = folium.CircleMarker(location=(latMem, lonMem), \n",
    "                              radius=6, color='orange', fill=True,\n",
    "                              popup=folium.Popup('#{} Géoloc. de mémoire'.format(numPoint)))\n",
    "    mrk.add_to(mp)\n",
    "    crc = folium.Circle(location=(latMem, lonMem), radius=10, color='orange', weight=1,\n",
    "                        popup=folium.Popup('Rayon 10m'))\n",
    "    crc.add_to(mp)\n",
    "    crc = folium.Circle(location=(latMem, lonMem), radius=25, color='orange', weight=1,\n",
    "                        popup=folium.Popup('Rayon 25m'))\n",
    "    crc.add_to(mp)\n",
    "    crc = folium.Circle(location=(latMem, lonMem), radius=100, color='orange', weight=1,\n",
    "                        popup=folium.Popup('Rayon 100m'))\n",
    "    crc.add_to(mp)\n",
    "    crc = folium.Circle(location=(latMem, lonMem), radius=200, color='orange', weight=1,\n",
    "                        popup=folium.Popup('Rayon 200m'))\n",
    "    crc.add_to(mp)\n",
    "    \n",
    "    # La trace si disponible\n",
    "    dfTraceListe.dropna(subset=['ID liste'], inplace=True)\n",
    "\n",
    "    # a. Les lignes reliant les points\n",
    "    if len(dfTraceListe) > 1:\n",
    "        dfTraceListe['obseur_lon_sfd'] = dfTraceListe.obseur_lon.shift(-1)\n",
    "        dfTraceListe['obseur_lat_sfd'] = dfTraceListe.obseur_lat.shift(-1)\n",
    "\n",
    "        commListe = dfTraceListe.iloc[0]['Commentaire de la liste']\n",
    "        compListe = dfTraceListe.iloc[0]['Liste complète ?']\n",
    "        lines = list(zip(zip(dfTraceListe.obseur_lat, dfTraceListe.obseur_lon),\n",
    "                         zip(dfTraceListe.obseur_lat_sfd, dfTraceListe.obseur_lon_sfd)))[:-1]\n",
    "        pline = folium.PolyLine(lines, color='blue', weight=1, opacity=0.6,\n",
    "                                popup=folium.Popup('#{} {} ({}complète)'.format(numPoint, commListe, '' if compListe else 'in')))\n",
    "        pline.add_to(mp)\n",
    "\n",
    "    # b. Les points\n",
    "    if len(dfTraceListe) > 0:\n",
    "        for _, sPt in dfTraceListe.iterrows():\n",
    "            mrk = folium.CircleMarker(location=(sPt.obseur_lat, sPt.obseur_lon), \n",
    "                                      popup=folium.Popup('#{}: {}'.format(numPoint, sPt.NumPt)),\n",
    "                                      radius=5, weight=2, color='red', fill=True)\n",
    "            mrk.add_to(mp)\n",
    "\n",
    "mp.fit_bounds(mp.get_bounds())\n",
    "\n",
    "# Save map as shareable / web-publishable interactive one.\n",
    "mp.save(f'tmp/ACDC2019b-Points{obserAbbv}-ComparaisonGeolocTraceEtMemoire.html')\n",
    "\n",
    "# Display map.\n",
    "mp"
   ]
  },
  {
   "cell_type": "code",
   "execution_count": null,
   "metadata": {},
   "outputs": [],
   "source": []
  },
  {
   "cell_type": "markdown",
   "metadata": {},
   "source": [
    "# Filtrage et cartographie des données et traces"
   ]
  },
  {
   "cell_type": "code",
   "execution_count": null,
   "metadata": {},
   "outputs": [],
   "source": [
    "fn, obser"
   ]
  },
  {
   "cell_type": "code",
   "execution_count": null,
   "metadata": {},
   "outputs": [],
   "source": [
    "dfObsSel = dfObs.copy()"
   ]
  },
  {
   "cell_type": "code",
   "execution_count": null,
   "metadata": {},
   "outputs": [],
   "source": [
    "dfObsSel['Commentaire de la liste'].unique()"
   ]
  },
  {
   "cell_type": "code",
   "execution_count": null,
   "metadata": {},
   "outputs": [],
   "source": [
    "dfObsSel.Commune.unique()"
   ]
  },
  {
   "cell_type": "markdown",
   "metadata": {},
   "source": [
    "## 1. Filtrage"
   ]
  },
  {
   "cell_type": "markdown",
   "metadata": {},
   "source": [
    "### a. Impluvium Volvic 2019 Romain"
   ]
  },
  {
   "cell_type": "code",
   "execution_count": null,
   "metadata": {},
   "outputs": [],
   "source": [
    "obsSelName = 'impluvium'"
   ]
  },
  {
   "cell_type": "code",
   "execution_count": null,
   "metadata": {
    "scrolled": true
   },
   "outputs": [],
   "source": [
    "# Uniquement les EPOC sur Saint-Ours, Pulvérières, Charbonnières-les-Varennes\n",
    "dfObsSel.drop(dfObsSel[dfObsSel['Commentaire de la liste'].isnull()].index, inplace=True)\n",
    "dfObsSel.drop(dfObsSel[~dfObsSel.Commune.isin(['Saint-Ours', 'Pulvérières', 'Charbonnières-les-Varennes'])].index, inplace=True)\n",
    "\n",
    "dfObsSel.drop(dfObsSel[~dfObsSel['Commentaire de la liste'].str.contains('epoc', case=False)].index, inplace=True)\n",
    "\n",
    "len(dfObsSel)"
   ]
  },
  {
   "cell_type": "code",
   "execution_count": null,
   "metadata": {},
   "outputs": [],
   "source": [
    "dfObsSel"
   ]
  },
  {
   "cell_type": "markdown",
   "metadata": {},
   "source": [
    "### b. Forêt de Marcenat"
   ]
  },
  {
   "cell_type": "code",
   "execution_count": null,
   "metadata": {},
   "outputs": [],
   "source": [
    "obsSelName = 'marcenat03'"
   ]
  },
  {
   "cell_type": "code",
   "execution_count": null,
   "metadata": {
    "scrolled": true
   },
   "outputs": [],
   "source": [
    "# Uniquement les EPOC sur Saint-Didier-la-Forêt, Saint-Rémy-en-Rollat (03)\n",
    "dfObsSel.drop(dfObsSel[~dfObsSel.Commune.isin(['Saint-Didier-la-Forêt', 'Saint-Rémy-en-Rollat'])].index, inplace=True)\n",
    "\n",
    "len(dfObsSel)"
   ]
  },
  {
   "cell_type": "markdown",
   "metadata": {},
   "source": [
    "### c. Planèze"
   ]
  },
  {
   "cell_type": "code",
   "execution_count": null,
   "metadata": {},
   "outputs": [],
   "source": [
    "obsSelName = 'planeze15'"
   ]
  },
  {
   "cell_type": "code",
   "execution_count": null,
   "metadata": {},
   "outputs": [],
   "source": [
    "commPlaneze = ['Cussac', 'Neuvéglise', 'Ternes (Les)', 'Sériers',\n",
    "               'Tanavelle', 'Valuéjols', 'Paulhac', 'Villedieu', 'Ussel',\n",
    "               'Coltines', 'Talizat']"
   ]
  },
  {
   "cell_type": "code",
   "execution_count": null,
   "metadata": {
    "scrolled": true
   },
   "outputs": [],
   "source": [
    "# Uniquement les EPOC sur Saint-Didier-la-Forêt, Saint-Rémy-en-Rollat (03)\n",
    "dfObsSel.drop(dfObsSel[~dfObsSel.Commune.isin(commPlaneze)].index, inplace=True)\n",
    "\n",
    "len(dfObsSel)"
   ]
  },
  {
   "cell_type": "markdown",
   "metadata": {},
   "source": [
    "## 2. Extraction et décodage des traces"
   ]
  },
  {
   "cell_type": "code",
   "execution_count": null,
   "metadata": {},
   "outputs": [],
   "source": [
    "# On peut donc récupérer trace de chaque liste et en extraire les points individuels\n",
    "formIndCols = ['ID liste', 'Date', 'Liste complète ?', 'Commentaire de la liste']\n",
    "dfTraces = dfObsSel[formIndCols + ['Trace']].groupby(formIndCols).first()\n",
    "dfTraces"
   ]
  },
  {
   "cell_type": "code",
   "execution_count": null,
   "metadata": {},
   "outputs": [],
   "source": [
    "len(dfTraces)"
   ]
  },
  {
   "cell_type": "code",
   "execution_count": null,
   "metadata": {
    "scrolled": false
   },
   "outputs": [],
   "source": [
    "def decoderTrace(trace):\n",
    "    return [[float(num) for num in xy.strip().split(' ')] for xy in trace[len('LINESTRING('):-len(')')].split(',')]\n",
    "    \n",
    "dfTraces.Trace = dfTraces.Trace.apply(decoderTrace)\n",
    "dfTraces = dfTraces.Trace.apply(pd.Series).stack().reset_index()\n",
    "dfTraces[['obseur_lon', 'obseur_lat']] = dfTraces.loc[:, 0].apply(pd.Series)\n",
    "dfTraces.drop(columns=[0], inplace=True)\n",
    "dfTraces.rename(columns=dict(level_4='NumPt'), inplace=True)\n",
    "dfTraces"
   ]
  },
  {
   "cell_type": "markdown",
   "metadata": {},
   "source": [
    "## 3. Cartographie"
   ]
  },
  {
   "cell_type": "code",
   "execution_count": null,
   "metadata": {},
   "outputs": [],
   "source": [
    "dfObsSel.Date.min(), dfObsSel.Date.max()"
   ]
  },
  {
   "cell_type": "code",
   "execution_count": null,
   "metadata": {},
   "outputs": [],
   "source": [
    "# Les formulaires à traiter et leurs nbres de données\n",
    "dfObsSel[['ID liste', 'Trace']].groupby('ID liste').count().rename(columns=dict(Trace='NbObs'))"
   ]
  },
  {
   "cell_type": "code",
   "execution_count": null,
   "metadata": {},
   "outputs": [],
   "source": [
    "dfObsSel.columns"
   ]
  },
  {
   "cell_type": "code",
   "execution_count": null,
   "metadata": {},
   "outputs": [],
   "source": [
    "# Cartographie des formulaires\n",
    "# La carte et les couches\n",
    "mp = folium.Map()\n",
    "folium.TileLayer(**mdSatArcGis).add_to(mp)\n",
    "\n",
    "# Le contrôle pour changer de couche\n",
    "folium.LayerControl().add_to(mp)\n",
    "\n",
    "# Pour chaque formulaire sélectionné\n",
    "for idListe in sorted(dfTraces['ID liste'].unique()):\n",
    "    \n",
    "    # Les données\n",
    "    dfObsListe = dfObsSel[dfObsSel['ID liste'] == idListe]\n",
    "    for indObs, sObs in dfObsListe.iterrows():\n",
    "        mrk = folium.CircleMarker(location=(sObs['Lat (WGS84)'], sObs['Lon (WGS84)']), \n",
    "                                  radius=4, color='cyan', fill=True,\n",
    "                                  popup=folium.Popup('#{} {} {} {} {} (code {})' \\\n",
    "                                                     .format(indObs, sObs.Date, sObs.Horaire,\n",
    "                                                             sObs.Nombre, sObs['Nom latin'], sObs['Code atlas'])))\n",
    "        mrk.add_to(mp)\n",
    "    \n",
    "    # La position observateur estimée, avec cerles concentriques r=10m + STOC EPS pour l'échelle\n",
    "    #latMem, lonMem = dfTraceListe.iloc[0][['lat_mem', 'lon_mem']]\n",
    "    #mrk = folium.CircleMarker(location=(latMem, lonMem), \n",
    "    #                          radius=6, color='orange', fill=True,\n",
    "    #                          popup=folium.Popup('#{} Géoloc. de mémoire'.format(numPoint)))\n",
    "    #mrk.add_to(mp)\n",
    "    #crc = folium.Circle(location=(latMem, lonMem), radius=10, color='orange', weight=1,\n",
    "    #                    popup=folium.Popup('Rayon 10m'))\n",
    "    #crc.add_to(mp)\n",
    "    #crc = folium.Circle(location=(latMem, lonMem), radius=25, color='orange', weight=1,\n",
    "    #                    popup=folium.Popup('Rayon 25m'))\n",
    "    #crc.add_to(mp)\n",
    "    #crc = folium.Circle(location=(latMem, lonMem), radius=100, color='orange', weight=1,\n",
    "    #                    popup=folium.Popup('Rayon 100m'))\n",
    "    #crc.add_to(mp)\n",
    "    #crc = folium.Circle(location=(latMem, lonMem), radius=200, color='orange', weight=1,\n",
    "    #                    popup=folium.Popup('Rayon 200m'))\n",
    "    #crc.add_to(mp)\n",
    "    \n",
    "    # La trace\n",
    "    dfTraceListe = dfTraces[dfTraces['ID liste'] == idListe].copy()\n",
    "    \n",
    "    # a. Les lignes reliant les points\n",
    "    if len(dfTraceListe) > 1:\n",
    "        dfTraceListe['obseur_lon_sfd'] = dfTraceListe.obseur_lon.shift(-1)\n",
    "        dfTraceListe['obseur_lat_sfd'] = dfTraceListe.obseur_lat.shift(-1)\n",
    "\n",
    "        commListe = dfTraceListe.iloc[0]['Commentaire de la liste']\n",
    "        lines = list(zip(zip(dfTraceListe.obseur_lat, dfTraceListe.obseur_lon),\n",
    "                         zip(dfTraceListe.obseur_lat_sfd, dfTraceListe.obseur_lon_sfd)))[:-1]\n",
    "        pline = folium.PolyLine(lines, color='blue', weight=2, opacity=0.6,\n",
    "                                popup=folium.Popup('#{} {}'.format(idListe, commListe)))\n",
    "        pline.add_to(mp)\n",
    "\n",
    "    # b. Les points\n",
    "    if len(dfTraceListe) > 0:\n",
    "        for _, sPt in dfTraceListe.iterrows():\n",
    "            mrk = folium.CircleMarker(location=(sPt.obseur_lat, sPt.obseur_lon), \n",
    "                                      popup=folium.Popup('#{}: {}'.format(idListe, sPt.NumPt)),\n",
    "                                      radius=3, weight=2, color='red', fill=True)\n",
    "            mrk.add_to(mp)\n",
    "\n",
    "mp.fit_bounds(mp.get_bounds())\n",
    "\n",
    "# Display map.\n",
    "mp"
   ]
  },
  {
   "cell_type": "code",
   "execution_count": null,
   "metadata": {},
   "outputs": [],
   "source": [
    "# Save map as shareable / web-publishable interactive one.\n",
    "mFn = pl.Path(fn).with_suffix(f'.{obsSelName}.html')\n",
    "mp.save(str(mFn))\n",
    "\n",
    "HTML(f'<a href=\"{mFn}\" target=\"_blank\">{mFn}</a>')"
   ]
  },
  {
   "cell_type": "markdown",
   "metadata": {},
   "source": [
    "# Cartographie des communes d'une sélection de données"
   ]
  },
  {
   "cell_type": "code",
   "execution_count": null,
   "metadata": {},
   "outputs": [],
   "source": [
    "# Chargement d'un fichier des sites à peu près à jour\n",
    "dfSites = pd.read_csv('tmp/SitesFA-20190522.csv', sep='\\t', skiprows=1)\n",
    "dfSites.head()"
   ]
  },
  {
   "cell_type": "code",
   "execution_count": null,
   "metadata": {},
   "outputs": [],
   "source": [
    "dfCommunes.columns"
   ]
  },
  {
   "cell_type": "code",
   "execution_count": null,
   "metadata": {},
   "outputs": [],
   "source": [
    "# Et voici en gros la mairie de chaque commune.\n",
    "dfCommunes = dfSites[dfSites.Nom == dfSites.Commune.apply(lambda s: s + ' (bourg)')]\n",
    "len(dfCommunes)"
   ]
  },
  {
   "cell_type": "code",
   "execution_count": null,
   "metadata": {},
   "outputs": [],
   "source": [
    "# Filtrage\n",
    "dfCommunesSel = dfCommunes[dfCommunes.Commune.isin(dfObsSel.Commune.unique())]"
   ]
  },
  {
   "cell_type": "code",
   "execution_count": null,
   "metadata": {},
   "outputs": [],
   "source": [
    "# Ou pas filtrage\n",
    "dfCommunesSel = dfCommunes"
   ]
  },
  {
   "cell_type": "code",
   "execution_count": null,
   "metadata": {
    "scrolled": false
   },
   "outputs": [],
   "source": [
    "# La carte et les couches\n",
    "mp = folium.Map()\n",
    "folium.TileLayer(**mdSatArcGis).add_to(mp)\n",
    "\n",
    "# Le contrôle pour changer de couche\n",
    "folium.LayerControl().add_to(mp)\n",
    "\n",
    "# Pour chaque formulaire sélectionné\n",
    "for _, sCom in dfCommunesSel.iterrows():\n",
    "    \n",
    "    # La position observateur estimée, avec cerles concentriques r=10m + STOC EPS pour l'échelle\n",
    "    mrk = folium.CircleMarker(location=sCom[['Latitude (D.d)', 'Longitude (D.d)']], \n",
    "                              radius=10, color='fuchsia', fill=True,\n",
    "                              popup=folium.Popup('{} - {:02d} ({}m)'.format(sCom.Nom, int(sCom.INSEE)//1000, sCom.Altitude)))\n",
    "    mrk.add_to(mp)\n",
    "    \n",
    "mp.fit_bounds(mp.get_bounds())\n",
    "\n",
    "# Display map.\n",
    "mp"
   ]
  },
  {
   "cell_type": "code",
   "execution_count": null,
   "metadata": {},
   "outputs": [],
   "source": []
  },
  {
   "cell_type": "code",
   "execution_count": null,
   "metadata": {},
   "outputs": [],
   "source": []
  },
  {
   "cell_type": "code",
   "execution_count": null,
   "metadata": {},
   "outputs": [],
   "source": []
  },
  {
   "cell_type": "markdown",
   "metadata": {},
   "source": [
    "# Archives"
   ]
  },
  {
   "cell_type": "markdown",
   "metadata": {},
   "source": [
    "## Essai extraction traces via format JSON / XML\n",
    "\n",
    "(avant de savoir qu'elles n'y sont sont pas, le 25/01/2020)"
   ]
  },
  {
   "cell_type": "code",
   "execution_count": null,
   "metadata": {},
   "outputs": [],
   "source": [
    "#src = 'fa'\n",
    "src = 'ff'"
   ]
  },
  {
   "cell_type": "code",
   "execution_count": null,
   "metadata": {},
   "outputs": [],
   "source": [
    "fn = f'tmp/ACDC2019-Naturalist-FormulairesJPM2019040720190602{src}.json'"
   ]
  },
  {
   "cell_type": "code",
   "execution_count": null,
   "metadata": {},
   "outputs": [],
   "source": [
    "fn = f'tmp/NaturalistTestTrace-JardinJPM20190523{src}.json'"
   ]
  },
  {
   "cell_type": "code",
   "execution_count": null,
   "metadata": {},
   "outputs": [],
   "source": [
    "fn = 'tmp/NaturalistTestTrace-FormRomainsAutHiv201920fa.json'"
   ]
  },
  {
   "cell_type": "code",
   "execution_count": null,
   "metadata": {},
   "outputs": [],
   "source": [
    "dObsTr = json.load(open(fn))\n",
    "type(dObsTr), type(dObsTr['data']), dObsTr['data'].keys(), type(dObsTr['data']['forms']), type(dObsTr['data']['sightings'])"
   ]
  },
  {
   "cell_type": "code",
   "execution_count": null,
   "metadata": {},
   "outputs": [],
   "source": [
    "dict(nbFormulaires=len(dObsTr['data']['forms']), nbObsHorsFormulaires=len(dObsTr['data']['sightings']))"
   ]
  },
  {
   "cell_type": "code",
   "execution_count": null,
   "metadata": {},
   "outputs": [],
   "source": [
    "#dObsTr"
   ]
  },
  {
   "cell_type": "code",
   "execution_count": null,
   "metadata": {},
   "outputs": [],
   "source": [
    "#dObsTr['data']['forms'][8]"
   ]
  },
  {
   "cell_type": "code",
   "execution_count": null,
   "metadata": {
    "scrolled": true
   },
   "outputs": [],
   "source": [
    "for dForm in dObsTr['data']['forms']:\n",
    "    print(dForm['@id'], ':', dForm['time_start'], dForm['time_stop'], dForm['lat'], dForm['lon'],\n",
    "                             dForm.get('comment', ''), '=>', len(dForm['sightings']))"
   ]
  },
  {
   "cell_type": "code",
   "execution_count": null,
   "metadata": {},
   "outputs": [],
   "source": [
    "def flattenForm(form):\n",
    "    flat = odict()\n",
    "    for k, v in form.items():\n",
    "        if k == 'sightings':\n",
    "            continue\n",
    "        if isinstance(v, dict):\n",
    "            for sk, sv in v.items():\n",
    "                if k != 'protocol' or sk == 'protocol_name':\n",
    "                    flat.update(**{ 'form_'+k+'_'+sk: sv})\n",
    "        else:\n",
    "            flat.update(**{ 'form_'+k: v})\n",
    "    return flat\n",
    "\n",
    "dfForms = pd.DataFrame(data=[flattenForm(form) for form in dObsTr['data']['forms']])\n",
    "dfForms.set_index('form_@id', inplace=True)\n",
    "dfForms"
   ]
  },
  {
   "cell_type": "code",
   "execution_count": null,
   "metadata": {},
   "outputs": [],
   "source": [
    "def flattenSight(sight, formId):\n",
    "    flat = odict([('form_@id', formId)])\n",
    "    for k, v in sight.items():\n",
    "        if isinstance(v, list):\n",
    "            v = v[0]\n",
    "        for sk, sv in v.items():\n",
    "            if isinstance(sv, dict):\n",
    "                for ssk, ssv in sv.items():\n",
    "                    flat.update(**{ k+'_'+sk+'_'+ssk: ssv})\n",
    "            else:\n",
    "                flat.update(**{ k+'_'+sk: sv})\n",
    "    return flat\n",
    "\n",
    "ldfSights = list()\n",
    "for form in dObsTr['data']['forms']:\n",
    "    dfSights = pd.DataFrame(data=[flattenSight(sight, form['@id']) for sight in form['sightings']])\n",
    "    dfSights = dfSights.join(dfForms, on=['form_@id'])\n",
    "    ldfSights.append(dfSights)\n",
    "    \n",
    "dfSights = pd.concat(ldfSights, sort=False, ignore_index=True)\n",
    "dfSights"
   ]
  },
  {
   "cell_type": "code",
   "execution_count": null,
   "metadata": {},
   "outputs": [],
   "source": [
    "dfSights.columns"
   ]
  },
  {
   "cell_type": "code",
   "execution_count": null,
   "metadata": {},
   "outputs": [],
   "source": [
    "if 'form_protocol_protocol_name' in dfSights.columns:\n",
    "    dfSights.drop(dfSights[dfSights['form_protocol_protocol_name'] == 'STOC_EPS'].index, inplace=True)\n",
    "dfSights['form_comment'].fillna('', inplace=True)\n",
    "dfSights.drop(dfSights[~dfSights['form_comment'].str.contains('ACDC', case=False)].index, inplace=True)\n",
    "\n",
    "dfSights"
   ]
  },
  {
   "cell_type": "code",
   "execution_count": null,
   "metadata": {},
   "outputs": [],
   "source": [
    "dfSights['date_@ISO8601'].min(), dfSights['date_@ISO8601'].max()"
   ]
  },
  {
   "cell_type": "code",
   "execution_count": null,
   "metadata": {},
   "outputs": [],
   "source": [
    "dfSights[['form_@id']+[col for col in dfSights.columns if col.endswith('lat') or col.endswith('lon')]].head(30)"
   ]
  },
  {
   "cell_type": "code",
   "execution_count": null,
   "metadata": {},
   "outputs": [],
   "source": []
  },
  {
   "cell_type": "code",
   "execution_count": null,
   "metadata": {},
   "outputs": [],
   "source": []
  }
 ],
 "metadata": {
  "kernelspec": {
   "display_name": "Python 3",
   "language": "python",
   "name": "python3"
  },
  "language_info": {
   "codemirror_mode": {
    "name": "ipython",
    "version": 3
   },
   "file_extension": ".py",
   "mimetype": "text/x-python",
   "name": "python",
   "nbconvert_exporter": "python",
   "pygments_lexer": "ipython3",
   "version": "3.7.3"
  }
 },
 "nbformat": 4,
 "nbformat_minor": 2
}
