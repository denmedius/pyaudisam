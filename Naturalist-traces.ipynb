{
 "cells": [
  {
   "cell_type": "markdown",
   "metadata": {},
   "source": [
    "<!-- Auto table of contents -->\n",
    "<h1 class='tocIgnore'>Naturalist : Extraction et exploitation des traces</h1>\n",
    "<ul>\n",
    "  <li>présentes dans les formulaires à partir Naturalist V0.128 (ou beta mai 2019),</li>\n",
    "  <li>à condition de cocher la case \"Enregistrer ma trace\" en début de formulaire,</li>\n",
    "  <li>via l'export Excel exclusivement\n",
    "      (pas encore d'API pour ça, et absent des exports XML, JSON, KML, CSV en décembre 2019),</li>\n",
    "  <li>avec la colonne \"trace\" sélectionnée dans l'export,</li>\n",
    "  <li>uniquement via Faune-France (pas dispo. via les sites régionaux).</li>\n",
    "</ul>\n",
    "<p>Lecture XLSX et carto. publiée avec données anonymisées sur https://framagit.org/lpo/partage-de-codes le 25/01/2020</p>\n",
    "<div style=\"overflow-y: auto\">\n",
    "  <h2 class='tocIgnore'>Table des matières</h2>\n",
    "  <div id=\"toc\"></div>\n",
    "</div>"
   ]
  },
  {
   "cell_type": "code",
   "execution_count": null,
   "metadata": {},
   "outputs": [],
   "source": [
    "%%javascript\n",
    "$.getScript('ipython_notebook_toc.js')"
   ]
  },
  {
   "cell_type": "code",
   "execution_count": null,
   "metadata": {},
   "outputs": [],
   "source": [
    "import sys\n",
    "import os\n",
    "import datetime as dt\n",
    "import pandas as pd\n",
    "import numpy as np\n",
    "\n",
    "import folium\n",
    "import folium.plugins\n",
    "\n",
    "from collections import OrderedDict as odict\n",
    "import json\n",
    "\n",
    "from IPython.display import HTML"
   ]
  },
  {
   "cell_type": "markdown",
   "metadata": {},
   "source": [
    "# Lecture des données exportées de Faune-France\n",
    "\n",
    "(on ne garde que celles des formulaires)"
   ]
  },
  {
   "cell_type": "code",
   "execution_count": null,
   "metadata": {},
   "outputs": [],
   "source": [
    "# ACDC 2019 : 2nd passage (fonctionnalité \"trace\" )\n",
    "fn = f'tmp/ACDC2019-Naturalist-FormulairesJPM2019040720190602ff.xlsx'"
   ]
  },
  {
   "cell_type": "code",
   "execution_count": null,
   "metadata": {},
   "outputs": [],
   "source": [
    "fn = f'tmp/NaturalistTestTrace-JardinJPM20190523ff.xlsx'"
   ]
  },
  {
   "cell_type": "code",
   "execution_count": null,
   "metadata": {},
   "outputs": [],
   "source": [
    "dfObs = pd.read_excel(fn)\n",
    "\n",
    "# Uniquement les données des formulaires\n",
    "dfObs.drop(dfObs[dfObs['ID liste'] == 0].index, inplace=True) \n",
    "\n",
    "# Uniquement ceux d'ACDC.\n",
    "dfObs.drop(dfObs[dfObs['Commentaire de la liste'].isnull()].index, inplace=True)\n",
    "dfObs.drop(dfObs[~dfObs['Commentaire de la liste'].str.contains('ACDC', case=False)].index, inplace=True)\n",
    "\n",
    "# Uniquement ceux avec trace\n",
    "dfObs.drop(dfObs[dfObs['Trace'].isnull()].index, inplace=True)\n",
    "\n",
    "dfObs[['Ref', 'Date', 'Horaire', 'Nom espèce',\n",
    "       'ID liste', 'Liste complète ?', 'Commentaire de la liste',\n",
    "       'Lieu-dit', 'Commune', 'Lat (WGS84)', 'Lon (WGS84)',\n",
    "       'Estimation', 'Nombre', 'Détails', 'Code atlas',\n",
    "       'Remarque', 'Remarque privée', 'Prénom', 'Nom',\n",
    "       'Protocole', 'Trace']]"
   ]
  },
  {
   "cell_type": "markdown",
   "metadata": {},
   "source": [
    "# Examen des données"
   ]
  },
  {
   "cell_type": "code",
   "execution_count": null,
   "metadata": {},
   "outputs": [],
   "source": [
    "# Normalement, 1 trace par formulaire\n",
    "dfObs['Trace'].unique()"
   ]
  },
  {
   "cell_type": "code",
   "execution_count": null,
   "metadata": {},
   "outputs": [],
   "source": [
    "dfObs[['ID liste', 'Trace']].groupby('ID liste').nunique()"
   ]
  },
  {
   "cell_type": "code",
   "execution_count": null,
   "metadata": {},
   "outputs": [],
   "source": [
    "# Vérifier que la trace de la liste est présente à l'identique dans toutes les données de la liste\n",
    "assert all(dfObs[['ID liste', 'Trace']].groupby('ID liste').nunique().Trace == 1)"
   ]
  },
  {
   "cell_type": "code",
   "execution_count": null,
   "metadata": {},
   "outputs": [],
   "source": [
    "# Les formulaires à traiter\n",
    "dfObs[['ID liste', 'Liste complète ?', 'Commentaire de la liste', 'Trace']].groupby('ID liste').first()"
   ]
  },
  {
   "cell_type": "code",
   "execution_count": null,
   "metadata": {},
   "outputs": [],
   "source": [
    "# Les formulaires à traiter : nbre de données\n",
    "dfObs[['ID liste', 'Liste complète ?', 'Commentaire de la liste', 'Trace']].groupby('ID liste').count().Trace"
   ]
  },
  {
   "cell_type": "markdown",
   "metadata": {},
   "source": [
    "# Extraction et décodage des traces"
   ]
  },
  {
   "cell_type": "code",
   "execution_count": null,
   "metadata": {},
   "outputs": [],
   "source": [
    "# On peut donc récupérer trace de chaque liste et en extraire les points individuels\n",
    "formIndCols = ['ID liste', 'Liste complète ?', 'Commentaire de la liste']\n",
    "dfTraces = dfObs[formIndCols + ['Trace']].groupby(formIndCols).first()\n",
    "dfTraces"
   ]
  },
  {
   "cell_type": "code",
   "execution_count": null,
   "metadata": {},
   "outputs": [],
   "source": [
    "# Exemple de trace\n",
    "dfTraces.iloc[0].Trace"
   ]
  },
  {
   "cell_type": "code",
   "execution_count": null,
   "metadata": {
    "scrolled": true
   },
   "outputs": [],
   "source": [
    "def decoderTrace(trace):\n",
    "    return [[float(num) for num in xy.strip().split(' ')] for xy in trace[len('LINESTRING('):-len(')')].split(',')]\n",
    "    \n",
    "dfTraces.Trace = dfTraces.Trace.apply(decoderTrace)\n",
    "dfTraces = dfTraces.Trace.apply(pd.Series).stack().reset_index()\n",
    "dfTraces[['obseur_lon', 'obseur_lat']] = dfTraces.loc[:, 0].apply(pd.Series)\n",
    "dfTraces.drop(columns=[0], inplace=True)\n",
    "dfTraces.rename(columns=dict(level_3='NumPt'), inplace=True)\n",
    "dfTraces"
   ]
  },
  {
   "cell_type": "markdown",
   "metadata": {},
   "source": [
    "# Tracé cartographique des données d'un formulaire et de sa trace"
   ]
  },
  {
   "cell_type": "code",
   "execution_count": null,
   "metadata": {},
   "outputs": [],
   "source": [
    "idListe = 440133"
   ]
  },
  {
   "cell_type": "code",
   "execution_count": null,
   "metadata": {},
   "outputs": [],
   "source": [
    "dfTraceListe = dfTraces.loc[dfTraces['ID liste'] == idListe].copy()\n",
    "dfTraceListe"
   ]
  },
  {
   "cell_type": "code",
   "execution_count": null,
   "metadata": {},
   "outputs": [],
   "source": [
    "dfObsListe = dfObs.loc[dfObs['ID liste'] == idListe,\n",
    "                       ['Lon (WGS84)', 'Lat (WGS84)', 'Date', 'Horaire', 'Nom espèce', 'Nombre', 'Code atlas']]\n",
    "dfObsListe"
   ]
  },
  {
   "cell_type": "code",
   "execution_count": null,
   "metadata": {},
   "outputs": [],
   "source": [
    "dfTraceListe['obseur_lon_sfd'] = dfTraceListe.obseur_lon.shift(-1)\n",
    "dfTraceListe['obseur_lat_sfd'] = dfTraceListe.obseur_lat.shift(-1)\n",
    "dfTraceListe"
   ]
  },
  {
   "cell_type": "code",
   "execution_count": null,
   "metadata": {},
   "outputs": [],
   "source": [
    "#tiles, attr = ('http://{s}.tile.opentopomap.org/{z}/{x}/{y}.png',\n",
    "#               '<a href=\"https://opentopomap.org/\">OpenTopoMap</a> '\n",
    "#               '(<a href=\"https://creativecommons.org/licenses/by-sa/3.0/\">CC-BY-SA</a>)') # OK\n",
    "tiles, attr = 'http://{s}.tile.openstreetmap.org/{z}/{x}/{y}.png', 'osm'# OK\n",
    "#tiles, attr = 'https://{s}.tile.thunderforest.com/outdoors/{z}/{x}/{y}.png', 'thunderforest' # OK\n",
    "mp = folium.Map(tiles=tiles, attr=attr, max_zoom=22)\n",
    "\n",
    "# La trace\n",
    "# a. Le lignes reliant les points\n",
    "dfTraceListe['obseur_lon_sfd'] = dfTraceListe.obseur_lon.shift(-1)\n",
    "dfTraceListe['obseur_lat_sfd'] = dfTraceListe.obseur_lat.shift(-1)\n",
    "dfTraceListe.dropna(inplace=True)\n",
    "\n",
    "commListe = dfTraceListe.iloc[0]['Commentaire de la liste']\n",
    "compListe = dfTraceListe.iloc[0]['Liste complète ?']\n",
    "lines = list(zip(zip(dfTraceListe.obseur_lat, dfTraceListe.obseur_lon),\n",
    "                 zip(dfTraceListe.obseur_lat_sfd, dfTraceListe.obseur_lon_sfd)))[:-1]\n",
    "pline = folium.PolyLine(lines, color='blue', weight=4, opacity=0.6,\n",
    "                        popup=folium.Popup('#{} {} ({}complète)'.format(idListe, commListe, '' if compListe else 'in')))\n",
    "pline.add_to(mp)\n",
    "\n",
    "# b. Les points\n",
    "for _, sPt in dfTraceListe.iterrows():\n",
    "    mrk = folium.CircleMarker(location=(sPt.obseur_lat, sPt.obseur_lon), \n",
    "                              popup=folium.Popup('#{}: {}'.format(sPt['ID liste'], sPt.NumPt)),\n",
    "                              radius=4, color='red', fill=True)\n",
    "    mrk.add_to(mp)\n",
    "\n",
    "# Les données\n",
    "for indObs, sObs in dfObsListe.iterrows():\n",
    "    mrk = folium.CircleMarker(location=(sObs['Lat (WGS84)'], sObs['Lon (WGS84)']), \n",
    "                              radius=8, color='orange', fill=True,\n",
    "                              popup=folium.Popup('#{} {} {} {} {} (code {})' \\\n",
    "                                                 .format(indObs, sObs.Date, sObs.Horaire,\n",
    "                                                         sObs.Nombre, sObs['Nom espèce'], sObs['Code atlas'])))\n",
    "    mrk.add_to(mp)\n",
    "    \n",
    "mp.fit_bounds(mp.get_bounds())\n",
    "mp"
   ]
  },
  {
   "cell_type": "code",
   "execution_count": null,
   "metadata": {},
   "outputs": [],
   "source": []
  },
  {
   "cell_type": "code",
   "execution_count": null,
   "metadata": {},
   "outputs": [],
   "source": []
  },
  {
   "cell_type": "code",
   "execution_count": null,
   "metadata": {},
   "outputs": [],
   "source": []
  },
  {
   "cell_type": "code",
   "execution_count": null,
   "metadata": {},
   "outputs": [],
   "source": []
  },
  {
   "cell_type": "code",
   "execution_count": null,
   "metadata": {},
   "outputs": [],
   "source": []
  },
  {
   "cell_type": "markdown",
   "metadata": {},
   "source": [
    "# Essai via forma JSON / XML\n",
    "\n",
    "(avant de savoir qu'elles n'y sont sont pas, le 25/01/2020)"
   ]
  },
  {
   "cell_type": "code",
   "execution_count": null,
   "metadata": {},
   "outputs": [],
   "source": [
    "#src = 'fa'\n",
    "src = 'ff'"
   ]
  },
  {
   "cell_type": "code",
   "execution_count": null,
   "metadata": {},
   "outputs": [],
   "source": [
    "fn = f'tmp/ACDC2019-Naturalist-FormulairesJPM2019040720190602{src}.json'"
   ]
  },
  {
   "cell_type": "code",
   "execution_count": null,
   "metadata": {},
   "outputs": [],
   "source": [
    "fn = f'tmp/NaturalistTestTrace-JardinJPM20190523{src}.json'"
   ]
  },
  {
   "cell_type": "code",
   "execution_count": null,
   "metadata": {},
   "outputs": [],
   "source": [
    "fn = 'tmp/NaturalistTestTrace-FormRomainsAutHiv201920fa.json'"
   ]
  },
  {
   "cell_type": "code",
   "execution_count": null,
   "metadata": {},
   "outputs": [],
   "source": [
    "dObsTr = json.load(open(fn))\n",
    "type(dObsTr), type(dObsTr['data']), dObsTr['data'].keys(), type(dObsTr['data']['forms']), type(dObsTr['data']['sightings'])"
   ]
  },
  {
   "cell_type": "code",
   "execution_count": null,
   "metadata": {},
   "outputs": [],
   "source": [
    "dict(nbFormulaires=len(dObsTr['data']['forms']), nbObsHorsFormulaires=len(dObsTr['data']['sightings']))"
   ]
  },
  {
   "cell_type": "code",
   "execution_count": null,
   "metadata": {},
   "outputs": [],
   "source": [
    "#dObsTr"
   ]
  },
  {
   "cell_type": "code",
   "execution_count": null,
   "metadata": {},
   "outputs": [],
   "source": [
    "#dObsTr['data']['forms'][8]"
   ]
  },
  {
   "cell_type": "code",
   "execution_count": null,
   "metadata": {
    "scrolled": true
   },
   "outputs": [],
   "source": [
    "for dForm in dObsTr['data']['forms']:\n",
    "    print(dForm['@id'], ':', dForm['time_start'], dForm['time_stop'], dForm['lat'], dForm['lon'],\n",
    "                             dForm.get('comment', ''), '=>', len(dForm['sightings']))"
   ]
  },
  {
   "cell_type": "code",
   "execution_count": null,
   "metadata": {},
   "outputs": [],
   "source": [
    "def flattenForm(form):\n",
    "    flat = odict()\n",
    "    for k, v in form.items():\n",
    "        if k == 'sightings':\n",
    "            continue\n",
    "        if isinstance(v, dict):\n",
    "            for sk, sv in v.items():\n",
    "                if k != 'protocol' or sk == 'protocol_name':\n",
    "                    flat.update(**{ 'form_'+k+'_'+sk: sv})\n",
    "        else:\n",
    "            flat.update(**{ 'form_'+k: v})\n",
    "    return flat\n",
    "\n",
    "dfForms = pd.DataFrame(data=[flattenForm(form) for form in dObsTr['data']['forms']])\n",
    "dfForms.set_index('form_@id', inplace=True)\n",
    "dfForms"
   ]
  },
  {
   "cell_type": "code",
   "execution_count": null,
   "metadata": {},
   "outputs": [],
   "source": [
    "def flattenSight(sight, formId):\n",
    "    flat = odict([('form_@id', formId)])\n",
    "    for k, v in sight.items():\n",
    "        if isinstance(v, list):\n",
    "            v = v[0]\n",
    "        for sk, sv in v.items():\n",
    "            if isinstance(sv, dict):\n",
    "                for ssk, ssv in sv.items():\n",
    "                    flat.update(**{ k+'_'+sk+'_'+ssk: ssv})\n",
    "            else:\n",
    "                flat.update(**{ k+'_'+sk: sv})\n",
    "    return flat\n",
    "\n",
    "ldfSights = list()\n",
    "for form in dObsTr['data']['forms']:\n",
    "    dfSights = pd.DataFrame(data=[flattenSight(sight, form['@id']) for sight in form['sightings']])\n",
    "    dfSights = dfSights.join(dfForms, on=['form_@id'])\n",
    "    ldfSights.append(dfSights)\n",
    "    \n",
    "dfSights = pd.concat(ldfSights, sort=False, ignore_index=True)\n",
    "dfSights"
   ]
  },
  {
   "cell_type": "code",
   "execution_count": null,
   "metadata": {},
   "outputs": [],
   "source": [
    "dfSights.columns"
   ]
  },
  {
   "cell_type": "code",
   "execution_count": null,
   "metadata": {},
   "outputs": [],
   "source": [
    "if 'form_protocol_protocol_name' in dfSights.columns:\n",
    "    dfSights.drop(dfSights[dfSights['form_protocol_protocol_name'] == 'STOC_EPS'].index, inplace=True)\n",
    "dfSights['form_comment'].fillna('', inplace=True)\n",
    "dfSights.drop(dfSights[~dfSights['form_comment'].str.contains('ACDC', case=False)].index, inplace=True)\n",
    "\n",
    "dfSights"
   ]
  },
  {
   "cell_type": "code",
   "execution_count": null,
   "metadata": {},
   "outputs": [],
   "source": [
    "dfSights['date_@ISO8601'].min(), dfSights['date_@ISO8601'].max()"
   ]
  },
  {
   "cell_type": "code",
   "execution_count": null,
   "metadata": {},
   "outputs": [],
   "source": [
    "dfSights[['form_@id']+[col for col in dfSights.columns if col.endswith('lat') or col.endswith('lon')]].head(30)"
   ]
  },
  {
   "cell_type": "code",
   "execution_count": null,
   "metadata": {},
   "outputs": [],
   "source": []
  },
  {
   "cell_type": "code",
   "execution_count": null,
   "metadata": {},
   "outputs": [],
   "source": []
  }
 ],
 "metadata": {
  "kernelspec": {
   "display_name": "Python 3",
   "language": "python",
   "name": "python3"
  },
  "language_info": {
   "codemirror_mode": {
    "name": "ipython",
    "version": 3
   },
   "file_extension": ".py",
   "mimetype": "text/x-python",
   "name": "python",
   "nbconvert_exporter": "python",
   "pygments_lexer": "ipython3",
   "version": "3.7.3"
  }
 },
 "nbformat": 4,
 "nbformat_minor": 2
}
