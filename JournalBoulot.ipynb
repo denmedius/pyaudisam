{
 "cells": [
  {
   "cell_type": "markdown",
   "metadata": {},
   "source": [
    "# Temps de travail au boulot par sujet\n",
    "\n",
    "(via journal Histoire.ods)"
   ]
  },
  {
   "cell_type": "code",
   "execution_count": null,
   "metadata": {},
   "outputs": [],
   "source": [
    "import os\n",
    "import sys\n",
    "\n",
    "import pandas as pd\n",
    "\n",
    "from IPython.display import HTML"
   ]
  },
  {
   "cell_type": "markdown",
   "metadata": {},
   "source": [
    "# Lecture et mise en forme du journal"
   ]
  },
  {
   "cell_type": "code",
   "execution_count": null,
   "metadata": {},
   "outputs": [],
   "source": [
    "annee = 2018"
   ]
  },
  {
   "cell_type": "code",
   "execution_count": null,
   "metadata": {},
   "outputs": [],
   "source": [
    "dfJournal = pd.read_excel('Histoire.xlsx', sheet_name=str(annee))\n",
    "dfJournal.rename(columns={'Numéro' : 'Numero', 'Durée (h)' : 'Temps', 'Sous-sujet' : 'SousSujet' }, inplace=True)\n",
    "dfJournal.Numero = dfJournal.Numero.astype(int)\n",
    "dfJournal.set_index('Numero', drop=True, inplace=True)"
   ]
  },
  {
   "cell_type": "code",
   "execution_count": null,
   "metadata": {},
   "outputs": [],
   "source": [
    "dfJournal.tail(20)"
   ]
  },
  {
   "cell_type": "code",
   "execution_count": null,
   "metadata": {},
   "outputs": [],
   "source": [
    "sorted(dfJournal.Sujet.unique()), sorted(dfJournal.SousSujet.unique())"
   ]
  },
  {
   "cell_type": "code",
   "execution_count": null,
   "metadata": {},
   "outputs": [],
   "source": [
    "joursDeRepos = 14\n",
    "joursCongéAnnuel = 25\n",
    "\n",
    "# Attention à bien saisir 8h par jour d'absence, même si travail effectué en +\n",
    "joursCongé = dfJournal[dfJournal.SousSujet == 'Congé'].Temps.sum() / 8\n",
    "\n",
    "assert int(joursCongé) == joursCongéAnnuel + joursDeRepos, \\\n",
    "       dict(joursDeRepos=joursDeRepos, joursCongéAnnuel=joursCongéAnnuel, joursCongé=joursCongé)"
   ]
  },
  {
   "cell_type": "code",
   "execution_count": null,
   "metadata": {},
   "outputs": [],
   "source": [
    "joursMaladie = dfJournal[dfJournal.SousSujet == 'Maladie'].Temps.sum() / 8\n",
    "\n",
    "joursFériés = dfJournal[dfJournal.SousSujet == 'Férié'].Temps.sum() / 8\n",
    "\n",
    "joursPersos = dfJournal[dfJournal.Sujet == 'Personnel'].Temps.sum() / 8\n",
    "\n",
    "joursNaturaLadoux = dfJournal[dfJournal.Sujet == 'NaturaLadoux'].Temps.sum() / 8\n",
    "\n",
    "dict(joursDeRepos=joursDeRepos, joursCongéAnnuel=joursCongéAnnuel, joursCongé=joursCongé,\n",
    "     joursMaladie=joursMaladie, joursFériés=joursFériés, joursPersos=joursPersos, joursNaturaLadoux=joursNaturaLadoux)"
   ]
  },
  {
   "cell_type": "code",
   "execution_count": null,
   "metadata": {},
   "outputs": [],
   "source": [
    "joursOuvrables = 365 - 52*2 - joursCongé - joursFériés - joursMaladie # Tous, sauf WE et fériés et congés\n",
    "\n",
    "joursTravaillés = int(dfJournal.Temps.sum() / 8) - joursCongé - joursFériés - joursMaladie - joursPersos\n",
    "\n",
    "dict(joursOuvrables=joursOuvrables, joursTravaillés=joursTravaillés, joursDette=joursOuvrables - joursTravaillés)"
   ]
  },
  {
   "cell_type": "code",
   "execution_count": null,
   "metadata": {},
   "outputs": [],
   "source": [
    "dfBilanJours = pd.DataFrame(data=[('DeRepos', joursDeRepos),\n",
    "                                  ('CongéAnnuel', joursCongéAnnuel),\n",
    "                                  ('CongéEff', joursCongé),\n",
    "                                  ('Maladie', joursMaladie),\n",
    "                                  ('Fériés', joursFériés),\n",
    "                                  ('Persos', joursPersos),\n",
    "                                  ('NaturaLadoux', joursNaturaLadoux),\n",
    "                                  ('Ouvrables', joursOuvrables),\n",
    "                                  ('Travaillés', joursTravaillés)],\n",
    "                            columns=['Categorie', 'Jours']).set_index('Categorie')\n",
    "dfBilanJours"
   ]
  },
  {
   "cell_type": "markdown",
   "metadata": {},
   "source": [
    "# Temps passé (en jours), par sujet"
   ]
  },
  {
   "cell_type": "code",
   "execution_count": null,
   "metadata": {},
   "outputs": [],
   "source": [
    "# Temps passé (en jours), par sujet\n",
    "dfTempsSujets = dfJournal[['Temps', 'Sujet']].groupby('Sujet').sum().divide(8)\n",
    "dfTempsSujets"
   ]
  },
  {
   "cell_type": "markdown",
   "metadata": {},
   "source": [
    "# Temps passé (en jours), par sous-sujet"
   ]
  },
  {
   "cell_type": "code",
   "execution_count": null,
   "metadata": {},
   "outputs": [],
   "source": [
    "dfTempsSousSujets = dfJournal[['Temps', 'Sujet', 'SousSujet']].groupby(['Sujet', 'SousSujet']).sum().divide(8)\n",
    "dfTempsSousSujets"
   ]
  },
  {
   "cell_type": "markdown",
   "metadata": {},
   "source": [
    "# Export Excel"
   ]
  },
  {
   "cell_type": "code",
   "execution_count": null,
   "metadata": {},
   "outputs": [],
   "source": [
    "tgtFileName = 'HistoireBilan.xlsx'\n",
    "\n",
    "xlsWriter = pd.ExcelWriter(tgtFileName)\n",
    "dfBilanJours.to_excel(xlsWriter, sheet_name='BilanJours')\n",
    "dfTempsSujets.to_excel(xlsWriter, sheet_name='ParSujet')\n",
    "dfTempsSousSujets.to_excel(xlsWriter, sheet_name='ParSousSujet')\n",
    "xlsWriter.close()\n",
    "\n",
    "HTML('Bilan {annee} <a href=\"{file}\" target=\"_blank\">{file}</a>'.format(annee=annee, file=tgtFileName))"
   ]
  },
  {
   "cell_type": "code",
   "execution_count": null,
   "metadata": {},
   "outputs": [],
   "source": []
  }
 ],
 "metadata": {
  "kernelspec": {
   "display_name": "Python 3",
   "language": "python",
   "name": "python3"
  },
  "language_info": {
   "codemirror_mode": {
    "name": "ipython",
    "version": 3
   },
   "file_extension": ".py",
   "mimetype": "text/x-python",
   "name": "python",
   "nbconvert_exporter": "python",
   "pygments_lexer": "ipython3",
   "version": "3.6.7"
  }
 },
 "nbformat": 4,
 "nbformat_minor": 2
}
