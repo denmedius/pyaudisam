{
 "cells": [
  {
   "cell_type": "markdown",
   "metadata": {},
   "source": [
    "<!-- Auto table of contents -->\n",
    "<h1 class='tocIgnore'>AutoDS : Validation tests</h1>\n",
    "<p>(for the <b>autods</b> module, a python interface to MCDS.exe, http://distancesampling.org/)</p>\n",
    "<div style=\"overflow-y: auto\">\n",
    "  <h2 class='tocIgnore'>Table of contents</h2>\n",
    "  <div id=\"toc\"></div>\n",
    "</div>"
   ]
  },
  {
   "cell_type": "code",
   "execution_count": null,
   "metadata": {},
   "outputs": [],
   "source": [
    "%%javascript\n",
    "$.getScript('ipython_notebook_toc.js')"
   ]
  },
  {
   "cell_type": "code",
   "execution_count": null,
   "metadata": {},
   "outputs": [],
   "source": [
    "%matplotlib inline"
   ]
  },
  {
   "cell_type": "code",
   "execution_count": null,
   "metadata": {},
   "outputs": [],
   "source": [
    "import sys\n",
    "import os\n",
    "import pathlib as pl\n",
    "import importlib as implib\n",
    "\n",
    "import re\n",
    "\n",
    "from collections import OrderedDict as odict, namedtuple as ntuple\n",
    "\n",
    "import math\n",
    "import numpy as np\n",
    "import pandas as pd\n",
    "\n",
    "from IPython.display import HTML\n",
    "\n",
    "import matplotlib.pyplot as plt\n",
    "\n",
    "import plotly as ply\n",
    "import plotly.graph_objs as plygo"
   ]
  },
  {
   "cell_type": "code",
   "execution_count": null,
   "metadata": {},
   "outputs": [],
   "source": [
    "sys.path.insert(0, '..')"
   ]
  },
  {
   "cell_type": "code",
   "execution_count": null,
   "metadata": {},
   "outputs": [],
   "source": [
    "# Configure logging.\n",
    "import logging\n",
    "\n",
    "# Setup given logger.\n",
    "def setupLogger(logr, level=logging.ERROR, handlers=[sys.stdout], fileMode='w',\n",
    "                format='%(asctime)s %(name)s %(levelname)s\\t%(message)s'):\n",
    "    \n",
    "    # Cleanup any default handler (jupyter does some logging initialisation itself ...)\n",
    "    while logr.handlers:\n",
    "        logr.removeHandler(logr.handlers[-1])\n",
    "\n",
    "    # Set new handlers\n",
    "    formatter = logging.Formatter(format)\n",
    "    \n",
    "    # Set level\n",
    "    logr.setLevel(level)\n",
    "    \n",
    "    # Setup new handlers\n",
    "    for hdlr in handlers:\n",
    "        if isinstance(hdlr, str):\n",
    "            handler = logging.FileHandler(hdlr, mode=fileMode)\n",
    "        else:\n",
    "            handler = logging.StreamHandler(stream=hdlr)\n",
    "        handler.setFormatter(formatter)\n",
    "        logr.addHandler(handler)\n",
    "    \n",
    "    def handlerId(hdlr):\n",
    "        return 'File({})'.format(hdlr) if isinstance(hdlr, str) else 'Stream({})'.format(hdlr.name)\n",
    "    logr.info('Logging to {}.'.format(', '.join(handlerId(hdlr) for hdlr in handlers)))\n",
    "\n",
    "    return logr\n",
    "\n",
    "# Local (NB) logger\n",
    "setupLogger(logging.getLogger('autods'), level=logging.INFO, handlers=[sys.stdout, 'tmp/valtst.log'])\n",
    "logger = setupLogger(logging.getLogger('valtst'), level=logging.DEBUG, handlers=[sys.stdout, 'tmp/valtst.log'])"
   ]
  },
  {
   "cell_type": "code",
   "execution_count": null,
   "metadata": {},
   "outputs": [],
   "source": [
    "import autods as ads "
   ]
  },
  {
   "cell_type": "code",
   "execution_count": null,
   "metadata": {},
   "outputs": [],
   "source": [
    "# Activate Warnings as Exceptions\n",
    "if False:\n",
    "    \n",
    "    import warnings\n",
    "\n",
    "    warnings.filterwarnings(action='error')\n",
    "\n",
    "    # pd.read_excel\n",
    "    warnings.filterwarnings(action='default', module='etree')\n",
    "    warnings.filterwarnings(action='default', module='xlrd')\n",
    "    warnings.filterwarnings(action='default', module='defusedxml')"
   ]
  },
  {
   "cell_type": "markdown",
   "metadata": {},
   "source": [
    "# I. Run analyses with real life field data (1/2 : the long way)\n",
    "\n",
    "With MCDSAnalysis class.\n",
    "\n",
    "(for comparison to manually issued analyses with Distance 7.3)"
   ]
  },
  {
   "cell_type": "markdown",
   "metadata": {},
   "source": [
    "## 1. Load analyses set specifications"
   ]
  },
  {
   "cell_type": "code",
   "execution_count": null,
   "metadata": {
    "scrolled": true
   },
   "outputs": [],
   "source": [
    "# Load refout results table\n",
    "refFileName = 'ACDC2019-Papyrus-ALAARV-TURMER-resultats-distance-73.xlsx'\n",
    "dfRefRes = pd.read_excel(pl.Path('refout', refFileName))\n",
    "dfRefRes.reset_index(inplace=True) # Generate analysis # (later need for original cases order)\n",
    "dfRefRes.rename(columns=dict(index='AnlysNum', Name='Model'), inplace=True)\n",
    "\n",
    "dfRefRes.head()"
   ]
  },
  {
   "cell_type": "markdown",
   "metadata": {},
   "source": [
    "## 2. Build test cases"
   ]
  },
  {
   "cell_type": "code",
   "execution_count": null,
   "metadata": {
    "scrolled": false
   },
   "outputs": [],
   "source": [
    "# Generate test cases definition code from refout results file (don't cheat : only input columns :-)\n",
    "modelIdCols = ['Model']\n",
    "modelParamCols = ['LTrunc', 'RTrunc', 'FitDistCuts', 'DiscrDistCuts']\n",
    "sampleIdCols = ['Species', 'Periods', 'Prec.', 'Duration']\n",
    "caseIdCols = ['AnlysNum'] + sampleIdCols + modelIdCols\n",
    "dfAnlysCases = dfRefRes[caseIdCols + modelParamCols].copy()\n",
    "\n",
    "dfAnlysCases['KeyFn'] = \\\n",
    "    dfAnlysCases.Model.apply(lambda s: 'UNIFORM' if s.startswith('Unif') \\\n",
    "                                                 else 'HNORMAL' if s.startswith('Half') else 'HAZARD')\n",
    "dfAnlysCases['AdjSer'] = \\\n",
    "    dfAnlysCases.Model.apply(lambda s: 'COSINE' if s.find(' Cos') > 0 \\\n",
    "                                                else 'POLY' if s.find(' SimPoly') > 0 else 'HERMITE')\n",
    "dfAnlysCases['InFileName'] = \\\n",
    "    dfAnlysCases.apply(lambda sRow: 'ACDC2019-Papyrus-{}-{}-{}mn-{}dec-dist.txt' \\\n",
    "                                    .format(sRow.Species,\n",
    "                                            'AB' if 'A+B' in sRow.Periods else 'A' if 'A' in sRow.Periods else 'B',\n",
    "                                            sRow.Duration.split(' ')[0], sRow['Prec.'].split(' ')[0]),\n",
    "                       axis='columns')\n",
    "dfAnlysCases"
   ]
  },
  {
   "cell_type": "code",
   "execution_count": null,
   "metadata": {},
   "outputs": [],
   "source": [
    "#def nan2None(v):\n",
    "#    return None if pd.isnull(v) else v\n",
    "def distCutsFromSpecs(v):\n",
    "    if pd.isnull(v):\n",
    "        return None\n",
    "    if isinstance(v, int):\n",
    "        return v\n",
    "    return [float(x) for x in v.split(',')]"
   ]
  },
  {
   "cell_type": "markdown",
   "metadata": {},
   "source": [
    "## 3. Prepare analyses"
   ]
  },
  {
   "cell_type": "code",
   "execution_count": null,
   "metadata": {},
   "outputs": [],
   "source": [
    "decimalFields = ['Point transect*Survey effort', 'Observation*Radial distance']"
   ]
  },
  {
   "cell_type": "code",
   "execution_count": null,
   "metadata": {},
   "outputs": [],
   "source": [
    "# Analysis engine (sequential)\n",
    "mcds = ads.MCDSEngine(workDir=pl.Path('tmp', 'mcds-out'),\n",
    "                      executor=None, # Non-parallel: ~7.5s elapsed on a Lenovo P52 (6-core i7-8850H with PCI-e SSD)\n",
    "                      distanceUnit='Meter', areaUnit='Hectare',\n",
    "                      surveyType='Point', distanceType='Radial')"
   ]
  },
  {
   "cell_type": "code",
   "execution_count": null,
   "metadata": {},
   "outputs": [],
   "source": [
    "# Frozen analysis parameters (a choice here)\n",
    "KEstimCriterion = 'AIC'\n",
    "KCVInterval = 95"
   ]
  },
  {
   "cell_type": "code",
   "execution_count": null,
   "metadata": {},
   "outputs": [],
   "source": [
    "# Results object construction\n",
    "sampCols = [('sample', col, 'Value') for col in sampleIdCols]\n",
    "miSampCols = pd.MultiIndex.from_tuples(sampCols)\n",
    "\n",
    "custCols = [('sample', 'AnlysNum', 'Value')] + sampCols + [('model', 'Model', 'Value')]\n",
    "miCustCols = pd.MultiIndex.from_tuples(custCols)\n",
    "\n",
    "dfCustColTrans = \\\n",
    "    pd.DataFrame(index=miCustCols,\n",
    "                 data=dict(en=caseIdCols, \n",
    "                           fr=['NumAnlys', 'Espèce', 'Périodes', 'Préc.', 'Durée', 'Modèle']))\n",
    "\n",
    "results = ads.MCDSResultsSet(miCustomCols=miCustCols, miSampleCols=miSampCols, dfCustomColTrans=dfCustColTrans)"
   ]
  },
  {
   "cell_type": "code",
   "execution_count": null,
   "metadata": {},
   "outputs": [],
   "source": [
    "computed = False"
   ]
  },
  {
   "cell_type": "markdown",
   "metadata": {},
   "source": [
    "## 3a. Or : Really run analyses"
   ]
  },
  {
   "cell_type": "code",
   "execution_count": null,
   "metadata": {},
   "outputs": [],
   "source": [
    "# Shorten test cases and reference results lists, to go faster\n",
    "# Warning: If you don't retain entire samples, later comparison will fail on Delta AIC values.\n",
    "#selCaseInds = [0, 5, 7, 22, 31] # Some random cases, with uncomplete samples.\n",
    "#selCaseInds = dfAnlysCases[dfAnlysCases.Sample.isin([3, 4])].index # A shorter selection, with complete samples.\n",
    "selCaseInds = range(len(dfAnlysCases)) # All of them.\n",
    "\n",
    "nOrigAnlysCases = len(dfAnlysCases)\n",
    "dfAnlysCases = dfAnlysCases.loc[selCaseInds]\n",
    "dfRefRes = dfRefRes.loc[selCaseInds]\n",
    "\n",
    "print('Retained {} out of {}.'.format(len(selCaseInds), nOrigAnlysCases))"
   ]
  },
  {
   "cell_type": "code",
   "execution_count": null,
   "metadata": {
    "scrolled": true
   },
   "outputs": [],
   "source": [
    "tsStart = pd.Timestamp.now()\n",
    "print('Started at', tsStart)\n",
    "\n",
    "# Run all analyses\n",
    "lastInFileName = None\n",
    "for _, sCase in dfAnlysCases.iterrows():\n",
    "    \n",
    "    nCase = sCase.AnlysNum\n",
    "    name = sCase.InFileName[len('ACDC2019-Papyrus')+1:-len('-dist.txt')]\n",
    "    name += '-' + sCase.Model.lower().translate(str.maketrans({c:'-' for c in ' ,.:;()/'}))\n",
    "    print('#{:3d}'.format(nCase+1), name, sCase.KeyFn, sCase.AdjSer)\n",
    "    \n",
    "    # Create data set if not already done.\n",
    "    if lastInFileName != sCase.InFileName:\n",
    "        sds = ads.SampleDataSet(pl.Path('refin', sCase.InFileName), decimalFields=decimalFields)\n",
    "        lastInFileName = sCase.InFileName\n",
    "        \n",
    "    # Run analysis and get results\n",
    "    anlys = ads.MCDSAnalysis(engine=mcds, sampleDataSet=sds, name=name, logData=True,\n",
    "                             estimKeyFn=sCase.KeyFn, estimAdjustFn=sCase.AdjSer,\n",
    "                             estimCriterion=KEstimCriterion, cvInterval=KCVInterval,\n",
    "                             minDist=sCase.LTrunc, maxDist=sCase.RTrunc,\n",
    "                             fitDistCuts=distCutsFromSpecs(sCase.FitDistCuts),\n",
    "                             discrDistCuts=distCutsFromSpecs(sCase.DiscrDistCuts))\n",
    "\n",
    "    anlys.run()\n",
    "\n",
    "    sResult = anlys.getResults()\n",
    "\n",
    "    # Save results\n",
    "    sHead = pd.Series(data=[sCase[col] for col in sCase.index[:len(caseIdCols)]], index=miCustCols)\n",
    "\n",
    "    results.append(sResult, sCustomHead=sHead)\n",
    "    \n",
    "# shutdown analysis engine\n",
    "mcds.shutdown()\n",
    "\n",
    "# Done.\n",
    "tsEnd = pd.Timestamp.now()\n",
    "print('Finished at', tsEnd, ': duration', str(tsEnd - tsStart).replace('0 days ', ''))\n",
    "\n",
    "computed = True"
   ]
  },
  {
   "cell_type": "code",
   "execution_count": null,
   "metadata": {
    "scrolled": true
   },
   "outputs": [],
   "source": [
    "# Save results in case need for not recomputing them\n",
    "resFileName = os.path.join(mcds.workDir, 'autods-validation-results.xlsx')\n",
    "\n",
    "results.toExcel(resFileName, sheetName='AutoDSVal')"
   ]
  },
  {
   "cell_type": "code",
   "execution_count": null,
   "metadata": {
    "scrolled": true
   },
   "outputs": [],
   "source": [
    "# Save results in case need for not recomputing them\n",
    "resFileName = os.path.join(mcds.workDir, 'autods-validation-results-en.xlsx')\n",
    "\n",
    "results.toExcel(resFileName, sheetName='Auto', lang='en')"
   ]
  },
  {
   "cell_type": "code",
   "execution_count": null,
   "metadata": {
    "scrolled": false
   },
   "outputs": [],
   "source": [
    "# Check translation\n",
    "dfActTrRes = results.dfTransData('fr')\n",
    "\n",
    "dfActTrRes.head().T.iloc[:30] #.at['TroncGche', 0]"
   ]
  },
  {
   "cell_type": "markdown",
   "metadata": {},
   "source": [
    "## 3b. Or : Load analyses from a previous run\n",
    "\n",
    "(already run and saved above)"
   ]
  },
  {
   "cell_type": "code",
   "execution_count": null,
   "metadata": {
    "scrolled": true
   },
   "outputs": [],
   "source": [
    "if not computed:\n",
    "    \n",
    "    resFileName = os.path.join(mcds.workDir, 'autods-validation-results.xlsx')\n",
    "    print('Loading results from {} ...'.format(resFileName))\n",
    "\n",
    "    results.fromExcel(resFileName, sheetName='AutoDSVal')\n",
    "    \n",
    "    # shutdown analysis engine\n",
    "    mcds.shutdown()\n",
    "\n",
    "else:\n",
    "    \n",
    "    print('Just computed, not reloading ...')\n",
    "    \n",
    "print('... {} analyses to compare'.format(len(results)))"
   ]
  },
  {
   "cell_type": "markdown",
   "metadata": {},
   "source": [
    "# II. Compare actual results to reference\n",
    "\n",
    "(reference = manually run analyses with Distance software)"
   ]
  },
  {
   "cell_type": "markdown",
   "metadata": {},
   "source": [
    "## 1. Extract actual results to compare"
   ]
  },
  {
   "cell_type": "code",
   "execution_count": null,
   "metadata": {
    "scrolled": false
   },
   "outputs": [],
   "source": [
    "# Analysis results\n",
    "dfActRes = results.dfData\n",
    "\n",
    "dfActRes.head().T[:30]"
   ]
  },
  {
   "cell_type": "code",
   "execution_count": null,
   "metadata": {},
   "outputs": [],
   "source": [
    "# Sélection des colonnes des résultats autos et association aux disponibles dans la référence, pour comparaison.\n",
    "dCompCols = \\\n",
    "{\n",
    "    ('sample', 'AnlysNum', 'Value'):  'AnlysNum',\n",
    "    ('sample', 'Species', 'Value'):   'Species',\n",
    "    ('sample', 'Periods', 'Value'):   'Periods',\n",
    "    ('sample', 'Prec.', 'Value'):     'Prec.',\n",
    "    ('sample', 'Duration', 'Value'):  'Duration',\n",
    "    \n",
    "    ('model',  'Model', 'Value'):         'Model',\n",
    "    ('parameters', 'left truncation distance', 'Value'):           'LTrunc',\n",
    "    ('parameters', 'right truncation distance', 'Value'):          'RTrunc',\n",
    "    ('parameters', 'model fitting distance cut points', 'Value'):  'FitDistCuts',\n",
    "    ('parameters', 'distance discretisation cut points', 'Value'): 'DiscrDistCuts',\n",
    "    \n",
    "    ('run output', 'run status', 'Value') : 'Status',\n",
    "    #('run output', 'run time', 'Value') : 'Run', # Only for unintests ref. generation just below\n",
    "    \n",
    "    ('detection probability', 'total number of parameters (m)', 'Value'): '# params',\n",
    "    ('encounter rate', 'number of observations (n)', 'Value'): '# obs',\n",
    "    \n",
    "    ('detection probability', 'Delta AIC', 'Value'): 'Delta AIC',\n",
    "    ('detection probability', 'AIC value', 'Value'): 'AIC',\n",
    "    ('detection probability', 'chi-square test probability determined', 'Value')               : 'GOF Chi-p',\n",
    "    ('detection probability', 'Kolmogorov-Smirnov test probability', 'Value')                  : 'GOF K-S p',\n",
    "    ('detection probability', 'Cramér-von Mises (uniform weighting) test probability', 'Value'): 'GOF CvM (unif) p',\n",
    "    ('detection probability', 'Cramér-von Mises (cosine weighting) test probability', 'Value') : 'GOF CvM (cos) p',\n",
    "    \n",
    "    ('detection probability', 'effective strip width (ESW) or effective detection radius (EDR)', 'Value'): 'ESW/EDR',\n",
    "    ('detection probability', 'effective strip width (ESW) or effective detection radius (EDR)', 'Lcl')  : 'ESW/EDR LCL',\n",
    "    ('detection probability', 'effective strip width (ESW) or effective detection radius (EDR)', 'Ucl')  : 'ESW/EDR UCL',\n",
    "    ('detection probability', 'effective strip width (ESW) or effective detection radius (EDR)', 'Cv')   : 'ESW/EDR CV',\n",
    "    \n",
    "    ('density/abundance', 'density of animals', 'Value'): 'D',\n",
    "    ('density/abundance', 'density of animals', 'Lcl')  : 'D LCL',\n",
    "    ('density/abundance', 'density of animals', 'Ucl')  : 'D UCL',\n",
    "    ('density/abundance', 'density of animals', 'Cv')   : 'D CV',\n",
    "    \n",
    "    ('detection probability', 'probability of detection (Pw)', 'Value'): 'P',\n",
    "    ('detection probability', 'probability of detection (Pw)', 'Lcl')  : 'P LCL',\n",
    "    ('detection probability', 'probability of detection (Pw)', 'Ucl')  : 'P UCL',\n",
    "    ('detection probability', 'probability of detection (Pw)', 'Cv')   : 'P CV',\n",
    "    ('detection probability', 'probability of detection (Pw)', 'Df')   : 'P DF',\n",
    "}\n",
    "len(dCompCols)"
   ]
  },
  {
   "cell_type": "code",
   "execution_count": null,
   "metadata": {},
   "outputs": [],
   "source": [
    "# Warning: Unused columns (full of NaNs) have been atomatically removed\n",
    "# (see last line of ResultsSet.dfData getter)\n",
    "dCompCols = { k: v for k, v in dCompCols.items() if k in dfActRes.columns }\n",
    "len(dCompCols)"
   ]
  },
  {
   "cell_type": "code",
   "execution_count": null,
   "metadata": {},
   "outputs": [],
   "source": [
    "# So we need to cleanup modelParamCols too\n",
    "modelParamCols = [id_ for id_ in modelParamCols if id_ in dCompCols.values()]\n",
    "len(modelParamCols)"
   ]
  },
  {
   "cell_type": "code",
   "execution_count": null,
   "metadata": {},
   "outputs": [],
   "source": [
    "# Safe stringification of model params\n",
    "# * needed for use in indexes (hashability)\n",
    "# * needed to cope with to_excel/read_excel unconsistent None management\n",
    "def modelParam2Str(par):\n",
    "    #print(par)\n",
    "    if isinstance(par, list):\n",
    "        spar = str([float(v) for v in par])\n",
    "    elif pd.isnull(par):\n",
    "        spar = 'None'\n",
    "    elif isinstance(par, str):\n",
    "        if ',' in par: # Assumed already somewhat stringified list\n",
    "            spar = str([float(v) for v in par.strip('[]').split(',')])\n",
    "    else:\n",
    "        spar = str(par)\n",
    "    return spar"
   ]
  },
  {
   "cell_type": "code",
   "execution_count": null,
   "metadata": {
    "scrolled": true
   },
   "outputs": [],
   "source": [
    "# Select results columns and rename them as reference, for easier comparison\n",
    "dfActRes4c = dfActRes[list(dCompCols.keys())].copy()\n",
    "dfActRes4c.columns = [dCompCols[col] for col in dCompCols]\n",
    "dfActRes4c[modelParamCols] = dfActRes4c[modelParamCols].applymap(modelParam2Str) # Hashable mandatory for indexing\n",
    "dfActRes4c.set_index(caseIdCols + modelParamCols, inplace=True)\n",
    "\n",
    "dfActRes4c"
   ]
  },
  {
   "cell_type": "code",
   "execution_count": null,
   "metadata": {
    "scrolled": true
   },
   "outputs": [],
   "source": [
    "# Select usefull reference columns for comarison\n",
    "dfRefRes4c = dfRefRes.copy()\n",
    "dfRefRes4c[modelParamCols] = dfRefRes4c[modelParamCols].applymap(modelParam2Str) # Hashable mandatory for indexing\n",
    "dfRefRes4c.set_index(caseIdCols + modelParamCols, inplace=True)\n",
    "dfRefRes4c = dfRefRes4c.reindex(columns=dfActRes4c.columns)\n",
    "\n",
    "dfRefRes4c"
   ]
  },
  {
   "cell_type": "markdown",
   "metadata": {},
   "source": [
    "## 2. Diagnostic automatique"
   ]
  },
  {
   "cell_type": "code",
   "execution_count": null,
   "metadata": {},
   "outputs": [],
   "source": [
    "# First checks : equality of test case lists (index) and of column names (columns)\n",
    "assert sorted(dfActRes4c.index)   == sorted(dfRefRes4c.index)\n",
    "assert sorted(dfActRes4c.columns) == sorted(dfRefRes4c.columns)"
   ]
  },
  {
   "cell_type": "code",
   "execution_count": null,
   "metadata": {},
   "outputs": [],
   "source": [
    "# Actual / reference closeness measure : -round(log10((actual - reference) / max(abs(actual), abs(reference))), 1)\n",
    "# = Compute the order of magnitude that separate the difference from the absolute max. of the two values\n",
    "# The greater it is, the lower the relative difference\n",
    "#    Ex: 3 = 10**3 ratio between difference absolue max. of the two,\n",
    "#        +inf = NO difference at all,\n",
    "#        0 = bad, one of the two is 0, and the other not,\n",
    "# See unitary test below.\n",
    "def closeness(sRefAct):\n",
    "    \n",
    "    x, y = sRefAct.to_list()\n",
    "    \n",
    "    # Special cases with 1 NaN, or 1 or more inf => all different\n",
    "    if np.isnan(x):\n",
    "        if not np.isnan(y):\n",
    "            return 0 # All different\n",
    "    elif np.isnan(y):\n",
    "        return 0 # All different\n",
    "    \n",
    "    if np.isinf(x) or np.isinf(y):\n",
    "        return 0 # All different\n",
    "    \n",
    "    # Normal case\n",
    "    c = abs(x - y)\n",
    "    if not np.isnan(c) and c != 0:\n",
    "        c = c / max(abs(x), abs(y))\n",
    "    \n",
    "    return np.inf if c == 0 else round(-np.log10(c), 1)"
   ]
  },
  {
   "cell_type": "code",
   "execution_count": null,
   "metadata": {
    "scrolled": false
   },
   "outputs": [],
   "source": [
    "# Actual / reference comparison : compute closeness indicator\n",
    "dfRelDif = dfRefRes4c.copy()\n",
    "for col in dfRelDif.columns:\n",
    "    dfRelDif['act'] = dfActRes4c[col]\n",
    "    dfRelDif[col] = dfRelDif[[col, 'act']].apply(closeness, axis='columns')\n",
    "    dfRelDif.drop(columns='act', inplace=True)\n",
    "    \n",
    "dfRelDif"
   ]
  },
  {
   "cell_type": "code",
   "execution_count": null,
   "metadata": {},
   "outputs": [],
   "source": [
    "# Diagnosis : we only keep lines and columns with some relevant differences.\n",
    "dfBadRelDif = dfRelDif.copy()\n",
    "len(dfBadRelDif)"
   ]
  },
  {
   "cell_type": "code",
   "execution_count": null,
   "metadata": {},
   "outputs": [],
   "source": [
    "# 1. Suppression lignes : Status identique et reste NaN (cas des status = 0/3/4 : erreur d'exécution, ou pas d'exécution)\n",
    "valCols = [col for col in dfRelDif.columns if col != 'Status']\n",
    "dfBadRelDif.drop(dfBadRelDif[(dfBadRelDif.Status.abs() == np.inf) & dfBadRelDif[valCols].isnull().all(axis='columns')].index,\n",
    "                 axis='index', inplace=True)\n",
    "assert len(dfBadRelDif) == 29, len(dfBadRelDif)\n",
    "len(dfBadRelDif)"
   ]
  },
  {
   "cell_type": "code",
   "execution_count": null,
   "metadata": {},
   "outputs": [],
   "source": [
    "# 2. Suppression lignes : Status et toutes autres colonnes à inf (stricte égalité)\n",
    "#    NB. Somme very small differences observed when results have just been computed or when they have been\n",
    "#        loaded from a previously saved Excel file (above 10**15 closeness value)\n",
    "dfBadRelDif.drop(dfBadRelDif[dfBadRelDif.apply(np.isinf, axis='columns').all(axis='columns')].index,\n",
    "                 axis='index', inplace=True)\n",
    "assert (computed and len(dfBadRelDif) == 26) or (not computed and len(dfBadRelDif) == 19), len(dfBadRelDif)\n",
    "len(dfBadRelDif)"
   ]
  },
  {
   "cell_type": "code",
   "execution_count": null,
   "metadata": {},
   "outputs": [],
   "source": [
    "# 3. Suppression lignes : Status et toutes autres colonnes supérieures à 15 (quasi stricte égalité)\n",
    "dfBadRelDif.drop(dfBadRelDif[(dfBadRelDif >= 15).all(axis='columns')].index, axis='index', inplace=True)\n",
    "assert len(dfBadRelDif) == 9, len(dfBadRelDif)\n",
    "len(dfBadRelDif)"
   ]
  },
  {
   "cell_type": "code",
   "execution_count": null,
   "metadata": {},
   "outputs": [],
   "source": [
    "# 4. Suppression lignes : Status identique et toutes autres colonnes supérieures à 4 (quasi égalité)\n",
    "dfBadRelDif.drop(dfBadRelDif[(dfBadRelDif >= 4).all(axis='columns')].index, axis='index', inplace=True)\n",
    "assert len(dfBadRelDif) == 4, len(dfBadRelDif)\n",
    "len(dfBadRelDif)"
   ]
  },
  {
   "cell_type": "code",
   "execution_count": null,
   "metadata": {},
   "outputs": [],
   "source": [
    "# 5. Suppression lignes : Status identique et toutes autres colonnes supérieures à 4 (quasi égalité)\n",
    "#                         sauf colonnes GOF KS et CvM à NaN, non calculées quand on discrétise les distances.\n",
    "if 'DiscrDistCuts' in dfBadRelDif.index.names:\n",
    "    discrCols = [col for col in dfRelDif.columns if not col.startswith('GOF') or col.find('Chi') > 0]\n",
    "    df2Drop = (dfBadRelDif.index.get_level_values('DiscrDistCuts') != -1) & (dfBadRelDif[discrCols] >= 4).all(axis='columns')\n",
    "    dfBadRelDif.drop(dfBadRelDif[df2Drop].index, axis='index', inplace=True)\n",
    "assert len(dfBadRelDif) == 2, len(dfBadRelDif)\n",
    "len(dfBadRelDif)"
   ]
  },
  {
   "cell_type": "code",
   "execution_count": null,
   "metadata": {},
   "outputs": [],
   "source": [
    "# Le verdict (Cf. fichier Excel refFileName, feuille \"DiffAuto\" pour explications des 2 différences Act/Ref)\n",
    "dfBadRelDif.T"
   ]
  },
  {
   "cell_type": "code",
   "execution_count": null,
   "metadata": {},
   "outputs": [],
   "source": [
    "dfRefRes4c.loc[dfBadRelDif.index]"
   ]
  },
  {
   "cell_type": "code",
   "execution_count": null,
   "metadata": {},
   "outputs": [],
   "source": [
    "dfActRes4c.loc[dfBadRelDif.index]"
   ]
  },
  {
   "cell_type": "code",
   "execution_count": null,
   "metadata": {},
   "outputs": [],
   "source": [
    "nFails = len(dfBadRelDif.index)\n",
    "if nFails > 0:\n",
    "    print('Warning: {} test case(s) failed ;'.format(nFails))\n",
    "    print(' ... see sheet \"DiffAuto\" of {} for possible explanations.'.format(refFileName))\n",
    "else:\n",
    "    print('All test cases succeeded !')"
   ]
  },
  {
   "cell_type": "markdown",
   "metadata": {},
   "source": [
    "## 3. Save results to disk."
   ]
  },
  {
   "cell_type": "code",
   "execution_count": null,
   "metadata": {},
   "outputs": [],
   "source": [
    "resCompFileName = os.path.join(mcds.workDir, 'autods-validation-rescomp.xlsx')\n",
    "\n",
    "with pd.ExcelWriter(resCompFileName) as xlsxWriter:\n",
    "\n",
    "    dfRefRes.to_excel(xlsxWriter, sheet_name='RefResults', index=True)\n",
    "    dfActRes4c.reset_index().to_excel(xlsxWriter, sheet_name='ActResults', index=False)\n",
    "    dfRelDif.reset_index().to_excel(xlsxWriter, sheet_name='Diff2Ref', index=False)\n",
    "    dfBadRelDif.reset_index().to_excel(xlsxWriter, sheet_name='BadDiff2Ref', index=False)\n",
    "    dfRefRes4c.loc[dfBadRelDif.index].reset_index().to_excel(xlsxWriter, sheet_name='RefResWithDiff', index=False)\n",
    "    dfActRes4c.loc[dfBadRelDif.index].reset_index().to_excel(xlsxWriter, sheet_name='ActResWithDiff', index=False)\n",
    "    dfActRes.to_excel(xlsxWriter, sheet_name='RawActResults', index=True)"
   ]
  },
  {
   "cell_type": "code",
   "execution_count": null,
   "metadata": {},
   "outputs": [],
   "source": [
    "dfActRes.head()"
   ]
  },
  {
   "cell_type": "markdown",
   "metadata": {},
   "source": [
    "# III. Parallel run of same analyses"
   ]
  },
  {
   "cell_type": "markdown",
   "metadata": {},
   "source": [
    "## 1. Prepare analyses\n",
    "\n",
    "(same test cases and input data as previously, for easy comparison)"
   ]
  },
  {
   "cell_type": "code",
   "execution_count": null,
   "metadata": {},
   "outputs": [],
   "source": [
    "# Analysis executor : 6, 8, None threads => min elapsed = ~2s on a Lenovo P52 (6-core i7-8850H with PCI-e SSD)\n",
    "parallelExecutor = ads.Executor(parallel=True, threads=6)\n",
    "\n",
    "# Analysis engine\n",
    "mcds = ads.MCDSEngine(workDir=pl.Path('tmp', 'mcds-out'), executor=parallelExecutor, \n",
    "                      distanceUnit='Meter', areaUnit='Hectare',\n",
    "                      surveyType='Point', distanceType='Radial')"
   ]
  },
  {
   "cell_type": "code",
   "execution_count": null,
   "metadata": {},
   "outputs": [],
   "source": [
    "# Results object construction\n",
    "parResults = ads.MCDSResultsSet(miCustomCols=miCustCols, miSampleCols=miSampCols, dfCustomColTrans=dfCustColTrans)"
   ]
  },
  {
   "cell_type": "code",
   "execution_count": null,
   "metadata": {},
   "outputs": [],
   "source": [
    "computed = False"
   ]
  },
  {
   "cell_type": "markdown",
   "metadata": {},
   "source": [
    "## 2a. Or : Really run analyses"
   ]
  },
  {
   "cell_type": "code",
   "execution_count": null,
   "metadata": {},
   "outputs": [],
   "source": [
    "# Shorten test cases and reference results lists, to go faster\n",
    "# Warning: If you don't retain entire samples, later comparison will fail on Delta AIC values.\n",
    "#selCaseInds = [0, 5, 7, 22, 31] # Some random cases, with uncomplete samples.\n",
    "#selCaseInds = dfAnlysCases[dfAnlysCases.Sample.isin([3, 4])].index # A shorter selection, with complete samples.\n",
    "selCaseInds = range(len(dfAnlysCases)) # All of them.\n",
    "\n",
    "nOrigAnlysCases = len(dfAnlysCases)\n",
    "dfAnlysCases = dfAnlysCases.loc[selCaseInds]\n",
    "dfRefRes = dfRefRes.loc[selCaseInds]\n",
    "\n",
    "print('Retained {} out of {}.'.format(len(selCaseInds), nOrigAnlysCases))"
   ]
  },
  {
   "cell_type": "code",
   "execution_count": null,
   "metadata": {},
   "outputs": [],
   "source": [
    "tsStart = pd.Timestamp.now()\n",
    "print('Started at', tsStart)\n",
    "\n",
    "# Start running all analyses\n",
    "lastInFileName = None\n",
    "analyses = dict()\n",
    "for _, sCase in dfAnlysCases.iterrows():\n",
    "    \n",
    "    nCase = sCase.AnlysNum\n",
    "    name = sCase.InFileName[len('ACDC2019-Papyrus')+1:-len('-dist.txt')]\n",
    "    name += '-' + sCase.Model.lower().translate(str.maketrans({c:'-' for c in ' ,.:;()/'}))\n",
    "    print('#{:3d}'.format(nCase+1), name, sCase.KeyFn, sCase.AdjSer)\n",
    "    \n",
    "    # Create data set if not already done.\n",
    "    if lastInFileName != sCase.InFileName:\n",
    "        sds = ads.SampleDataSet(pl.Path('refin', sCase.InFileName), decimalFields=decimalFields)\n",
    "        lastInFileName = sCase.InFileName\n",
    "        \n",
    "    # Start running analysis in parallel (don't wait for it's finished, go on)\n",
    "    sResHead = pd.Series(data=[sCase[col] for col in sCase.index[:len(caseIdCols)]], index=miCustCols)\n",
    "\n",
    "    anlys = ads.MCDSAnalysis(engine=mcds, sampleDataSet=sds, name=name, customData=sResHead, logData=True,\n",
    "                             estimKeyFn=sCase.KeyFn, estimAdjustFn=sCase.AdjSer,\n",
    "                             estimCriterion=KEstimCriterion, cvInterval=KCVInterval,\n",
    "                             minDist=sCase.LTrunc, maxDist=sCase.RTrunc,\n",
    "                             #minDist=nan2None(sCase.LTrunc), maxDist=nan2None(sCase.RTrunc),\n",
    "                             fitDistCuts=distCutsFromSpecs(sCase.FitDistCuts), # TODO: do this when building dfAnlysCases\n",
    "                             discrDistCuts=distCutsFromSpecs(sCase.DiscrDistCuts))\n",
    "    anlysFut = anlys.run()\n",
    "    \n",
    "    # Store analysis object and associated \"future\" for later use (should be running soon or later).\n",
    "    analyses[anlysFut] = anlys\n",
    "    \n",
    "print('All analyses started ; now waiting for their end, and results ...')\n",
    "\n",
    "# For each analysis as it gets completed (first completed => first yielded)\n",
    "for anlysFut in parallelExecutor.asCompleted(analyses):\n",
    "\n",
    "    # Retrieve analysis object from its associated future object\n",
    "    anlys = analyses[anlysFut]\n",
    "    \n",
    "    # Get analysis results\n",
    "    sResult = anlys.getResults()\n",
    "\n",
    "    # Save results with header\n",
    "    parResults.append(sResult, sCustomHead=anlys.customData)\n",
    "    \n",
    "# shutdown analysis engine\n",
    "mcds.shutdown()\n",
    "\n",
    "# Done.\n",
    "tsEnd = pd.Timestamp.now()\n",
    "print('Finished at', tsEnd, ': duration', str(tsEnd - tsStart).replace('0 days ', ''))\n",
    "\n",
    "computed = True"
   ]
  },
  {
   "cell_type": "code",
   "execution_count": null,
   "metadata": {
    "scrolled": true
   },
   "outputs": [],
   "source": [
    "# Save results in case need for not recomputing them\n",
    "resFileName = os.path.join(mcds.workDir, 'autods-validation-parallel-results.xlsx')\n",
    "\n",
    "parResults.toExcel(resFileName, sheetName='AutoDSVal')"
   ]
  },
  {
   "cell_type": "markdown",
   "metadata": {},
   "source": [
    "## 2b. Or : Load analyses from a previous run\n",
    "\n",
    "(already run and saved above)"
   ]
  },
  {
   "cell_type": "code",
   "execution_count": null,
   "metadata": {
    "scrolled": true
   },
   "outputs": [],
   "source": [
    "if not computed:\n",
    "    \n",
    "    resFileName = os.path.join(mcds.workDir, 'autods-validation-parallel-results.xlsx')\n",
    "    print('Loading results from {} ...'.format(resFileName))\n",
    "\n",
    "    parResults.fromExcel(resFileName, sheetName='AutoDSVal')\n",
    "    \n",
    "    # shutdown analysis engine\n",
    "    mcds.shutdown()\n",
    "\n",
    "else:\n",
    "    \n",
    "    print('Just computed, not reloading ...')\n",
    "    \n",
    "print('... {} analyses to compare'.format(len(parResults)))"
   ]
  },
  {
   "cell_type": "markdown",
   "metadata": {},
   "source": [
    "## 3. Compare parallel results to sequential ones"
   ]
  },
  {
   "cell_type": "code",
   "execution_count": null,
   "metadata": {
    "scrolled": false
   },
   "outputs": [],
   "source": [
    "# Prepare sequential results for comparison\n",
    "dfSeqCmpRes = results.dfTransData('en')\n",
    "\n",
    "dfSeqCmpRes.fillna(-9999, inplace=True) # Get rid of the Nan pb (because NaN != NaN :-)\n",
    "\n",
    "dfSeqCmpRes.drop(columns=['RunTime', 'RunFolder'], inplace=True) # Run date-time and folder can never be the same"
   ]
  },
  {
   "cell_type": "code",
   "execution_count": null,
   "metadata": {
    "scrolled": false
   },
   "outputs": [],
   "source": [
    "# Prepare parallel results for comparison\n",
    "dfParCmpRes = parResults.dfTransData('en')\n",
    "\n",
    "dfParCmpRes.sort_values(by='AnlysNum', inplace=True) # Back to original test case order = sequential run order\n",
    "\n",
    "dfParCmpRes.reset_index(inplace=True, drop=True) # Enforce same index as a consequence\n",
    "\n",
    "dfParCmpRes.fillna(-9999, inplace=True) # And get rid of the Nan pb (because NaN != Nan :-)\n",
    "\n",
    "dfParCmpRes.drop(columns=['RunTime', 'RunFolder'], inplace=True) # Run date-time and folder can never be the same"
   ]
  },
  {
   "cell_type": "code",
   "execution_count": null,
   "metadata": {},
   "outputs": [],
   "source": [
    "assert (dfSeqCmpRes == dfParCmpRes).all().all(), 'Oh, oh, something went differently when run parallely ...'"
   ]
  },
  {
   "cell_type": "code",
   "execution_count": null,
   "metadata": {},
   "outputs": [],
   "source": []
  },
  {
   "cell_type": "code",
   "execution_count": null,
   "metadata": {},
   "outputs": [],
   "source": [
    "results = parResults"
   ]
  },
  {
   "cell_type": "code",
   "execution_count": null,
   "metadata": {},
   "outputs": [],
   "source": []
  },
  {
   "cell_type": "code",
   "execution_count": null,
   "metadata": {},
   "outputs": [],
   "source": []
  },
  {
   "cell_type": "markdown",
   "metadata": {},
   "source": [
    "# IV. Excel and HTML reports"
   ]
  },
  {
   "cell_type": "code",
   "execution_count": null,
   "metadata": {},
   "outputs": [],
   "source": [
    "# Sélection des colonnes pour les tableaux de synthèse du rapport\n",
    "synthCols = \\\n",
    "[\n",
    "    ('sample', 'AnlysNum', 'Value'),\n",
    "    ('sample', 'Species', 'Value'),\n",
    "    ('sample', 'Periods', 'Value'),\n",
    "    ('sample', 'Prec.', 'Value'),\n",
    "    ('sample', 'Duration', 'Value'),\n",
    "    \n",
    "    ('model', 'Model', 'Value'),\n",
    "    ('parameters', 'left truncation distance', 'Value'),\n",
    "    ('parameters', 'right truncation distance', 'Value'),\n",
    "    ('parameters', 'model fitting distance cut points', 'Value'),\n",
    "    ('parameters', 'distance discretisation cut points', 'Value'),\n",
    "    \n",
    "    ('run output', 'run status', 'Value'),\n",
    "    \n",
    "    ('encounter rate', 'number of observations (n)', 'Value'),\n",
    "    \n",
    "    ('detection probability', 'Delta AIC', 'Value'),\n",
    "    ('detection probability', 'AIC value', 'Value'),\n",
    "    ('detection probability', 'chi-square test probability determined', 'Value'),\n",
    "    ('detection probability', 'Kolmogorov-Smirnov test probability', 'Value'),\n",
    "    ('density/abundance', 'density of animals', 'Cv'),\n",
    "    \n",
    "    ('detection probability', 'effective strip width (ESW) or effective detection radius (EDR)', 'Value'),\n",
    "    ('detection probability', 'effective strip width (ESW) or effective detection radius (EDR)', 'Lcl'),\n",
    "    ('detection probability', 'effective strip width (ESW) or effective detection radius (EDR)', 'Ucl'),\n",
    "    \n",
    "    ('density/abundance', 'density of animals', 'Value'),\n",
    "    ('density/abundance', 'density of animals', 'Lcl'),\n",
    "    ('density/abundance', 'density of animals', 'Ucl'),\n",
    "    \n",
    "    ('detection probability', 'probability of detection (Pw)', 'Value'),\n",
    "    ('detection probability', 'probability of detection (Pw)', 'Lcl'),\n",
    "    ('detection probability', 'probability of detection (Pw)', 'Ucl'),\n",
    "    ('detection probability', 'probability of detection (Pw)', 'Df'),\n",
    "\n",
    "    ('run output', 'run folder', 'Value'),\n",
    "]"
   ]
  },
  {
   "cell_type": "code",
   "execution_count": null,
   "metadata": {},
   "outputs": [],
   "source": [
    "report = ads.MCDSResultsFullReport(resultsSet=results, synthCols=synthCols, title='Validation du module autods',\n",
    "                                   subTitle='Rapport d\\'analyse global', anlysSubTitle='Rapport détaillé',\n",
    "                                   description='Qu\\'ajouter de plus ?', keywords='autods, validation',\n",
    "                                   lang='fr', attachedDir='.', tgtFolder=mcds.workDir, tgtPrefix='autods-validation-report')"
   ]
  },
  {
   "cell_type": "code",
   "execution_count": null,
   "metadata": {
    "scrolled": false
   },
   "outputs": [],
   "source": [
    "htmlRep = report.toHtml()\n",
    "\n",
    "HTML(f'Rapport HTML : <a href=\"{htmlRep}\" target=\"blank\">{htmlRep}</a>')"
   ]
  },
  {
   "cell_type": "code",
   "execution_count": null,
   "metadata": {
    "scrolled": false
   },
   "outputs": [],
   "source": [
    "xlsxRep = report.toExcel()\n",
    "\n",
    "HTML(f'Rapport Excel : <a href=\"{xlsxRep}\" target=\"blank\">{xlsxRep}</a>')"
   ]
  },
  {
   "cell_type": "code",
   "execution_count": null,
   "metadata": {},
   "outputs": [],
   "source": []
  },
  {
   "cell_type": "markdown",
   "metadata": {},
   "source": [
    "# V. Run and report pre-analyses\n",
    "\n",
    "(to help users to setup the full analyses plan : run first try simple analyses and show PDF and few results)"
   ]
  },
  {
   "cell_type": "markdown",
   "metadata": {},
   "source": [
    "## 1. Determine samples from input data\n",
    "\n",
    "* in real life, we'd simply load field collected data, and deduce individual \"samples\" from it ;\n",
    "* but there, for testing, it's easier to deduce samples from manual analysis specification file)"
   ]
  },
  {
   "cell_type": "code",
   "execution_count": null,
   "metadata": {
    "scrolled": true
   },
   "outputs": [],
   "source": [
    "# Create sample table from refout results table\n",
    "refFileName = 'ACDC2019-Papyrus-ALAARV-TURMER-resultats-distance-73.xlsx'\n",
    "\n",
    "sampleIdCols = ['Species', 'Periods', 'Prec.', 'Duration']\n",
    "\n",
    "dfSamples = pd.read_excel(pl.Path('refout', refFileName), usecols=sampleIdCols)\n",
    "dfSamples.rename(columns=dict(Name='Model'), inplace=True)\n",
    "dfSamples.drop_duplicates(inplace=True)\n",
    "dfSamples.reset_index(drop=True, inplace=True)\n",
    "\n",
    "dfSamples.reset_index(inplace=True) # Generate sample # (later need for original sample order)\n",
    "dfSamples.rename(columns=dict(index='SampleNum'), inplace=True)\n",
    "\n",
    "sampleIdCols = ['SampleNum'] + sampleIdCols\n",
    "\n",
    "dfSamples"
   ]
  },
  {
   "cell_type": "markdown",
   "metadata": {},
   "source": [
    "## 2. Prepare analyses"
   ]
  },
  {
   "cell_type": "code",
   "execution_count": null,
   "metadata": {},
   "outputs": [],
   "source": [
    "decimalFields = ['Point transect*Survey effort', 'Observation*Radial distance']"
   ]
  },
  {
   "cell_type": "code",
   "execution_count": null,
   "metadata": {},
   "outputs": [],
   "source": [
    "# Analysis engine\n",
    "mcds = ads.MCDSEngine(workDir=pl.Path('tmp', 'mcds-pout'), # Non-parallel executor here: MCDSPreAnalysis does the job !\n",
    "                      distanceUnit='Meter', areaUnit='Hectare',\n",
    "                      surveyType='Point', distanceType='Radial')"
   ]
  },
  {
   "cell_type": "code",
   "execution_count": null,
   "metadata": {},
   "outputs": [],
   "source": [
    "# Results object construction\n",
    "custCols = [('sample', col, 'Value') for col in sampleIdCols]\n",
    "miCustCols = pd.MultiIndex.from_tuples(custCols)\n",
    "dfCustColTrans = \\\n",
    "    pd.DataFrame(index=miCustCols,\n",
    "                 data=dict(en=sampleIdCols, \n",
    "                           fr=['NumEchant', 'Espèce', 'Périodes', 'Préc.', 'Durée']))\n",
    "\n",
    "results = ads.MCDSResultsSet(miCustomCols=miCustCols, dfCustomColTrans=dfCustColTrans)"
   ]
  },
  {
   "cell_type": "code",
   "execution_count": null,
   "metadata": {},
   "outputs": [],
   "source": [
    "computed = False"
   ]
  },
  {
   "cell_type": "markdown",
   "metadata": {},
   "source": [
    "## 3 Or : Really run pre-analyses"
   ]
  },
  {
   "cell_type": "code",
   "execution_count": null,
   "metadata": {},
   "outputs": [],
   "source": [
    "KPreEstimCrit = 'AIC'\n",
    "KPreCVInterval = 95\n",
    "KPreEstimModStrat = [dict(keyFn=kf, adjSr='COSINE', estCrit=KPreEstimCrit, cvInt=KPreCVInterval) \\\n",
    "                     for kf in['HNORMAL', 'HAZARD', 'UNIFORM', 'NEXPON']]"
   ]
  },
  {
   "cell_type": "code",
   "execution_count": null,
   "metadata": {
    "scrolled": true
   },
   "outputs": [],
   "source": [
    "tsStart = pd.Timestamp.now()\n",
    "print('Started at', tsStart)\n",
    "print()\n",
    "\n",
    "# Run all analyses\n",
    "lastInFileName = None\n",
    "for _, sSamp in dfSamples.iterrows():\n",
    "    \n",
    "    nSamp = sSamp.SampleNum\n",
    "    sampId = '{}-{}-{}mn-{}dec' \\\n",
    "             .format(sSamp.Species,\n",
    "                     'AB' if 'A+B' in sSamp.Periods else 'A' if 'A' in sSamp.Periods else 'B',\n",
    "                     sSamp.Duration.split(' ')[0], sSamp['Prec.'].split(' ')[0])\n",
    "    print('#{:3d}'.format(nSamp+1), sampId)\n",
    "    \n",
    "    # Create data set if not already done.\n",
    "    inFileName = 'ACDC2019-Papyrus-{}-dist.txt'.format(sampId)\n",
    "    if lastInFileName != inFileName:\n",
    "        sds = ads.SampleDataSet(pl.Path('refin', inFileName), decimalFields=decimalFields)\n",
    "        lastInFileName = inFileName\n",
    "        \n",
    "    # Run analysis\n",
    "    preAnlys = ads.MCDSPreAnalysis(engine=mcds, sampleDataSet=ds, name=sampId, executor=None, # Not parallel run for now.\n",
    "                                   logData=False, modelStrategy=KPreEstimModStrat)\n",
    "    preAnlys.run()\n",
    "    \n",
    "    # Get results (wait for it's finished)\n",
    "    sResult = preAnlys.getResults()\n",
    "\n",
    "    # Save results\n",
    "    sResHead = sSamp.copy()\n",
    "    sResHead.index = miCustCols\n",
    "    results.append(sResult, sCustomHead=sResHead)\n",
    "    \n",
    "# shutdown analysis engine\n",
    "mcds.shutdown()\n",
    "\n",
    "# Done.\n",
    "tsEnd = pd.Timestamp.now()\n",
    "print('Finished at', tsEnd, ': duration', str(tsEnd - tsStart).replace('0 days ', ''))\n",
    "\n",
    "computed = True"
   ]
  },
  {
   "cell_type": "code",
   "execution_count": null,
   "metadata": {},
   "outputs": [],
   "source": [
    "# Look at results\n",
    "results.dfTransData('fr')[['NumEchant', 'Espèce', 'Périodes', 'Préc.', 'Durée', 'Fn Clé',\n",
    "                           'Sér Ajust', 'CodEx', 'NObs', 'AIC', 'Chi2 P', 'KS P', \n",
    "                           'Densité', 'CoefVar Densité', 'Min Densité', 'Max Densité']]"
   ]
  },
  {
   "cell_type": "code",
   "execution_count": null,
   "metadata": {
    "scrolled": true
   },
   "outputs": [],
   "source": [
    "# Save results in case need for not recomputing them\n",
    "resFileName = os.path.join(mcds.workDir, 'autods-validation-preresults.xlsx')\n",
    "\n",
    "results.toExcel(resFileName, sheetName='AutoDSVal')"
   ]
  },
  {
   "cell_type": "markdown",
   "metadata": {},
   "source": [
    "## 3. Or : Load analyses from a previous run\n",
    "\n",
    "(already run and saved above)"
   ]
  },
  {
   "cell_type": "code",
   "execution_count": null,
   "metadata": {
    "scrolled": false
   },
   "outputs": [],
   "source": [
    "if not computed:\n",
    "    \n",
    "    resFileName = os.path.join(mcds.workDir, 'autods-validation-preresults.xlsx')\n",
    "    print('Loading pre-results from {} ...'.format(resFileName))\n",
    "\n",
    "    results.fromExcel(resFileName, sheetName='AutoDSVal')\n",
    "    \n",
    "else:\n",
    "    \n",
    "    print('Just computed, not reloading ...')\n",
    "    \n",
    "print('... {} pre-analyses loaded'.format(len(results)))"
   ]
  },
  {
   "cell_type": "code",
   "execution_count": null,
   "metadata": {},
   "outputs": [],
   "source": [
    "# Look at results\n",
    "results.dfTransData('fr')[['NumEchant', 'Espèce', 'Périodes', 'Préc.', 'Durée', 'Fn Clé',\n",
    "                           'Sér Ajust', 'CodEx', 'NObs', 'AIC', 'Chi2 P', 'KS P', \n",
    "                           'Densité', 'CoefVar Densité', 'Min Densité', 'Max Densité']]"
   ]
  },
  {
   "cell_type": "markdown",
   "metadata": {},
   "source": [
    "## 4. Generate HTML and Excel reports"
   ]
  },
  {
   "cell_type": "code",
   "execution_count": null,
   "metadata": {},
   "outputs": [],
   "source": [
    "# Sélection des colonnes pour les tableaux de synthèse du rapport\n",
    "synthCols = \\\n",
    "[\n",
    "    ('sample', 'SampleNum', 'Value'),\n",
    "    ('sample', 'Species', 'Value'),\n",
    "    ('sample', 'Periods', 'Value'),\n",
    "    ('sample', 'Prec.', 'Value'),\n",
    "    ('sample', 'Duration', 'Value'),\n",
    "    \n",
    "    ('parameters', 'estimator key function', 'Value'),\n",
    "    ('parameters', 'estimator adjustment series', 'Value'),\n",
    "    ('parameters', 'CV interval', 'Value'),\n",
    "    ('parameters', 'left truncation distance', 'Value'),\n",
    "    ('parameters', 'right truncation distance', 'Value'),\n",
    "    ('parameters', 'model fitting distance cut points', 'Value'),\n",
    "    ('parameters', 'distance discretisation cut points', 'Value'),\n",
    "    \n",
    "    ('run output', 'run status', 'Value'),\n",
    "    \n",
    "    ('encounter rate', 'number of observations (n)', 'Value'),\n",
    "    \n",
    "    ('detection probability', 'AIC value', 'Value'),\n",
    "    ('detection probability', 'chi-square test probability determined', 'Value'),\n",
    "    ('detection probability', 'Kolmogorov-Smirnov test probability', 'Value'),\n",
    "    ('density/abundance', 'density of animals', 'Cv'),\n",
    "    \n",
    "    ('detection probability', 'effective strip width (ESW) or effective detection radius (EDR)', 'Value'),\n",
    "    ('detection probability', 'effective strip width (ESW) or effective detection radius (EDR)', 'Lcl'),\n",
    "    ('detection probability', 'effective strip width (ESW) or effective detection radius (EDR)', 'Ucl'),\n",
    "    \n",
    "    ('density/abundance', 'density of animals', 'Value'),\n",
    "    ('density/abundance', 'density of animals', 'Lcl'),\n",
    "    ('density/abundance', 'density of animals', 'Ucl'),\n",
    "    \n",
    "    ('detection probability', 'probability of detection (Pw)', 'Value'),\n",
    "    ('detection probability', 'probability of detection (Pw)', 'Lcl'),\n",
    "    ('detection probability', 'probability of detection (Pw)', 'Ucl'),\n",
    "    ('detection probability', 'probability of detection (Pw)', 'Df'),\n",
    "\n",
    "    ('run output', 'run folder', 'Value'),\n",
    "]"
   ]
  },
  {
   "cell_type": "code",
   "execution_count": null,
   "metadata": {},
   "outputs": [],
   "source": [
    "# Select analysis results columns for the 3 textual columns of the synthesis pre-report\n",
    "sampleCols = \\\n",
    "[\n",
    "    ('sample', 'SampleNum', 'Value'),\n",
    "    ('sample', 'Species', 'Value'),\n",
    "    ('sample', 'Periods', 'Value'),\n",
    "    ('sample', 'Prec.', 'Value'),\n",
    "    ('sample', 'Duration', 'Value')\n",
    "]\n",
    "\n",
    "paramCols = \\\n",
    "[\n",
    "    ('parameters', 'estimator key function', 'Value'),\n",
    "    ('parameters', 'estimator adjustment series', 'Value'),\n",
    "    ('parameters', 'CV interval', 'Value')\n",
    "]\n",
    "    \n",
    "resultCols = \\\n",
    "[\n",
    "    ('run output', 'run status', 'Value'),\n",
    "    \n",
    "    ('encounter rate', 'number of observations (n)', 'Value'),\n",
    "    \n",
    "    ('detection probability', 'AIC value', 'Value'),\n",
    "    ('detection probability', 'chi-square test probability determined', 'Value'),\n",
    "    ('detection probability', 'Kolmogorov-Smirnov test probability', 'Value'),\n",
    "    ('detection probability', 'probability of detection (Pw)', 'Value'),\n",
    "    ('detection probability', 'effective strip width (ESW) or effective detection radius (EDR)', 'Value'),\n",
    "\n",
    "    ('density/abundance', 'density of animals', 'Cv'),\n",
    "    ('density/abundance', 'density of animals', 'Value'),\n",
    "    ('density/abundance', 'density of animals', 'Lcl'),\n",
    "    ('density/abundance', 'density of animals', 'Ucl'),\n",
    "]"
   ]
  },
  {
   "cell_type": "code",
   "execution_count": null,
   "metadata": {},
   "outputs": [],
   "source": [
    "report = ads.MCDSResultsPreReport(resultsSet=results,\n",
    "                                  title='Validation du module autods', subTitle='Rapport de pré-analyse',\n",
    "                                  anlysSubTitle='Détail des pré-analyses', description='Qu\\'ajouter de plus ?',\n",
    "                                  keywords='autods, validation', plotsHeight=384, lang='fr',\n",
    "                                  sampleCols=sampleCols, paramCols=paramCols, resultCols=resultCols, anlysSynthCols=synthCols,\n",
    "                                  attachedDir='.', tgtFolder=mcds.workDir, tgtPrefix='autods-validation-prereport')"
   ]
  },
  {
   "cell_type": "code",
   "execution_count": null,
   "metadata": {
    "scrolled": false
   },
   "outputs": [],
   "source": [
    "htmlRep = report.toHtml()\n",
    "\n",
    "HTML(f'Pré-rapport HTML : <a href=\"{htmlRep}\" target=\"blank\">{htmlRep}</a>')"
   ]
  },
  {
   "cell_type": "code",
   "execution_count": null,
   "metadata": {
    "scrolled": true
   },
   "outputs": [],
   "source": [
    "xlsxRep = report.toExcel()\n",
    "\n",
    "HTML(f'Rapport Excel : <a href=\"{xlsxRep}\" target=\"blank\">{xlsxRep}</a>')"
   ]
  },
  {
   "cell_type": "markdown",
   "metadata": {},
   "source": [
    "# VI. Parallel run of same pre-analyses\n",
    "\n",
    "And compare results to sequential run's."
   ]
  },
  {
   "cell_type": "markdown",
   "metadata": {},
   "source": [
    "## 1. Prepare analyses"
   ]
  },
  {
   "cell_type": "code",
   "execution_count": null,
   "metadata": {},
   "outputs": [],
   "source": [
    "# Analysis engine : Non-parallel executor here: MCDSPreAnalysis takes care of this !\n",
    "mcds = ads.MCDSEngine(workDir=pl.Path('tmp', 'mcds-ppout'),\n",
    "                      distanceUnit='Meter', areaUnit='Hectare',\n",
    "                      surveyType='Point', distanceType='Radial')"
   ]
  },
  {
   "cell_type": "code",
   "execution_count": null,
   "metadata": {},
   "outputs": [],
   "source": [
    "# Results object construction\n",
    "parResults = ads.MCDSResultsSet(miCustomCols=miCustCols, dfCustomColTrans=dfCustColTrans)"
   ]
  },
  {
   "cell_type": "code",
   "execution_count": null,
   "metadata": {},
   "outputs": [],
   "source": [
    "computed = False"
   ]
  },
  {
   "cell_type": "markdown",
   "metadata": {},
   "source": [
    "## 2 Or : Really run pre-analyses"
   ]
  },
  {
   "cell_type": "code",
   "execution_count": null,
   "metadata": {},
   "outputs": [],
   "source": [
    "# Pre-analysis executor (kind of overkill here, with only 5 pre-analyses ... but still works twice as rapidly !).\n",
    "parallelExecutor = ads.Executor(parallel=True, threads=6)"
   ]
  },
  {
   "cell_type": "code",
   "execution_count": null,
   "metadata": {
    "scrolled": true
   },
   "outputs": [],
   "source": [
    "tsStart = pd.Timestamp.now()\n",
    "print('Started at', tsStart)\n",
    "print()\n",
    "\n",
    "# Run all analyses\n",
    "lastInFileName = None\n",
    "preAnalyses = dict()\n",
    "for _, sSamp in dfSamples.iterrows():\n",
    "    \n",
    "    nSamp = sSamp.SampleNum\n",
    "    sampId = '{}-{}-{}mn-{}dec' \\\n",
    "             .format(sSamp.Species,\n",
    "                     'AB' if 'A+B' in sSamp.Periods else 'A' if 'A' in sSamp.Periods else 'B',\n",
    "                     sSamp.Duration.split(' ')[0], sSamp['Prec.'].split(' ')[0])\n",
    "    print('#{:3d}'.format(nSamp+1), sampId)\n",
    "    \n",
    "    # Create data set if not already done.\n",
    "    inFileName = 'ACDC2019-Papyrus-{}-dist.txt'.format(sampId)\n",
    "    if lastInFileName != inFileName:\n",
    "        sds = ads.SampleDataSet(pl.Path('refin', inFileName), decimalFields=decimalFields)\n",
    "        lastInFileName = inFileName\n",
    "        \n",
    "    # Start running analysis (but don't wait for it's finished)\n",
    "    sResHead = sSamp.copy()\n",
    "    sResHead.index = miCustCols\n",
    "    \n",
    "    preAnlys = ads.MCDSPreAnalysis(engine=mcds, sampleDataSet=sds, name=sampId,\n",
    "                                   customData=sResHead, executor=parallelExecutor,\n",
    "                                   logData=False, modelStrategy=KPreEstimModStrat)\n",
    "    preAnlysFut = preAnlys.run()\n",
    "    \n",
    "    # Store analysis object and associated \"future\" for later use (should be running soon or later).\n",
    "    preAnalyses[preAnlysFut] = preAnlys\n",
    "    \n",
    "print('All pre-analyses started ; now waiting for their end, and results ...')\n",
    "\n",
    "# For each analysis as it gets completed (first completed => first yielded)\n",
    "for preAnlysFut in parallelExecutor.asCompleted(preAnalyses):\n",
    "\n",
    "    # Retrieve pre-analysis object from its associated future object\n",
    "    preAnlys = preAnalyses[preAnlysFut]\n",
    "    \n",
    "    # Get pre-analysis results\n",
    "    sResult = preAnlys.getResults()\n",
    "\n",
    "    # Save results with header\n",
    "    parResults.append(sResult, sCustomHead=preAnlys.customData)\n",
    "    \n",
    "# shutdown executor\n",
    "parallelExecutor.shutdown()\n",
    "\n",
    "# shutdown analysis engine\n",
    "mcds.shutdown()\n",
    "\n",
    "# Done.\n",
    "tsEnd = pd.Timestamp.now()\n",
    "print('Finished at', tsEnd, ': duration', str(tsEnd - tsStart).replace('0 days ', ''))\n",
    "\n",
    "computed = True"
   ]
  },
  {
   "cell_type": "code",
   "execution_count": null,
   "metadata": {},
   "outputs": [],
   "source": [
    "# Look at results\n",
    "parResults.dfTransData('fr')[['NumEchant', 'Espèce', 'Périodes', 'Préc.', 'Durée', 'Fn Clé',\n",
    "                              'Sér Ajust', 'CodEx', 'NObs', 'AIC', 'Chi2 P', 'KS P', \n",
    "                              'Densité', 'CoefVar Densité', 'Min Densité', 'Max Densité']]"
   ]
  },
  {
   "cell_type": "code",
   "execution_count": null,
   "metadata": {
    "scrolled": true
   },
   "outputs": [],
   "source": [
    "# Save results in case need for not recomputing them\n",
    "resFileName = os.path.join(mcds.workDir, 'autods-validation-preresults-par.xlsx')\n",
    "\n",
    "parResults.toExcel(resFileName, sheetName='AutoDSVal')"
   ]
  },
  {
   "cell_type": "markdown",
   "metadata": {},
   "source": [
    "## 2. Or : Load analyses from a previous run\n",
    "\n",
    "(already run and saved above)"
   ]
  },
  {
   "cell_type": "code",
   "execution_count": null,
   "metadata": {
    "scrolled": false
   },
   "outputs": [],
   "source": [
    "if not computed:\n",
    "    \n",
    "    resFileName = os.path.join(mcds.workDir, 'autods-validation-preresults-par.xlsx')\n",
    "    print('Loading pre-results from {} ...'.format(resFileName))\n",
    "\n",
    "    parResults.fromExcel(resFileName, sheetName='AutoDSVal')\n",
    "    \n",
    "else:\n",
    "    \n",
    "    print('Just computed, not reloading ...')\n",
    "    \n",
    "print('... {} pre-analyses loaded'.format(len(parResults)))"
   ]
  },
  {
   "cell_type": "code",
   "execution_count": null,
   "metadata": {},
   "outputs": [],
   "source": [
    "# Look at results\n",
    "parResults.dfTransData('fr')[['NumEchant', 'Espèce', 'Périodes', 'Préc.', 'Durée', 'Fn Clé',\n",
    "                              'Sér Ajust', 'CodEx', 'NObs', 'AIC', 'Chi2 P', 'KS P', \n",
    "                              'Densité', 'CoefVar Densité', 'Min Densité', 'Max Densité']]"
   ]
  },
  {
   "cell_type": "markdown",
   "metadata": {},
   "source": [
    "## 3. Compare parallel results to sequential ones"
   ]
  },
  {
   "cell_type": "code",
   "execution_count": null,
   "metadata": {
    "scrolled": false
   },
   "outputs": [],
   "source": [
    "# Prepare sequential results for comparison\n",
    "dfSeqCmpRes = results.dfTransData('en')\n",
    "\n",
    "dfSeqCmpRes.fillna(-9999, inplace=True) # Get rid of the Nan pb (because NaN != NaN :-)\n",
    "\n",
    "dfSeqCmpRes.drop(columns=['RunTime', 'RunFolder'], inplace=True) # Run date-time and folder can never be the same"
   ]
  },
  {
   "cell_type": "code",
   "execution_count": null,
   "metadata": {
    "scrolled": false
   },
   "outputs": [],
   "source": [
    "# Prepare parallel results for comparison\n",
    "dfParCmpRes = parResults.dfTransData('en')\n",
    "\n",
    "dfParCmpRes.sort_values(by='SampleNum', inplace=True) # Back to original test case order = sequential run order\n",
    "\n",
    "dfParCmpRes.reset_index(inplace=True, drop=True) # Enforce same index as a consequence\n",
    "\n",
    "dfParCmpRes.fillna(-9999, inplace=True) # And get rid of the Nan pb (because NaN != Nan :-)\n",
    "\n",
    "dfParCmpRes.drop(columns=['RunTime', 'RunFolder'], inplace=True) # Run date-time and folder can never be the same"
   ]
  },
  {
   "cell_type": "code",
   "execution_count": null,
   "metadata": {},
   "outputs": [],
   "source": [
    "assert (dfSeqCmpRes == dfParCmpRes).all().all(), 'Oh, oh, something went differently when run parallely ...'"
   ]
  },
  {
   "cell_type": "code",
   "execution_count": null,
   "metadata": {},
   "outputs": [],
   "source": []
  },
  {
   "cell_type": "markdown",
   "metadata": {},
   "source": [
    "# VII. Run analyses with real life field data (2/2 : the short and fast way)\n",
    "\n",
    "Thanks to MCDSAnalyser class."
   ]
  },
  {
   "cell_type": "code",
   "execution_count": null,
   "metadata": {},
   "outputs": [],
   "source": [
    "transectPlaceCols = ['Point']\n",
    "passIdCol = 'Passage'\n",
    "effortCol = 'Effort'\n",
    "\n",
    "sampleDecFields = [effortCol, 'Distance']\n",
    "\n",
    "sampleCol = 'Echant'\n",
    "sampleSelCols = ['Espèce', passIdCol, 'Adulte', 'Durée']\n",
    "\n",
    "varIndCol = 'IndAnlys'\n",
    "anlysAbbrevCol = 'AbrevAnlys'\n",
    "\n",
    "dSurveyArea = dict(Zone='ACDC', Surface='2400')"
   ]
  },
  {
   "cell_type": "markdown",
   "metadata": {},
   "source": [
    "## 1. Individuals data set"
   ]
  },
  {
   "cell_type": "code",
   "execution_count": null,
   "metadata": {},
   "outputs": [],
   "source": [
    "dfObsIndiv = ads.DataSet('refin/ACDC2019-Naturalist-ExtraitObsIndiv.ods', sheet='DonnéesIndiv').dfData\n",
    "len(dfObsIndiv)"
   ]
  },
  {
   "cell_type": "code",
   "execution_count": null,
   "metadata": {},
   "outputs": [],
   "source": [
    "dfObsIndiv.head()"
   ]
  },
  {
   "cell_type": "code",
   "execution_count": null,
   "metadata": {
    "scrolled": false
   },
   "outputs": [],
   "source": [
    "{ col: dfObsIndiv[col].unique() for col in ['Observateur', 'Point', 'Passage', 'Adulte', 'Durée', 'Espèce'] }"
   ]
  },
  {
   "cell_type": "markdown",
   "metadata": {},
   "source": [
    "## 2. Actual transects\n",
    "\n",
    "(can't deduce them from data, some points are missing because of data selection)"
   ]
  },
  {
   "cell_type": "code",
   "execution_count": null,
   "metadata": {},
   "outputs": [],
   "source": [
    "dfTransects = ads.DataSet('refin/ACDC2019-Naturalist-ExtraitObsIndiv.ods', sheet='Inventaires').dfData\n",
    "len(dfTransects)"
   ]
  },
  {
   "cell_type": "code",
   "execution_count": null,
   "metadata": {},
   "outputs": [],
   "source": [
    "dfTransects"
   ]
  },
  {
   "cell_type": "markdown",
   "metadata": {},
   "source": [
    "## 3. Analyses specs"
   ]
  },
  {
   "cell_type": "code",
   "execution_count": null,
   "metadata": {},
   "outputs": [],
   "source": [
    "def analysisAbbrev(sAnlys):\n",
    "    \n",
    "    # Sample abbreviation\n",
    "    spcAbbrev = ''.join(word[:4].title() for word in sAnlys['Espèce'].split(' ')[:2])\n",
    "    sampAbbrev = [str(x) for x in [spcAbbrev, sAnlys.Passage.replace('+', ''),\n",
    "                                   sAnlys.Adulte.replace('+', ''), sAnlys['Durée']]]\n",
    "\n",
    "    # Model + Parameters abbreviation\n",
    "    modParAbbrev = [sAnlys['FonctionClé'][:3].lower(), sAnlys['SérieAjust'][:3].lower()]\n",
    "    if not pd.isnull(sAnlys['TrGche']):\n",
    "        modParAbbrev.append('g{}'.format(int(sAnlys['TrGche'])))\n",
    "    if not pd.isnull(sAnlys['TrDrte']):\n",
    "        modParAbbrev.append('d{}'.format(int(sAnlys['TrDrte'])))\n",
    "    if not pd.isnull(sAnlys['NbTrches']):\n",
    "        modParAbbrev.append('t{}'.format(int(sAnlys['NbTrches'])))\n",
    "    \n",
    "    return '-'.join(sampAbbrev + modParAbbrev)\n",
    "\n",
    "dfAnlysSpecs = ads.DSAnalyser.explicitVariantSpecs('refin/ACDC2019-Naturalist-ExtraitSpecsAnalyses.xlsx', \n",
    "                                                   varIndCol=varIndCol,\n",
    "                                                   #convertCols={ 'Durée': int }, # float 'cause of Excel\n",
    "                                                   computedCols={ anlysAbbrevCol: analysisAbbrev })\n",
    "\n",
    "len(dfAnlysSpecs)"
   ]
  },
  {
   "cell_type": "code",
   "execution_count": null,
   "metadata": {},
   "outputs": [],
   "source": [
    "# Ajout du numéro d'échantillon dans les specs d'analyses\n",
    "dfAnlysSpecs.insert(1, column='Echant', value=dfAnlysSpecs.groupby(sampleSelCols, sort=False).ngroup())"
   ]
  },
  {
   "cell_type": "code",
   "execution_count": null,
   "metadata": {},
   "outputs": [],
   "source": [
    "# For faster debugging : reduce work.\n",
    "#dfAnlysSpecs = dfAnlysSpecs[(dfAnlysSpecs.Passage == 'a+b') & (dfAnlysSpecs.Adulte == 'm') \\\n",
    "#                            & (dfAnlysSpecs['Durée'] == '10mn') \\\n",
    "#                            & ((dfAnlysSpecs.TrGche.isnull()) | (dfAnlysSpecs.TrGche < 20)) \\\n",
    "#                            & ((dfAnlysSpecs.TrDrte.isnull()) | (dfAnlysSpecs.TrDrte <= 500))]\n",
    "#len(dfAnlysSpecs)"
   ]
  },
  {
   "cell_type": "code",
   "execution_count": null,
   "metadata": {},
   "outputs": [],
   "source": [
    "dfAnlysSpecs"
   ]
  },
  {
   "cell_type": "code",
   "execution_count": null,
   "metadata": {},
   "outputs": [],
   "source": [
    "computed = False"
   ]
  },
  {
   "cell_type": "code",
   "execution_count": null,
   "metadata": {},
   "outputs": [],
   "source": [
    "workDir = 'tmp/mcds-anlr'"
   ]
  },
  {
   "cell_type": "markdown",
   "metadata": {},
   "source": [
    "## 4A. Or : Really run analyses"
   ]
  },
  {
   "cell_type": "markdown",
   "metadata": {},
   "source": [
    "### a. MCDS Analyser object"
   ]
  },
  {
   "cell_type": "code",
   "execution_count": null,
   "metadata": {},
   "outputs": [],
   "source": [
    "anlysr = ads.MCDSAnalyser(dfObsIndiv, dfTransects=dfTransects, dSurveyArea=dSurveyArea, abbrevCol=anlysAbbrevCol,\n",
    "                          resultsHeadCols=dict(before=[varIndCol, sampleCol], sample=sampleSelCols,\n",
    "                                               after=[anlysAbbrevCol]),\n",
    "                          transectPlaceCols=transectPlaceCols, passIdCol=passIdCol, effortCol=effortCol,\n",
    "                          sampleDecFields=sampleDecFields,\n",
    "                          workDir=workDir)"
   ]
  },
  {
   "cell_type": "markdown",
   "metadata": {},
   "source": [
    "### b. Run analyses"
   ]
  },
  {
   "cell_type": "code",
   "execution_count": null,
   "metadata": {},
   "outputs": [],
   "source": [
    "# Colonnes de dfFinalExplSpecs (ou valeurs constantes) donnant les paramètres d'analyse\n",
    "KEstimCrit = 'AIC'\n",
    "KCVInterval = 95\n",
    "\n",
    "dAnlysParamsSpecs = dict(estimKeyFn='FonctionClé', estimAdjustFn='SérieAjust',\n",
    "                         estimCriterion=KEstimCrit, cvInterval=KCVInterval,\n",
    "                         minDist='TrGche', maxDist='TrDrte', fitDistCuts='NbTrches')"
   ]
  },
  {
   "cell_type": "code",
   "execution_count": null,
   "metadata": {},
   "outputs": [],
   "source": [
    "%%time\n",
    "\n",
    "# Analyses\n",
    "results = anlysr.run(dfAnlysSpecs, dAnlysParamsSpecs, threads=6)\n",
    "\n",
    "computed = True"
   ]
  },
  {
   "cell_type": "code",
   "execution_count": null,
   "metadata": {},
   "outputs": [],
   "source": [
    "anlysr.shutdown()"
   ]
  },
  {
   "cell_type": "code",
   "execution_count": null,
   "metadata": {},
   "outputs": [],
   "source": [
    "results.dfTransData('fr')"
   ]
  },
  {
   "cell_type": "code",
   "execution_count": null,
   "metadata": {},
   "outputs": [],
   "source": [
    "results.dfData"
   ]
  },
  {
   "cell_type": "markdown",
   "metadata": {},
   "source": [
    "### c. Save results for later reload or examination"
   ]
  },
  {
   "cell_type": "code",
   "execution_count": null,
   "metadata": {},
   "outputs": [],
   "source": [
    "results.toExcel(pl.Path(workDir) / 'valtests-mcds-anlyser-results.xlsx')"
   ]
  },
  {
   "cell_type": "code",
   "execution_count": null,
   "metadata": {},
   "outputs": [],
   "source": [
    "#results.toExcel(pl.Path(workDir) / 'valtests-mcds-anlyser-results-fr.xlsx', lang='fr')"
   ]
  },
  {
   "cell_type": "markdown",
   "metadata": {},
   "source": [
    "## 4B. Or : Load analyses from a previous run\n",
    "\n",
    "(already run and saved above)"
   ]
  },
  {
   "cell_type": "code",
   "execution_count": null,
   "metadata": {
    "scrolled": true
   },
   "outputs": [],
   "source": [
    "if not computed:\n",
    "    \n",
    "    # Objet résultats\n",
    "    # a. Sample columns (for sample data set extractions + abscence sightings generation)\n",
    "    sampleCols = ['Echant'] + sampleSelCols\n",
    "\n",
    "    # b. Sample multi-index columns (for deltaAIC computation)\n",
    "    _sampMCols = [('sample', col, 'Value') for col in sampleCols]\n",
    "    miSampCols = pd.MultiIndex.from_tuples(_sampMCols)\n",
    "\n",
    "    # c. Full custom multi-index columns to prepend to raw analysis results\n",
    "    _beforeCols = [varIndCol]\n",
    "    _custMCols = [('sample', col, 'Value') for col in _beforeCols]\n",
    "\n",
    "    _custMCols += _sampMCols\n",
    "\n",
    "    _afterCols = [anlysAbbrevCol]\n",
    "    _custMCols += [('more', col, 'Value') for col in _afterCols]\n",
    "\n",
    "    custCols = _beforeCols + sampleCols + _afterCols\n",
    "    miCustCols = pd.MultiIndex.from_tuples(_custMCols)\n",
    "\n",
    "    # d. Translation for it\n",
    "    dfCustColTrans = \\\n",
    "        pd.DataFrame(index=miCustCols,\n",
    "                     data=dict(en=['AnlysNum', 'Sample', 'Species', 'Passing', 'Adult', 'Duration', 'AnlysAbrev'], \n",
    "                               fr=custCols))\n",
    "\n",
    "    # e. And finally, the result object\n",
    "    results = ads.MCDSResultsSet(miCustomCols=miCustCols, dfCustomColTrans=dfCustColTrans, miSampleCols=miSampCols)\n",
    "\n",
    "    # Chargement\n",
    "    resFileName = pl.Path(workDir) / 'valtests-mcds-anlyser-results.xlsx'\n",
    "    print('Loading results from {} ...'.format(resFileName))\n",
    "\n",
    "    results.fromExcel(resFileName)\n",
    "    \n",
    "else:\n",
    "    \n",
    "    print('Just computed, not reloading ...')\n",
    "    \n",
    "print('... {} analyses to compare'.format(len(results)))"
   ]
  },
  {
   "cell_type": "markdown",
   "metadata": {},
   "source": [
    "## 5. Compare results to reference\n",
    "\n",
    "(reference generated with same kind of \"long\" code like in III above, but on another data set)"
   ]
  },
  {
   "cell_type": "code",
   "execution_count": null,
   "metadata": {},
   "outputs": [],
   "source": [
    "# Load reference\n",
    "# 1. Clone results _without_ data.\n",
    "rsRef = results.copy(withData=False)\n",
    "\n",
    "# 2. Load it with reference data\n",
    "rsRef.fromOpenDoc('refout/ACDC2019-Naturalist-ExtraitResultats.ods')\n",
    "\n",
    "rsRef.dfData"
   ]
  },
  {
   "cell_type": "code",
   "execution_count": null,
   "metadata": {},
   "outputs": [],
   "source": [
    "# Compare.\n",
    "indexCols = results.miCustomCols.to_list() + [('parameters', 'estimator key function', 'Value'),\n",
    "                                              ('parameters', 'estimator adjustment series', 'Value'),\n",
    "                                              ('parameters', 'left truncation distance', 'Value'),\n",
    "                                              ('parameters', 'right truncation distance', 'Value'),\n",
    "                                              ('parameters', 'model fitting distance cut points', 'Value')]\n",
    "subsetCols = [col for col in results.dfData.columns.to_list() \\\n",
    "              if col not in (indexCols + [('parameters', 'estimator selection criterion', 'Value'),\n",
    "                                          ('parameters', 'CV interval', 'Value'),\n",
    "                                          ('run output', 'run time', 'Value'),\n",
    "                                          ('run output', 'run folder', 'Value'),\n",
    "                                          ('detection probability', 'key function type', 'Value'),\n",
    "                                          ('detection probability', 'adjustment series type', 'Value')])]\n",
    "\n",
    "dfDiff = rsRef.compare(results, indexCols=indexCols, subsetCols=subsetCols, dropCloser=15, dropNans=True)\n",
    "\n",
    "assert dfDiff.empty\n",
    "\n",
    "print('Yessssss !')"
   ]
  },
  {
   "cell_type": "code",
   "execution_count": null,
   "metadata": {
    "scrolled": false
   },
   "outputs": [],
   "source": []
  },
  {
   "cell_type": "markdown",
   "metadata": {},
   "source": [
    "# Development"
   ]
  },
  {
   "cell_type": "code",
   "execution_count": null,
   "metadata": {},
   "outputs": [],
   "source": []
  },
  {
   "cell_type": "markdown",
   "metadata": {},
   "source": [
    "# Sandbox"
   ]
  },
  {
   "cell_type": "code",
   "execution_count": null,
   "metadata": {},
   "outputs": [],
   "source": []
  },
  {
   "cell_type": "code",
   "execution_count": null,
   "metadata": {},
   "outputs": [],
   "source": []
  },
  {
   "cell_type": "code",
   "execution_count": null,
   "metadata": {},
   "outputs": [],
   "source": []
  },
  {
   "cell_type": "code",
   "execution_count": null,
   "metadata": {},
   "outputs": [],
   "source": []
  }
 ],
 "metadata": {
  "kernelspec": {
   "display_name": "Python 3",
   "language": "python",
   "name": "python3"
  },
  "language_info": {
   "codemirror_mode": {
    "name": "ipython",
    "version": 3
   },
   "file_extension": ".py",
   "mimetype": "text/x-python",
   "name": "python",
   "nbconvert_exporter": "python",
   "pygments_lexer": "ipython3",
   "version": "3.7.3"
  }
 },
 "nbformat": 4,
 "nbformat_minor": 2
}
