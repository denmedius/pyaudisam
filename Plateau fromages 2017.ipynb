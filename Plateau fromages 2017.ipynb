{
 "cells": [
  {
   "cell_type": "markdown",
   "metadata": {},
   "source": [
    "# Traitement des données Plateau de fromage 2017"
   ]
  },
  {
   "cell_type": "code",
   "execution_count": 2,
   "metadata": {},
   "outputs": [
    {
     "data": {
      "text/plain": [
       "'3.5.2 |Anaconda custom (64-bit)| (default, Jul  5 2016, 11:41:13) [MSC v.1900 64 bit (AMD64)]'"
      ]
     },
     "execution_count": 2,
     "metadata": {},
     "output_type": "execute_result"
    }
   ],
   "source": [
    "import sys\n",
    "sys.version"
   ]
  },
  {
   "cell_type": "code",
   "execution_count": 3,
   "metadata": {
    "collapsed": true
   },
   "outputs": [],
   "source": [
    "import pandas as pd\n",
    "import numpy as np"
   ]
  },
  {
   "cell_type": "markdown",
   "metadata": {},
   "source": [
    "# 1) Formatage des données brutes de terrain pour Distance 6.2"
   ]
  },
  {
   "cell_type": "markdown",
   "metadata": {},
   "source": [
    "## Chargement des données brutes"
   ]
  },
  {
   "cell_type": "code",
   "execution_count": 4,
   "metadata": {
    "collapsed": true
   },
   "outputs": [],
   "source": [
    "dfToutBrut = pd.read_excel('PlateauFromages-JPM2017.xlsx')"
   ]
  },
  {
   "cell_type": "code",
   "execution_count": 5,
   "metadata": {
    "collapsed": true
   },
   "outputs": [],
   "source": [
    "dfToutBrut.rename(columns={'MÂLE (O)' : 'MALE', 'Juvénile (O) ' : 'JUVENILE'}, inplace=True)"
   ]
  },
  {
   "cell_type": "code",
   "execution_count": 6,
   "metadata": {},
   "outputs": [
    {
     "data": {
      "text/plain": [
       "POINT                  object\n",
       "ESPECE                 object\n",
       "DISTANCE              float64\n",
       "MALE                   object\n",
       "JUVENILE               object\n",
       "OBSERVATEUR            object\n",
       "DATE           datetime64[ns]\n",
       "dtype: object"
      ]
     },
     "execution_count": 6,
     "metadata": {},
     "output_type": "execute_result"
    }
   ],
   "source": [
    "dfToutBrut.dtypes"
   ]
  },
  {
   "cell_type": "code",
   "execution_count": 10,
   "metadata": {},
   "outputs": [
    {
     "data": {
      "text/plain": [
       "Index(['POINT', 'ESPECE', 'DISTANCE', 'MALE', 'JUVENILE', 'OBSERVATEUR',\n",
       "       'DATE'],\n",
       "      dtype='object')"
      ]
     },
     "execution_count": 10,
     "metadata": {},
     "output_type": "execute_result"
    }
   ],
   "source": [
    "dfToutBrut.columns"
   ]
  },
  {
   "cell_type": "code",
   "execution_count": 11,
   "metadata": {},
   "outputs": [
    {
     "data": {
      "text/plain": [
       "array(['COLPAL', 'CUCCAN', 'ANTTRI', 'PRUMOD', 'PHOPHO', 'TURMER',\n",
       "       'SYLATR', 'SYLBOR', 'SYLCOM', 'PHYCOL', 'PARMAJ', 'LANCOL',\n",
       "       'FRICOE', 'CARCHL', 'EMBCIT', 'ERIRUB', 'TURPHI', 'LOPCRI',\n",
       "       'CYACAE', 'GARGLA', 'CORCOR', 'LULARB', 'SAXTOR', 'TURVIS',\n",
       "       'HIPPOL', 'CERBRA', 'ALAARV', 'STUVUL', 'STRDEC', 'PHOOCH',\n",
       "       'REGIGN', 'PASDOM', 'PASMON', 'SERSER', 'CARCAR', 'MOTALB',\n",
       "       'TROTRO', 'PICPIC', 'PERATE', 'HIRRUS', 'CARCAN', 'BUTBUT',\n",
       "       'MOTCIN', 'CORMON', 'REGREG', 'PICVIR'], dtype=object)"
      ]
     },
     "execution_count": 11,
     "metadata": {},
     "output_type": "execute_result"
    }
   ],
   "source": [
    "dfToutBrut.ESPECE.unique()"
   ]
  },
  {
   "cell_type": "code",
   "execution_count": 13,
   "metadata": {
    "collapsed": true
   },
   "outputs": [],
   "source": [
    "## Examen rapide des données brutes"
   ]
  },
  {
   "cell_type": "code",
   "execution_count": 14,
   "metadata": {},
   "outputs": [
    {
     "data": {
      "text/plain": [
       "438"
      ]
     },
     "execution_count": 14,
     "metadata": {},
     "output_type": "execute_result"
    }
   ],
   "source": [
    "len(dfToutBrut)"
   ]
  },
  {
   "cell_type": "code",
   "execution_count": 15,
   "metadata": {},
   "outputs": [
    {
     "data": {
      "text/plain": [
       "318"
      ]
     },
     "execution_count": 15,
     "metadata": {},
     "output_type": "execute_result"
    }
   ],
   "source": [
    "# Nb de mâles adultes.\n",
    "len(dfToutBrut[dfToutBrut.MALE.notnull()])"
   ]
  },
  {
   "cell_type": "code",
   "execution_count": 16,
   "metadata": {},
   "outputs": [
    {
     "data": {
      "text/plain": [
       "86"
      ]
     },
     "execution_count": 16,
     "metadata": {},
     "output_type": "execute_result"
    }
   ],
   "source": [
    "# Nb d'adultes non identifié comme mâle (femelle ou ... sexe ou age non identifié).\n",
    "len(dfToutBrut[dfToutBrut.MALE.isnull() & dfToutBrut.JUVENILE.isnull()])"
   ]
  },
  {
   "cell_type": "code",
   "execution_count": 17,
   "metadata": {},
   "outputs": [
    {
     "data": {
      "text/plain": [
       "34"
      ]
     },
     "execution_count": 17,
     "metadata": {},
     "output_type": "execute_result"
    }
   ],
   "source": [
    "# Nb de juvéniles.\n",
    "len(dfToutBrut[dfToutBrut.JUVENILE.notnull()])"
   ]
  },
  {
   "cell_type": "markdown",
   "metadata": {},
   "source": [
    "## Redressement booléen des colonnes Mâle et Juvéniles"
   ]
  },
  {
   "cell_type": "code",
   "execution_count": 18,
   "metadata": {
    "scrolled": true
   },
   "outputs": [
    {
     "data": {
      "text/html": [
       "<div>\n",
       "<style>\n",
       "    .dataframe thead tr:only-child th {\n",
       "        text-align: right;\n",
       "    }\n",
       "\n",
       "    .dataframe thead th {\n",
       "        text-align: left;\n",
       "    }\n",
       "\n",
       "    .dataframe tbody tr th {\n",
       "        vertical-align: top;\n",
       "    }\n",
       "</style>\n",
       "<table border=\"1\" class=\"dataframe\">\n",
       "  <thead>\n",
       "    <tr style=\"text-align: right;\">\n",
       "      <th></th>\n",
       "      <th>POINT</th>\n",
       "      <th>ESPECE</th>\n",
       "      <th>DISTANCE</th>\n",
       "      <th>MALE</th>\n",
       "      <th>JUVENILE</th>\n",
       "      <th>OBSERVATEUR</th>\n",
       "      <th>DATE</th>\n",
       "    </tr>\n",
       "  </thead>\n",
       "  <tbody>\n",
       "    <tr>\n",
       "      <th>0</th>\n",
       "      <td>70B</td>\n",
       "      <td>COLPAL</td>\n",
       "      <td>376.190476</td>\n",
       "      <td>True</td>\n",
       "      <td>False</td>\n",
       "      <td>JPM</td>\n",
       "      <td>2017-05-21</td>\n",
       "    </tr>\n",
       "    <tr>\n",
       "      <th>1</th>\n",
       "      <td>70B</td>\n",
       "      <td>CUCCAN</td>\n",
       "      <td>523.809524</td>\n",
       "      <td>True</td>\n",
       "      <td>False</td>\n",
       "      <td>JPM</td>\n",
       "      <td>2017-05-21</td>\n",
       "    </tr>\n",
       "    <tr>\n",
       "      <th>2</th>\n",
       "      <td>70B</td>\n",
       "      <td>ANTTRI</td>\n",
       "      <td>146.666667</td>\n",
       "      <td>True</td>\n",
       "      <td>False</td>\n",
       "      <td>JPM</td>\n",
       "      <td>2017-05-21</td>\n",
       "    </tr>\n",
       "    <tr>\n",
       "      <th>3</th>\n",
       "      <td>70B</td>\n",
       "      <td>ANTTRI</td>\n",
       "      <td>177.142857</td>\n",
       "      <td>True</td>\n",
       "      <td>False</td>\n",
       "      <td>JPM</td>\n",
       "      <td>2017-05-21</td>\n",
       "    </tr>\n",
       "    <tr>\n",
       "      <th>4</th>\n",
       "      <td>70B</td>\n",
       "      <td>PRUMOD</td>\n",
       "      <td>200.000000</td>\n",
       "      <td>True</td>\n",
       "      <td>False</td>\n",
       "      <td>JPM</td>\n",
       "      <td>2017-05-21</td>\n",
       "    </tr>\n",
       "  </tbody>\n",
       "</table>\n",
       "</div>"
      ],
      "text/plain": [
       "  POINT  ESPECE    DISTANCE  MALE  JUVENILE OBSERVATEUR       DATE\n",
       "0   70B  COLPAL  376.190476  True     False         JPM 2017-05-21\n",
       "1   70B  CUCCAN  523.809524  True     False         JPM 2017-05-21\n",
       "2   70B  ANTTRI  146.666667  True     False         JPM 2017-05-21\n",
       "3   70B  ANTTRI  177.142857  True     False         JPM 2017-05-21\n",
       "4   70B  PRUMOD  200.000000  True     False         JPM 2017-05-21"
      ]
     },
     "execution_count": 18,
     "metadata": {},
     "output_type": "execute_result"
    }
   ],
   "source": [
    "def toBool(s):\n",
    "    return False if pd.isnull(s) or (type(s) is str and s.lower() != 'o') else True\n",
    "\n",
    "dfToutBrut.MALE = dfToutBrut.MALE.apply(toBool)\n",
    "dfToutBrut.JUVENILE = dfToutBrut.JUVENILE.apply(toBool)\n",
    "dfToutBrut.head()"
   ]
  },
  {
   "cell_type": "markdown",
   "metadata": {},
   "source": [
    "## Vérifications erreurs, incohérences ..."
   ]
  },
  {
   "cell_type": "code",
   "execution_count": 19,
   "metadata": {
    "collapsed": true
   },
   "outputs": [],
   "source": [
    "# Pas de lignes avec Mâle ET Juvénile\n",
    "assert not (dfToutBrut.MALE & dfToutBrut.JUVENILE).any(), 'Attention : Au moins 1 ligne Mâle _et_ Juvénile'"
   ]
  },
  {
   "cell_type": "code",
   "execution_count": null,
   "metadata": {
    "collapsed": true
   },
   "outputs": [],
   "source": []
  },
  {
   "cell_type": "markdown",
   "metadata": {},
   "source": [
    "## Séparation des données mâles seuls et non-juvéniles (on ignore les juvéniles)"
   ]
  },
  {
   "cell_type": "code",
   "execution_count": 21,
   "metadata": {},
   "outputs": [
    {
     "data": {
      "text/html": [
       "<div>\n",
       "<style>\n",
       "    .dataframe thead tr:only-child th {\n",
       "        text-align: right;\n",
       "    }\n",
       "\n",
       "    .dataframe thead th {\n",
       "        text-align: left;\n",
       "    }\n",
       "\n",
       "    .dataframe tbody tr th {\n",
       "        vertical-align: top;\n",
       "    }\n",
       "</style>\n",
       "<table border=\"1\" class=\"dataframe\">\n",
       "  <thead>\n",
       "    <tr style=\"text-align: right;\">\n",
       "      <th></th>\n",
       "      <th>POINT</th>\n",
       "      <th>ESPECE</th>\n",
       "      <th>DISTANCE</th>\n",
       "      <th>NOMBRE</th>\n",
       "      <th>OBSERVATEUR</th>\n",
       "      <th>DATE</th>\n",
       "    </tr>\n",
       "  </thead>\n",
       "  <tbody>\n",
       "    <tr>\n",
       "      <th>0</th>\n",
       "      <td>70B</td>\n",
       "      <td>COLPAL</td>\n",
       "      <td>376.190476</td>\n",
       "      <td>1</td>\n",
       "      <td>JPM</td>\n",
       "      <td>2017-05-21</td>\n",
       "    </tr>\n",
       "    <tr>\n",
       "      <th>1</th>\n",
       "      <td>70B</td>\n",
       "      <td>CUCCAN</td>\n",
       "      <td>523.809524</td>\n",
       "      <td>1</td>\n",
       "      <td>JPM</td>\n",
       "      <td>2017-05-21</td>\n",
       "    </tr>\n",
       "    <tr>\n",
       "      <th>2</th>\n",
       "      <td>70B</td>\n",
       "      <td>ANTTRI</td>\n",
       "      <td>146.666667</td>\n",
       "      <td>1</td>\n",
       "      <td>JPM</td>\n",
       "      <td>2017-05-21</td>\n",
       "    </tr>\n",
       "    <tr>\n",
       "      <th>3</th>\n",
       "      <td>70B</td>\n",
       "      <td>ANTTRI</td>\n",
       "      <td>177.142857</td>\n",
       "      <td>1</td>\n",
       "      <td>JPM</td>\n",
       "      <td>2017-05-21</td>\n",
       "    </tr>\n",
       "    <tr>\n",
       "      <th>4</th>\n",
       "      <td>70B</td>\n",
       "      <td>PRUMOD</td>\n",
       "      <td>200.000000</td>\n",
       "      <td>1</td>\n",
       "      <td>JPM</td>\n",
       "      <td>2017-05-21</td>\n",
       "    </tr>\n",
       "  </tbody>\n",
       "</table>\n",
       "</div>"
      ],
      "text/plain": [
       "  POINT  ESPECE    DISTANCE  NOMBRE OBSERVATEUR       DATE\n",
       "0   70B  COLPAL  376.190476       1         JPM 2017-05-21\n",
       "1   70B  CUCCAN  523.809524       1         JPM 2017-05-21\n",
       "2   70B  ANTTRI  146.666667       1         JPM 2017-05-21\n",
       "3   70B  ANTTRI  177.142857       1         JPM 2017-05-21\n",
       "4   70B  PRUMOD  200.000000       1         JPM 2017-05-21"
      ]
     },
     "execution_count": 21,
     "metadata": {},
     "output_type": "execute_result"
    }
   ],
   "source": [
    "dfMalesBrut = dfToutBrut[dfToutBrut.MALE == True][['POINT', 'ESPECE', 'DISTANCE', 'MALE', 'OBSERVATEUR', 'DATE']]\n",
    "dfMalesBrut.rename(columns={'MALE' : 'NOMBRE'}, inplace=True)\n",
    "dfMalesBrut.NOMBRE = 1\n",
    "dfMalesBrut.head()"
   ]
  },
  {
   "cell_type": "code",
   "execution_count": 22,
   "metadata": {},
   "outputs": [
    {
     "data": {
      "text/plain": [
       "318"
      ]
     },
     "execution_count": 22,
     "metadata": {},
     "output_type": "execute_result"
    }
   ],
   "source": [
    "len(dfMalesBrut)"
   ]
  },
  {
   "cell_type": "code",
   "execution_count": 23,
   "metadata": {},
   "outputs": [
    {
     "data": {
      "text/html": [
       "<div>\n",
       "<style>\n",
       "    .dataframe thead tr:only-child th {\n",
       "        text-align: right;\n",
       "    }\n",
       "\n",
       "    .dataframe thead th {\n",
       "        text-align: left;\n",
       "    }\n",
       "\n",
       "    .dataframe tbody tr th {\n",
       "        vertical-align: top;\n",
       "    }\n",
       "</style>\n",
       "<table border=\"1\" class=\"dataframe\">\n",
       "  <thead>\n",
       "    <tr style=\"text-align: right;\">\n",
       "      <th></th>\n",
       "      <th>POINT</th>\n",
       "      <th>ESPECE</th>\n",
       "      <th>DISTANCE</th>\n",
       "      <th>NOMBRE</th>\n",
       "      <th>OBSERVATEUR</th>\n",
       "      <th>DATE</th>\n",
       "    </tr>\n",
       "  </thead>\n",
       "  <tbody>\n",
       "    <tr>\n",
       "      <th>0</th>\n",
       "      <td>70B</td>\n",
       "      <td>COLPAL</td>\n",
       "      <td>376.190476</td>\n",
       "      <td>1</td>\n",
       "      <td>JPM</td>\n",
       "      <td>2017-05-21</td>\n",
       "    </tr>\n",
       "    <tr>\n",
       "      <th>1</th>\n",
       "      <td>70B</td>\n",
       "      <td>CUCCAN</td>\n",
       "      <td>523.809524</td>\n",
       "      <td>1</td>\n",
       "      <td>JPM</td>\n",
       "      <td>2017-05-21</td>\n",
       "    </tr>\n",
       "    <tr>\n",
       "      <th>2</th>\n",
       "      <td>70B</td>\n",
       "      <td>ANTTRI</td>\n",
       "      <td>146.666667</td>\n",
       "      <td>1</td>\n",
       "      <td>JPM</td>\n",
       "      <td>2017-05-21</td>\n",
       "    </tr>\n",
       "    <tr>\n",
       "      <th>3</th>\n",
       "      <td>70B</td>\n",
       "      <td>ANTTRI</td>\n",
       "      <td>177.142857</td>\n",
       "      <td>1</td>\n",
       "      <td>JPM</td>\n",
       "      <td>2017-05-21</td>\n",
       "    </tr>\n",
       "    <tr>\n",
       "      <th>4</th>\n",
       "      <td>70B</td>\n",
       "      <td>PRUMOD</td>\n",
       "      <td>200.000000</td>\n",
       "      <td>1</td>\n",
       "      <td>JPM</td>\n",
       "      <td>2017-05-21</td>\n",
       "    </tr>\n",
       "  </tbody>\n",
       "</table>\n",
       "</div>"
      ],
      "text/plain": [
       "  POINT  ESPECE    DISTANCE  NOMBRE OBSERVATEUR       DATE\n",
       "0   70B  COLPAL  376.190476       1         JPM 2017-05-21\n",
       "1   70B  CUCCAN  523.809524       1         JPM 2017-05-21\n",
       "2   70B  ANTTRI  146.666667       1         JPM 2017-05-21\n",
       "3   70B  ANTTRI  177.142857       1         JPM 2017-05-21\n",
       "4   70B  PRUMOD  200.000000       1         JPM 2017-05-21"
      ]
     },
     "execution_count": 23,
     "metadata": {},
     "output_type": "execute_result"
    }
   ],
   "source": [
    "dfNonJuvBrut = dfToutBrut[dfToutBrut.JUVENILE == False][['POINT', 'ESPECE', 'DISTANCE', 'MALE', 'OBSERVATEUR', 'DATE']]\n",
    "dfNonJuvBrut.rename(columns={'MALE' : 'NOMBRE'}, inplace=True)\n",
    "dfNonJuvBrut.NOMBRE = 1\n",
    "dfNonJuvBrut.head()"
   ]
  },
  {
   "cell_type": "code",
   "execution_count": 24,
   "metadata": {},
   "outputs": [
    {
     "data": {
      "text/plain": [
       "404"
      ]
     },
     "execution_count": 24,
     "metadata": {},
     "output_type": "execute_result"
    }
   ],
   "source": [
    "len(dfNonJuvBrut)"
   ]
  },
  {
   "cell_type": "markdown",
   "metadata": {},
   "source": [
    "## Ajout des lignes d'absence"
   ]
  },
  {
   "cell_type": "code",
   "execution_count": 31,
   "metadata": {},
   "outputs": [
    {
     "name": "stdout",
     "output_type": "stream",
     "text": [
      "{CARCAN, LULARB, TURVIS, PRUMOD, TURPHI, BUTBUT, CARCAR, PICVIR, SAXTOR, GARGLA, SYLBOR, HIPPOL, SYLCOM, ALAARV, PASMON, TROTRO, HIRRUS, LOPCRI, PERATE, PHYCOL, STUVUL, ERIRUB, CERBRA, CORCOR, SYLATR, CYACAE, CORMON, COLPAL, PICPIC, PHOPHO, TURMER, LANCOL, REGREG, PARMAJ, SERSER, EMBCIT, PASDOM, MOTALB, PHOOCH, FRICOE, ANTTRI, CARCHL, STRDEC, CUCCAN, MOTCIN, REGIGN}\n"
     ]
    }
   ],
   "source": [
    "# Ensemble complet des espèces d'intérêt (= contactées, puisqu'elles ont probablement toutes été contactées)\n",
    "# NB: Cette méthode d'obtention est fiable, même si elle n'en a pas l'air (espèces sans aucune donnée 2017 ? pas crédible)\n",
    "stEspeces = set(dfToutBrut.ESPECE.unique())\n",
    "print('{' + ', '.join(stEspeces) + '}')"
   ]
  },
  {
   "cell_type": "markdown",
   "metadata": {},
   "source": [
    "### Choix Mâles ou Non-juvéniles\n",
    "\n",
    "(exécuter l'une des 2 cellules suivantes, et une seule)"
   ]
  },
  {
   "cell_type": "code",
   "execution_count": 32,
   "metadata": {},
   "outputs": [],
   "source": [
    "dfSelectionBrute = dfMalesBrut"
   ]
  },
  {
   "cell_type": "code",
   "execution_count": 53,
   "metadata": {
    "collapsed": true
   },
   "outputs": [],
   "source": [
    "dfSelectionBrute = dfNonJuvBrut"
   ]
  },
  {
   "cell_type": "markdown",
   "metadata": {},
   "source": [
    "### Espèces contactées par point"
   ]
  },
  {
   "cell_type": "code",
   "execution_count": 54,
   "metadata": {},
   "outputs": [
    {
     "data": {
      "text/html": [
       "<div>\n",
       "<style>\n",
       "    .dataframe thead tr:only-child th {\n",
       "        text-align: right;\n",
       "    }\n",
       "\n",
       "    .dataframe thead th {\n",
       "        text-align: left;\n",
       "    }\n",
       "\n",
       "    .dataframe tbody tr th {\n",
       "        vertical-align: top;\n",
       "    }\n",
       "</style>\n",
       "<table border=\"1\" class=\"dataframe\">\n",
       "  <thead>\n",
       "    <tr style=\"text-align: right;\">\n",
       "      <th></th>\n",
       "      <th>POINT</th>\n",
       "      <th>ESPECE</th>\n",
       "    </tr>\n",
       "  </thead>\n",
       "  <tbody>\n",
       "    <tr>\n",
       "      <th>0</th>\n",
       "      <td>33B</td>\n",
       "      <td>ALAARV</td>\n",
       "    </tr>\n",
       "    <tr>\n",
       "      <th>1</th>\n",
       "      <td>33B</td>\n",
       "      <td>ANTTRI</td>\n",
       "    </tr>\n",
       "    <tr>\n",
       "      <th>2</th>\n",
       "      <td>33B</td>\n",
       "      <td>CORCOR</td>\n",
       "    </tr>\n",
       "    <tr>\n",
       "      <th>3</th>\n",
       "      <td>33B</td>\n",
       "      <td>EMBCIT</td>\n",
       "    </tr>\n",
       "    <tr>\n",
       "      <th>4</th>\n",
       "      <td>33B</td>\n",
       "      <td>FRICOE</td>\n",
       "    </tr>\n",
       "  </tbody>\n",
       "</table>\n",
       "</div>"
      ],
      "text/plain": [
       "  POINT  ESPECE\n",
       "0   33B  ALAARV\n",
       "1   33B  ANTTRI\n",
       "2   33B  CORCOR\n",
       "3   33B  EMBCIT\n",
       "4   33B  FRICOE"
      ]
     },
     "execution_count": 54,
     "metadata": {},
     "output_type": "execute_result"
    }
   ],
   "source": [
    "dfEspecesContactees = dfSelectionBrute.groupby(['POINT', 'ESPECE']).first().reset_index()[['POINT', 'ESPECE']]\n",
    "dfEspecesContactees.head()"
   ]
  },
  {
   "cell_type": "markdown",
   "metadata": {},
   "source": [
    "### Infos observateur et date pour chaque point"
   ]
  },
  {
   "cell_type": "code",
   "execution_count": 55,
   "metadata": {},
   "outputs": [
    {
     "data": {
      "text/html": [
       "<div>\n",
       "<style>\n",
       "    .dataframe thead tr:only-child th {\n",
       "        text-align: right;\n",
       "    }\n",
       "\n",
       "    .dataframe thead th {\n",
       "        text-align: left;\n",
       "    }\n",
       "\n",
       "    .dataframe tbody tr th {\n",
       "        vertical-align: top;\n",
       "    }\n",
       "</style>\n",
       "<table border=\"1\" class=\"dataframe\">\n",
       "  <thead>\n",
       "    <tr style=\"text-align: right;\">\n",
       "      <th></th>\n",
       "      <th>OBSERVATEUR</th>\n",
       "      <th>DATE</th>\n",
       "    </tr>\n",
       "    <tr>\n",
       "      <th>POINT</th>\n",
       "      <th></th>\n",
       "      <th></th>\n",
       "    </tr>\n",
       "  </thead>\n",
       "  <tbody>\n",
       "    <tr>\n",
       "      <th>33B</th>\n",
       "      <td>JPM</td>\n",
       "      <td>2017-06-05</td>\n",
       "    </tr>\n",
       "    <tr>\n",
       "      <th>43B</th>\n",
       "      <td>JPM</td>\n",
       "      <td>2017-06-05</td>\n",
       "    </tr>\n",
       "    <tr>\n",
       "      <th>44B</th>\n",
       "      <td>JPM</td>\n",
       "      <td>2017-06-05</td>\n",
       "    </tr>\n",
       "    <tr>\n",
       "      <th>45A</th>\n",
       "      <td>JPM</td>\n",
       "      <td>2017-06-05</td>\n",
       "    </tr>\n",
       "    <tr>\n",
       "      <th>54B</th>\n",
       "      <td>JPM</td>\n",
       "      <td>2017-06-05</td>\n",
       "    </tr>\n",
       "  </tbody>\n",
       "</table>\n",
       "</div>"
      ],
      "text/plain": [
       "      OBSERVATEUR       DATE\n",
       "POINT                       \n",
       "33B           JPM 2017-06-05\n",
       "43B           JPM 2017-06-05\n",
       "44B           JPM 2017-06-05\n",
       "45A           JPM 2017-06-05\n",
       "54B           JPM 2017-06-05"
      ]
     },
     "execution_count": 55,
     "metadata": {},
     "output_type": "execute_result"
    }
   ],
   "source": [
    "dfInfosPoint = dfSelectionBrute[['POINT', 'OBSERVATEUR', 'DATE', 'ESPECE']] \\\n",
    "               .groupby(['POINT', 'OBSERVATEUR', 'DATE']).count().reset_index().set_index('POINT').drop('ESPECE', axis=1)\n",
    "dfInfosPoint.head()"
   ]
  },
  {
   "cell_type": "code",
   "execution_count": 56,
   "metadata": {
    "collapsed": true
   },
   "outputs": [],
   "source": [
    "# Vérification que pas de doublons, sinon, le join qui suit ne peut plus s'appliquer\n",
    "assert len(dfInfosPoint) == len(dfSelectionBrute.POINT.unique()), \\\n",
    "       'Erreur : Des points non recensés le même jour et par le même observateur'"
   ]
  },
  {
   "cell_type": "markdown",
   "metadata": {},
   "source": [
    "### Especes non contactées par point\n",
    "\n",
    "(=> un set d'espèces pour chaque point)"
   ]
  },
  {
   "cell_type": "code",
   "execution_count": 57,
   "metadata": {},
   "outputs": [
    {
     "data": {
      "text/html": [
       "<div>\n",
       "<style>\n",
       "    .dataframe thead tr:only-child th {\n",
       "        text-align: right;\n",
       "    }\n",
       "\n",
       "    .dataframe thead th {\n",
       "        text-align: left;\n",
       "    }\n",
       "\n",
       "    .dataframe tbody tr th {\n",
       "        vertical-align: top;\n",
       "    }\n",
       "</style>\n",
       "<table border=\"1\" class=\"dataframe\">\n",
       "  <thead>\n",
       "    <tr style=\"text-align: right;\">\n",
       "      <th></th>\n",
       "      <th>ESPECE</th>\n",
       "    </tr>\n",
       "    <tr>\n",
       "      <th>POINT</th>\n",
       "      <th></th>\n",
       "    </tr>\n",
       "  </thead>\n",
       "  <tbody>\n",
       "    <tr>\n",
       "      <th>33B</th>\n",
       "      <td>{CARCAN, TURVIS, PRUMOD, BUTBUT, CARCAR, PICVI...</td>\n",
       "    </tr>\n",
       "    <tr>\n",
       "      <th>43B</th>\n",
       "      <td>{CARCAN, TURVIS, LULARB, PRUMOD, TURPHI, BUTBU...</td>\n",
       "    </tr>\n",
       "    <tr>\n",
       "      <th>44B</th>\n",
       "      <td>{CARCAN, TURVIS, PICVIR, PRUMOD, BUTBUT, CARCA...</td>\n",
       "    </tr>\n",
       "    <tr>\n",
       "      <th>45A</th>\n",
       "      <td>{CARCAN, BUTBUT, PRUMOD, TURPHI, CARCAR, SAXTO...</td>\n",
       "    </tr>\n",
       "    <tr>\n",
       "      <th>54B</th>\n",
       "      <td>{TURVIS, PICVIR, PRUMOD, TURPHI, LULARB, BUTBU...</td>\n",
       "    </tr>\n",
       "  </tbody>\n",
       "</table>\n",
       "</div>"
      ],
      "text/plain": [
       "                                                  ESPECE\n",
       "POINT                                                   \n",
       "33B    {CARCAN, TURVIS, PRUMOD, BUTBUT, CARCAR, PICVI...\n",
       "43B    {CARCAN, TURVIS, LULARB, PRUMOD, TURPHI, BUTBU...\n",
       "44B    {CARCAN, TURVIS, PICVIR, PRUMOD, BUTBUT, CARCA...\n",
       "45A    {CARCAN, BUTBUT, PRUMOD, TURPHI, CARCAR, SAXTO...\n",
       "54B    {TURVIS, PICVIR, PRUMOD, TURPHI, LULARB, BUTBU..."
      ]
     },
     "execution_count": 57,
     "metadata": {},
     "output_type": "execute_result"
    }
   ],
   "source": [
    "dfEspecesManquees = dfEspecesContactees.groupby('POINT').agg(lambda df: stEspeces - set(df.ESPECE.unique()))\n",
    "dfEspecesManquees.head()"
   ]
  },
  {
   "cell_type": "code",
   "execution_count": 58,
   "metadata": {},
   "outputs": [
    {
     "data": {
      "text/html": [
       "<div>\n",
       "<style>\n",
       "    .dataframe thead tr:only-child th {\n",
       "        text-align: right;\n",
       "    }\n",
       "\n",
       "    .dataframe thead th {\n",
       "        text-align: left;\n",
       "    }\n",
       "\n",
       "    .dataframe tbody tr th {\n",
       "        vertical-align: top;\n",
       "    }\n",
       "</style>\n",
       "<table border=\"1\" class=\"dataframe\">\n",
       "  <thead>\n",
       "    <tr style=\"text-align: right;\">\n",
       "      <th></th>\n",
       "      <th>ESPECE</th>\n",
       "      <th>OBSERVATEUR</th>\n",
       "      <th>DATE</th>\n",
       "    </tr>\n",
       "    <tr>\n",
       "      <th>POINT</th>\n",
       "      <th></th>\n",
       "      <th></th>\n",
       "      <th></th>\n",
       "    </tr>\n",
       "  </thead>\n",
       "  <tbody>\n",
       "    <tr>\n",
       "      <th>33B</th>\n",
       "      <td>{CARCAN, TURVIS, PRUMOD, BUTBUT, CARCAR, PICVI...</td>\n",
       "      <td>JPM</td>\n",
       "      <td>2017-06-05</td>\n",
       "    </tr>\n",
       "    <tr>\n",
       "      <th>43B</th>\n",
       "      <td>{CARCAN, TURVIS, LULARB, PRUMOD, TURPHI, BUTBU...</td>\n",
       "      <td>JPM</td>\n",
       "      <td>2017-06-05</td>\n",
       "    </tr>\n",
       "    <tr>\n",
       "      <th>44B</th>\n",
       "      <td>{CARCAN, TURVIS, PICVIR, PRUMOD, BUTBUT, CARCA...</td>\n",
       "      <td>JPM</td>\n",
       "      <td>2017-06-05</td>\n",
       "    </tr>\n",
       "    <tr>\n",
       "      <th>45A</th>\n",
       "      <td>{CARCAN, BUTBUT, PRUMOD, TURPHI, CARCAR, SAXTO...</td>\n",
       "      <td>JPM</td>\n",
       "      <td>2017-06-05</td>\n",
       "    </tr>\n",
       "    <tr>\n",
       "      <th>54B</th>\n",
       "      <td>{TURVIS, PICVIR, PRUMOD, TURPHI, LULARB, BUTBU...</td>\n",
       "      <td>JPM</td>\n",
       "      <td>2017-06-05</td>\n",
       "    </tr>\n",
       "  </tbody>\n",
       "</table>\n",
       "</div>"
      ],
      "text/plain": [
       "                                                  ESPECE OBSERVATEUR  \\\n",
       "POINT                                                                  \n",
       "33B    {CARCAN, TURVIS, PRUMOD, BUTBUT, CARCAR, PICVI...         JPM   \n",
       "43B    {CARCAN, TURVIS, LULARB, PRUMOD, TURPHI, BUTBU...         JPM   \n",
       "44B    {CARCAN, TURVIS, PICVIR, PRUMOD, BUTBUT, CARCA...         JPM   \n",
       "45A    {CARCAN, BUTBUT, PRUMOD, TURPHI, CARCAR, SAXTO...         JPM   \n",
       "54B    {TURVIS, PICVIR, PRUMOD, TURPHI, LULARB, BUTBU...         JPM   \n",
       "\n",
       "            DATE  \n",
       "POINT             \n",
       "33B   2017-06-05  \n",
       "43B   2017-06-05  \n",
       "44B   2017-06-05  \n",
       "45A   2017-06-05  \n",
       "54B   2017-06-05  "
      ]
     },
     "execution_count": 58,
     "metadata": {},
     "output_type": "execute_result"
    }
   ],
   "source": [
    "# Ajout des infos observateur et date à chaque point\n",
    "dfEspecesManquees = dfEspecesManquees.join(dfInfosPoint)\n",
    "dfEspecesManquees.head()"
   ]
  },
  {
   "cell_type": "markdown",
   "metadata": {},
   "source": [
    "### Génération des données d'absence"
   ]
  },
  {
   "cell_type": "code",
   "execution_count": 59,
   "metadata": {},
   "outputs": [
    {
     "data": {
      "text/html": [
       "<div>\n",
       "<style>\n",
       "    .dataframe thead tr:only-child th {\n",
       "        text-align: right;\n",
       "    }\n",
       "\n",
       "    .dataframe thead th {\n",
       "        text-align: left;\n",
       "    }\n",
       "\n",
       "    .dataframe tbody tr th {\n",
       "        vertical-align: top;\n",
       "    }\n",
       "</style>\n",
       "<table border=\"1\" class=\"dataframe\">\n",
       "  <thead>\n",
       "    <tr style=\"text-align: right;\">\n",
       "      <th></th>\n",
       "      <th>POINT</th>\n",
       "      <th>ESPECE</th>\n",
       "      <th>DISTANCE</th>\n",
       "      <th>NOMBRE</th>\n",
       "      <th>OBSERVATEUR</th>\n",
       "      <th>DATE</th>\n",
       "    </tr>\n",
       "  </thead>\n",
       "  <tbody>\n",
       "    <tr>\n",
       "      <th>0</th>\n",
       "      <td>33B</td>\n",
       "      <td>CARCAN</td>\n",
       "      <td>NaN</td>\n",
       "      <td>0</td>\n",
       "      <td>JPM</td>\n",
       "      <td>2017-06-05</td>\n",
       "    </tr>\n",
       "    <tr>\n",
       "      <th>1</th>\n",
       "      <td>33B</td>\n",
       "      <td>TURVIS</td>\n",
       "      <td>NaN</td>\n",
       "      <td>0</td>\n",
       "      <td>JPM</td>\n",
       "      <td>2017-06-05</td>\n",
       "    </tr>\n",
       "    <tr>\n",
       "      <th>2</th>\n",
       "      <td>33B</td>\n",
       "      <td>PRUMOD</td>\n",
       "      <td>NaN</td>\n",
       "      <td>0</td>\n",
       "      <td>JPM</td>\n",
       "      <td>2017-06-05</td>\n",
       "    </tr>\n",
       "    <tr>\n",
       "      <th>3</th>\n",
       "      <td>33B</td>\n",
       "      <td>BUTBUT</td>\n",
       "      <td>NaN</td>\n",
       "      <td>0</td>\n",
       "      <td>JPM</td>\n",
       "      <td>2017-06-05</td>\n",
       "    </tr>\n",
       "    <tr>\n",
       "      <th>4</th>\n",
       "      <td>33B</td>\n",
       "      <td>CARCAR</td>\n",
       "      <td>NaN</td>\n",
       "      <td>0</td>\n",
       "      <td>JPM</td>\n",
       "      <td>2017-06-05</td>\n",
       "    </tr>\n",
       "  </tbody>\n",
       "</table>\n",
       "</div>"
      ],
      "text/plain": [
       "  POINT  ESPECE  DISTANCE  NOMBRE OBSERVATEUR       DATE\n",
       "0   33B  CARCAN       NaN       0         JPM 2017-06-05\n",
       "1   33B  TURVIS       NaN       0         JPM 2017-06-05\n",
       "2   33B  PRUMOD       NaN       0         JPM 2017-06-05\n",
       "3   33B  BUTBUT       NaN       0         JPM 2017-06-05\n",
       "4   33B  CARCAR       NaN       0         JPM 2017-06-05"
      ]
     },
     "execution_count": 59,
     "metadata": {},
     "output_type": "execute_result"
    }
   ],
   "source": [
    "dfSelectionAbsence = pd.DataFrame(columns=dfSelectionBrute.columns,\n",
    "                                  data=[(nomPoint, espece, np.nan, 0, point.OBSERVATEUR, point.DATE) \\\n",
    "                                       for nomPoint, point in dfEspecesManquees.iterrows() for espece in point.ESPECE])\n",
    "dfSelectionAbsence.head()"
   ]
  },
  {
   "cell_type": "code",
   "execution_count": 60,
   "metadata": {},
   "outputs": [
    {
     "data": {
      "text/plain": [
       "559"
      ]
     },
     "execution_count": 60,
     "metadata": {},
     "output_type": "execute_result"
    }
   ],
   "source": [
    "len(dfSelectionAbsence)"
   ]
  },
  {
   "cell_type": "code",
   "execution_count": 61,
   "metadata": {},
   "outputs": [
    {
     "data": {
      "text/plain": [
       "404"
      ]
     },
     "execution_count": 61,
     "metadata": {},
     "output_type": "execute_result"
    }
   ],
   "source": [
    "len(dfSelectionBrute)"
   ]
  },
  {
   "cell_type": "code",
   "execution_count": 62,
   "metadata": {
    "collapsed": true
   },
   "outputs": [],
   "source": [
    "# Vérification rudimentaire en nombre d'espèces\n",
    "assert len(dfSelectionAbsence) \\\n",
    "       == len(stEspeces) * len(dfInfosPoint) - len(dfSelectionBrute.groupby(['POINT', 'ESPECE']).first()), \\\n",
    "       \"Erreur dans calcul données d'absence\""
   ]
  },
  {
   "cell_type": "markdown",
   "metadata": {},
   "source": [
    "### Tableau final : données de contact et d'absence."
   ]
  },
  {
   "cell_type": "code",
   "execution_count": 63,
   "metadata": {},
   "outputs": [
    {
     "data": {
      "text/html": [
       "<div>\n",
       "<style>\n",
       "    .dataframe thead tr:only-child th {\n",
       "        text-align: right;\n",
       "    }\n",
       "\n",
       "    .dataframe thead th {\n",
       "        text-align: left;\n",
       "    }\n",
       "\n",
       "    .dataframe tbody tr th {\n",
       "        vertical-align: top;\n",
       "    }\n",
       "</style>\n",
       "<table border=\"1\" class=\"dataframe\">\n",
       "  <thead>\n",
       "    <tr style=\"text-align: right;\">\n",
       "      <th></th>\n",
       "      <th>POINT</th>\n",
       "      <th>ESPECE</th>\n",
       "      <th>DISTANCE</th>\n",
       "      <th>NOMBRE</th>\n",
       "      <th>OBSERVATEUR</th>\n",
       "      <th>DATE</th>\n",
       "    </tr>\n",
       "  </thead>\n",
       "  <tbody>\n",
       "    <tr>\n",
       "      <th>0</th>\n",
       "      <td>33B</td>\n",
       "      <td>ALAARV</td>\n",
       "      <td>142.857143</td>\n",
       "      <td>1</td>\n",
       "      <td>JPM</td>\n",
       "      <td>2017-06-05</td>\n",
       "    </tr>\n",
       "    <tr>\n",
       "      <th>1</th>\n",
       "      <td>33B</td>\n",
       "      <td>ANTTRI</td>\n",
       "      <td>139.682540</td>\n",
       "      <td>1</td>\n",
       "      <td>JPM</td>\n",
       "      <td>2017-06-05</td>\n",
       "    </tr>\n",
       "    <tr>\n",
       "      <th>2</th>\n",
       "      <td>33B</td>\n",
       "      <td>ANTTRI</td>\n",
       "      <td>307.936508</td>\n",
       "      <td>1</td>\n",
       "      <td>JPM</td>\n",
       "      <td>2017-06-05</td>\n",
       "    </tr>\n",
       "    <tr>\n",
       "      <th>3</th>\n",
       "      <td>33B</td>\n",
       "      <td>BUTBUT</td>\n",
       "      <td>NaN</td>\n",
       "      <td>0</td>\n",
       "      <td>JPM</td>\n",
       "      <td>2017-06-05</td>\n",
       "    </tr>\n",
       "    <tr>\n",
       "      <th>4</th>\n",
       "      <td>33B</td>\n",
       "      <td>CARCAN</td>\n",
       "      <td>NaN</td>\n",
       "      <td>0</td>\n",
       "      <td>JPM</td>\n",
       "      <td>2017-06-05</td>\n",
       "    </tr>\n",
       "  </tbody>\n",
       "</table>\n",
       "</div>"
      ],
      "text/plain": [
       "  POINT  ESPECE    DISTANCE  NOMBRE OBSERVATEUR       DATE\n",
       "0   33B  ALAARV  142.857143       1         JPM 2017-06-05\n",
       "1   33B  ANTTRI  139.682540       1         JPM 2017-06-05\n",
       "2   33B  ANTTRI  307.936508       1         JPM 2017-06-05\n",
       "3   33B  BUTBUT         NaN       0         JPM 2017-06-05\n",
       "4   33B  CARCAN         NaN       0         JPM 2017-06-05"
      ]
     },
     "execution_count": 63,
     "metadata": {},
     "output_type": "execute_result"
    }
   ],
   "source": [
    "dfSelectionTotale = dfSelectionBrute.append(dfSelectionAbsence).sort_values(by=['POINT', 'ESPECE']) \\\n",
    "                    .reset_index().drop('index', axis=1)\n",
    "dfSelectionTotale.head()"
   ]
  },
  {
   "cell_type": "code",
   "execution_count": 64,
   "metadata": {},
   "outputs": [
    {
     "data": {
      "text/plain": [
       "963"
      ]
     },
     "execution_count": 64,
     "metadata": {},
     "output_type": "execute_result"
    }
   ],
   "source": [
    "len(dfSelectionTotale)"
   ]
  },
  {
   "cell_type": "code",
   "execution_count": 65,
   "metadata": {},
   "outputs": [],
   "source": [
    "# Vérification rudimentaire en nombre d'espèces (inutile : o a confiance dans l'append ...)\n",
    "assert len(dfSelectionTotale.groupby(['POINT', 'ESPECE']).first()) == len(stEspeces) * len(dfInfosPoint), \\\n",
    "       \"Erreur dans génération finale\""
   ]
  },
  {
   "cell_type": "markdown",
   "metadata": {},
   "source": [
    "## Export Excel"
   ]
  },
  {
   "cell_type": "markdown",
   "metadata": {},
   "source": [
    "### Choix Mâles ou Non-juvéniles\n",
    "\n",
    "(exécuter l'une des 2 cellules suivantes, et une seule)"
   ]
  },
  {
   "cell_type": "code",
   "execution_count": 52,
   "metadata": {
    "collapsed": true
   },
   "outputs": [],
   "source": [
    "dfMales = dfSelectionTotale"
   ]
  },
  {
   "cell_type": "code",
   "execution_count": 66,
   "metadata": {
    "collapsed": true
   },
   "outputs": [],
   "source": [
    "dfNonJuvs = dfSelectionTotale"
   ]
  },
  {
   "cell_type": "markdown",
   "metadata": {},
   "source": [
    "### Export => 1 classeur à 2 feuilles : mâles et tout (sauf juvs)."
   ]
  },
  {
   "cell_type": "code",
   "execution_count": 71,
   "metadata": {},
   "outputs": [],
   "source": [
    "xlsWriter = pd.ExcelWriter('PlateauFromages2017-PourDistance.xlsx', datetime_format='DD/MM/YYYY')\n",
    "dfMales.to_excel(xlsWriter, 'Mâles', index=False, float_format='%.1f')\n",
    "dfNonJuvs.to_excel(xlsWriter, 'NonJuvs', index=False, float_format='%.1f')\n",
    "xlsWriter.save()"
   ]
  },
  {
   "cell_type": "code",
   "execution_count": null,
   "metadata": {
    "collapsed": true
   },
   "outputs": [],
   "source": []
  },
  {
   "cell_type": "code",
   "execution_count": null,
   "metadata": {
    "collapsed": true
   },
   "outputs": [],
   "source": []
  },
  {
   "cell_type": "markdown",
   "metadata": {},
   "source": [
    "# 2) Graphiques"
   ]
  },
  {
   "cell_type": "code",
   "execution_count": 142,
   "metadata": {
    "collapsed": true
   },
   "outputs": [],
   "source": [
    "%matplotlib inline"
   ]
  },
  {
   "cell_type": "code",
   "execution_count": 73,
   "metadata": {
    "collapsed": true
   },
   "outputs": [],
   "source": [
    "import matplotlib.pyplot as plt # graphiques\n",
    "import matplotlib.dates as pltd # dates\n",
    "import matplotlib.patches as pltp"
   ]
  },
  {
   "cell_type": "code",
   "execution_count": null,
   "metadata": {
    "collapsed": true
   },
   "outputs": [],
   "source": []
  },
  {
   "cell_type": "markdown",
   "metadata": {},
   "source": [
    "# Données par observateur"
   ]
  },
  {
   "cell_type": "code",
   "execution_count": 159,
   "metadata": {
    "collapsed": true
   },
   "outputs": [],
   "source": [
    "del dfToutBrutNb"
   ]
  },
  {
   "cell_type": "code",
   "execution_count": 175,
   "metadata": {
    "collapsed": true
   },
   "outputs": [],
   "source": [
    "# Donnees bidon pour tests avec plusieurs observateurs.\n",
    "dfToutBrutBidon = dfToutBrut[['OBSERVATEUR', 'MALE', 'JUVENILE', 'ESPECE']].copy()\n",
    "dfToutBrutBidon2 = dfToutBrutBidon.copy()\n",
    "dfToutBrutBidon2.OBSERVATEUR = 'GSS'\n",
    "dfToutBrutBidon = dfToutBrutBidon.append(dfToutBrutBidon2)\n",
    "del dfToutBrutBidon2\n",
    "\n",
    "dfToutBrutNbIndiv = dfToutBrutBidon[['OBSERVATEUR', 'MALE', 'JUVENILE']].copy()\n",
    "dfToutBrutNbEsp = dfToutBrutBidon[['OBSERVATEUR', 'ESPECE']].copy()\n",
    "del dfToutBrutBidon"
   ]
  },
  {
   "cell_type": "code",
   "execution_count": 167,
   "metadata": {
    "collapsed": true
   },
   "outputs": [],
   "source": [
    "# Données réelles.\n",
    "dfToutBrutNbIndiv = dfToutBrut[['OBSERVATEUR', 'MALE', 'JUVENILE']].copy()\n",
    "dfToutBrutNbEsp = dfToutBrut[['OBSERVATEUR', 'ESPECE']].copy()"
   ]
  },
  {
   "cell_type": "code",
   "execution_count": 181,
   "metadata": {},
   "outputs": [
    {
     "data": {
      "text/html": [
       "<div>\n",
       "<style>\n",
       "    .dataframe thead tr:only-child th {\n",
       "        text-align: right;\n",
       "    }\n",
       "\n",
       "    .dataframe thead th {\n",
       "        text-align: left;\n",
       "    }\n",
       "\n",
       "    .dataframe tbody tr th {\n",
       "        vertical-align: top;\n",
       "    }\n",
       "</style>\n",
       "<table border=\"1\" class=\"dataframe\">\n",
       "  <thead>\n",
       "    <tr style=\"text-align: right;\">\n",
       "      <th></th>\n",
       "      <th>NOMBRE</th>\n",
       "    </tr>\n",
       "    <tr>\n",
       "      <th>OBSERVATEUR</th>\n",
       "      <th></th>\n",
       "    </tr>\n",
       "  </thead>\n",
       "  <tbody>\n",
       "    <tr>\n",
       "      <th>GSS</th>\n",
       "      <td>352</td>\n",
       "    </tr>\n",
       "    <tr>\n",
       "      <th>JPM</th>\n",
       "      <td>352</td>\n",
       "    </tr>\n",
       "  </tbody>\n",
       "</table>\n",
       "</div>"
      ],
      "text/plain": [
       "             NOMBRE\n",
       "OBSERVATEUR        \n",
       "GSS             352\n",
       "JPM             352"
      ]
     },
     "execution_count": 181,
     "metadata": {},
     "output_type": "execute_result"
    }
   ],
   "source": [
    "# Nb individus contactés\n",
    "dfToutBrutNbIndiv['NOMBRE'] = dfToutBrutNbIndiv.apply(lambda s: (1 if s.MALE else 0) + (1 if s.JUVENILE else 0), axis=1)\n",
    "dfToutBrutNbIndiv.drop(['MALE', 'JUVENILE'], axis=1, inplace=True)\n",
    "dfToutBrutNbIndiv = dfToutBrutNbIndiv.groupby('OBSERVATEUR').sum()\n",
    "dfToutBrutNbIndiv"
   ]
  },
  {
   "cell_type": "code",
   "execution_count": 182,
   "metadata": {},
   "outputs": [
    {
     "ename": "ValueError",
     "evalue": "labels ['index'] not contained in axis",
     "output_type": "error",
     "traceback": [
      "\u001b[1;31m---------------------------------------------------------------------------\u001b[0m",
      "\u001b[1;31mValueError\u001b[0m                                Traceback (most recent call last)",
      "\u001b[1;32m<ipython-input-182-eae4cd2198d8>\u001b[0m in \u001b[0;36m<module>\u001b[1;34m()\u001b[0m\n\u001b[0;32m      1\u001b[0m \u001b[1;31m# Nb espèces contactées\u001b[0m\u001b[1;33m\u001b[0m\u001b[1;33m\u001b[0m\u001b[0m\n\u001b[1;32m----> 2\u001b[1;33m \u001b[0mdfToutBrutNbEsp\u001b[0m \u001b[1;33m=\u001b[0m \u001b[0mdfToutBrutNbEsp\u001b[0m\u001b[1;33m.\u001b[0m\u001b[0mreset_index\u001b[0m\u001b[1;33m(\u001b[0m\u001b[1;33m)\u001b[0m\u001b[1;33m.\u001b[0m\u001b[0mgroupby\u001b[0m\u001b[1;33m(\u001b[0m\u001b[1;33m[\u001b[0m\u001b[1;34m'OBSERVATEUR'\u001b[0m\u001b[1;33m,\u001b[0m \u001b[1;34m'ESPECE'\u001b[0m\u001b[1;33m]\u001b[0m\u001b[1;33m)\u001b[0m\u001b[1;33m.\u001b[0m\u001b[0mfirst\u001b[0m\u001b[1;33m(\u001b[0m\u001b[1;33m)\u001b[0m\u001b[1;33m.\u001b[0m\u001b[0mreset_index\u001b[0m\u001b[1;33m(\u001b[0m\u001b[1;33m)\u001b[0m                   \u001b[1;33m.\u001b[0m\u001b[0mdrop\u001b[0m\u001b[1;33m(\u001b[0m\u001b[1;34m'index'\u001b[0m\u001b[1;33m,\u001b[0m \u001b[0maxis\u001b[0m\u001b[1;33m=\u001b[0m\u001b[1;36m1\u001b[0m\u001b[1;33m)\u001b[0m\u001b[1;33m.\u001b[0m\u001b[0mgroupby\u001b[0m\u001b[1;33m(\u001b[0m\u001b[1;34m'OBSERVATEUR'\u001b[0m\u001b[1;33m)\u001b[0m\u001b[1;33m.\u001b[0m\u001b[0mcount\u001b[0m\u001b[1;33m(\u001b[0m\u001b[1;33m)\u001b[0m\u001b[1;33m\u001b[0m\u001b[0m\n\u001b[0m\u001b[0;32m      3\u001b[0m \u001b[0mdfToutBrutNbEsp\u001b[0m\u001b[1;33m\u001b[0m\u001b[0m\n",
      "\u001b[1;32mC:\\PortableApps\\Anaconda3\\lib\\site-packages\\pandas\\core\\generic.py\u001b[0m in \u001b[0;36mdrop\u001b[1;34m(self, labels, axis, level, inplace, errors)\u001b[0m\n\u001b[0;32m   2159\u001b[0m                 \u001b[0mnew_axis\u001b[0m \u001b[1;33m=\u001b[0m \u001b[0maxis\u001b[0m\u001b[1;33m.\u001b[0m\u001b[0mdrop\u001b[0m\u001b[1;33m(\u001b[0m\u001b[0mlabels\u001b[0m\u001b[1;33m,\u001b[0m \u001b[0mlevel\u001b[0m\u001b[1;33m=\u001b[0m\u001b[0mlevel\u001b[0m\u001b[1;33m,\u001b[0m \u001b[0merrors\u001b[0m\u001b[1;33m=\u001b[0m\u001b[0merrors\u001b[0m\u001b[1;33m)\u001b[0m\u001b[1;33m\u001b[0m\u001b[0m\n\u001b[0;32m   2160\u001b[0m             \u001b[1;32melse\u001b[0m\u001b[1;33m:\u001b[0m\u001b[1;33m\u001b[0m\u001b[0m\n\u001b[1;32m-> 2161\u001b[1;33m                 \u001b[0mnew_axis\u001b[0m \u001b[1;33m=\u001b[0m \u001b[0maxis\u001b[0m\u001b[1;33m.\u001b[0m\u001b[0mdrop\u001b[0m\u001b[1;33m(\u001b[0m\u001b[0mlabels\u001b[0m\u001b[1;33m,\u001b[0m \u001b[0merrors\u001b[0m\u001b[1;33m=\u001b[0m\u001b[0merrors\u001b[0m\u001b[1;33m)\u001b[0m\u001b[1;33m\u001b[0m\u001b[0m\n\u001b[0m\u001b[0;32m   2162\u001b[0m             \u001b[0mdropped\u001b[0m \u001b[1;33m=\u001b[0m \u001b[0mself\u001b[0m\u001b[1;33m.\u001b[0m\u001b[0mreindex\u001b[0m\u001b[1;33m(\u001b[0m\u001b[1;33m**\u001b[0m\u001b[1;33m{\u001b[0m\u001b[0maxis_name\u001b[0m\u001b[1;33m:\u001b[0m \u001b[0mnew_axis\u001b[0m\u001b[1;33m}\u001b[0m\u001b[1;33m)\u001b[0m\u001b[1;33m\u001b[0m\u001b[0m\n\u001b[0;32m   2163\u001b[0m             \u001b[1;32mtry\u001b[0m\u001b[1;33m:\u001b[0m\u001b[1;33m\u001b[0m\u001b[0m\n",
      "\u001b[1;32mC:\\PortableApps\\Anaconda3\\lib\\site-packages\\pandas\\core\\indexes\\base.py\u001b[0m in \u001b[0;36mdrop\u001b[1;34m(self, labels, errors)\u001b[0m\n\u001b[0;32m   3622\u001b[0m             \u001b[1;32mif\u001b[0m \u001b[0merrors\u001b[0m \u001b[1;33m!=\u001b[0m \u001b[1;34m'ignore'\u001b[0m\u001b[1;33m:\u001b[0m\u001b[1;33m\u001b[0m\u001b[0m\n\u001b[0;32m   3623\u001b[0m                 raise ValueError('labels %s not contained in axis' %\n\u001b[1;32m-> 3624\u001b[1;33m                                  labels[mask])\n\u001b[0m\u001b[0;32m   3625\u001b[0m             \u001b[0mindexer\u001b[0m \u001b[1;33m=\u001b[0m \u001b[0mindexer\u001b[0m\u001b[1;33m[\u001b[0m\u001b[1;33m~\u001b[0m\u001b[0mmask\u001b[0m\u001b[1;33m]\u001b[0m\u001b[1;33m\u001b[0m\u001b[0m\n\u001b[0;32m   3626\u001b[0m         \u001b[1;32mreturn\u001b[0m \u001b[0mself\u001b[0m\u001b[1;33m.\u001b[0m\u001b[0mdelete\u001b[0m\u001b[1;33m(\u001b[0m\u001b[0mindexer\u001b[0m\u001b[1;33m)\u001b[0m\u001b[1;33m\u001b[0m\u001b[0m\n",
      "\u001b[1;31mValueError\u001b[0m: labels ['index'] not contained in axis"
     ]
    }
   ],
   "source": [
    "# Nb espèces contactées\n",
    "dfToutBrutNbEsp = dfToutBrutNbEsp.reset_index().groupby(['OBSERVATEUR', 'ESPECE']).first().reset_index() \\\n",
    "                  .drop('index', axis=1).groupby('OBSERVATEUR').count()\n",
    "dfToutBrutNbEsp"
   ]
  },
  {
   "cell_type": "code",
   "execution_count": 184,
   "metadata": {},
   "outputs": [
    {
     "data": {
      "image/png": "[encoded data removed]",
      "text/plain": [
       "<matplotlib.figure.Figure at 0xd1efa58>"
      ]
     },
     "metadata": {},
     "output_type": "display_data"
    }
   ],
   "source": [
    "fig = plt.figure(figsize=(12, 6))\n",
    "#fig.suptitle('Stats observateur', fontsize=18, y=1.00)\n",
    "\n",
    "axes = fig.add_subplot(2, 1, 1)\n",
    "dfToutBrutNbIndiv.plot(kind='bar', ax=axes)\n",
    "axes.legend(['Nb contacts'], bbox_to_anchor=[1.15, 1.0], fontsize=10)\n",
    "axes.grid(True)\n",
    "#plt.ylim(0, 120)\n",
    "axes.set_title('Nb de contacts par observateur', fontsize=18)\n",
    "axes.set_xticklabels(dfToutBrutNbIndiv.index, rotation=0)\n",
    "\n",
    "axes = fig.add_subplot(2, 1, 2)\n",
    "dfToutBrutNbEsp.plot(kind='bar', ax=axes)\n",
    "axes.legend(['Nb espèces'], bbox_to_anchor=[1.15, 1.0], fontsize=10)\n",
    "axes.grid(True)\n",
    "#plt.ylim(0, 120)\n",
    "axes.set_title(\"Nb d'espèces par observateur\", fontsize=18)\n",
    "axes.set_xticklabels(dfToutBrutNbEsp.index, rotation=0)\n",
    "\n",
    "fig.tight_layout()"
   ]
  },
  {
   "cell_type": "code",
   "execution_count": null,
   "metadata": {
    "collapsed": true
   },
   "outputs": [],
   "source": []
  }
 ],
 "metadata": {
  "kernelspec": {
   "display_name": "Python [conda root]",
   "language": "python",
   "name": "conda-root-py"
  },
  "language_info": {
   "codemirror_mode": {
    "name": "ipython",
    "version": 3
   },
   "file_extension": ".py",
   "mimetype": "text/x-python",
   "name": "python",
   "nbconvert_exporter": "python",
   "pygments_lexer": "ipython3",
   "version": "3.5.2"
  }
 },
 "nbformat": 4,
 "nbformat_minor": 2
}
