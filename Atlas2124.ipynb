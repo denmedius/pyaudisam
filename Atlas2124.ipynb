{
 "cells": [
  {
   "cell_type": "markdown",
   "metadata": {},
   "source": [
    "# Atlas OdF 2021-2024"
   ]
  },
  {
   "cell_type": "code",
   "execution_count": null,
   "metadata": {},
   "outputs": [],
   "source": [
    "import sys\n",
    "\n",
    "import pathlib as pl\n",
    "\n",
    "import pandas as pd\n",
    "import numpy as np"
   ]
  },
  {
   "cell_type": "code",
   "execution_count": null,
   "metadata": {},
   "outputs": [],
   "source": [
    "sys.version"
   ]
  },
  {
   "cell_type": "markdown",
   "metadata": {},
   "source": [
    "# Reste à faire sur les mailles OdF"
   ]
  },
  {
   "cell_type": "code",
   "execution_count": null,
   "metadata": {},
   "outputs": [],
   "source": [
    "# Ordre systématique des noms d'espèce\n",
    "dfEspRef = pd.read_excel('donnees/EspecesRef.ods', usecols=['NomFrancais', 'CodeClassif']).drop_duplicates()"
   ]
  },
  {
   "cell_type": "code",
   "execution_count": null,
   "metadata": {},
   "outputs": [],
   "source": [
    "# Liste d'espèces à trouver au minimum (en gros) sur les carrés Combraille / Limagne / Bourbonnais\n",
    "espCibles = ['Grèbe castagneux',\n",
    "             'Canard colvert',\n",
    "             'Bondrée apivore', 'Milan noir', 'Milan royal', 'Circaète Jean-le-Blanc',\n",
    "             'Busard Saint-Martin', 'Busard cendré', 'Autour des palombes', \"Epervier d'Europe\",\n",
    "             'Buse variable', 'Faucon crécerelle', 'Faucon hobereau',\n",
    "             'Perdrix rouge', 'Perdrix grise', 'Caille des blés', 'Faisan de Colchide',\n",
    "             \"Râle d'eau\", \"Gallinule poule-d'eau\", 'Foulque macroule',\n",
    "             'Oedicnème criard', 'Petit gravelot', 'Vanneau huppé', 'Courlis cendré',\n",
    "             'Pigeon colombin', 'Pigeon ramier', 'Tourterelle turque', 'Tourterelle des bois',\n",
    "             'Coucou gris',\n",
    "             \"Grand-duc d'Europe\", \"Chevêche d'Athéna\", 'Chouette hulotte', 'Hibou moyen-duc',\n",
    "             \"Engoulevent d'Europe\",\n",
    "             'Martinet noir', \"Martin-pêcheur d'Europe\", \"Guêpier d'Europe\", 'Huppe fasciée',\n",
    "             'Torcol fourmilier', 'Pic vert', 'Pic noir', 'Pic épeiche', 'Pic mar', 'Pic épeichette',\n",
    "             'Alouette lulu', 'Alouette des champs',\n",
    "             'Hirondelle rustique', 'Hirondelle de fenêtre',\n",
    "             'Pipit des arbres', 'Bergeronnette printanière', 'Bergeronnette des ruisseaux', 'Bergeronnette grise',\n",
    "             'Cincle plongeur', 'Troglodyte mignon', 'Accenteur mouchet',\n",
    "             'Rougegorge familier', 'Rossignol philomèle', 'Rougequeue noir', 'Rougequeue à front blanc', 'Tarier pâtre',\n",
    "             'Merle noir', 'Grive musicienne', 'Grive draine',\n",
    "             'Cisticole des joncs', 'Rousserolle effarvatte', 'Hypolaïs polyglotte',\n",
    "             'Fauvette grisette', 'Fauvette des jardins', 'Fauvette à tête noire',\n",
    "             'Pouillot de Bonelli', 'Pouillot véloce', 'Roitelet huppé', 'Roitelet à triple bandeau',\n",
    "             'Gobemouche gris',\n",
    "             'Mésange à longue queue', 'Mésange nonnette', 'Mésange huppée', 'Mésange bleue', 'Mésange charbonnière',\n",
    "             'Sittelle torchepot', 'Grimpereau des jardins',\n",
    "             \"Loriot d'Europe\", 'Pie-grièche écorcheur',\n",
    "             'Geai des chênes', 'Pie bavarde', 'Choucas des tours', 'Corneille noire', 'Corbeau freux',\n",
    "             'Etourneau sansonnet',\n",
    "             'Moineau domestique', 'Moineau friquet',\n",
    "             'Pinson des arbres', 'Serin cini', \"Verdier d'Europe\", 'Chardonneret élégant', 'Linotte mélodieuse',\n",
    "             'Bouvreuil pivoine', 'Grosbec casse-noyaux',\n",
    "             'Bruant jaune', 'Bruant zizi', 'Bruant des roseaux', 'Bruant proyer']\n",
    "len(espCibles)"
   ]
  },
  {
   "cell_type": "code",
   "execution_count": null,
   "metadata": {},
   "outputs": [],
   "source": [
    "# Maille fictive cible pour la liste des espèces ... ciblées\n",
    "dfMailleCible = dfEspRef[dfEspRef.NomFrancais.isin(espCibles)].rename(columns=dict(NomFrancais='Espèce')).copy()\n",
    "dfMailleCible['Rien'] = np.nan\n",
    "dfMailleCible.set_index(['CodeClassif', 'Espèce'], inplace=True)\n",
    "dfMailleCible.columns = pd.MultiIndex.from_tuples([('Cible', 'Rien')])\n",
    "dfMailleCible"
   ]
  },
  {
   "cell_type": "code",
   "execution_count": null,
   "metadata": {},
   "outputs": [],
   "source": [
    "annee = 2021"
   ]
  },
  {
   "cell_type": "code",
   "execution_count": null,
   "metadata": {},
   "outputs": [],
   "source": [
    "dossier = pl.Path('donnees/atlas2124')"
   ]
  },
  {
   "cell_type": "code",
   "execution_count": null,
   "metadata": {},
   "outputs": [],
   "source": [
    "#codesMailles = [f'E{lon:03d}N{lat:03d}' for lon in range(69, 74) for lat in range(653, 657)] # + ['E071N651']"
   ]
  },
  {
   "cell_type": "code",
   "execution_count": null,
   "metadata": {},
   "outputs": [],
   "source": [
    "mailles = \\\n",
    "{\n",
    "  'E070N654': 'Combronde',\n",
    "  'E071N654': 'Aigueperse',\n",
    "  'E070N655': 'Ebreuil',\n",
    "  'E071N655': 'Gannat',\n",
    "\n",
    "  'E071N653': 'Ennezat',\n",
    "  'E072N655': 'Biozat',\n",
    "  \n",
    "  'E070N656': 'Bellenaves',\n",
    "  'E071N656': 'Jenzat',\n",
    "\n",
    "  'E072N653': 'Maringues',\n",
    "  'E072N654': 'Randan',\n",
    "  'E072N656': 'Broût-Vernet',\n",
    "\n",
    "  'E069N653': 'Pulvérières',\n",
    "  'E069N654': 'Saint-Angel',\n",
    "  'E069N655': 'Menat',\n",
    "  'E069N656': 'Echassières',\n",
    "    \n",
    "  #'E070N653': 'Chatelguyon',\n",
    "    \n",
    "  #'E071N651': 'La Roche Noire'\n",
    "}"
   ]
  },
  {
   "cell_type": "code",
   "execution_count": null,
   "metadata": {},
   "outputs": [],
   "source": [
    "def corrigerNomFrancais(esp):\n",
    "    \n",
    "    if 'biset' in esp:\n",
    "        esp = 'Pigeon biset'  # domestique\n",
    "    elif esp.startswith('Grand') or esp.startswith('Petit'):\n",
    "        esp = esp[:6] + esp[6].lower() + esp[7:]  # Grand / Petit <machin>\n",
    "    elif 'É' in esp:\n",
    "        esp = esp.replace('É', 'E')\n",
    "    elif esp.startswith('Bergeronnette centratlantique'):\n",
    "        esp = 'Bergeronnette centratlantique'\n",
    "    \n",
    "    return esp"
   ]
  },
  {
   "cell_type": "code",
   "execution_count": null,
   "metadata": {},
   "outputs": [],
   "source": [
    "especesAIgnorer = ['Bergeronnette printanière (M.f.flava)']"
   ]
  },
  {
   "cell_type": "code",
   "execution_count": null,
   "metadata": {
    "scrolled": false
   },
   "outputs": [],
   "source": [
    "ldfMailles = list()\n",
    "for codMail, nomMail in mailles.items():\n",
    "\n",
    "    chemFic = dossier / f'export_atlas_{codMail}.xlsx'\n",
    "    print(codMail, ':', nomMail or '<pas de nom>', end=', ')\n",
    "    if not chemFic.is_file():\n",
    "        print('pas de fichier')\n",
    "        continue\n",
    "    \n",
    "    mTime = pd.Timestamp.fromtimestamp(chemFic.stat().st_mtime).strftime('%d/%m %H:%M')\n",
    "    print('ddm=' + mTime, end=', ')\n",
    "    \n",
    "    dfMaille = pd.read_excel(chemFic, header=None, usecols=[0, 1, 2, 3], names=['Poss', 'Prob', 'Cert', 'Espèce'])\n",
    "\n",
    "    assert dfMaille.loc[0].Prob == codMail\n",
    "    assert int(dfMaille.loc[1].Prob) == annee\n",
    "    pressObs = dfMaille.loc[2].Prob\n",
    "    print('po={}h'.format(int(pressObs)), end=', ')\n",
    "\n",
    "    dfMaille.drop([0, 1, 2, 3], inplace=True)\n",
    "\n",
    "    dfMaille['Espèce'] = dfMaille['Espèce'].apply(corrigerNomFrancais)\n",
    "    dfMaille.drop(dfMaille[dfMaille['Espèce'].isin(especesAIgnorer)].index, inplace=True)\n",
    "    \n",
    "    dfMaille = dfMaille.join(dfEspRef.set_index('NomFrancais'), on='Espèce')\n",
    "    assert not any(dfMaille.CodeClassif.isnull())\n",
    "    dfMaille.CodeClassif = dfMaille.CodeClassif.astype(int)\n",
    "\n",
    "    dfMaille.set_index(['CodeClassif', 'Espèce'], inplace=True)\n",
    "    \n",
    "    dfMaille.columns = pd.MultiIndex.from_tuples([('{} {} {}'.format(nomMail, codMail, mTime), col)\n",
    "                                                  for col in dfMaille.columns])\n",
    "    \n",
    "    ldfMailles.append(dfMaille)\n",
    "    \n",
    "    #break\n",
    "    \n",
    "    print()  \n",
    "    \n",
    "ldfMailles.append(dfMailleCible)\n",
    "dfMailles = pd.concat(ldfMailles, axis='columns').sort_index().reset_index()\n",
    "dfMailles.drop(columns=['CodeClassif', 'Cible'], inplace=True, level=0)\n",
    "\n",
    "dfMailles"
   ]
  },
  {
   "cell_type": "code",
   "execution_count": null,
   "metadata": {
    "scrolled": true
   },
   "outputs": [],
   "source": [
    "def syntheseIndiceRepro(s):\n",
    "    return 'Certaine' if s.Cert > 0 else 'Probable' if s.Prob > 0 else 'Possible' if s.Poss > 0 else ''\n",
    "\n",
    "dfMaillesSynth = dfMailles[['Espèce']].copy()\n",
    "dfMaillesSynth.columns = ['Espèce']  # Down to 1 level\n",
    "for mail in [col for col in dfMailles.columns.get_level_values(0).unique() if col != 'Espèce']:\n",
    "    dfMaillesSynth[mail] = dfMailles[mail].apply(syntheseIndiceRepro, axis='columns')\n",
    "dfMaillesSynth.set_index('Espèce', inplace=True)\n",
    "\n",
    "dfMaillesSynth"
   ]
  },
  {
   "cell_type": "code",
   "execution_count": null,
   "metadata": {},
   "outputs": [],
   "source": [
    "def couleurIndice(indice):\n",
    "    color = '#cbef8c' if indice == 'Certaine' else '#f9da56' if indice == 'Probable' \\\n",
    "                      else '#fe835a' if indice == 'Possible' else None\n",
    "    return 'background-color: ' + color if color else None\n",
    "\n",
    "dfsMaillesSynth = dfMaillesSynth.style.applymap(couleurIndice)\n",
    "dfsMaillesSynth"
   ]
  },
  {
   "cell_type": "code",
   "execution_count": null,
   "metadata": {},
   "outputs": [],
   "source": [
    "fn = 'Atlas2124-Avancement'\n",
    "\n",
    "with pd.ExcelWriter(dossier / f'{fn}.xlsx') as xlWrtr:\n",
    "    dfsMaillesSynth.to_excel(xlWrtr, sheet_name='Synthèse', index=True)\n",
    "    dfMailles.to_excel(xlWrtr, sheet_name='Détails')\n",
    "\n",
    "with open(dossier / f'{fn}-synthese.html', 'w') as file:\n",
    "    file.write(dfsMaillesSynth.render())\n",
    "dfMailles.to_html(dossier / f'{fn}-details.html', index=False, na_rep='')"
   ]
  },
  {
   "cell_type": "code",
   "execution_count": null,
   "metadata": {},
   "outputs": [],
   "source": []
  },
  {
   "cell_type": "markdown",
   "metadata": {},
   "source": [
    "# Génération KML pour carrés 1km"
   ]
  },
  {
   "cell_type": "code",
   "execution_count": null,
   "metadata": {},
   "outputs": [],
   "source": [
    "#from lxml import etree\n",
    "import simplekml as skml # Simple KML generation API\n",
    "import kmlcircle # Circle generation for KML generation"
   ]
  },
  {
   "cell_type": "code",
   "execution_count": null,
   "metadata": {},
   "outputs": [],
   "source": [
    "squareCenters = \\\n",
    "[\n",
    "    (46.108257, 3.071173), # Les Plagnots, Ebreuil (centre équestre)\n",
    "]"
   ]
  },
  {
   "cell_type": "code",
   "execution_count": null,
   "metadata": {},
   "outputs": [],
   "source": [
    "squareWidth = 1000 # m\n",
    "squareRadius = np.sqrt(2*(squareWidth/2)**2)"
   ]
  },
  {
   "cell_type": "code",
   "execution_count": null,
   "metadata": {},
   "outputs": [],
   "source": [
    "kml = skml.Kml()"
   ]
  },
  {
   "cell_type": "code",
   "execution_count": null,
   "metadata": {},
   "outputs": [],
   "source": [
    "lineStyle = skml.LineStyle(color=skml.Color.red, width=1)"
   ]
  },
  {
   "cell_type": "code",
   "execution_count": null,
   "metadata": {},
   "outputs": [],
   "source": [
    "for lat, long in squareCenters:\n",
    "    ls = kml.newlinestring(coords=kmlcircle.spoints(long=long, lat=lat, meters=squareRadius, n=4, offset=45))\n",
    "    ls.linestyle = lineStyle"
   ]
  },
  {
   "cell_type": "code",
   "execution_count": null,
   "metadata": {},
   "outputs": [],
   "source": [
    "kml.save('carres-1km.kml')"
   ]
  },
  {
   "cell_type": "markdown",
   "metadata": {},
   "source": [
    "# Liste des espèces de passereaux à réviser pour les EPOC\n",
    "\n",
    "En partant de la liste du rapport de synthèse STOC 2001-2019."
   ]
  },
  {
   "cell_type": "code",
   "execution_count": null,
   "metadata": {},
   "outputs": [],
   "source": [
    "import tabula"
   ]
  },
  {
   "cell_type": "code",
   "execution_count": null,
   "metadata": {},
   "outputs": [],
   "source": [
    "# Nomenclature des espèces\n",
    "dfEspRef = pd.read_excel('donnees/EspecesRef.ods', engine='odf')\n",
    "dfEspRef"
   ]
  },
  {
   "cell_type": "code",
   "execution_count": null,
   "metadata": {},
   "outputs": [],
   "source": [
    "tables = tabula.read_pdf('/perso/documents/Ornithologie/STOCTendancesSpecifiques-2001-2019.pdf',\n",
    "                         pages = \"all\", multiple_tables = True)\n",
    "len(tables)"
   ]
  },
  {
   "cell_type": "code",
   "execution_count": null,
   "metadata": {},
   "outputs": [],
   "source": [
    "dfEspEpoc = pd.concat(tables, ignore_index=True)\n",
    "\n",
    "dfEspEpoc.columns = dfEspEpoc.iloc[:2].apply(lambda sr: ' '.join(str(s) if isinstance(s, str) else '' for s in sr),\n",
    "                                             axis='index')\n",
    "dfEspEpoc.columns = ['Espèce'] + list(dfEspEpoc.columns[1:])\n",
    "\n",
    "dfEspEpoc.drop([0, 1], inplace=True)\n",
    "\n",
    "dfEspEpoc.loc[dfEspEpoc['Espèce'] == 'Rousserolle effarvate', 'Espèce'] = 'Rousserolle effarvatte'  # M'enfin !?\n",
    "\n",
    "dfEspEpoc"
   ]
  },
  {
   "cell_type": "code",
   "execution_count": null,
   "metadata": {},
   "outputs": [],
   "source": [
    "dfEspEpoc = dfEspEpoc.join(dfEspRef[['NomFrancaisBis', 'CodeClassif']].drop_duplicates().set_index('NomFrancaisBis'), on='Espèce')\n",
    "dfEspEpoc.CodeClassif = dfEspEpoc.CodeClassif.astype(int)\n",
    "dfEspEpoc"
   ]
  },
  {
   "cell_type": "code",
   "execution_count": null,
   "metadata": {},
   "outputs": [],
   "source": [
    "assert dfEspEpoc.CodeClassif.notnull().all()"
   ]
  },
  {
   "cell_type": "code",
   "execution_count": null,
   "metadata": {},
   "outputs": [],
   "source": [
    "dfEspEpoc.to_excel('donnees/atlas2124/EspecesAReviserEPOC.ods', index=False)"
   ]
  },
  {
   "cell_type": "code",
   "execution_count": null,
   "metadata": {},
   "outputs": [],
   "source": []
  }
 ],
 "metadata": {
  "kernelspec": {
   "display_name": "Python 3",
   "language": "python",
   "name": "python3"
  },
  "language_info": {
   "codemirror_mode": {
    "name": "ipython",
    "version": 3
   },
   "file_extension": ".py",
   "mimetype": "text/x-python",
   "name": "python",
   "nbconvert_exporter": "python",
   "pygments_lexer": "ipython3",
   "version": "3.8.2"
  }
 },
 "nbformat": 4,
 "nbformat_minor": 2
}
