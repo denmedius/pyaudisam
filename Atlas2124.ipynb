{
 "cells": [
  {
   "cell_type": "markdown",
   "metadata": {},
   "source": [
    "# Futur atlas 2020-2024"
   ]
  },
  {
   "cell_type": "code",
   "execution_count": null,
   "metadata": {},
   "outputs": [],
   "source": [
    "import sys\n",
    "sys.version"
   ]
  },
  {
   "cell_type": "code",
   "execution_count": null,
   "metadata": {},
   "outputs": [],
   "source": [
    "import os\n",
    "import re\n",
    "import pandas as pd\n",
    "import numpy as np\n",
    "#from lxml import etree\n",
    "import simplekml as skml # Simple KML generation API\n",
    "import kmlcircle # Circle generation for KML generation\n",
    "#import requests\n",
    "#import folium\n",
    "from math import sqrt"
   ]
  },
  {
   "cell_type": "markdown",
   "metadata": {},
   "source": [
    "# Génération KML pour carrés 1km"
   ]
  },
  {
   "cell_type": "code",
   "execution_count": null,
   "metadata": {},
   "outputs": [],
   "source": [
    "squareCenters = \\\n",
    "[\n",
    "    (46.108257, 3.071173), # Les Plagnots, Ebreuil (centre équestre)\n",
    "]"
   ]
  },
  {
   "cell_type": "code",
   "execution_count": null,
   "metadata": {},
   "outputs": [],
   "source": [
    "squareWidth = 1000 # m\n",
    "squareRadius = sqrt(2*(squareWidth/2)**2)"
   ]
  },
  {
   "cell_type": "code",
   "execution_count": null,
   "metadata": {},
   "outputs": [],
   "source": [
    "kml = skml.Kml()"
   ]
  },
  {
   "cell_type": "code",
   "execution_count": null,
   "metadata": {},
   "outputs": [],
   "source": [
    "lineStyle = skml.LineStyle(color=skml.Color.red, width=1)"
   ]
  },
  {
   "cell_type": "code",
   "execution_count": null,
   "metadata": {},
   "outputs": [],
   "source": [
    "for lat, long in squareCenters:\n",
    "    ls = kml.newlinestring(coords=kmlcircle.spoints(long=long, lat=lat, meters=squareRadius, n=4, offset=45))\n",
    "    ls.linestyle = lineStyle"
   ]
  },
  {
   "cell_type": "code",
   "execution_count": null,
   "metadata": {},
   "outputs": [],
   "source": [
    "kml.save('carres-1km.kml')"
   ]
  },
  {
   "cell_type": "markdown",
   "metadata": {},
   "source": [
    "# Liste des espèces de passereaux à réviser pour les EPOC\n",
    "\n",
    "En partant de la liste du rapport de synthèse STOC 2001-2019."
   ]
  },
  {
   "cell_type": "code",
   "execution_count": null,
   "metadata": {},
   "outputs": [],
   "source": [
    "# Nomenclature des espèces\n",
    "dfEspRef = pd.read_excel('donnees/EspecesRef.ods', engine='odf')\n",
    "dfEspRef"
   ]
  },
  {
   "cell_type": "code",
   "execution_count": null,
   "metadata": {},
   "outputs": [],
   "source": [
    "import tabula"
   ]
  },
  {
   "cell_type": "code",
   "execution_count": null,
   "metadata": {},
   "outputs": [],
   "source": [
    "tables = tabula.read_pdf('/perso/documents/Ornithologie/STOCTendancesSpecifiques-2001-2019.pdf',\n",
    "                         pages = \"all\", multiple_tables = True)\n",
    "len(tables)"
   ]
  },
  {
   "cell_type": "code",
   "execution_count": null,
   "metadata": {},
   "outputs": [],
   "source": [
    "dfEspEpoc = pd.concat(tables, ignore_index=True)\n",
    "\n",
    "dfEspEpoc.columns = dfEspEpoc.iloc[:2].apply(lambda sr: ' '.join(str(s) if isinstance(s, str) else '' for s in sr),\n",
    "                                             axis='index')\n",
    "dfEspEpoc.columns = ['Espèce'] + list(dfEspEpoc.columns[1:])\n",
    "\n",
    "dfEspEpoc.drop([0, 1], inplace=True)\n",
    "\n",
    "dfEspEpoc.loc[dfEspEpoc['Espèce'] == 'Rousserolle effarvate', 'Espèce'] = 'Rousserolle effarvatte'  # M'enfin !?\n",
    "\n",
    "dfEspEpoc"
   ]
  },
  {
   "cell_type": "code",
   "execution_count": null,
   "metadata": {},
   "outputs": [],
   "source": [
    "dfEspEpoc = dfEspEpoc.join(dfEspRef[['NomFrancaisBis', 'CodeClassif']].drop_duplicates().set_index('NomFrancaisBis'), on='Espèce')\n",
    "dfEspEpoc.CodeClassif = dfEspEpoc.CodeClassif.astype(int)\n",
    "dfEspEpoc"
   ]
  },
  {
   "cell_type": "code",
   "execution_count": null,
   "metadata": {},
   "outputs": [],
   "source": [
    "assert dfEspEpoc.CodeClassif.notnull().all()"
   ]
  },
  {
   "cell_type": "code",
   "execution_count": null,
   "metadata": {},
   "outputs": [],
   "source": [
    "dfEspEpoc.to_excel('tmp/EspecesEPOC.ods', index=False)"
   ]
  },
  {
   "cell_type": "code",
   "execution_count": null,
   "metadata": {},
   "outputs": [],
   "source": []
  }
 ],
 "metadata": {
  "kernelspec": {
   "display_name": "Python 3",
   "language": "python",
   "name": "python3"
  },
  "language_info": {
   "codemirror_mode": {
    "name": "ipython",
    "version": 3
   },
   "file_extension": ".py",
   "mimetype": "text/x-python",
   "name": "python",
   "nbconvert_exporter": "python",
   "pygments_lexer": "ipython3",
   "version": "3.8.2"
  }
 },
 "nbformat": 4,
 "nbformat_minor": 2
}
