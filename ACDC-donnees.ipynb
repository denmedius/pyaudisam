{
 "cells": [
  {
   "cell_type": "markdown",
   "metadata": {},
   "source": [
    "<!-- Table des matières automatique -->\n",
    "<div style=\"overflow-y: auto\">\n",
    "  <h1>Table des matières</h1>\n",
    "  <div id=\"toc\"></div>\n",
    "</div>"
   ]
  },
  {
   "cell_type": "code",
   "execution_count": null,
   "metadata": {},
   "outputs": [],
   "source": [
    "%%javascript\n",
    "$.getScript('ipython_notebook_toc.js')"
   ]
  },
  {
   "cell_type": "markdown",
   "metadata": {},
   "source": [
    "# ACDC 2019-2020 : l'Autre Carré D'à Côté\n",
    "\n",
    "Mise au propre des données et analyses stats"
   ]
  },
  {
   "cell_type": "code",
   "execution_count": null,
   "metadata": {},
   "outputs": [],
   "source": [
    "%matplotlib inline"
   ]
  },
  {
   "cell_type": "code",
   "execution_count": null,
   "metadata": {},
   "outputs": [],
   "source": [
    "import sys\n",
    "import os\n",
    "import math\n",
    "import re\n",
    "import datetime as dt\n",
    "import pandas as pd\n",
    "import numpy as np\n",
    "\n",
    "from lxml import etree\n",
    "import pyproj\n",
    "\n",
    "import folium\n",
    "import folium.plugins\n",
    "\n",
    "import simplekml as skml # Simple KML generation API\n",
    "import kmlcircle # Circle generation for KML generation\n",
    "\n",
    "from shapely import geometry\n",
    "\n",
    "from matplotlib import pyplot as plt\n",
    "import matplotlib.gridspec as pltg\n",
    "\n",
    "from IPython.display import HTML"
   ]
  },
  {
   "cell_type": "markdown",
   "metadata": {},
   "source": [
    "# Communs"
   ]
  },
  {
   "cell_type": "code",
   "execution_count": null,
   "metadata": {},
   "outputs": [],
   "source": [
    "KInfValues = [np.inf, -np.inf]"
   ]
  },
  {
   "cell_type": "code",
   "execution_count": null,
   "metadata": {},
   "outputs": [],
   "source": [
    "kmlNameSpaces = \\\n",
    "  { 'gx' : 'http://www.google.com/kml/ext/2.2',\n",
    "    'kml' : 'http://www.opengis.net/kml/2.2',\n",
    "    'atom' : 'http://www.w3.org/2005/Atom' }"
   ]
  },
  {
   "cell_type": "code",
   "execution_count": null,
   "metadata": {},
   "outputs": [],
   "source": [
    "# Projection coordonnées sphériques (degrés)=> coordonnées planes (système cible au choix)\n",
    "KProjWgs84 = pyproj.Proj(init='epsg:4326') # WGS 84 : long, lat en degrés\n",
    "\n",
    "KProjUtm31  = pyproj.Proj(init='epsg:32631') # WGS 84 - UTM 31N : long, lat en m\n",
    "KProjCc46   = pyproj.Proj(init='epsg:3946')  # RGF 93 - CC46    : long, lat en m\n",
    "KProjLamb93 = pyproj.Proj(init='epsg:2154')  # RGF 93 - Lambert : long, lat en m\n",
    "\n",
    "def geoProjeter(sCoords, srcProj, tgtProj): # sCoords : [0]=x=long, [1]=y=lat\n",
    "    return pd.Series(pyproj.transform(srcProj, tgtProj, sCoords[0], sCoords[1]))"
   ]
  },
  {
   "cell_type": "code",
   "execution_count": null,
   "metadata": {},
   "outputs": [],
   "source": []
  },
  {
   "cell_type": "markdown",
   "metadata": {},
   "source": [
    "# Stats simples des 2 passages Naturalist"
   ]
  },
  {
   "cell_type": "markdown",
   "metadata": {},
   "source": [
    "## 1. Chargement des exports individuels Faune Auvergne\n",
    "\n",
    "(exports par observateur, passage 'a' du 1er avril au 15 mai, 'b' du 16 mai au 15 juin)"
   ]
  },
  {
   "cell_type": "code",
   "execution_count": null,
   "metadata": {},
   "outputs": [],
   "source": [
    "# Chargement des exports\n",
    "dfObsBrutes = pd.DataFrame()\n",
    "iFic = 1\n",
    "for nomFic in os.listdir('ACDC'):\n",
    "    mo = re.match('ACDC2019([ab])-Export(.*).xlsx', nomFic)\n",
    "    if mo and '.old' not in nomFic:\n",
    "        dfObsIndiv = pd.read_excel(os.path.join('ACDC', nomFic))\n",
    "        dfObsIndiv['Passage'] = mo.group(1)\n",
    "        dfObsBrutes = dfObsBrutes.append(dfObsIndiv, ignore_index=True, sort=False)\n",
    "        print('#{} ACDC/{} : {} données brutes, total {}'.format(iFic, nomFic, len(dfObsIndiv), len(dfObsBrutes)))\n",
    "        iFic += 1\n",
    "\n",
    "#dfObsBrutes.DATE.fillna(value=pd.Timestamp('{}-{}'.format(annee, dateDefaut)), inplace=True) # Date par défaut\n",
    "dfObsBrutes['Observateur'] = dfObsBrutes[['Nom', 'Prénom']].apply(lambda s: s[1]+' '+s[0], axis='columns')\n",
    "\n",
    "len(dfObsBrutes)"
   ]
  },
  {
   "cell_type": "code",
   "execution_count": null,
   "metadata": {},
   "outputs": [],
   "source": [
    "dfObsBrutes.columns"
   ]
  },
  {
   "cell_type": "code",
   "execution_count": null,
   "metadata": {
    "scrolled": true
   },
   "outputs": [],
   "source": [
    "dfObsBrutes.tail().T"
   ]
  },
  {
   "cell_type": "code",
   "execution_count": null,
   "metadata": {},
   "outputs": [],
   "source": [
    "# Parenthèse : Comparaison des exports FA SIMPLE et JPM+ :\n",
    "#dfExSimp = pd.read_excel(os.path.join('ACDC', 'export_29062019_122605.xlsx'))\n",
    "#dfExSimp = pd.DataFrame(data=dict(exportSimple=dfExSimp.columns)).set_index('exportSimple', drop=False)\n",
    "#dfExJpmP = dfObsBrutes.iloc[:1].drop(['Observateur', 'Passage'], axis='columns'])\n",
    "#dfExJpmP = pd.DataFrame(data=dict(exportJpmPlus=dfObsBrutes.columns)).set_index('exportJpmPlus', drop=False)\n",
    "#dfExComp = dfExSimp.join(dfExJpmP, how='outer').reset_index(drop=True)"
   ]
  },
  {
   "cell_type": "code",
   "execution_count": null,
   "metadata": {
    "scrolled": true
   },
   "outputs": [],
   "source": [
    "# a. les colonnes de JPM+ qui ne sont pas dans SIMPLE\n",
    "#dfExComp[dfExComp.exportSimple.isnull()]"
   ]
  },
  {
   "cell_type": "code",
   "execution_count": null,
   "metadata": {
    "scrolled": true
   },
   "outputs": [],
   "source": [
    "# b. les colonnes de SIMPLE qui ne sont pas dans JPM+\n",
    "#dfExComp[dfExComp.exportJpmPlus.isnull()]"
   ]
  },
  {
   "cell_type": "code",
   "execution_count": null,
   "metadata": {},
   "outputs": [],
   "source": [
    "# Sélection des colonnes utiles\n",
    "colBrutes = ['Ref', 'ID liste', 'Liste complète ?', 'Commentaire de la liste',\n",
    "             'Passage', 'Date', 'Heure début', 'Heure fin', 'Horaire',\n",
    "             'Ordre systématique', 'Nom espèce', 'Estimation', 'Nombre', 'Détails',\n",
    "             'Code atlas', 'Lat (WGS84)', 'Lon (WGS84)', 'Altitude',\n",
    "             'Lieu-dit', 'Commune', 'Remarque', 'Remarque privée', 'Observateur']\n",
    "dfObs = dfObsBrutes[colBrutes]"
   ]
  },
  {
   "cell_type": "code",
   "execution_count": null,
   "metadata": {},
   "outputs": [],
   "source": [
    "dfObs.tail()"
   ]
  },
  {
   "cell_type": "code",
   "execution_count": null,
   "metadata": {
    "scrolled": true
   },
   "outputs": [],
   "source": [
    "# Examen des formulaires, pour pister ceux qui nous intéressent, en soupçonnant des erreur de saisie du numéro de point\n",
    "df = dfObs.loc[(dfObs['ID liste'] > 0)]\n",
    "len(df), df['ID liste'].nunique(), ', '.join(sorted(df['Commune'].unique()))"
   ]
  },
  {
   "cell_type": "code",
   "execution_count": null,
   "metadata": {
    "scrolled": true
   },
   "outputs": [],
   "source": [
    "# Les communes concernées (à qq données près probablement)\n",
    "df = df[(df.Commune.isin(['Ludesse', 'Cournols', 'Olloix', 'Montaigut-le-Blanc']))]\n",
    "len(df), df['ID liste'].nunique()"
   ]
  },
  {
   "cell_type": "code",
   "execution_count": null,
   "metadata": {},
   "outputs": [],
   "source": [
    "df = df[['ID liste', 'Date', 'Heure début', 'Heure fin', 'Commentaire de la liste', 'Observateur', 'Lieu-dit', 'Commune']]"
   ]
  },
  {
   "cell_type": "code",
   "execution_count": null,
   "metadata": {},
   "outputs": [],
   "source": [
    "dff = df.groupby(['ID liste']).first()"
   ]
  },
  {
   "cell_type": "code",
   "execution_count": null,
   "metadata": {},
   "outputs": [],
   "source": [
    "list(dff['Commentaire de la liste'].unique())"
   ]
  },
  {
   "cell_type": "code",
   "execution_count": null,
   "metadata": {},
   "outputs": [],
   "source": [
    "# Encore des formulaires ACDC sans le commentaire ACDC ?\n",
    "dff[~dff['Commentaire de la liste'].fillna('').str.contains('acdc', case=False)]"
   ]
  },
  {
   "cell_type": "markdown",
   "metadata": {},
   "source": [
    "# 2. Filtrage des données : formulaires ACDC"
   ]
  },
  {
   "cell_type": "code",
   "execution_count": null,
   "metadata": {},
   "outputs": [],
   "source": [
    "dfObs = dfObs[(dfObs['ID liste'] != 0) & dfObs['Commentaire de la liste'].str.contains('acdc', case=False)]\n",
    "\n",
    "len(dfObs)"
   ]
  },
  {
   "cell_type": "code",
   "execution_count": null,
   "metadata": {},
   "outputs": [],
   "source": [
    "dfObs.tail()"
   ]
  },
  {
   "cell_type": "code",
   "execution_count": null,
   "metadata": {},
   "outputs": [],
   "source": [
    "# dfObs['Commentaire de la liste'].unique()"
   ]
  },
  {
   "cell_type": "code",
   "execution_count": null,
   "metadata": {},
   "outputs": [],
   "source": [
    "#mo = re.match('acdc\\s*(?:2019\\s*){0,1}(?:point\\s*){0,1}(\\d{2,3})\\D*', 'acdc  232 Google', flags=re.IGNORECASE)\n",
    "#np.nan if not mo else float(mo.group(1))"
   ]
  },
  {
   "cell_type": "markdown",
   "metadata": {},
   "source": [
    "# 3. Récupération du numéro de point\n",
    "\n",
    "(dans le commentaire de chaque formulaire)"
   ]
  },
  {
   "cell_type": "code",
   "execution_count": null,
   "metadata": {},
   "outputs": [],
   "source": [
    "(dfObs['Commentaire de la liste'].nunique(), dfObs['Commentaire de la liste'].unique())"
   ]
  },
  {
   "cell_type": "code",
   "execution_count": null,
   "metadata": {},
   "outputs": [],
   "source": [
    "# Nettoyage préalable commentaire liste\n",
    "KCommList2Rem = { '2019': '', 'point': '', 'pt':' ', 'passage': '',\n",
    "                 '1er': '', ' 2 pt': '', ' 2 ': ' ', '2ème': '', '2eme': '', 'second': '',\n",
    "                  '.': ' ', ':': ' ', ',': ' ', '\\n': ' ', '/': ' ' }\n",
    "\n",
    "def cleanupCommListe(commentaire):\n",
    "    comm = commentaire.lower()\n",
    "    for k, v in KCommList2Rem.items():\n",
    "        comm = comm.replace(k, v)\n",
    "    return comm.strip()\n",
    "\n",
    "dfObs['Commentaire de la liste'] = dfObs['Commentaire de la liste'].apply(cleanupCommListe)\n",
    "\n",
    "(dfObs['Commentaire de la liste'].nunique(), dfObs['Commentaire de la liste'].unique())"
   ]
  },
  {
   "cell_type": "code",
   "execution_count": null,
   "metadata": {},
   "outputs": [],
   "source": [
    "KReCommListeNumPt = ['acdc\\s+(\\d{2,3})\\s*.*', '(\\d{2,3})\\s+acdc\\s*.*']\n",
    "\n",
    "def numeroPointAcdc(commentaire):\n",
    "    for regExp in KReCommListeNumPt:\n",
    "        mo = re.match(regExp, commentaire, flags=re.IGNORECASE)\n",
    "        if mo:\n",
    "            break\n",
    "    return np.nan if not mo else float(mo.group(1))\n",
    "\n",
    "dfObs['Num point ACDC'] = dfObs['Commentaire de la liste'].apply(numeroPointAcdc)"
   ]
  },
  {
   "cell_type": "code",
   "execution_count": null,
   "metadata": {},
   "outputs": [],
   "source": [
    "#numeroPointAcdc('ACDC Point 202. observateur au point.')"
   ]
  },
  {
   "cell_type": "code",
   "execution_count": null,
   "metadata": {
    "scrolled": false
   },
   "outputs": [],
   "source": [
    "# Nombre et liste des points effectués au moins 1 fois.\n",
    "dfObs['Num point ACDC'].nunique(), dfObs['Num point ACDC'].unique()"
   ]
  },
  {
   "cell_type": "code",
   "execution_count": null,
   "metadata": {},
   "outputs": [],
   "source": [
    "# Nombre de points sans numéro retrouvé\n",
    "dfObs[dfObs['Num point ACDC'].isnull()].groupby('Commentaire de la liste').first()"
   ]
  },
  {
   "cell_type": "code",
   "execution_count": null,
   "metadata": {},
   "outputs": [],
   "source": [
    "# Première idée des nbres de données par point et par passage (et des points effectués à chaque passage)\n",
    "dfObs[['Num point ACDC', 'Passage', 'Commentaire de la liste']].groupby(['Num point ACDC', 'Passage']).count().unstack()"
   ]
  },
  {
   "cell_type": "code",
   "execution_count": null,
   "metadata": {
    "scrolled": false
   },
   "outputs": [],
   "source": [
    "# Inventaires de Clément, avec vraiment beaucoup de données\n",
    "dfObs.loc[dfObs['Observateur'] == 'Clément Rollant', ['Date', 'Heure début', 'Nombre']].groupby(['Date', 'Heure début']).size()"
   ]
  },
  {
   "cell_type": "code",
   "execution_count": null,
   "metadata": {},
   "outputs": [],
   "source": [
    "#dfObs.loc[dfObs['Observateur'] == 'Clément Rollant', ['Passage', 'Heure début', 'Nom espèce', 'Nombre']] \\\n",
    "#     .groupby(['Passage', 'Heure début', 'Nom espèce']).sum()"
   ]
  },
  {
   "cell_type": "markdown",
   "metadata": {},
   "source": [
    "# 4. Suppression des inventaires en trop par passage\n",
    "\n",
    "(bon, c'est en contrôlant les formulaires en 5. qu'on sait qu'il faut le faire :-)"
   ]
  },
  {
   "cell_type": "code",
   "execution_count": null,
   "metadata": {},
   "outputs": [],
   "source": [
    "len(dfObs)"
   ]
  },
  {
   "cell_type": "code",
   "execution_count": null,
   "metadata": {},
   "outputs": [],
   "source": [
    "# Romain, passage a, points 178 et 179 effectués le 14/4 et le 1er mai : on garde le meilleur passage (à meilleure heure)\n",
    "sObsAVirer = dfObs['Num point ACDC'].isin([178, 179]) & (dfObs.Date == '2019-04-14')\n",
    "sObsAVirer.sum()"
   ]
  },
  {
   "cell_type": "code",
   "execution_count": null,
   "metadata": {},
   "outputs": [],
   "source": [
    "dfObs[sObsAVirer].index"
   ]
  },
  {
   "cell_type": "code",
   "execution_count": null,
   "metadata": {},
   "outputs": [],
   "source": [
    "dfObs.drop(labels=dfObs[sObsAVirer].index, inplace=True)\n",
    "len(dfObs)"
   ]
  },
  {
   "cell_type": "markdown",
   "metadata": {},
   "source": [
    "# 5. Contrôle des formulaires\n",
    "\n",
    "* numéros de point tous bien récupérés (du commentaire liste) ?\n",
    "* numéros de points récupérés correspondant bien au vrais points inventoriés (cartographie) ?\n",
    "* points attribués bien inventoriés à chaque passage ?\n",
    "* 1 seul inventaire par passage ?\n",
    "* pas de formulaire de plus de 11mn ? (normalement ...)"
   ]
  },
  {
   "cell_type": "code",
   "execution_count": null,
   "metadata": {
    "scrolled": false
   },
   "outputs": [],
   "source": [
    "dfObs.head()"
   ]
  },
  {
   "cell_type": "code",
   "execution_count": null,
   "metadata": {},
   "outputs": [],
   "source": [
    "# Nombre de points sans numéro retrouvé\n",
    "dfObs[dfObs['Num point ACDC'].isnull()].groupby('Commentaire de la liste').first()"
   ]
  },
  {
   "cell_type": "code",
   "execution_count": null,
   "metadata": {},
   "outputs": [],
   "source": [
    "# On va devoir savoir si une obs est dans les 5 1ères minues ou pas\n",
    "dfObs['Heure début'] = dfObs.apply(lambda s: dt.datetime.combine(s['Date'].date(), s['Heure début']), axis='columns')\n",
    "dfObs['Heure fin'] = dfObs.apply(lambda s: dt.datetime.combine(s['Date'].date(), s['Heure fin']), axis='columns')\n",
    "dfObs['Horaire'] = dfObs.apply(lambda s: dt.datetime.combine(s['Date'].date(), dt.time.fromisoformat(s['Horaire'])),\n",
    "                               axis='columns')\n",
    "dfObs['Minute'] = dfObs['Horaire'] - dfObs['Heure début']"
   ]
  },
  {
   "cell_type": "code",
   "execution_count": null,
   "metadata": {},
   "outputs": [],
   "source": [
    "# Données hors période des formulaires (bizarre, localisées uniquement chez Romain)\n",
    "#df = dfObs[(dfObs['Horaire'] < dfObs['Heure début']) | (dfObs['Horaire'] > dfObs['Heure fin'])]\n",
    "#df.to_excel('ACDC2019-DonneesHoraireHorsListe.xlsx', index=False)\n",
    "#df"
   ]
  },
  {
   "cell_type": "code",
   "execution_count": null,
   "metadata": {},
   "outputs": [],
   "source": [
    "# Tous les formulaires ACDC x passages retenus\n",
    "dfForms = dfObs[['ID liste', 'Passage', 'Date', 'Heure début', 'Heure fin', 'Num point ACDC', 'Observateur',\n",
    "                 'Commentaire de la liste', 'Liste complète ?']] \\\n",
    "            .groupby(['ID liste', 'Passage', 'Date', 'Commentaire de la liste']).first()\n",
    "dfForms['Durée'] = dfForms['Heure fin'] - dfForms['Heure début']\n",
    "dfForms = dfForms.reset_index().set_index('ID liste').sort_values(by='Observateur')\n",
    "len(dfForms)"
   ]
  },
  {
   "cell_type": "code",
   "execution_count": null,
   "metadata": {},
   "outputs": [],
   "source": [
    "# Normalement, tous les formulaires ont duré au moins 10mn (à qq s près => >= 9 mn)\n",
    "dfForms[dfForms['Durée'] < pd.Timedelta(minutes=9)]"
   ]
  },
  {
   "cell_type": "code",
   "execution_count": null,
   "metadata": {},
   "outputs": [],
   "source": [
    "# Normalement, tous les formulaires sont des listes complètes.\n",
    "dfForms[dfForms['Liste complète ?'] != 1]"
   ]
  },
  {
   "cell_type": "code",
   "execution_count": null,
   "metadata": {},
   "outputs": [],
   "source": [
    "dfForms.drop(columns=['Liste complète ?'], inplace=True)"
   ]
  },
  {
   "cell_type": "code",
   "execution_count": null,
   "metadata": {
    "scrolled": false
   },
   "outputs": [],
   "source": [
    "dfForms.tail()"
   ]
  },
  {
   "cell_type": "code",
   "execution_count": null,
   "metadata": {
    "scrolled": true
   },
   "outputs": [],
   "source": [
    "# Numéros de points correctement attribués aux formulaires ?\n",
    "# 1 seul inventaire par passage et par point ?\n",
    "dfForms[dfForms.duplicated(subset=['Passage', 'Num point ACDC'], keep=False)]"
   ]
  },
  {
   "cell_type": "code",
   "execution_count": null,
   "metadata": {},
   "outputs": [],
   "source": [
    "# Les doublons de Romain ...\n",
    "#dfObs.loc[dfObs['Num point ACDC'].isin([178, 179]),\n",
    "#          ['ID liste', 'Num point ACDC', 'Passage', 'Date', 'Heure début', 'Observateur']] \\\n",
    "#     .groupby(['ID liste', 'Num point ACDC', 'Date', 'Heure début', 'Passage']).count() \\\n",
    "#     .rename(columns=dict(Observateur='Nb données'))"
   ]
  },
  {
   "cell_type": "code",
   "execution_count": null,
   "metadata": {},
   "outputs": [],
   "source": [
    "# Cartographie des données pour vérifier ça ...\n",
    "obseur = 'Romain Riols'\n",
    "dfObs2Map = dfObs[dfObs['Observateur'] == obseur]\n",
    "dfPts2Map = dfPoints[dfPoints.naturalist == obseur]"
   ]
  },
  {
   "cell_type": "code",
   "execution_count": null,
   "metadata": {
    "scrolled": false
   },
   "outputs": [],
   "source": [
    "#tiles, attr = 'http://{s}.tile.openstreetmap.org/{z}/{x}/{y}.png', 'osm'# OK\n",
    "tiles, attr = 'https://{s}.tile.thunderforest.com/outdoors/{z}/{x}/{y}.png', 'thunderforest' # OK\n",
    "#tiles, attr = 'http://{s}.tile.openstreetmap.fr/fradm/{z}/{x}/{y}.png', 'osm fr' # marche pô\n",
    "#tiles, attr = 'https://{s}.tile.openstreetmap.fr/qa/{zoom}/{x}/{y}.png', 'osm fr' # marche pô\n",
    "mp = folium.Map(tiles=tiles, attr=attr)\n",
    "\n",
    "# Polygone limitant à la zone d'étude\n",
    "poly = folium.PolyLine(locations=[(lat, long) for long, lat in dfZonePoly[['long', 'lat']].itertuples(index=False)],\n",
    "                       color='red', opacity=0.8, popup='Zone ACDC Cournols-Olloix JPD')\n",
    "poly.add_to(mp)\n",
    "\n",
    "# Les points d'écoute\n",
    "for indPt, sPt in dfPts2Map.iterrows():\n",
    "    mrk = folium.Marker(location=(sPt.latitude, sPt.longitude), \n",
    "                        popup=folium.Popup('#{} {}'.format(sPt.name, sPt.naturalist or 'Personne')),\n",
    "                        icon=folium.Icon(color='white', icon_color='black'))\n",
    "    mrk.add_to(mp)\n",
    "\n",
    "# Les données, rassemblées par formulaire / point\n",
    "for formId in dfObs2Map['ID liste'].unique():\n",
    "    dfObsForm = dfObs2Map[dfObs2Map['ID liste'] == formId]\n",
    "    numPt = dfObsForm.iloc[0]['Num point ACDC']\n",
    "    numPt = '???' if pd.isnull(numPt) else int(numPt)\n",
    "    heure = dfObsForm.iloc[0]['Heure début'].strftime('%H:%M')\n",
    "    mc = folium.plugins.MarkerCluster(name='#{}/{} {}'.format(numPt, formId, heure),\n",
    "                                      options=dict(maxClusterRadius=200, disableClusteringAtZoom=16,\n",
    "                                                   spiderfyOnMaxZoom=False))\n",
    "    for indObs, sObs in dfObsForm.iterrows():\n",
    "        sObs = sObs.fillna('')\n",
    "        eff = sObs['Estimation'] + str(sObs['Nombre']) + ('' if not sObs['Détails'] else ' ({})'.format(sObs['Détails']))\n",
    "        ca = '' if not sObs['Code atlas'] else ' (c{})'.format(int(sObs['Code atlas']))\n",
    "        mrk = folium.CircleMarker(location=(sObs['Lat (WGS84)'], sObs['Lon (WGS84)']), \n",
    "                                  radius=8, line_color='#ff0000', fill=True, fill_color='orange', fill_opacity=0.6,\n",
    "                                  popup=folium.Popup('#{} {} {}-{} : {} {}{}' \\\n",
    "                                                     .format(numPt, heure, sObs['Date'].strftime('%d/%m/%Y'), \n",
    "                                                             'xx::yy', #sObs['Horaire'].strftime('%H:%M'),\n",
    "                                                             eff, sObs['Nom espèce'], ca)))\n",
    "        mrk.add_to(mc)\n",
    "    mc.add_to(mp)\n",
    "    \n",
    "mp.fit_bounds(mp.get_bounds())\n",
    "mp"
   ]
  },
  {
   "cell_type": "code",
   "execution_count": null,
   "metadata": {},
   "outputs": [],
   "source": [
    "# Formulaires sans numéro de point\n",
    "dfForms.loc[dfForms['Num point ACDC'].isnull()].drop(columns=['Num point ACDC'])"
   ]
  },
  {
   "cell_type": "code",
   "execution_count": null,
   "metadata": {},
   "outputs": [],
   "source": [
    "dfForms['Num point ACDC'] = dfForms['Num point ACDC'].astype(int)\n",
    "dfObs['Num point ACDC'] = dfObs['Num point ACDC'].astype(int)"
   ]
  },
  {
   "cell_type": "markdown",
   "metadata": {},
   "source": [
    "# 6. Suppression des formulaires non conformes"
   ]
  },
  {
   "cell_type": "code",
   "execution_count": null,
   "metadata": {},
   "outputs": [],
   "source": [
    "len(dfObs), len(dfForms)"
   ]
  },
  {
   "cell_type": "code",
   "execution_count": null,
   "metadata": {},
   "outputs": [],
   "source": [
    "# Trop courts : Normalement, tous les formulaires ont duré au moins 10mn (à qq s près => >= 9 mn)\n",
    "dfForms[dfForms['Durée'] < pd.Timedelta(minutes=9)]"
   ]
  },
  {
   "cell_type": "code",
   "execution_count": null,
   "metadata": {},
   "outputs": [],
   "source": [
    "dfForms.drop(53130, inplace=True)\n",
    "len(dfForms)"
   ]
  },
  {
   "cell_type": "code",
   "execution_count": null,
   "metadata": {},
   "outputs": [],
   "source": [
    "dfObs.drop(dfObs[dfObs['ID liste'] == 53130].index, inplace=True)\n",
    "len(dfObs)"
   ]
  },
  {
   "cell_type": "markdown",
   "metadata": {},
   "source": [
    "# 7. Bilan formulaires / observateurs"
   ]
  },
  {
   "cell_type": "code",
   "execution_count": null,
   "metadata": {},
   "outputs": [],
   "source": [
    "# Bilan par observateur et par point : listes des points attendus et réalisés, par passage\n",
    "dfBilanReal = \\\n",
    "    dfPoints.reset_index()[['numero', 'naturalist',]] \\\n",
    "            .rename(columns=dict(numero='Num point ACDC', naturalist='Observateur')) \\\n",
    "        .join(dfForms[['Num point ACDC', 'Observateur', 'Passage']] \\\n",
    "              .set_index(['Num point ACDC', 'Observateur']),\n",
    "              on=['Num point ACDC', 'Observateur'], how='outer')\n",
    "len(dfBilanReal)"
   ]
  },
  {
   "cell_type": "code",
   "execution_count": null,
   "metadata": {},
   "outputs": [],
   "source": [
    "# Rappel : les points non attribués (donc pas fait, normal)\n",
    "list(dfBilanReal.loc[dfBilanReal.Observateur.isnull(), 'Num point ACDC'])"
   ]
  },
  {
   "cell_type": "code",
   "execution_count": null,
   "metadata": {},
   "outputs": [],
   "source": [
    "dfBilanReal = dfBilanReal[dfBilanReal.Observateur.notnull()]\n",
    "len(dfBilanReal)"
   ]
  },
  {
   "cell_type": "code",
   "execution_count": null,
   "metadata": {},
   "outputs": [],
   "source": [
    "# Les points attribués et pas faits du tout\n",
    "dfBilanReal[dfBilanReal.Observateur.notnull() & dfBilanReal.Passage.isnull()]"
   ]
  },
  {
   "cell_type": "code",
   "execution_count": null,
   "metadata": {},
   "outputs": [],
   "source": [
    "# Bilan global par observateur : nb de points effectivement inventoriés à chaque passage\n",
    "dfBilan = dfBilanReal.groupby(['Observateur', 'Passage']).count().rename(columns={'Num point ACDC':'Réalisés'}).unstack()"
   ]
  },
  {
   "cell_type": "code",
   "execution_count": null,
   "metadata": {},
   "outputs": [],
   "source": [
    "# Bilan par observateur : nb de formulaires attendu et réalisé, par passage\n",
    "dfBilan = dfBilanAttr.loc[dfForms.Observateur.unique(), ['Naturalist']] \\\n",
    "              .join(dfBilan).rename(columns={'Naturalist':'Attendus'})\n",
    "dfBilan"
   ]
  },
  {
   "cell_type": "code",
   "execution_count": null,
   "metadata": {},
   "outputs": [],
   "source": [
    "dfBilan.sum().to_dict()"
   ]
  },
  {
   "cell_type": "code",
   "execution_count": null,
   "metadata": {},
   "outputs": [],
   "source": [
    "# Répartition des formulaires par durée (résolution : 1mn ; n minutes = dans [n et n+1[ minutes)\n",
    "dfForms.groupby(['Durée', 'Passage']).size().unstack()"
   ]
  },
  {
   "cell_type": "code",
   "execution_count": null,
   "metadata": {},
   "outputs": [],
   "source": [
    "# Répartition des données par minute d'inventaire (résolution : 1mn ; n minutes = dans [n et n+1[ minutes)\n",
    "df = dfObs.groupby(['Minute', 'Passage']).size().unstack()\n",
    "df"
   ]
  },
  {
   "cell_type": "code",
   "execution_count": null,
   "metadata": {},
   "outputs": [],
   "source": [
    "# % de données au delà de la 9ème minute\n",
    "100 * df[df.index >= pd.Timedelta(minutes=10)].sum() / df.sum()"
   ]
  },
  {
   "cell_type": "markdown",
   "metadata": {},
   "source": [
    "# 7. Première mise en forme des données en vue de l'exploitation DS\n",
    "\n",
    "* format des dates,\n",
    "* code atlas absent => 0,\n",
    "* extraction des nb de mâles adultes, d'autres adultes et de juvéniles (à partir nbre, code atlas et détails),\n",
    "* séparation des 5 1ères minutes de chaque formulaire\n",
    "* suppression des données \"en vol\""
   ]
  },
  {
   "cell_type": "code",
   "execution_count": null,
   "metadata": {},
   "outputs": [],
   "source": [
    "dfObs['Détails'].fillna(value='', inplace=True)\n",
    "dfObs['Code atlas'].fillna(value=0, inplace=True)\n",
    "dfObs.Date = dfObs.Date.apply(pd.Timestamp)"
   ]
  },
  {
   "cell_type": "code",
   "execution_count": null,
   "metadata": {},
   "outputs": [],
   "source": [
    "dfObs['Détails'].unique()"
   ]
  },
  {
   "cell_type": "code",
   "execution_count": null,
   "metadata": {},
   "outputs": [],
   "source": [
    "# Codes Atlas Biolovision \"à 20 valeurs\" (les code de Faune Auvergne sont un sous-ensemble)\n",
    "KCAAucun   =  0 # Pas de code Atlas\n",
    "KCAObsSimp =  1 # Observation de l'espèce pendant la période de nidification\n",
    "KCAObsBiot =  2 # Observation de l'espèce pendant la période de nidification dans un biotope adéquat\n",
    "KCAMalChan =  3 # Mâle chanteur présent en période de nidification, cris nuptiaux ou tambourinage entendus,\n",
    "                # mâle vu en parade dans un habitat favorable\n",
    "KCACoupPer =  4 # Couple pendant la période de nidification dans un biotope adéquat\n",
    "KCACoupTer =  5 # Comportement territorial d'un couple (chant, querelles avec des voisins, etc.)\n",
    "                # au moins 2 jours a plus d'une semaine d'intervalle dans le même territoire\n",
    "KCACoupNup =  6 # Comportement nuptial (mâle et femelle observés)\n",
    "KCAVisNidP =  7 # Visite d'un site de nidification probable\n",
    "KCACrAlInq =  8 # Cri d'alarme ou de crainte des adultes ou autre comportement agité suggérant la présence\n",
    "                # d'un nid ou de jeunes aux alentours\n",
    "KCAPlaqInc =  9 # Plaque incubatrice d'une femelle capturée\n",
    "KCAConstNd = 10 # Construction d'un nid ou forage d'une cavité\n",
    "KCAIndSimu = 11 # Oiseau simulant une blessure ou détournant l'attention\n",
    "KCANidUtil = 12 # Découverte d'un nid ayant été utilisé durant la période de nidification actuelle\n",
    "KCAJuvDepd = 13 # Jeunes venant de s'envoler (nidicoles) ou poussins en duvet (nidifuges)\n",
    "KCAAdSitNi = 14 # Adulte gagnant ou quittant un site de nid; comportement révélateur d'un nid occupé\n",
    "                # dont le contenu ne peut être vérifié (trop haut ou dans une cavité) ou adulte incubant\n",
    "KCATranFie = 15 # dulte transportant des fientes\n",
    "KCATranNou = 16 # Adulte transportant de la nourriture pour les jeunes\n",
    "KCACoqOeuf = 17 # Coquilles d'oeufs éclos (de la période de nidification actuelle)\n",
    "KCAAdCouve = 18 # Nid avec adulte vu couvant\n",
    "KCANiOeufs = 19 # Nid avec oeufs\n",
    "KCAPousNid = 20 # Jeunes au nid vus ou entendus\n",
    "KCANdfPoss = 30 # Nidification possible\n",
    "KCANdfProb = 40 # Nidification probable\n",
    "KCANdfCert = 50 # Nidification certaine\n",
    "KCAAbsRech = 99 # Espèce absente malgré des recherches"
   ]
  },
  {
   "cell_type": "code",
   "execution_count": null,
   "metadata": {},
   "outputs": [],
   "source": [
    "# Codes atlas et coefficients d'effectifs correspondants\n",
    "dfCodesAtlas = pd.read_excel('ACDC/VisioNatureCodesAtlas.xlsx', index=0)[['Codes Biolovision', 'Texte FR']]\n",
    "dfCodesAtlas.set_index('Codes Biolovision', inplace=True)\n",
    "#dfCodesAtlas.drop([KCAAucun], inplace=True) # Parfois utilisé par erreur ... tant pis on garde\n",
    "dfCodesAtlas.drop([KCANdfPoss, KCANdfProb, KCANdfCert, KCAAbsRech], inplace=True)\n",
    "dfCodesAtlas['nMalAd'] = 0.0\n",
    "dfCodesAtlas.loc[KCAMalChan, 'nMalAd'] = 1\n",
    "dfCodesAtlas.loc[KCACoupPer, 'nMalAd'] = 0.5\n",
    "dfCodesAtlas.loc[KCACoupTer, 'nMalAd'] = 0.5\n",
    "dfCodesAtlas.loc[KCACoupNup, 'nMalAd'] = 0.5\n",
    "dfCodesAtlas['nJuv'] = 0.0\n",
    "dfCodesAtlas.loc[KCAJuvDepd, 'nJuv'] = 1\n",
    "dfCodesAtlas.loc[KCANiOeufs, 'nJuv'] = 1\n",
    "dfCodesAtlas.loc[KCAPousNid, 'nJuv'] = 1\n",
    "dfCodesAtlas['nAutAd'] = 1\n",
    "dfCodesAtlas.loc[KCAAucun, 'nAutAd'] = 1\n",
    "dfCodesAtlas.loc[KCAMalChan, 'nAutAd'] = 0\n",
    "dfCodesAtlas.loc[KCACoupPer, 'nAutAd'] = 0.5\n",
    "dfCodesAtlas.loc[KCACoupTer, 'nAutAd'] = 0.5\n",
    "dfCodesAtlas.loc[KCACoupNup, 'nAutAd'] = 0.5\n",
    "dfCodesAtlas.loc[KCAJuvDepd, 'nAutAd'] = 0\n",
    "dfCodesAtlas.loc[KCANiOeufs, 'nAutAd'] = 0\n",
    "dfCodesAtlas.loc[KCAPousNid, 'nAutAd'] = 0\n",
    "\n",
    "assert all(dfCodesAtlas[['nMalAd', 'nAutAd', 'nJuv']].sum(axis='columns') == 1)\n",
    "\n",
    "dfCodesAtlas"
   ]
  },
  {
   "cell_type": "code",
   "execution_count": null,
   "metadata": {},
   "outputs": [],
   "source": [
    "# Effectif détaillé, par sexe et âge (ad ou juv=pul+1ère année),\n",
    "# à partir des colonnes ['Nombre', 'Détails', 'Code atlas'],\n",
    "# supposée formatée ainsi : \"<n1>x <sexe> <age> <condition>, ..., <np>x <sexe> <age> <condition>\"\n",
    "# Attention: \n",
    "# * Les individus 'en vol' ne sont pas comptés.\n",
    "# * On conserve quand même les données sans code atlas : certains observateurs les ont beaucoup oubliés !?\n",
    "\n",
    "KDetCols = ['nMalAd', 'nAutAd', 'nJuv']\n",
    "\n",
    "KReNumExpect = re.compile(r\"([0-9]+)x(.*)\")\n",
    "\n",
    "KEffInvd = pd.Series({ col : np.nan for col in KDetCols })\n",
    "\n",
    "def calculerEffectifs(sObs, verbose=False):\n",
    "\n",
    "    # Détails et nbres associés\n",
    "    effDets = { col : 0 for col in KDetCols }\n",
    "    \n",
    "    lstDets = sObs['Détails'].split(\"/\")\n",
    "    vol = False\n",
    "    for rawDet in lstDets:\n",
    "        \n",
    "        rawDet = rawDet.strip()\n",
    "        if not rawDet:\n",
    "            continue\n",
    "        \n",
    "        mo = KReNumExpect.match(rawDet)\n",
    "        if mo:\n",
    "            \n",
    "            num = int(mo.group(1))\n",
    "            sxAgCn = mo.group(2).strip()\n",
    "            \n",
    "            sx = 'mal' if 'mâle' in sxAgCn else 'fem' if 'femelle' in sxAgCn else 'alt'\n",
    "            ag = 'juv' if '1ère année' in sxAgCn or 'poussin' in sxAgCn or 'immature' in sxAgCn \\\n",
    "                       else 'adu' if 'adulte' in sxAgCn or 'année' in sxAgCn or '1 an' in sxAgCn else 'alt'\n",
    "            cn = 'vol' if 'vol' in sxAgCn else 'alt'\n",
    "            \n",
    "            if cn != 'vol':\n",
    "                \n",
    "                cat = 'nJuv' if ag == 'juv' else 'nMalAd' if sx == 'mal' else 'nAutAd'\n",
    "            \n",
    "                effDets[cat] += num\n",
    "                \n",
    "            else:\n",
    "                \n",
    "                if len(lstDets) == 1:\n",
    "                    return KEffInvd\n",
    "                vol = True\n",
    "            \n",
    "        else:\n",
    "            \n",
    "            print(\"Donnée ignorée : Colonne Détails malformée : '{}'\".format(rawDet))\n",
    "            if verbose:\n",
    "                print(', '.join(['{}:{}'.format(k[:3], v) for k, v in sObs.iteritems()]))\n",
    "            \n",
    "            return KEffInvd\n",
    "    \n",
    "    # Code Atlas et Nombre total associé\n",
    "    codAtls = int(sObs['Code atlas'])\n",
    "    if codAtls != KCAAucun and codAtls not in dfCodesAtlas.index and not vol:\n",
    "        print(\"Donnée ignorée : Code Atlas {} sans intérêt, mais pas en vol : détails={}\" \\\n",
    "              .format(codAtls, sObs['Détails']))\n",
    "        if verbose:\n",
    "            print(', '.join(['{}:{}'.format(k[:3], v) for k, v in sObs.iteritems()]))\n",
    "        return KEffInvd\n",
    "\n",
    "    nbre = sObs['Nombre']\n",
    "    if codAtls in [KCACoupPer, KCACoupTer, KCACoupNup] and nbre < 2:\n",
    "        print(\"Donnée suspecte : Code Atlas pour les couples : {}, mais nb individus < 2 : {} !\" \\\n",
    "              .format(codAtls, nbre))\n",
    "        if verbose:\n",
    "            print(', '.join(['{}:{}'.format(k[:3], v) for k, v in sObs.iteritems()]))\n",
    "    \n",
    "    effNbCode = { colCoefMult : dfCodesAtlas.loc[codAtls, colCoefMult] * nbre \\\n",
    "                 for colCoefMult in KDetCols }\n",
    "    \n",
    "    # Quand code atlas indique couple, et que nbre impair d'individus => autre adulte par défaut\n",
    "    demiMal = effNbCode['nMalAd'] - int(effNbCode['nMalAd'])\n",
    "    effNbCode['nMalAd'] -= demiMal\n",
    "    effNbCode['nAutAd'] += demiMal\n",
    "    \n",
    "    # Choix final : Priorité aux détails si présents\n",
    "    if any(effDets.values()):\n",
    "        if sum(effDets.values()) != sum(effNbCode.values()):\n",
    "            print(\"Donnée ignorée : Détails {} et Nombre {} * CodeAtlas {} incohérents : '{}' / '{}'\" \\\n",
    "                  .format(rawDet, nbre, codAtls, effDets, effNbCode))\n",
    "            if verbose:\n",
    "                print(', '.join(['{}:{}'.format(k[:3], v) for k, v in sObs.iteritems()]))\n",
    "            return KEffInvd\n",
    "        eff = effDets\n",
    "    else:\n",
    "        eff = effNbCode\n",
    "        \n",
    "    return pd.Series(eff)"
   ]
  },
  {
   "cell_type": "code",
   "execution_count": null,
   "metadata": {},
   "outputs": [],
   "source": [
    "if len(dfObs.Estimation.dropna().unique()) > 0:\n",
    "    print('Attention : On prend les estimations pour des valeurs exactes.')"
   ]
  },
  {
   "cell_type": "code",
   "execution_count": null,
   "metadata": {},
   "outputs": [],
   "source": [
    "obsCols = ['ID liste', 'Passage', 'Num point ACDC', 'Observateur', 'Date', 'Horaire',\n",
    "           'Nom espèce', 'Lieu-dit', 'Commune', 'Estimation', 'Nombre', 'Détails', 'Code atlas']"
   ]
  },
  {
   "cell_type": "code",
   "execution_count": null,
   "metadata": {
    "scrolled": false
   },
   "outputs": [],
   "source": [
    "dfObs[KDetCols] = dfObs[obsCols].apply(calculerEffectifs, axis='columns', verbose=True)\n",
    "dfObs[KDetCols] = dfObs[KDetCols].fillna(0).astype(int)\n",
    "dfObs['nDetTot'] = dfObs[KDetCols].sum(axis=1).astype(int)"
   ]
  },
  {
   "cell_type": "code",
   "execution_count": null,
   "metadata": {
    "scrolled": false
   },
   "outputs": [],
   "source": [
    "# Suppression des données \"en vol\"\n",
    "df = dfObs[dfObs['Détails'].str.contains('vol', case=False)]\n",
    "len(dfObs), len(df) # df"
   ]
  },
  {
   "cell_type": "code",
   "execution_count": null,
   "metadata": {},
   "outputs": [],
   "source": [
    "dfObs.drop(df.index, inplace=True)\n",
    "len(dfObs)"
   ]
  },
  {
   "cell_type": "code",
   "execution_count": null,
   "metadata": {
    "scrolled": false
   },
   "outputs": [],
   "source": [
    "#dfObs[dfObs['Code atlas'].isin([4, 5]) & (dfObs.Nombre == 1)].to_excel('ACDC/ACDC2019b-CoupleMais1SeulInd.xlsx', index=False)"
   ]
  },
  {
   "cell_type": "code",
   "execution_count": null,
   "metadata": {},
   "outputs": [],
   "source": [
    "# Extraction des 5 1ères minutes\n",
    "KDetColsTot = KDetCols + ['nDetTot']\n",
    "\n",
    "KDetColsTot10 = [c+'10' for c in KDetColsTot]\n",
    "\n",
    "dfObs.rename(columns=dict(zip(KDetColsTot, KDetColsTot10)), inplace=True)"
   ]
  },
  {
   "cell_type": "code",
   "execution_count": null,
   "metadata": {},
   "outputs": [],
   "source": [
    "KDetColsTot5 = [c+'5' for c in KDetColsTot]\n",
    "for col in KDetColsTot:\n",
    "    dfObs[col+'5'] = dfObs.loc[dfObs['Minute'] < pd.Timedelta(minutes=5), col+'10']\n",
    "    dfObs[col+'5'] = dfObs[col+'5'].fillna(0).astype(int)"
   ]
  },
  {
   "cell_type": "code",
   "execution_count": null,
   "metadata": {
    "scrolled": false
   },
   "outputs": [],
   "source": [
    "dfObs.sort_values(by=['Num point ACDC', 'Horaire']).head(20)"
   ]
  },
  {
   "cell_type": "code",
   "execution_count": null,
   "metadata": {},
   "outputs": [],
   "source": [
    "# Vérifs\n",
    "d = dict(donneesAvant5mn=len(dfObs[dfObs['Minute'] < pd.Timedelta(minutes=5)]),\n",
    "         donneesApres5mn=len(dfObs[dfObs[KDetColsTot5].sum(axis='columns') == 0]),\n",
    "         total=len(dfObs))\n",
    "assert d['total'] == d['donneesAvant5mn'] + d['donneesApres5mn']\n",
    "d"
   ]
  },
  {
   "cell_type": "markdown",
   "metadata": {},
   "source": [
    "# 6. Premiers contrôles de cohérence des données"
   ]
  },
  {
   "cell_type": "code",
   "execution_count": null,
   "metadata": {
    "scrolled": false
   },
   "outputs": [],
   "source": [
    "# Cas des absences de code atlas 0 (KCAAucun) hors 'en vol' : des fois justifié, souvent un oubli ?\n",
    "# (on les a comptés comme code atlas 2)\n",
    "df = dfObs.loc[(dfObs['Code atlas'] == KCAAucun) & ~dfObs['Détails'].str.contains('vol'), obsCols]\n",
    "#df.to_excel('ACDC/Codes0.xlsx', index=False)\n",
    "df"
   ]
  },
  {
   "cell_type": "code",
   "execution_count": null,
   "metadata": {},
   "outputs": [],
   "source": [
    "# Code atlas innatendu dans ce genre d'enquête\n",
    "dfObs.loc[dfObs['Code atlas'].isin([KCAPlaqInc]), obsCols]"
   ]
  },
  {
   "cell_type": "code",
   "execution_count": null,
   "metadata": {},
   "outputs": [],
   "source": [
    "# Comparaison nb individu total et somme des détails : différence = en vol (mais supprimés => 0)\n",
    "d = dict(total=dfObs['Nombre'].sum(), detail=dfObs['nDetTot10'].sum(), \n",
    "         difference=dfObs['Nombre'].sum() - dfObs['nDetTot10'].sum(),\n",
    "         en_vol=dfObs.loc[dfObs['Détails'].str.contains('vol'), 'Nombre'].sum())\n",
    "assert d['difference'] == d['en_vol'], \"Incohérence nbre / détails pour les non 'en vol'\"\n",
    "d"
   ]
  },
  {
   "cell_type": "code",
   "execution_count": null,
   "metadata": {},
   "outputs": [],
   "source": [
    "dfObs[['Ref']+obsCols+KDetColsTot5+KDetColsTot10].sort_values(by=['Passage', 'Horaire', 'Num point ACDC']) \\\n",
    "    .to_excel('ACDC/ACDC2019-Naturalist.xlsx', index=False)"
   ]
  },
  {
   "cell_type": "code",
   "execution_count": null,
   "metadata": {},
   "outputs": [],
   "source": [
    "dfObs.columns"
   ]
  },
  {
   "cell_type": "code",
   "execution_count": null,
   "metadata": {},
   "outputs": [],
   "source": []
  },
  {
   "cell_type": "markdown",
   "metadata": {},
   "source": [
    "# 7. Quelques stats"
   ]
  },
  {
   "cell_type": "code",
   "execution_count": null,
   "metadata": {},
   "outputs": [],
   "source": [
    "# Stats données brutes tous formulaires.\n",
    "{ 'NbObservateurs' : dfObs.Observateur.nunique(), \n",
    "  'NbFormulaires' : dfObs['ID liste'].nunique(),\n",
    "  'NbJours' : dfObs.Date.nunique(),\n",
    "  'NbDonnées' : len(dfObs),\n",
    "  'NbIndividus' : dfObs.Nombre.sum() }"
   ]
  },
  {
   "cell_type": "code",
   "execution_count": null,
   "metadata": {},
   "outputs": [],
   "source": [
    "dfObs['Minute'] = dfObs['Minute'].divide(pd.Timedelta(minutes=1)).astype(int)"
   ]
  },
  {
   "cell_type": "markdown",
   "metadata": {},
   "source": [
    "## a. Fonction du temps lors des inventaires"
   ]
  },
  {
   "cell_type": "code",
   "execution_count": null,
   "metadata": {},
   "outputs": [],
   "source": [
    "# Effectifs contactés par tranche de temps (5 / 10mn)\n",
    "dfBilanTemps510 = dfObs[['Num point ACDC', 'Passage', 'nMalAd5', 'nDetTot5', 'nMalAd10', 'nDetTot10']] \\\n",
    "                     .groupby(['Num point ACDC', 'Passage']).sum()\n",
    "dfBilanTemps510 = \\\n",
    "   dfBilanTemps510.join(dfObs[['Num point ACDC', 'Passage', 'nDetTot10']].rename(columns={'nDetTot10': 'nDonnées10'}) \\\n",
    "                  .groupby(['Num point ACDC', 'Passage']).count())\n",
    "dfBilanTemps510 = \\\n",
    "   dfBilanTemps510.join(dfObs.loc[dfObs.nDetTot5 > 0, ['Num point ACDC', 'Passage', 'nDetTot5']].rename(columns={'nDetTot5': 'nDonnées5'}) \\\n",
    "                  .groupby(['Num point ACDC', 'Passage']).count())\n",
    "dfBilanTemps510 = dfBilanTemps510.groupby('Passage').agg(['sum', 'mean'])\n",
    "#dfBilanTemps510.columns = dfBilanTemps510.columns.swaplevel(0, 1)\n",
    "dfBilanTemps510 #.sort_values(by=('a', 'nMalAd10'), ascending=False)"
   ]
  },
  {
   "cell_type": "code",
   "execution_count": null,
   "metadata": {},
   "outputs": [],
   "source": [
    "# Effectifs contactés par tranche d'1 minute \n",
    "dfBilanTempsDet = dfObs[['Passage', 'Minute', 'nDetTot10']].groupby(['Minute', 'Passage']).sum().unstack()\n",
    "dfBilanTempsDet.columns = dfBilanTempsDet.columns.levels[1]\n",
    "_ = dfBilanTempsDet.plot(figsize=(16, 3), marker='.', grid=True,\n",
    "                         title='Nb total d\\'individus contactés par minute (en moyenne, par passage)')"
   ]
  },
  {
   "cell_type": "code",
   "execution_count": null,
   "metadata": {},
   "outputs": [],
   "source": [
    "# La même chose ...\n",
    "_ = dfBilanTempsDet[['a', 'b']].plot(figsize=(16, 4), kind='bar', stacked=False, grid=True,\n",
    "                                     title='Nb total d\\'individus contactés par minute (en moyenne, par passage)')"
   ]
  },
  {
   "cell_type": "code",
   "execution_count": null,
   "metadata": {
    "scrolled": true
   },
   "outputs": [],
   "source": [
    "# Effectifs cumulés contactés par tranche d'1 minute \n",
    "for pas in dfBilanTempsDet.columns:\n",
    "    dfBilanTempsDet['cum({})%'.format(pas)] = 100 * dfBilanTempsDet[pas].cumsum() / dfBilanTempsDet[pas].sum()\n",
    "_ = dfBilanTempsDet[[c for c in dfBilanTempsDet.columns if 'cum' in c]].plot(figsize=(16, 3), marker='.', grid=True,\n",
    "                    title='%age cumulé du nb total d\\'individus contactés par minute (en moyenne, par passage)')"
   ]
  },
  {
   "cell_type": "code",
   "execution_count": null,
   "metadata": {},
   "outputs": [],
   "source": [
    "_ = dfBilanTempsDet[[c for c in dfBilanTempsDet.columns if 'cum' in c]].plot(figsize=(16, 3), grid=True,\n",
    "                                                                             kind='bar', stacked=False,\n",
    "                    title='%age cumulé du nb total d\\'individus contactés par minute (en moyenne, par passage)')"
   ]
  },
  {
   "cell_type": "code",
   "execution_count": null,
   "metadata": {
    "scrolled": true
   },
   "outputs": [],
   "source": [
    "dfBilanTempsDet"
   ]
  },
  {
   "cell_type": "markdown",
   "metadata": {},
   "source": [
    "## c. Fonction du temps au cours des matinées"
   ]
  },
  {
   "cell_type": "code",
   "execution_count": null,
   "metadata": {},
   "outputs": [],
   "source": [
    "# Chargement des éphémérides solaires (UTC, source https://promenade.imcce.fr/fr/pages6/746.html)\n",
    "dfEphem = pd.read_csv('SoleilEphemerides2019.txt', sep='\\t', header=1, index_col=0)\n",
    "dfEphem['2019-05-27':'2019-06-03']"
   ]
  },
  {
   "cell_type": "code",
   "execution_count": null,
   "metadata": {},
   "outputs": [],
   "source": [
    "dfEphem = dfEphem.apply(lambda day: pd.Series({ hTyp : pd.NaT if pd.isnull(hVal) else pd.Timestamp(day.name + ' ' + hVal) \\\n",
    "                                               for hTyp, hVal in day.iteritems() }), axis='columns')\n",
    "dfEphem.head()"
   ]
  },
  {
   "cell_type": "code",
   "execution_count": null,
   "metadata": {},
   "outputs": [],
   "source": [
    "dfEphem.index = dfEphem.index.map(pd.Timestamp)\n",
    "dfEphem.head()"
   ]
  },
  {
   "cell_type": "code",
   "execution_count": null,
   "metadata": {},
   "outputs": [],
   "source": [
    "dfObs.head()"
   ]
  },
  {
   "cell_type": "code",
   "execution_count": null,
   "metadata": {},
   "outputs": [],
   "source": [
    "# Calcul de l'HoraireUTC (en tenant compte des heures d'été / d'hiver ... bof, changement fin mars)\n",
    "dfObs['HoraireUtc'] = dfObs.Horaire.apply(lambda ts: ts.tz_localize('Europe/Paris').tz_convert(None))\n",
    "dfObs.loc[(dfObs.Date >= '2019-05-25'), ['Horaire', 'HoraireUtc']].head()"
   ]
  },
  {
   "cell_type": "code",
   "execution_count": null,
   "metadata": {},
   "outputs": [],
   "source": [
    "# Ajout de l'heure de l'aube civile dans les données\n",
    "dfObs = dfObs.join(dfEphem[['AubeCivil']], on='Date')\n",
    "dfObs.head()"
   ]
  },
  {
   "cell_type": "code",
   "execution_count": null,
   "metadata": {},
   "outputs": [],
   "source": [
    "dfObs.drop('AubeCivil', inplace=True, axis='columns')"
   ]
  },
  {
   "cell_type": "code",
   "execution_count": null,
   "metadata": {},
   "outputs": [],
   "source": [
    "# Calcul du temps passé depuis l'aube civile du jour\n",
    "dfObs = dfObs.join(dfEphem[['AubeCivil']], on='Date')\n",
    "\n",
    "dfObs['DeltaAubeCivile'] = dfObs.HoraireUtc - dfObs.AubeCivil\n",
    "dfObs['DeltaHAubeCivile'] = dfObs.DeltaAubeCivile.apply(lambda td: td.floor(freq='h'))\n",
    "\n",
    "dfObs.loc[(dfObs.Date >= '2019-05-25'), ['HoraireUtc', 'AubeCivil', 'DeltaAubeCivile', 'DeltaHAubeCivile']].head()"
   ]
  },
  {
   "cell_type": "code",
   "execution_count": null,
   "metadata": {},
   "outputs": [],
   "source": [
    "df.index.name = 'Heures depuis l\\'aube'"
   ]
  },
  {
   "cell_type": "code",
   "execution_count": null,
   "metadata": {},
   "outputs": [],
   "source": [
    "# Nbre de piafs total par heure \"biologique\" par observateur\n",
    "df = dfObs[['Observateur', 'DeltaAubeCivile', 'nDetTot10']].groupby(['DeltaAubeCivile', 'Observateur']).sum() \\\n",
    "        .unstack().fillna(0).astype(int)\n",
    "df.columns = df.columns.levels[1]\n",
    "df.index.name = 'Heures depuis l\\'aube'\n",
    "df.index= df.index.map(lambda td: td.total_seconds()/60)\n",
    "##df['Equipe'] = df.sum(axis='columns')\n",
    "#df.to_excel('ACDC2019-ContactsIndividusParHeureDepuisAube.xlsx')"
   ]
  },
  {
   "cell_type": "code",
   "execution_count": null,
   "metadata": {},
   "outputs": [],
   "source": [
    "(100 * df.sum(axis='columns') / df.sum().sum()) \\\n",
    ".plot(kind='bar', figsize=(16, 4), width=0.9, grid=True,\n",
    "      title='ACDC 2019 : % global de contacts par minute depuis l\\'aube, tous observateurs')\n",
    "\n",
    "plt.savefig('ACDC/ACDC2019-ContactsParMinuteDepuisAube-pctGlobalTousObseurs.png', transparent=False)"
   ]
  },
  {
   "cell_type": "code",
   "execution_count": null,
   "metadata": {},
   "outputs": [],
   "source": [
    "# Nbre de piafs total par heure \"biologique\" par observateur\n",
    "df = dfObs[['Observateur', 'DeltaHAubeCivile', 'nDetTot10']].groupby(['DeltaHAubeCivile', 'Observateur']).sum() \\\n",
    "        .unstack().fillna(0).astype(int)\n",
    "df.columns = df.columns.levels[1]\n",
    "df.index.name = 'Heures depuis l\\'aube'\n",
    "df.index= df.index.map(lambda td: td.total_seconds()/3600)\n",
    "#df['Equipe'] = df.sum(axis='columns')\n",
    "df.to_excel('ACDC2019-ContactsIndividusParHeureDepuisAube.xlsx')"
   ]
  },
  {
   "cell_type": "code",
   "execution_count": null,
   "metadata": {},
   "outputs": [],
   "source": [
    "(100 * df.sum(axis='columns') / df.sum().sum()) \\\n",
    ".plot(kind='bar', figsize=(16, 4), width=0.9, grid=True,\n",
    "      title='ACDC 2019 : % global de contacts par heure depuis l\\'aube, tous observateurs')\n",
    "\n",
    "plt.savefig('ACDC/ACDC2019-ContactsParHeureDepuisAube-pctGlobalTousObseurs.png', transparent=False)"
   ]
  },
  {
   "cell_type": "code",
   "execution_count": null,
   "metadata": {},
   "outputs": [],
   "source": [
    "df"
   ]
  },
  {
   "cell_type": "code",
   "execution_count": null,
   "metadata": {},
   "outputs": [],
   "source": [
    "(100 * df / df.sum().sum()).plot(kind='bar', figsize=(16, 4), width=0.9, grid=True,\n",
    "                                 title='ACDC 2019 : % global de contacts par heure depuis l\\'aube')\n",
    "\n",
    "plt.savefig('ACDC/ACDC2019-ContactsParHeureDepuisAube-pctGlobal.png', transparent=False)"
   ]
  },
  {
   "cell_type": "code",
   "execution_count": null,
   "metadata": {
    "scrolled": false
   },
   "outputs": [],
   "source": [
    "(100 * df / df.sum()).plot(kind='bar', figsize=(16, 4), width=0.9, grid=True,\n",
    "                           title='ACDC 2019 : % personnel de contacts par heure depuis l\\'aube')\n",
    "\n",
    "plt.savefig('ACDC/ACDC2019-ContactsParHeureDepuisAube-pctPerso.png', transparent=False)"
   ]
  },
  {
   "cell_type": "code",
   "execution_count": null,
   "metadata": {},
   "outputs": [],
   "source": [
    "# Version + rapide, sans tenir compte de l'heure réelle par rapport au soleil"
   ]
  },
  {
   "cell_type": "code",
   "execution_count": null,
   "metadata": {},
   "outputs": [],
   "source": [
    "dfObs['Heure'] = dfObs.Horaire.apply(lambda ts: ts.floor(freq='h').strftime('%H:%M'))"
   ]
  },
  {
   "cell_type": "code",
   "execution_count": null,
   "metadata": {},
   "outputs": [],
   "source": [
    "df = dfObs[['Observateur', 'Heure', 'nDetTot10']].groupby(['Heure', 'Observateur']).sum().unstack().fillna(0).astype(int)\n",
    "df.columns = df.columns.levels[1]\n",
    "#df['Equipe'] = df.sum(axis='columns')\n",
    "df #.to_excel('ACDC2019-ContactsIndividusParHeure.xlsx')"
   ]
  },
  {
   "cell_type": "code",
   "execution_count": null,
   "metadata": {},
   "outputs": [],
   "source": [
    "df.plot(kind='bar', figsize=(18, 4), title='ACDC 2019 : Nbre de contacts individuels par heure du jour')"
   ]
  },
  {
   "cell_type": "code",
   "execution_count": null,
   "metadata": {},
   "outputs": [],
   "source": []
  },
  {
   "cell_type": "code",
   "execution_count": null,
   "metadata": {},
   "outputs": [],
   "source": [
    "# Les points par heure depuis l'aube"
   ]
  },
  {
   "cell_type": "code",
   "execution_count": null,
   "metadata": {},
   "outputs": [],
   "source": [
    "dfObs['HeureDebutUtc'] = dfObs['Heure début'].apply(lambda ts: ts.tz_localize('Europe/Paris').tz_convert(None))\n",
    "dfObs['DeltaFormAubeCivile'] = dfObs.HeureDebutUtc - dfObs.AubeCivil\n",
    "dfObs['DeltaFormHAubeCivile'] = dfObs.DeltaFormAubeCivile.apply(lambda td: td.floor(freq='h'))"
   ]
  },
  {
   "cell_type": "code",
   "execution_count": null,
   "metadata": {},
   "outputs": [],
   "source": [
    "# Nbre de piafs total par passage, point et minute \"biologique\" (tous observateur)\n",
    "df = dfObs[['Passage', 'Observateur', 'Num point ACDC', 'DeltaFormAubeCivile', 'nDetTot10']] \\\n",
    "       .groupby(['Passage', 'Observateur', 'Num point ACDC', 'DeltaFormAubeCivile']).sum()\n",
    "df.reset_index(inplace=True)\n",
    "df.drop('Num point ACDC', axis='columns', inplace=True)\n",
    "df.DeltaFormAubeCivile = df.DeltaFormAubeCivile.apply(lambda td: td.total_seconds()/3600)\n",
    "df.set_index('Passage', inplace=True)\n",
    "df.head()"
   ]
  },
  {
   "cell_type": "code",
   "execution_count": null,
   "metadata": {
    "scrolled": false
   },
   "outputs": [],
   "source": [
    "# Les points (par passage) selon leur nbre de piaf total et leur heure+minute biologique de début\n",
    "KObseurColor = dict(zip(dfForms.Observateur.unique(), plt.cm.tab10.colors))\n",
    "\n",
    "fig = plt.figure(figsize=(16, 8))\n",
    "fig.suptitle('ACDC 2019 : Points 10 mn : Nb total de contacts fonction de l\\'heure précise de début depuis l\\'aube' \\\n",
    "             ' (1 couleur par observateur)',\n",
    "             fontsize=18, y=1.04)\n",
    "gs = pltg.GridSpec(nrows=2, ncols=1)\n",
    "\n",
    "spInd = 0\n",
    "for pas in df.index.unique():\n",
    "    \n",
    "    axes = fig.add_subplot(gs[spInd])\n",
    "    df2Plot = df.loc[pas, ['DeltaFormAubeCivile', 'nDetTot10', 'Observateur']]\n",
    "    df2Plot['CoulObseur'] = df2Plot.Observateur.apply(KObseurColor.get)\n",
    "    df2Plot.plot(ax=axes, kind='scatter', grid=True,\n",
    "                 x='DeltaFormAubeCivile', y='nDetTot10',\n",
    "                 color=df2Plot.CoulObseur, s=50, alpha=0.8)\n",
    "    axes.set_title('Passage {}'.format(pas), fontsize=16)\n",
    "    axes.set_xlim(left=0, right=7)\n",
    "    axes.set_xlabel('Heures depuis l\\'aube civile', fontsize=12)\n",
    "    axes.set_ylabel('Nb total d\\'individus', fontsize=12)\n",
    "    #axes.legend(['Nb total d\\'individus'], fontsize=12) #, bbox_to_anchor=(1.02, 1), loc=2)\n",
    "    \n",
    "    spInd += 1\n",
    "    \n",
    "fig.tight_layout()\n",
    "\n",
    "plt.savefig('ACDC/ACDC2019-Points-NbContactsParHeureDepuisAube.png', transparent=False, bbox_inches='tight')"
   ]
  },
  {
   "cell_type": "code",
   "execution_count": null,
   "metadata": {},
   "outputs": [],
   "source": [
    "# Essai représentation densité : bof ...\n",
    "_ = plt.hexbin(x=df2Plot.DeltaFormAubeCivile, y=df2Plot.nDetTot10, gridsize=(5, 8))"
   ]
  },
  {
   "cell_type": "code",
   "execution_count": null,
   "metadata": {},
   "outputs": [],
   "source": []
  },
  {
   "cell_type": "code",
   "execution_count": null,
   "metadata": {
    "scrolled": false
   },
   "outputs": [],
   "source": [
    "df = dfObs[['Passage', 'Num point ACDC', 'DeltaHAubeCivile', 'nDetTot10']] \\\n",
    "       .groupby(['Passage', 'DeltaHAubeCivile']).agg({ 'nDetTot10': sum, 'Num point ACDC': 'nunique'})\n",
    "df.rename(columns={'Num point ACDC': 'nbPoints' }, inplace=True)\n",
    "\n",
    "df.loc[('b', pd.Timedelta(hours=0)), ['nDetTot10', 'nbPoints']] = (0, 0.1) # Fix missing first hour (Matplotlib bug ?)\n",
    "\n",
    "df.sort_index(inplace=True)\n",
    "\n",
    "df.reset_index(inplace=True)\n",
    "\n",
    "df.DeltaHAubeCivile = df.DeltaHAubeCivile.apply(lambda td: td.total_seconds()/3600).astype(int)\n",
    "\n",
    "df['nDetTot10ParPoint'] = df.nDetTot10 / df.nbPoints\n",
    "\n",
    "df.set_index('Passage', inplace=True)\n",
    "\n",
    "df"
   ]
  },
  {
   "cell_type": "code",
   "execution_count": null,
   "metadata": {
    "scrolled": false
   },
   "outputs": [],
   "source": [
    "# Le nbre total moyen de piafs par heure biologique de contact\n",
    "fig = plt.figure(figsize=(16, 8))\n",
    "fig.suptitle('ACDC 2019 : Nb moyen de contacts par point (10 mn), par heure depuis l\\'aube, tous observateurs',\n",
    "             fontsize=18, y=1.04)\n",
    "gs = pltg.GridSpec(nrows=2, ncols=1)\n",
    "\n",
    "spInd = 0\n",
    "for pas in df.index.unique():\n",
    "    \n",
    "    axes = fig.add_subplot(gs[spInd])\n",
    "    df2Plot = df.loc[pas].set_index('DeltaHAubeCivile', drop=True)\n",
    "    df2Plot.nDetTot10ParPoint.plot(ax=axes, kind='bar', width=0.8, grid=True)\n",
    "    for h, s in df2Plot.iterrows():\n",
    "        if s.nbPoints >= 1:\n",
    "            axes.text(h, 0.5, \"{:.0f} pts\".format(s.nbPoints), \n",
    "                      color='white' if s.nDetTot10ParPoint > 0.5 else 'black',\n",
    "                      fontsize=14, fontweight='bold', ha='center')\n",
    "            axes.text(h, s.nDetTot10ParPoint-1.3, \"{:.0f} inds\".format(s.nDetTot10), \n",
    "                      color='white',\n",
    "                      fontsize=14, fontweight='bold', ha='center')\n",
    "    axes.set_title('Passage {}'.format(pas), fontsize=16)\n",
    "    axes.set_xlim(left=-0.5, right=7.5)\n",
    "    axes.set_xlabel('Heures depuis l\\'aube civile', fontsize=12)\n",
    "    axes.set_ylabel('Nb moyen d\\'individus par point', fontsize=12)\n",
    "    #axes.legend(['Nb moyen d\\'individus par point']) #, bbox_to_anchor=(1.02, 1), loc=2)\n",
    "    \n",
    "    spInd += 1\n",
    "    \n",
    "fig.tight_layout()\n",
    "\n",
    "plt.savefig('ACDC/ACDC2019-NbMoyContactsParPointParHeureDepuisAube.png', transparent=False, bbox_inches='tight')"
   ]
  },
  {
   "cell_type": "markdown",
   "metadata": {},
   "source": [
    "## c. Fonction de l'observateur"
   ]
  },
  {
   "cell_type": "code",
   "execution_count": null,
   "metadata": {},
   "outputs": [],
   "source": [
    "# Détail par observateur et par passage.\n",
    "# TODO : 1 graphique par observateur"
   ]
  },
  {
   "cell_type": "code",
   "execution_count": null,
   "metadata": {
    "scrolled": false
   },
   "outputs": [],
   "source": [
    "# Nbre d'individus contactés par passage et par point, pour les 2 tranches de temps\n",
    "dfBilanObseursPointDet = dfObs[['Observateur', 'Num point ACDC', 'Passage',\n",
    "                                'nMalAd5', 'nAutAd5', 'nDetTot5', 'nMalAd10', 'nAutAd10', 'nDetTot10']] \\\n",
    "                           .groupby(['Observateur', 'Num point ACDC', 'Passage']).sum().unstack()\n",
    "dfBilanObseursPointDet.columns = dfBilanObseursPointDet.columns.swaplevel(0, 1)\n",
    "dfBilanObseursPointDet.sort_index(axis='columns', inplace=True)\n",
    "dfBilanObseursPointDet"
   ]
  },
  {
   "cell_type": "code",
   "execution_count": null,
   "metadata": {
    "scrolled": false
   },
   "outputs": [],
   "source": [
    "dfBilanTempsObseurs = \\\n",
    "   dfObs[['Passage', 'Observateur', 'Minute', 'nMalAd10', 'nAutAd10', 'nDetTot10']] \\\n",
    "     .groupby(['Minute', 'Observateur', 'Passage']).sum().unstack()\n",
    "dfBilanTempsObseurs.columns = dfBilanTempsObseurs.columns.swaplevel(0, 1)\n",
    "passages = dfBilanTempsObseurs.columns.levels[0]\n",
    "for col in dfBilanTempsObseurs.columns.levels[1]:\n",
    "    dfBilanTempsObseurs[('total', col)] = dfBilanTempsObseurs[[(pas, col) for pas in passages]].sum(axis='columns')\n",
    "dfBilanTempsObseurs.sort_index(axis='columns', inplace=True)\n",
    "dfBilanTempsObseurs"
   ]
  },
  {
   "cell_type": "code",
   "execution_count": null,
   "metadata": {},
   "outputs": [],
   "source": [
    "dfBilanTempsObseurs.head()"
   ]
  },
  {
   "cell_type": "code",
   "execution_count": null,
   "metadata": {
    "scrolled": true
   },
   "outputs": [],
   "source": [
    "# Nbre de données par point par observateur par minute\n",
    "dfNbPts = pd.DataFrame(index=dfBilanTempsObseurs.index)\n",
    "dfNbPts.reset_index(inplace=True)\n",
    "dfNbPts = dfNbPts.join(dfBilan, on='Observateur')\n",
    "dfNbPts[('Réalisés', 'total')] = sum(dfNbPts[('Réalisés', pas)] for pas in dfBilanTempsObseurs.columns.levels[0][:-1])\n",
    "dfNbPts.set_index(['Minute', 'Observateur'], inplace=True)\n",
    "\n",
    "dfBilanTempsObseursMoyParPt = dfBilanTempsObseurs.copy()\n",
    "\n",
    "for pas in dfBilanTempsObseursMoyParPt.columns.levels[0]:\n",
    "    for col in dfBilanTempsObseursMoyParPt.columns.levels[1]:\n",
    "        dfBilanTempsObseursMoyParPt[(pas, col)] = dfBilanTempsObseursMoyParPt[(pas, col)] / dfNbPts[('Réalisés', pas)]\n",
    "            \n",
    "dfBilanTempsObseursMoyParPt.sort_values(by=('total', 'nDetTot10'), ascending=False, inplace=True)\n",
    "dfBilanTempsObseursMoyParPt"
   ]
  },
  {
   "cell_type": "code",
   "execution_count": null,
   "metadata": {},
   "outputs": [],
   "source": [
    "df = dfBilanTempsObseursMoyParPt[('a', 'nDetTot10')].unstack()\n",
    "df.rename(columns=dict(zip(df.columns, ['Observateur '+chr(ord('A')+i) for i in range(len(df.columns))])), inplace=True)\n",
    "_ = df.plot(figsize=(16, 5), marker='.', grid=True,\n",
    "            title='Passage A : Nb d\\'individus contactés par minute (moyenne par observateur)')"
   ]
  },
  {
   "cell_type": "code",
   "execution_count": null,
   "metadata": {},
   "outputs": [],
   "source": [
    "df = 100 * df.cumsum() / df.sum()\n",
    "_ = df.plot(figsize=(16, 5), marker='.', grid=True,\n",
    "            title='Passage A : % cumulé du total d\\'individus contactés par minute (moyenne par observateur)')"
   ]
  },
  {
   "cell_type": "code",
   "execution_count": null,
   "metadata": {
    "scrolled": true
   },
   "outputs": [],
   "source": [
    "df = dfBilanTempsObseursMoyParPt[('b', 'nDetTot10')].unstack()\n",
    "df.rename(columns=dict(zip(df.columns, ['Observateur '+chr(ord('A')+i) for i in range(len(df.columns))])), inplace=True)\n",
    "_ = df.plot(figsize=(16, 5), marker='.', grid=True,\n",
    "            title='Passage B : Nb d\\'individus contactés par minute (moyenne par observateur)')"
   ]
  },
  {
   "cell_type": "code",
   "execution_count": null,
   "metadata": {},
   "outputs": [],
   "source": [
    "df = 100 * df.cumsum() / df.sum()\n",
    "_ = df.plot(figsize=(16, 5), marker='.', grid=True,\n",
    "            title='Passage B : % cumulé du total d\\'individus contactés par minute (moyenne par observateur)')"
   ]
  },
  {
   "cell_type": "code",
   "execution_count": null,
   "metadata": {
    "scrolled": true
   },
   "outputs": [],
   "source": [
    "df = dfBilanTempsObseursMoyParPt[('total', 'nDetTot10')].unstack()\n",
    "df.rename(columns=dict(zip(df.columns, ['Observateur '+chr(ord('A')+i) for i in range(len(df.columns))])), inplace=True)\n",
    "_ = df.plot(figsize=(16, 5), marker='.', grid=True,\n",
    "            title='2019 (2 passages) : Nb d\\'individus contactés par minute (moyenne par observateur)')"
   ]
  },
  {
   "cell_type": "code",
   "execution_count": null,
   "metadata": {},
   "outputs": [],
   "source": [
    "df = 100 * df.cumsum() / df.sum()\n",
    "_ = df.plot(figsize=(16, 5), marker='.', grid=True,\n",
    "            title='2019 (2 passages) : % cumulé du total d\\'individus contactés par minute (moyenne par observateur)')"
   ]
  },
  {
   "cell_type": "code",
   "execution_count": null,
   "metadata": {},
   "outputs": [],
   "source": [
    "# Rappel nb de points par passage et par observateur : attendu et effectué.\n",
    "dfBilan"
   ]
  },
  {
   "cell_type": "code",
   "execution_count": null,
   "metadata": {},
   "outputs": [],
   "source": [
    "# Nb de points et de données par observateur\n",
    "dfBilanObseurs = dfBilan.join(dfObs[['Observateur', 'Horaire', 'Passage']].groupby(['Observateur', 'Passage']) \\\n",
    "                                .count().unstack())\n",
    "dfBilanObseurs = dfBilanObseurs.join(dfObs[['Observateur', 'nDetTot10', 'nDetTot5', 'nMalAd10', 'nMalAd5', 'nAutAd10', 'nAutAd5', 'Passage']] \\\n",
    "                                     .groupby(['Observateur', 'Passage']).sum().unstack())\n",
    "dfBilanObseurs.columns = pd.MultiIndex.from_tuples([t if isinstance(t, tuple) else (t, 'total') for t in dfBilanObseurs.columns])\n",
    "dfBilanObseurs.rename(columns={'Horaire': 'nDonnées'}, level=0, inplace=True)\n",
    "dfBilanObseurs.columns = dfBilanObseurs.columns.swaplevel(0, 1)\n",
    "\n",
    "passages = dfBilanObseurs.columns.levels[0][:-1]\n",
    "for col in dfBilanObseurs.columns.levels[1]:\n",
    "    if col not in ['Attendus', 'Réalisés']:\n",
    "        dfBilanObseurs[('total', col)] = dfBilanObseurs[[(pas, col) for pas in passages]].sum(axis='columns')\n",
    "\n",
    "dfBilanObseurs.sort_index(axis='columns', inplace=True)\n",
    "dfBilanObseurs.sort_values(by=('total', 'nDetTot10'), ascending=False, inplace=True)\n",
    "dfBilanObseurs"
   ]
  },
  {
   "cell_type": "code",
   "execution_count": null,
   "metadata": {},
   "outputs": [],
   "source": [
    "# Nbre de données par point par observateur\n",
    "dfBilanObseursMoyParPt = dfBilanObseurs.copy()\n",
    "\n",
    "for pas in dfBilanObseursMoyParPt.columns.levels[0]:\n",
    "    nPtsCol = 'Attendus' if pas == 'total' else 'Réalisés'\n",
    "    for col in dfBilanObseursMoyParPt.columns.levels[1]:\n",
    "        if col not in ['Attendus', 'Réalisés']:\n",
    "            dfBilanObseursMoyParPt[(pas, col)] = dfBilanObseursMoyParPt[(pas, col)] / dfBilanObseursMoyParPt[(pas, nPtsCol)]\n",
    "            \n",
    "dfBilanObseursMoyParPt.sort_values(by=('total', 'nDetTot10'), ascending=False, inplace=True)\n",
    "dfBilanObseursMoyParPt"
   ]
  },
  {
   "cell_type": "markdown",
   "metadata": {},
   "source": [
    "## c. Fonction de l'espèce"
   ]
  },
  {
   "cell_type": "code",
   "execution_count": null,
   "metadata": {
    "scrolled": false
   },
   "outputs": [],
   "source": [
    "# Nb de données / individus par espèce.\n",
    "dfBilanEspeces = dfObs[['Nom espèce', 'nDetTot10', 'nDetTot5', 'nMalAd10', 'nMalAd5', 'nAutAd10', 'nAutAd5', 'Passage']] \\\n",
    "                .groupby(['Nom espèce', 'Passage']).sum().unstack()\n",
    "dfBilanEspeces.columns = dfBilanEspeces.columns.swaplevel(0, 1)\n",
    "dfBilanEspeces.sort_index(axis='columns', inplace=True)\n",
    "\n",
    "passages = dfBilanEspeces.columns.levels[0]\n",
    "for col in dfBilanEspeces.columns.levels[1]:\n",
    "    dfBilanEspeces[('total', col)] = dfBilanEspeces[[(pas, col) for pas in passages]].sum(axis='columns')\n",
    "\n",
    "dfBilanEspeces.sort_values(by=('total', 'nDetTot10'), ascending=False, inplace=True)\n",
    "dfBilanEspeces"
   ]
  },
  {
   "cell_type": "code",
   "execution_count": null,
   "metadata": {},
   "outputs": [],
   "source": []
  },
  {
   "cell_type": "code",
   "execution_count": null,
   "metadata": {},
   "outputs": [],
   "source": [
    "# Export Excel\n",
    "xlsWriter = pd.ExcelWriter('ACDC/ACDC2019-Bilan.xlsx')\n",
    "dfBilanObseurs.to_excel(xlsWriter, sheet_name='Obseurs')\n",
    "dfBilanObseursMoyParPt.to_excel(xlsWriter, sheet_name='ObseursParPt')\n",
    "dfBilanEspeces.to_excel(xlsWriter, sheet_name='Espèces')\n",
    "dfBilanTemps510.to_excel(xlsWriter, sheet_name='Temps510')\n",
    "dfBilanTempsDet.to_excel(xlsWriter, sheet_name='TempsDétails')\n",
    "dfBilanTempsObseurs.to_excel(xlsWriter, sheet_name='TempsObseurs')\n",
    "dfBilanTempsObseursMoyParPt.to_excel(xlsWriter, sheet_name='TempsObseursParPt')\n",
    "xlsWriter.save()\n",
    "xlsWriter.close()"
   ]
  },
  {
   "cell_type": "code",
   "execution_count": null,
   "metadata": {},
   "outputs": [],
   "source": []
  },
  {
   "cell_type": "code",
   "execution_count": null,
   "metadata": {},
   "outputs": [],
   "source": []
  },
  {
   "cell_type": "markdown",
   "metadata": {},
   "source": [
    "# Bac à sable"
   ]
  },
  {
   "cell_type": "code",
   "execution_count": null,
   "metadata": {},
   "outputs": [],
   "source": [
    "# Codes Atlas, par copier + coller de https://wiki.biolovision.net/index.php?title=Correspondance_codes_atlas\n",
    "dfCodesAtlas = pd.read_csv(io.StringIO(\"\"\"Codes Biolovision\tCodes utilisés en Suisse, Italie et partiellement en France\tCodes utilisés en Allemagne et Catalogne\tCodes utilisés partiellement en France (EBCC)\tCodes utilisés en Autriche\tCodes utilisés en Pologne\tTexte FR\tTexte EN\n",
    "0\t-\t-\t-\t-\t-\tPas de code atlas\tNo atlas code\n",
    "1\t1\t\t\t\t\tObservation de l'espèce pendant la période de nidification\tSpecies observed in breeding season\n",
    "2\t2\tA1\t1\tH\tO\tObservation de l'espèce pendant la période de nidification dans un biotope adéquat\tSpecies observed in breeding season in possible nesting habitat\n",
    "3\t3\tA2\t2\tS\tS\tMâle chanteur présent en période de nidification, cris nuptiaux ou tambourinage entendus, mâle vu en parade dans un habitat favorable\tSinging, drumming or displaying male present in breeding season in possible nesting habitat\n",
    "4\t4\tB3\t3\tP\tPR\tCouple pendant la période de nidification dans un biotope adéquat\tPair (male and female) within safe dates, and in suitable breeding habitat\n",
    "5\t5\tB4\t4\tT\tTE\tComportement territorial d'un couple (chant, querelles avec des voisins, etc.) au moins 2 jours a plus d'une semaine d'intervalle dans le même territoire\tTerritorial behaviour (song, fights with neighbour etc.) on at least two different days a week or more apart at same place indicating a permanently occupied territory\n",
    "6\t6\tB5\t5\tD\tKT\tComportement nuptial (mâle et femelle observés)\tCourtship behavior (aerial displays, courtship feeding) or copulation\n",
    "7\t7\tB6\t6\tN\tOM\tVisite d'un site de nidification probable\tVisiting probable nest site\n",
    "8\t8\tB7\t7\tA\tNP\tCri d'alarme ou de crainte des adultes ou autre comportement agité suggérant la présence d'un nid ou de jeunes aux alentours\tAgitated behavior and/or anxiety calls from an adult, suggesting presence of nearby nest or young\n",
    "9\t9\tB8\t8\tI\tPL\tPlaque incubatrice d'une femelle capturée\tBrood patch (Note: code only applies to birds observed in hand and is reserved for experienced birder only)\n",
    "10\t10\tB9\t9\tB\tBU\tConstruction d'un nid ou forage d'une cavité\tNest building observed at nest site (Note: for nest building by wrens, woodpeckers, kingfisher...)\n",
    "11\t11\tC10\t10\tDD\tUDA\tOiseau simulant une blessure ou détournant l'attention\tDistraction display (especially injury feigning, such as broken wing display) or attacking/dive-bombing humans in defense of unobserved nest or young\n",
    "12\t12\tC11a\t11\tUN\tGNS\tDécouverte d'un nid ayant été utilisé durant la période de nidification actuelle\tUsed nest (occupied within period of survey); includes inactive nests\n",
    "13\t13\tC12\t12\tFL\tMŁO\tJeunes venant de s'envoler (nidicoles) ou poussins en duvet (nidifuges)\tRecently fledged young that are incapable of sustained flight\n",
    "14\t14\tC13a\t13\tON\tZAJ\tAdulte gagnant ou quittant un site de nid; comportement révélateur d'un nid occupé dont le contenu ne peut être vérifié (trop haut ou dans une cavité) ou adulte incubant\tOccupied nest, but contents not observed; adults entering and remaining for a period of time, then leaving or exchanging duties\n",
    "15\t15\tC14a\t\t\t\tAdulte transportant des fientes\tAdult carrying a fecal sac\n",
    "16\t16\tC14b\t14\tFY\tPOD\tAdulte transportant de la nourriture pour les jeunes\tAdult carrying food for young\n",
    "17\t17\tC11b\t\t\n",
    "Coquilles d'oeufs éclos (de la période de nidification actuelle)\tEggshells found (laid within period of survey)\n",
    "18\t18\tC13b\t\t\tWYS\tNid avec adulte vu couvant\tNest with adult incubating\n",
    "19\t19\tC15\t15\tNE\tJAJ\tNid avec oeufs\tNest containing eggs\n",
    "20\t\tC16\t16\tNY\tPIS\tJeunes au nid vus ou entendus\tNest with young seen or heard.\n",
    "30\t30\tA\t30\t30\tA\tNidification possible\tPossible breeding\n",
    "40\t40\tB\t40\t40\tB\tNidification probable\tProbable breeding\n",
    "50\t50\tC\t50\t50\tC\tNidification certaine\tConfirmed breeding\n",
    "99\t99\tE99\t99\t99\tNOBS\tEspèce absente malgré des recherches\tNot observed despite active search\n",
    "19 codes\t20 codes\t16 codes\t16 codes\t17 codes\t\n",
    "\"\"\"), sep='\\t')"
   ]
  },
  {
   "cell_type": "code",
   "execution_count": null,
   "metadata": {},
   "outputs": [],
   "source": [
    "# Debug extraction nbre / sexe des détails, nbre, code atlas"
   ]
  },
  {
   "cell_type": "code",
   "execution_count": null,
   "metadata": {},
   "outputs": [],
   "source": [
    "verbose = False\n",
    "sObs = dfObs.loc[2907]\n",
    "print(', '.join(['{}:{}'.format(k[:3], v) for k, v in sObs.iteritems()]))"
   ]
  },
  {
   "cell_type": "code",
   "execution_count": null,
   "metadata": {
    "scrolled": true
   },
   "outputs": [],
   "source": [
    "print(sObs['Détails'])\n",
    "\n",
    "# Détails\n",
    "effDets = { col : 0 for col in KDetCols }\n",
    "\n",
    "lstDets = sObs['Détails'].split(\"/\")\n",
    "vol = False\n",
    "for rawDet in lstDets:\n",
    "\n",
    "    rawDet = rawDet.strip()\n",
    "    if not rawDet:\n",
    "        continue\n",
    "\n",
    "    mo = KReNumExpect.match(rawDet)\n",
    "    if mo:\n",
    "\n",
    "        num = int(mo.group(1))\n",
    "        sxAgCn = mo.group(2).strip()\n",
    "\n",
    "        sx = 'mal' if 'mâle' in sxAgCn else 'fem' if 'femelle' in sxAgCn else 'alt'\n",
    "        ag = 'juv' if '1ère année' in sxAgCn or 'poussin' in sxAgCn or 'immature' in sxAgCn \\\n",
    "                   else 'adu' if 'adulte' in sxAgCn or 'année' in sxAgCn or '1 an' in sxAgCn else 'alt'\n",
    "        cn = 'vol' if 'vol' in sxAgCn else 'alt'\n",
    "\n",
    "        if cn != 'vol':\n",
    "\n",
    "            cat = 'nJuv' if ag == 'juv' else 'nMalAd' if sx == 'mal' else 'nAutAd'\n",
    "\n",
    "            effDets[cat] += num\n",
    "\n",
    "        else:\n",
    "\n",
    "            if len(lstDets) == 1:\n",
    "                break\n",
    "            vol = True\n",
    "\n",
    "    else:\n",
    "\n",
    "        print(\"Attention, donnée ignorée : Colonne Détails malformée : '{}'\".format(rawDet))\n",
    "        \n",
    "vol, effDets, num, sx, ag, cn"
   ]
  },
  {
   "cell_type": "code",
   "execution_count": null,
   "metadata": {},
   "outputs": [],
   "source": [
    "# Code Atlas et Nombre total associé\n",
    "codAtls = int(sObs['Code atlas'])\n",
    "if codAtls != 0 and codAtls not in dfCodesAtlas.index and not vol:\n",
    "    print(\"Attention, donnée ignorée : Code Atlas {} sans intérêt, mais pas en vol d={}, n={}\" \\\n",
    "          .format(codAtls, sObs['Détails'], sObs['Nombre']))\n",
    "    if verbose:\n",
    "        print(', '.join(['{}:{}'.format(k[:3], v) for k, v in sObs.iteritems()]))\n",
    "    return KEffInvd\n",
    "\n",
    "nbre = sObs['Nombre']\n",
    "effNbCode = { colCoefMult : dfCodesAtlas.loc[codAtls, colCoefMult] * nbre \\\n",
    "             for colCoefMult in KDetCols }\n",
    "if any(effDets.values()):\n",
    "    if sum(effDets.values()) != sum(effNbCode.values()):\n",
    "        print(\"Attention, donnée ignorée : Détails {} et Nombre {} * CodeAtlas {} incohérents : '{}' / '{}'\" \\\n",
    "              .format(rawDet, nbre, codAtls, effDets, effNbCode))\n",
    "        if verbose:\n",
    "            print(', '.join(['{}:{}'.format(k[:3], v) for k, v in sObs.iteritems()]))\n",
    "        return KEffInvd\n",
    "    eff = effDets\n",
    "else:\n",
    "    eff = effNbCode"
   ]
  },
  {
   "cell_type": "code",
   "execution_count": null,
   "metadata": {},
   "outputs": [],
   "source": []
  },
  {
   "cell_type": "code",
   "execution_count": null,
   "metadata": {},
   "outputs": [],
   "source": [
    "df = pd.read_excel('ACDC/ACDC2019a-ExportClementRollant.xlsx')\n",
    "df"
   ]
  },
  {
   "cell_type": "code",
   "execution_count": null,
   "metadata": {},
   "outputs": [],
   "source": [
    "df['Code atlas'].unique()"
   ]
  },
  {
   "cell_type": "code",
   "execution_count": null,
   "metadata": {},
   "outputs": [],
   "source": []
  }
 ],
 "metadata": {
  "kernelspec": {
   "display_name": "Python 3",
   "language": "python",
   "name": "python3"
  },
  "language_info": {
   "codemirror_mode": {
    "name": "ipython",
    "version": 3
   },
   "file_extension": ".py",
   "mimetype": "text/x-python",
   "name": "python",
   "nbconvert_exporter": "python",
   "pygments_lexer": "ipython3",
   "version": "3.7.3"
  }
 },
 "nbformat": 4,
 "nbformat_minor": 2
}
