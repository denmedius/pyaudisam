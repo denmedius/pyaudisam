{
 "cells": [
  {
   "cell_type": "markdown",
   "metadata": {},
   "source": [
    "# Générateur semi-automatique d'exposé HTML pour les fringilles communs en Auvergne\n",
    "\n",
    "A partir :\n",
    " * d'un dossier de fichiers sons bien nommés\n",
    " * de textes HTML de description du groupe d'espèces, des espèces elles-mêmes et de leurs manifestations sonores."
   ]
  },
  {
   "cell_type": "code",
   "execution_count": 2,
   "metadata": {},
   "outputs": [],
   "source": [
    "import os\n",
    "\n",
    "import importlib as implib\n",
    "\n",
    "from collections import OrderedDict as odict\n",
    "\n",
    "from IPython.display import HTML\n",
    "\n",
    "import chants as ch"
   ]
  },
  {
   "cell_type": "code",
   "execution_count": null,
   "metadata": {},
   "outputs": [],
   "source": []
  },
  {
   "cell_type": "code",
   "execution_count": null,
   "metadata": {},
   "outputs": [],
   "source": []
  },
  {
   "cell_type": "code",
   "execution_count": null,
   "metadata": {},
   "outputs": [],
   "source": []
  },
  {
   "cell_type": "code",
   "execution_count": null,
   "metadata": {},
   "outputs": [],
   "source": []
  },
  {
   "cell_type": "code",
   "execution_count": null,
   "metadata": {},
   "outputs": [],
   "source": []
  },
  {
   "cell_type": "code",
   "execution_count": null,
   "metadata": {},
   "outputs": [],
   "source": [
    "# Génération de la page HTML Fringilles.\n",
    "KEspecesFrings = dict(VerdierDEurope=Descripteur(ordre=0, nom='Verdier d\\'Europe'), \n",
    "                      ChardonneretElegant=Descripteur(ordre=1, nom='Chardonneret élégant'),\n",
    "                      LinotteMelodieuse=Descripteur(ordre=2, nom='Linotte mélodieuse'), \n",
    "                      SerinCini=Descripteur(ordre=3, nom='Serin cini'),\n",
    "                      GrosBecCasseNoyaux=Descripteur(ordre=4, nom='Gros-bec casse-noyaux'), \n",
    "                      TarinDesAulnes=Descripteur(ordre=5, nom='Tarin des aulnes'),\n",
    "                      TorcolFourmilier=Descripteur(ordre=6, nom='Torcol fourmilier'),\n",
    "                      Inconnue=Descripteur(ordre=99, nom='Pic inconnu'))\n",
    "                    \n",
    "dossierSons = os.path.join(KDossierChants, 'sources-2018-fringilles')\n",
    "dfSonsFrings = lireDossierSons(cheminDossier=dossierSons, especes=KEspecesFrings)\n",
    "\n",
    "html = jinja2.Template(KHtmlGroupeEspeces) \\\n",
    "               .render(title='Quelques fringilles communs en Auvergne', \n",
    "                       description='Les manifestations sonore de quelques fringilles communs en Auvergne',\n",
    "                       keywords='chant, cri, fringiles, auvergne',\n",
    "                       cssStyles=KHtmlStyles,\n",
    "                       especes=arbreEspeces(dfSonsFrings, dossierSons, KEspecesPics, KSpecificitesPics),\n",
    "                       typesManifs=arbreTypesManifs(dfSonsFrings, dossierSons),\n",
    "                       genDateTime=dt.datetime.now().strftime('%d/%m/%Y %H:%M:%S'))\n",
    "\n",
    "nomFicCible = os.path.join(KDossierChants, 'Fringilles-2018.html')\n",
    "with codecs.open(nomFicCible, mode='w', encoding='utf-8-sig') as ficCible:\n",
    "    ficCible.write(html)\n",
    " \n",
    "HTML(\"<p>Les fringilles <a href='{file}' target='_blank'>{file}</a> (nouvel onglet)</p>\".format(file=nomFicCible))"
   ]
  }
 ],
 "metadata": {
  "kernelspec": {
   "display_name": "Python [default]",
   "language": "python",
   "name": "python3"
  },
  "language_info": {
   "codemirror_mode": {
    "name": "ipython",
    "version": 3
   },
   "file_extension": ".py",
   "mimetype": "text/x-python",
   "name": "python",
   "nbconvert_exporter": "python",
   "pygments_lexer": "ipython3",
   "version": "3.5.5"
  }
 },
 "nbformat": 4,
 "nbformat_minor": 2
}
